{
 "cells": [
  {
   "cell_type": "markdown",
   "source": [
    "# Ground-State Variational Search with NetKet for a Bosonic Matrix Model\n",
    "\n",
    "September 1, 2021 \n",
    "\n",
    "In this Tutorial we will use the open-source package [NetKet](https://www.netket.org/) to find the ground state (in a variational sense) of a quantum mechanical system of matrices.\n",
    "This system is referred to as a bosonic matrix model and was studied in [this preprint](https://arxiv.org/abs/2108.02942). \n",
    "\n",
    "Specifically, we will study the system defined by the Hamiltonian: \n",
    "\n",
    "$$ \\hat{H} = {\\rm Tr}\\left(\\frac{1}{2}\\hat{P}_I^2+\\frac{m^2}{2}\\hat{X}_I^2-\\frac{g^2}{4}[\\hat{X}_I,\\hat{X}_J]^2\\right) $$\n",
    "\n",
    "where \n",
    "$$\\hat{P}_I=\\sum_{\\alpha=1}^{N^2-1}\\hat{P}_I^\\alpha\\tau_\\alpha$$\n",
    "\n",
    "and\n",
    "\n",
    "$$\\hat{X}_I=\\sum_{\\alpha=1}^{N^2-1}\\hat{X}_I^\\alpha\\tau_\\alpha$$\n",
    "\n",
    "for a SU(N) gauge group with $N^2-1$ generators."
   ],
   "metadata": {}
  },
  {
   "cell_type": "markdown",
   "source": [
    "## 0. Installing Netket \n",
    "\n",
    "Installing NetKet is relatively straightforward. For this Tutorial, if you are running it locally on your machine, we recommend that you create a clean virtual environment (e.g. with `conda`) and install NetKet within (using `pip`): \n",
    "\n",
    "```bash\n",
    "conda create --name netket python pip ipython\n",
    "conda activate netket\n",
    "pip install --upgrade netket\n",
    "```\n",
    "\n",
    "**If you are on Google Colab**, run the following cell to install the required packages."
   ],
   "metadata": {}
  },
  {
   "cell_type": "code",
   "execution_count": null,
   "source": [
    "#!pip install --upgrade netket"
   ],
   "outputs": [],
   "metadata": {}
  },
  {
   "cell_type": "markdown",
   "source": [
    "You can check that the installation was succesfull doing "
   ],
   "metadata": {}
  },
  {
   "cell_type": "code",
   "execution_count": 1,
   "source": [
    "import netket as nk"
   ],
   "outputs": [],
   "metadata": {}
  },
  {
   "cell_type": "markdown",
   "source": [
    "You should also check that your version of netket is at least 3.0"
   ],
   "metadata": {}
  },
  {
   "cell_type": "code",
   "execution_count": 2,
   "source": [
    "print(f\"NetKet version: {nk.__version__}\")"
   ],
   "outputs": [
    {
     "output_type": "stream",
     "name": "stdout",
     "text": [
      "NetKet version: 3.0.3\n"
     ]
    }
   ],
   "metadata": {}
  },
  {
   "cell_type": "code",
   "execution_count": 3,
   "source": [
    "import numpy as np\n",
    "import matplotlib.pyplot as plt"
   ],
   "outputs": [],
   "metadata": {}
  },
  {
   "cell_type": "markdown",
   "source": [
    "## 1. Defining The Hamiltonian\n",
    "\n",
    "The first step in our journey consists in defining the Hamiltonian we are interested in. \n",
    "For this purpose, we first need to define the kind of degrees of freedom we are dealing with (i.e. if we have spins, bosons, fermions etc). This is done specifying the Hilbert space of the problem.\n",
    "\n",
    "For our problem we focus on the gauge group SU(2), which will determine the total number of bosons to be $N^2-1 = 3$ for each matrix. We will focus on 2 matrices, for a total of 6 bosonic degrees of freedom.\n",
    "\n",
    "We also need to decide a cutoff for the Fock space of each boson $\\Lambda$."
   ],
   "metadata": {}
  },
  {
   "cell_type": "markdown",
   "source": [
    "### 1.1 The Hilbert space"
   ],
   "metadata": {}
  },
  {
   "cell_type": "code",
   "execution_count": 4,
   "source": [
    "Lambda = 4  # cutoff of each bosonic Fock space\n",
    "N = 6  # number of bosons \n",
    "\n",
    "hi = nk.hilbert.Fock(n_max=Lambda-1, N=N)  # n_max -> Maximum occupation for a site (inclusive)"
   ],
   "outputs": [],
   "metadata": {}
  },
  {
   "cell_type": "markdown",
   "source": [
    "Test if the space is constructed as we expected.\n",
    "We want each of the $N$ bosons to have up to $\\Lambda$ excitations: the total Hilbert space is the tensor product of $N$ individual Fock spaces of dimension $\\Lambda$ for a total size of $\\Lambda^N = 4^6 = 4096$."
   ],
   "metadata": {}
  },
  {
   "cell_type": "code",
   "execution_count": 5,
   "source": [
    "# The size of the hilbert space on every site.\n",
    "hi.shape"
   ],
   "outputs": [
    {
     "output_type": "execute_result",
     "data": {
      "text/plain": [
       "(4, 4, 4, 4, 4, 4)"
      ]
     },
     "metadata": {},
     "execution_count": 5
    }
   ],
   "metadata": {}
  },
  {
   "cell_type": "code",
   "execution_count": 6,
   "source": [
    "# The total number number of degrees of freedom.\n",
    "hi.size"
   ],
   "outputs": [
    {
     "output_type": "execute_result",
     "data": {
      "text/plain": [
       "6"
      ]
     },
     "metadata": {},
     "execution_count": 6
    }
   ],
   "metadata": {}
  },
  {
   "cell_type": "code",
   "execution_count": 7,
   "source": [
    "# The total dimension of the many-body Hilbert space\n",
    "hi.n_states"
   ],
   "outputs": [
    {
     "output_type": "execute_result",
     "data": {
      "text/plain": [
       "4096"
      ]
     },
     "metadata": {},
     "execution_count": 7
    }
   ],
   "metadata": {}
  },
  {
   "cell_type": "markdown",
   "source": [
    "We have checked that all the dimensions correspond to our expectations. We can think of this as the Hilbert state of a mnay-body system with $N$ sites of bosons, each with excitations up to level $\\Lambda$ (inclusive, starting from 0 to $\\Lambda-1$)."
   ],
   "metadata": {}
  },
  {
   "cell_type": "markdown",
   "source": [
    "### 1.2 The free Hamiltonian\n",
    "\n",
    "We now need to specify the Hamiltonian.\n",
    "We will use some predefined operators for bosons, such as the `create` and `destroy` operators for each boson in the Hilber state (see the API documentation [here](https://www.netket.org/docs/api.html#pre-defined-operators)).\n",
    "\n",
    "In this specifc case, $\\hat{a}^\\dagger_I$ for each boson $I$ (we can regard this index as a _site_ index in `netket`).\n",
    "\n"
   ],
   "metadata": {}
  },
  {
   "cell_type": "code",
   "execution_count": 5,
   "source": [
    "from netket.operator.boson import create, destroy"
   ],
   "outputs": [],
   "metadata": {}
  },
  {
   "cell_type": "markdown",
   "source": [
    "We now start by defining the free part of the Hamiltonian, which is just a collection of harmonic oscillators\n"
   ],
   "metadata": {}
  },
  {
   "cell_type": "code",
   "execution_count": 6,
   "source": [
    "# we loop over all \"sites\" -> loop over N bosons\n",
    "H_free = sum([0.5+create(hi,i)*destroy(hi,i) for i in range(N)])"
   ],
   "outputs": [],
   "metadata": {}
  },
  {
   "cell_type": "markdown",
   "source": [
    "Here we have used a list comprehension to (mildly) show off our ability to write one-liners, however you could have just added the terms one by one in an explicit loop instead (though you'd end up with a whopping 3 lines of code). \n",
    "\n",
    "We have also used the fact that NetKet automatically recognizes products of local operators as tensor products and the addition of scalars as if they were multiplied by the identity matrix in the tensor space."
   ],
   "metadata": {}
  },
  {
   "cell_type": "markdown",
   "source": [
    "In general, when manipulating NetKet objects, you should always assume that you can safely operate on them like \n",
    "you would in mathematical equations, therefore you can sum and multiply them with ease."
   ],
   "metadata": {}
  },
  {
   "cell_type": "markdown",
   "source": [
    "### 1.3 Exact Diagonalization\n",
    "\n",
    "Let us check this free Hamiltonian, whose eigenvectors are analytically known: the ground state has vacuum energy for $N$ independent harmonic oscillators: $0.5N = 0.5 \\cdot 6 = 3$ "
   ],
   "metadata": {}
  },
  {
   "cell_type": "markdown",
   "source": [
    "In `netket` we can  convert our Hamiltonian operator into a sparse matrix of size $ $\\Lambda^N \\times \\Lambda^N $. "
   ],
   "metadata": {}
  },
  {
   "cell_type": "code",
   "execution_count": 10,
   "source": [
    "sp_h=H_free.to_sparse()\n",
    "sp_h.shape"
   ],
   "outputs": [
    {
     "output_type": "execute_result",
     "data": {
      "text/plain": [
       "(4096, 4096)"
      ]
     },
     "metadata": {},
     "execution_count": 10
    }
   ],
   "metadata": {}
  },
  {
   "cell_type": "markdown",
   "source": [
    "Since this is just a regular scipy sparse matrix, we can just use any sparse diagonalization routine in there to find the eigenstates. For example, this will find the two lowest eigenstates  "
   ],
   "metadata": {}
  },
  {
   "cell_type": "code",
   "execution_count": 11,
   "source": [
    "from scipy.sparse.linalg import eigsh\n",
    "\n",
    "eig_vals, eig_vecs = eigsh(sp_h, k=7, which=\"SA\")\n",
    "\n",
    "print(f\"Eigenvalues with scipy.sparse.linalg.eigsh: {eig_vals}\")\n"
   ],
   "outputs": [
    {
     "output_type": "stream",
     "name": "stdout",
     "text": [
      "Eigenvalues with scipy.sparse.linalg.eigsh: [3. 4. 4. 4. 4. 4. 4.]\n"
     ]
    }
   ],
   "metadata": {}
  },
  {
   "cell_type": "markdown",
   "source": [
    "These are the expected eigenvalues with the correct degeneracy: the first excited state is repeated $N$ times, and so forth."
   ],
   "metadata": {}
  },
  {
   "cell_type": "markdown",
   "source": [
    "*Note*: `netket` also provide a wrapper for `eigsh` in the form of a Lanczos [exact solver](https://www.netket.org/docs/_generated/exact/netket.exact.lanczos_ed.html#netket.exact.lanczos_ed)."
   ],
   "metadata": {}
  },
  {
   "cell_type": "code",
   "execution_count": 12,
   "source": [
    "eig_vals = nk.exact.lanczos_ed(H_free, k=13, compute_eigenvectors=False)  # args to scipy.sparse.linalg.eighs like can be passed with scipy_args={'tol':1e-8}\n",
    "print(f\"Eigenvalues with exact lanczos (sparse): {eig_vals}\")"
   ],
   "outputs": [
    {
     "output_type": "stream",
     "name": "stdout",
     "text": [
      "Eigenvalues with exact lanczos (sparse): [3. 4. 4. 4. 4. 4. 4. 5. 5. 5. 5. 5. 5.]\n"
     ]
    }
   ],
   "metadata": {}
  },
  {
   "cell_type": "markdown",
   "source": [
    "*Note*: a full (dense) exact diagonalization can also be done for small systems using [this exact solver](https://www.netket.org/docs/_generated/exact/netket.exact.full_ed.html#netket.exact.full_ed)"
   ],
   "metadata": {}
  },
  {
   "cell_type": "code",
   "execution_count": 13,
   "source": [
    "eig_vals = nk.exact.full_ed(H_free, compute_eigenvectors=False)\n",
    "print(f\"Eigenvalues with exact diag (dense): {eig_vals}\\nNumber of eigs: {eig_vals.shape[0]}\")"
   ],
   "outputs": [
    {
     "output_type": "stream",
     "name": "stdout",
     "text": [
      "Eigenvalues with exact diag (dense): [ 3.  4.  4. ... 20. 20. 21.]\n",
      "Number of eigs: 4096\n"
     ]
    }
   ],
   "metadata": {}
  },
  {
   "cell_type": "markdown",
   "source": [
    "### 1.4 The interaction Hamiltonian\n",
    "\n",
    "We can now continue building our full Hamiltonian by writing the interaction term.\n",
    "It is convenient to write the interaction using the `position` operators built from the creation and annihilation bosonic operators\n",
    "\n",
    "$$\\hat{x}_I = \\frac{1}{\\sqrt{2}} \\left( \\hat{a}^\\dagger_I + \\hat{a}_I \\right)$$\n"
   ],
   "metadata": {}
  },
  {
   "cell_type": "code",
   "execution_count": 7,
   "source": [
    "x_list = [(1 / np.sqrt(2))*(create(hi,i)+destroy(hi,i)) for i in range(N)]"
   ],
   "outputs": [],
   "metadata": {}
  },
  {
   "cell_type": "markdown",
   "source": [
    "The interactoin terms can be written using the Levi-Civita completely antisymmetric tensor with 3 indices or by writing out all the terms by hand:"
   ],
   "metadata": {}
  },
  {
   "cell_type": "code",
   "execution_count": 8,
   "source": [
    "### Quartic Interaction for bosons\n",
    "V_b = (\n",
    "    x_list[2] * x_list[2] * x_list[3] * x_list[3]\n",
    "    + x_list[2] * x_list[2] * x_list[4] * x_list[4]\n",
    "    + x_list[1] * x_list[1] * x_list[3] * x_list[3]\n",
    "    + x_list[1] * x_list[1] * x_list[5] * x_list[5]\n",
    "    + x_list[0] * x_list[0] * x_list[4] * x_list[4]\n",
    "    + x_list[0] * x_list[0] * x_list[5] * x_list[5]\n",
    "    - 2 * x_list[0] * x_list[2] * x_list[3] * x_list[5]\n",
    "    - 2 * x_list[0] * x_list[1] * x_list[3] * x_list[4]\n",
    "    - 2 * x_list[1] * x_list[2] * x_list[4] * x_list[5]\n",
    ")"
   ],
   "outputs": [],
   "metadata": {}
  },
  {
   "cell_type": "markdown",
   "source": [
    "And the full Hamiltonian with 't Hooft coupling $\\lambda = g^2 N_g$ (where $N_g$ is the gauge group number of colors) is"
   ],
   "metadata": {}
  },
  {
   "cell_type": "code",
   "execution_count": 9,
   "source": [
    "g2N = 0.2  # 't Hooft coupling lambda\n",
    "H = H_free + (g2N / 2) * V_b"
   ],
   "outputs": [],
   "metadata": {}
  },
  {
   "cell_type": "markdown",
   "source": [
    "## 2. Exact Diagonalization\n",
    "\n",
    "We can repeat for the full Hamiltonian at fixed gauge coupling $g^2N_g$ the exact diagonalization procedure we have used on the free Hamiltonian.\n",
    "\n",
    "When the gauge coupling constant is small, the difference of the energy of the ground state with the free case $g=0$ will be small."
   ],
   "metadata": {}
  },
  {
   "cell_type": "code",
   "execution_count": 17,
   "source": [
    "w = nk.exact.full_ed(H, compute_eigenvectors=False)\n",
    "print(f\"Eigenvalues with exact diag (dense): {w}\\nNumber of eigs: {w.shape[0]}\")"
   ],
   "outputs": [
    {
     "output_type": "stream",
     "name": "stdout",
     "text": [
      "Eigenvalues with exact diag (dense): [ 3.13406307  4.21516634  4.21516634 ... 22.94954115 22.94954115\n",
      " 23.42952917]\n",
      "Number of eigs: 4096\n"
     ]
    }
   ],
   "metadata": {}
  },
  {
   "cell_type": "markdown",
   "source": [
    "Or we can use the Lanczos solver and only approximately retrieve the lowest $k$ eigenvalues (this is much much quicker)"
   ],
   "metadata": {}
  },
  {
   "cell_type": "code",
   "execution_count": 10,
   "source": [
    "eig_vals = nk.exact.lanczos_ed(H, k=4, compute_eigenvectors=False, scipy_args={'tol':1e-8})\n",
    "print(f\"Eigenvalues with exact lanczos (sparse): {eig_vals}\")"
   ],
   "outputs": [
    {
     "output_type": "stream",
     "name": "stdout",
     "text": [
      "Eigenvalues with exact lanczos (sparse): [3.13406307 4.21516634 4.21516634 4.21516634]\n"
     ]
    }
   ],
   "metadata": {}
  },
  {
   "cell_type": "markdown",
   "source": [
    "## 3. Mean-Field Ansatz\n",
    "\n",
    "We now would like to find a variational approximation of the ground state of this Hamiltonian. As a first step, we can try to use a very simple mean field ansatz: \n",
    "\n",
    "$$ \\langle X_1,\\dots X_N| \\Psi_{\\mathrm{mf}} \\rangle = \\Pi_{i=1}^{N} \\Phi(X_i), $$\n",
    "\n",
    "where the variational parameters are individual boson's wave functions $\\Phi(X_i)$. This is probably a bad ansatz, but it will show how the variational Monte Carlo procedure works in `netket`\n",
    "\n",
    "We can further write $ \\Phi(X) = \\sqrt{P(X)}e^{i \\phi(X)}$.\n",
    "\n",
    "In order to simplify the presentation, we take here and in the following examples the phase $\\phi=0$.\n",
    "\n",
    "For the normalized single-boson probability we will take a sigmoid form: \n",
    "\n",
    "$$P(X; \\gamma) = 1/(1 + e^{-\\gamma X})$$\n",
    "thus depending on the real-valued variational parameter $\\gamma$. "
   ],
   "metadata": {}
  },
  {
   "cell_type": "markdown",
   "source": [
    "In `netket` one has to define a variational function approximating the **logarithm** of the wave-function amplitudes (or density-matrix values).\n",
    "\n",
    "$$ \\langle X_1,\\dots X_N| \\Psi_{\\mathrm{mf}} \\rangle = \\exp{(\\textrm{Model}(X; \\theta))} $$\n",
    "\n",
    "where $\\theta$ is a set of parameters.\n",
    "\n",
    "In this case, the parameter of the model will be just one: $\\gamma$.\n",
    "\n",
    "The Model can be defined using one of the several functional jax frameworks such as Jax/Stax, Flax or Haiku. NetKet includes several pre-built models and layers built with Flax, so we will be using it for the rest of the notebook."
   ],
   "metadata": {}
  },
  {
   "cell_type": "code",
   "execution_count": 11,
   "source": [
    "# numerical operations in the model should always use jax.numpy \n",
    "# instead of numpy because jax supports computing derivatives. \n",
    "# If you want to better understand the difference between the two, check\n",
    "# https://flax.readthedocs.io/en/latest/notebooks/jax_for_the_impatient.html\n",
    "import jax.numpy as jnp\n",
    "\n",
    "# Flax is a framework to define models using jax\n",
    "import flax\n",
    "# we refer to `flax.linen` as `nn`. It's a repository of \n",
    "# layers, initializers and nonlinear functions.\n",
    "import flax.linen as nn\n",
    "\n",
    "# A Flax model must be a class subclassing `nn.Module`\n",
    "class MF(nn.Module):\n",
    "    \n",
    "    # The most compact way to define the model is this.\n",
    "    # The __call__(self, x) function should take as \n",
    "    # input a batch of states x.shape = (n_samples, L)\n",
    "    # and should return a vector of n_samples log-amplitudes\n",
    "    @nn.compact\n",
    "    def __call__(self, x):\n",
    "        \n",
    "        # A tensor of variational parameters is defined by calling\n",
    "        # the method `self.param` where the arguments will be:\n",
    "        # - arbitrary name used to refer to this set of parameters\n",
    "        # - an initializer used to provide the initial values. \n",
    "        # - The shape of the tensor\n",
    "        # - The dtype of the tensor.\n",
    "        gam = self.param(\n",
    "            \"gamma\", nn.initializers.normal(), (1,), float\n",
    "        )\n",
    "        \n",
    "        # compute the probabilities\n",
    "        p = nn.log_sigmoid(gam*x)\n",
    "\n",
    "        # sum the output\n",
    "        return 0.5 * jnp.sum(p, axis=-1)"
   ],
   "outputs": [],
   "metadata": {}
  },
  {
   "cell_type": "markdown",
   "source": [
    "### 3.1 Variational State\n",
    "\n",
    "The model itself is only a set of instructions on how to initialise the parameters and how to compute the result. \n",
    "\n",
    "To actually create a **variational state** with its parameters, the easiest way is to construct a Monte-Carlo-sampled Variational State. \n",
    "\n",
    "To do this, we first need to define a sampler.\n",
    "\n",
    "In [`netket.sampler`](https://www.netket.org/docs/api.html#list-of-samplers) several samplers are defined, each with its own peculiarities.\n",
    "\n",
    "In the following example, we will be using a simple sampler that chooses the occupation number of each boson at random (uniform between 0 and $\\Lambda-1$) one by one.\n",
    "\n",
    "You can read more about how the sampler works by checking the documentation with `?nk.sampler.MetropolisLocal`"
   ],
   "metadata": {}
  },
  {
   "cell_type": "code",
   "execution_count": 12,
   "source": [
    "# Create an instance of the model.\n",
    "# Notice that this does not create the parameters.\n",
    "mf_model = MF()\n",
    "\n",
    "# Create the local sampler on the hilbert space (by default is uses 16 chains)\n",
    "sampler = nk.sampler.MetropolisLocal(hi)\n",
    "\n",
    "# Construct the variational state using the model and the sampler above.\n",
    "# n_samples specifies how many samples should be used to compute expectation\n",
    "# values.\n",
    "vstate = nk.vqs.MCState(sampler, mf_model, n_samples=500)\n"
   ],
   "outputs": [
    {
     "output_type": "stream",
     "name": "stderr",
     "text": [
      "WARNING:absl:No GPU/TPU found, falling back to CPU. (Set TF_CPP_MIN_LOG_LEVEL=0 and rerun for more info.)\n"
     ]
    }
   ],
   "metadata": {}
  },
  {
   "cell_type": "code",
   "execution_count": 55,
   "source": [
    "vstate.sampler"
   ],
   "outputs": [
    {
     "output_type": "execute_result",
     "data": {
      "text/plain": [
       "MetropolisSampler(\n",
       "  hilbert = Fock(n_max=3, N=6),\n",
       "  rule = LocalRule(),\n",
       "  n_chains = 16,\n",
       "  machine_power = 2,\n",
       "  reset_chains = False,\n",
       "  n_sweeps = 6,\n",
       "  dtype = <class 'numpy.float64'>)"
      ]
     },
     "metadata": {},
     "execution_count": 55
    }
   ],
   "metadata": {}
  },
  {
   "cell_type": "markdown",
   "source": [
    "You can play around with the variational state: for example, you can compute expectation values yourself or inspect it's parameters"
   ],
   "metadata": {}
  },
  {
   "cell_type": "code",
   "execution_count": 21,
   "source": [
    "# you can inspect the parameters which contain the single\n",
    "# variational parameter `gamma`\n",
    "print(vstate.parameters)"
   ],
   "outputs": [
    {
     "output_type": "stream",
     "name": "stdout",
     "text": [
      "FrozenDict({\n",
      "    gamma: DeviceArray([0.00812462], dtype=float64),\n",
      "})\n"
     ]
    }
   ],
   "metadata": {}
  },
  {
   "cell_type": "code",
   "execution_count": 22,
   "source": [
    "# Expectation value: notice that it also provides an error estimate.\n",
    "print(vstate.expect(H))"
   ],
   "outputs": [
    {
     "output_type": "stream",
     "name": "stdout",
     "text": [
      "13.08 ± 0.13 [σ²=8.70, R̂=1.0048]\n"
     ]
    }
   ],
   "metadata": {}
  },
  {
   "cell_type": "markdown",
   "source": [
    "The last cell was run with a randomly initialized parameter $\\gamma$ and for 500 samples (notice the metrics for the convergence of the Monte Carlo algorithm in square brackets). The output is $<O>= <\\Psi|O|\\Psi>/<\\Psi|\\Psi>$ for $O=\\hat{H}$"
   ],
   "metadata": {}
  },
  {
   "cell_type": "markdown",
   "source": [
    "## 4. Variational Monte Carlo"
   ],
   "metadata": {}
  },
  {
   "cell_type": "markdown",
   "source": [
    "We will now try to optimise $ \\gamma $ in order to best approximate the ground state of the hamiltonian.\n",
    "\n",
    "To do so, first I need to pick an iterative optimiser. We choose stochastic gradient descent with a learning\n",
    "rate of $0.05$.\n",
    "Then, we must provide all the elements to the variational monte carlo driver, which takes case of setting up and running the whole optimisation.\n",
    "\n",
    "For example, the driver can be run for a specific number of iterations. Each iteration will have to run the Monte Carlo sampling defined by the variational state `nk.vqs.MCState`."
   ],
   "metadata": {}
  },
  {
   "cell_type": "code",
   "execution_count": 13,
   "source": [
    "optimizer = nk.optimizer.Sgd(learning_rate=0.05)\n",
    "\n",
    "# build the optimisation driver\n",
    "gs = nk.driver.VMC(H, optimizer, variational_state=vstate)\n",
    "\n",
    "# run the driver for 300 iterations. This will display a progress bar\n",
    "# by default.\n",
    "gs.run(n_iter=300)\n",
    "\n",
    "# expectation value of the energy\n",
    "mf_energy = vstate.expect(H)\n",
    "# compare with the Lanczos exact diagonalization energy eigenvalue\n",
    "error = abs((mf_energy.mean - eig_vals[0]) / eig_vals[0])\n",
    "\n"
   ],
   "outputs": [
    {
     "output_type": "stream",
     "name": "stdout",
     "text": [
      "No output specified (out=[apath|nk.logging.JsonLogger(...)]).Running the optimization but not saving the output.\n"
     ]
    },
    {
     "output_type": "stream",
     "name": "stderr",
     "text": [
      "100%|██████████| 300/300 [00:04<00:00, 74.79it/s, Energy=3.268 ± 0.015 [σ²=0.110, R̂=1.0611]] \n"
     ]
    },
    {
     "output_type": "stream",
     "name": "stdout",
     "text": [
      "Optimized energy and relative error:  3.315 ± 0.018 [σ²=0.164, R̂=1.1140] 0.057682494216706855\n"
     ]
    }
   ],
   "metadata": {}
  },
  {
   "cell_type": "code",
   "execution_count": 14,
   "source": [
    "#  we can also inspect the parameter:\n",
    "print(\"Final optimized parameter: \", vstate.parameters[\"gamma\"])"
   ],
   "outputs": [
    {
     "output_type": "stream",
     "name": "stdout",
     "text": [
      "Final optimized parameter:  [-4.63541381]\n"
     ]
    }
   ],
   "metadata": {}
  },
  {
   "cell_type": "code",
   "execution_count": 15,
   "source": [
    "print(f\"Final optimized energy relative error (with mean-field ansatz): {error*100:.2f}%\")"
   ],
   "outputs": [
    {
     "output_type": "stream",
     "name": "stdout",
     "text": [
      "Final optimized energy relative error (with mean-field ansatz): 5.77%\n"
     ]
    }
   ],
   "metadata": {}
  },
  {
   "cell_type": "markdown",
   "source": [
    "Even a very rudimentary ansatz without interactions between the degrees of freedom is sufficient to reach a < 10% error on the ground state energy with a single parameter to optimize.\n",
    "\n",
    "We will see more complicated ansatzë below."
   ],
   "metadata": {}
  },
  {
   "cell_type": "markdown",
   "source": [
    "## 5. Jastrow Ansatz\n",
    "\n",
    "We have seen that the mean field ansatz yields a sub 10% error on the ground-state energy. Let's now try to do better, using a more correlated ansatz. \n",
    "\n",
    "We will now take a short-range Jastrow ansatz which is already inlcuded in `netket` as [`nk.models.Jastrow`](https://www.netket.org/docs/_generated/models/netket.models.Jastrow.html#netket.models.Jastrow):\n",
    "\n",
    "$$\\log{\\Psi(X)} = \\sum_{ij} X_i W_{ij} X_j$$\n",
    "\n",
    "where $W_{ij}$ is a symmetric matrix of learnable complex parameters (the _kernel_ of the quadratic form)."
   ],
   "metadata": {}
  },
  {
   "cell_type": "code",
   "execution_count": 53,
   "source": [
    "# change the model: initialize weights with normal distributions\n",
    "model = nk.models.Jastrow(kernel_init=nn.initializers.normal())\n",
    "\n",
    "# we use the same MetropolicLocal sapmler as before. Now we sample for longer to get a more accurate result\n",
    "vstate = nk.vqs.MCState(sampler, model, n_samples=1000)\n"
   ],
   "outputs": [],
   "metadata": {}
  },
  {
   "cell_type": "code",
   "execution_count": 43,
   "source": [
    "# number of parameters\n",
    "vstate.n_parameters"
   ],
   "outputs": [
    {
     "output_type": "execute_result",
     "data": {
      "text/plain": [
       "36"
      ]
     },
     "metadata": {},
     "execution_count": 43
    }
   ],
   "metadata": {}
  },
  {
   "cell_type": "code",
   "execution_count": 44,
   "source": [
    "# look at the parameters\n",
    "vstate.parameters"
   ],
   "outputs": [
    {
     "output_type": "execute_result",
     "data": {
      "text/plain": [
       "FrozenDict({\n",
       "    kernel: DeviceArray([[ 0.00300828+0.00437449j,  0.00035859+0.00966779j,\n",
       "                   0.00323684-0.00623613j, -0.00094063+0.0044653j ,\n",
       "                  -0.00961399+0.0033488j ,  0.00645835+0.0049005j ],\n",
       "                 [-0.00483521+0.00797528j,  0.00031534-0.00017236j,\n",
       "                   0.00956457-0.00427934j, -0.00170957-0.00488344j,\n",
       "                   0.00011237+0.01151915j,  0.00723263-0.00429235j],\n",
       "                 [ 0.00311971+0.00161008j, -0.00435278-0.01965019j,\n",
       "                  -0.00059983-0.00246288j,  0.00160126-0.00125839j,\n",
       "                   0.00906968+0.0009986j ,  0.0011105 -0.0044118j ],\n",
       "                 [ 0.00290478-0.02199919j,  0.00306831-0.00148636j,\n",
       "                   0.00395352+0.00625865j, -0.00225301-0.00820072j,\n",
       "                   0.00377009-0.00517756j, -0.00965418-0.00453425j],\n",
       "                 [-0.01370688+0.00525946j,  0.01142606+0.00597023j,\n",
       "                   0.0100192 -0.01331347j, -0.01087938-0.00544714j,\n",
       "                  -0.00866248+0.0006098j , -0.00934644+0.00221097j],\n",
       "                 [-0.00176785-0.00214778j, -0.00050849-0.0068381j ,\n",
       "                   0.00049603-0.00476948j,  0.00652288-0.00347572j,\n",
       "                   0.00190567-0.01575338j, -0.0004119 +0.00202919j]],            dtype=complex128),\n",
       "})"
      ]
     },
     "metadata": {},
     "execution_count": 44
    }
   ],
   "metadata": {}
  },
  {
   "cell_type": "markdown",
   "source": [
    "The sampler runs with a default number of chains (16 in this case) and will produce a total of `n_samples` (1000 in this case), so that we would have individual chains of 1000/16=62.5 (63) samples"
   ],
   "metadata": {}
  },
  {
   "cell_type": "code",
   "execution_count": 54,
   "source": [
    "vstate.sampler"
   ],
   "outputs": [
    {
     "output_type": "execute_result",
     "data": {
      "text/plain": [
       "MetropolisSampler(\n",
       "  hilbert = Fock(n_max=3, N=6),\n",
       "  rule = LocalRule(),\n",
       "  n_chains = 16,\n",
       "  machine_power = 2,\n",
       "  reset_chains = False,\n",
       "  n_sweeps = 6,\n",
       "  dtype = <class 'numpy.float64'>)"
      ]
     },
     "metadata": {},
     "execution_count": 54
    }
   ],
   "metadata": {}
  },
  {
   "cell_type": "code",
   "execution_count": 52,
   "source": [
    "vstate.chain_length"
   ],
   "outputs": [
    {
     "output_type": "execute_result",
     "data": {
      "text/plain": [
       "63"
      ]
     },
     "metadata": {},
     "execution_count": 52
    }
   ],
   "metadata": {}
  },
  {
   "cell_type": "markdown",
   "source": [
    "We then optimize it, however this time we also introduce a stochastic reconfiguration (natural gradient) preconditioner:"
   ],
   "metadata": {}
  },
  {
   "cell_type": "code",
   "execution_count": 42,
   "source": [
    "optimizer = nk.optimizer.Sgd(learning_rate=0.05)\n",
    "\n",
    "preconditioner = nk.optimizer.SR(diag_shift=0.1)\n",
    "\n",
    "# driver for running the simulation\n",
    "gs = nk.driver.VMC(H, optimizer, variational_state=vstate, preconditioner=preconditioner)"
   ],
   "outputs": [],
   "metadata": {}
  },
  {
   "cell_type": "markdown",
   "source": [
    "We now log the intermediate results of the optimization, so that we can visualize them at a later stage. "
   ],
   "metadata": {}
  },
  {
   "cell_type": "code",
   "execution_count": 18,
   "source": [
    "# Loggers that work together with optimisation drivers are defined in nk.logging.\n",
    "# RuntimeLog keeps the metrics in memory, JsonLog stores them to a json file which can be read\n",
    "# as a dict, TensorBoardLog can be used to log to TensorBoard.\n",
    "log=nk.logging.RuntimeLog()\n",
    "\n",
    "# One or more logger objects must be passed to the keyword argument `out`.\n",
    "gs.run(n_iter=300, out=log)\n"
   ],
   "outputs": [
    {
     "output_type": "stream",
     "name": "stderr",
     "text": [
      "100%|██████████| 300/300 [00:06<00:00, 47.58it/s, Energy=3.1522+0.0000j ± 0.0015 [σ²=0.0024, R̂=1.0069]]\n"
     ]
    },
    {
     "output_type": "execute_result",
     "data": {
      "text/plain": [
       "(<netket.logging.runtime_log.RuntimeLog at 0x7f6f393ce2e0>,)"
      ]
     },
     "metadata": {},
     "execution_count": 18
    }
   ],
   "metadata": {}
  },
  {
   "cell_type": "code",
   "execution_count": 19,
   "source": [
    "print(f\"Final optimized kernel parameters: {vstate.parameters['kernel']}\\n\")\n",
    "jas_energy=vstate.expect(H)\n",
    "error=abs((jas_energy.mean-eig_vals[0])/eig_vals[0])\n",
    "print(f\"Optimized energy : {jas_energy}\")\n",
    "print(f\"relative error   : {error*100:.2f}%\")"
   ],
   "outputs": [
    {
     "output_type": "stream",
     "name": "stdout",
     "text": [
      "Final optimized kernel parameters: [[-1.6713909 +0.02505264j -0.07461179+0.0149096j  -0.06003669-0.00173867j\n",
      "  -0.02127435-0.00871416j -0.10590858-0.00149251j -0.11627626-0.00469955j]\n",
      " [-0.06300741+0.01344962j -1.68646253+0.00588831j -0.09247343+0.00339039j\n",
      "  -0.12916385+0.00124274j -0.04694896-0.01200041j -0.11106874-0.00636688j]\n",
      " [-0.06147037-0.01151296j -0.09396702+0.01268899j -1.65333656-0.00011762j\n",
      "  -0.1124733 +0.02000254j -0.12680733+0.00353842j -0.02175949-0.00040635j]\n",
      " [-0.02439107-0.00802884j -0.12222353-0.00685724j -0.11962499+0.01088529j\n",
      "  -1.68153006+0.00076012j -0.07837226+0.00208823j -0.08181033-0.0010096j ]\n",
      " [-0.10392338+0.00396576j -0.04014739-0.01664755j -0.1118963 +0.00502634j\n",
      "  -0.0771495 +0.00266047j -1.66937841+0.01833916j -0.08531986+0.00943535j]\n",
      " [-0.10342281+0.00622289j -0.11269272-0.00564292j -0.02490313-0.00181396j\n",
      "  -0.08204805+0.00373655j -0.08253583+0.00077778j -1.64425208-0.01400123j]]\n",
      "\n",
      "Optimized energy : 3.1533+0.0000j ± 0.0019 [σ²=0.0036, R̂=1.0143]\n",
      "relative error   : 0.61%\n"
     ]
    }
   ],
   "metadata": {}
  },
  {
   "cell_type": "markdown",
   "source": [
    "You can now see that this ansatz is almost one order of magnitude more accurate than the mean field! \n",
    "\n",
    "In order to visualize what happened during the optimization, we can use the data that has been stored by the logger. There are several available loggers in NetKet, here we have just used a simple one that stores the intermediate results as values in a dictionary. "
   ],
   "metadata": {}
  },
  {
   "cell_type": "code",
   "execution_count": 20,
   "source": [
    "data_jastrow = log.data\n",
    "print(data_jastrow)"
   ],
   "outputs": [
    {
     "output_type": "stream",
     "name": "stdout",
     "text": [
      "{'Energy': History(\n",
      "   keys  = ['Mean', 'Variance', 'Sigma', 'R_hat', 'TauCorr'], \n",
      "   iters = [0, 1, ... 298, 299] (300 steps),\n",
      ")}\n"
     ]
    }
   ],
   "metadata": {}
  },
  {
   "cell_type": "code",
   "execution_count": 21,
   "source": [
    "energy_history = data_jastrow[\"Energy\"].Mean.real\n",
    "energy_error_history = data_jastrow[\"Energy\"].Sigma.real"
   ],
   "outputs": [],
   "metadata": {}
  },
  {
   "cell_type": "markdown",
   "source": [
    "These report several intermediate quantities, that can be easily plotted. For example we can plot the value of the energy (with its error bar) at each optimization step.  "
   ],
   "metadata": {}
  },
  {
   "cell_type": "code",
   "execution_count": 25,
   "source": [
    "fig, ax = plt.subplots(figsize=(10,5))\n",
    "ax.errorbar(data_jastrow[\"Energy\"].iters, energy_history, yerr=energy_error_history, label=\"Jastrow\")\n",
    "ax.axhline([eig_vals[0]], xmin=0, xmax=300, color='black', label=\"Exact\")\n",
    "ax.legend()\n",
    "ax.set_xlabel('Iterations')\n",
    "ax.set_ylabel('Energy (Re)');"
   ],
   "outputs": [
    {
     "output_type": "display_data",
     "data": {
      "image/png": "[encoded data removed]",
      "text/plain": [
       "<Figure size 720x360 with 1 Axes>"
      ]
     },
     "metadata": {
      "needs_background": "light"
     }
    }
   ],
   "metadata": {
    "scrolled": true
   }
  },
  {
   "cell_type": "markdown",
   "source": [
    "You can also look at the MCMC chain properties"
   ],
   "metadata": {}
  },
  {
   "cell_type": "code",
   "execution_count": 23,
   "source": [
    "plt.plot(data_jastrow[\"Energy\"].R_hat)\n",
    "plt.ylabel(\"R_hat\")\n",
    "plt.xlabel(\"Iterations\")"
   ],
   "outputs": [
    {
     "output_type": "execute_result",
     "data": {
      "text/plain": [
       "Text(0.5, 0, 'Iterations')"
      ]
     },
     "metadata": {},
     "execution_count": 23
    },
    {
     "output_type": "display_data",
     "data": {
      "image/png": "[encoded data removed]",
      "text/plain": [
       "<Figure size 432x288 with 1 Axes>"
      ]
     },
     "metadata": {
      "needs_background": "light"
     }
    }
   ],
   "metadata": {}
  },
  {
   "cell_type": "markdown",
   "source": [
    "Some chains have `R_hat` larger than ones, which means they might not have converged within the 1000 samples that we had specified..."
   ],
   "metadata": {}
  },
  {
   "cell_type": "markdown",
   "source": [
    "* Each variational state can be sampled with an arbitraty number of chains, samples per chain and burnin steps (discarded samples) (see the [sampling](https://www.netket.org/docs/varstate.html#sampling) section of the documentation)\n",
    "* Each state can be written in the computational basis by calling the `to_array()` method (in this case we have 4096 elements in our basis, so we would get a 4096-dim vector)"
   ],
   "metadata": {}
  },
  {
   "cell_type": "code",
   "execution_count": 56,
   "source": [
    "vstate.samples.shape  # [chain_length, n_chains, n_sites]"
   ],
   "outputs": [
    {
     "output_type": "execute_result",
     "data": {
      "text/plain": [
       "(63, 16, 6)"
      ]
     },
     "metadata": {},
     "execution_count": 56
    }
   ],
   "metadata": {}
  },
  {
   "cell_type": "code",
   "execution_count": 60,
   "source": [
    "# boson sampling:\n",
    "plt.plot(vstate.samples[:,:,0].flatten(), '.', label=\"site 0\")\n",
    "plt.legend()"
   ],
   "outputs": [
    {
     "output_type": "execute_result",
     "data": {
      "text/plain": [
       "<matplotlib.legend.Legend at 0x7f6f1416a490>"
      ]
     },
     "metadata": {},
     "execution_count": 60
    },
    {
     "output_type": "display_data",
     "data": {
      "image/png": "[encoded data removed]",
      "text/plain": [
       "<Figure size 432x288 with 1 Axes>"
      ]
     },
     "metadata": {
      "needs_background": "light"
     }
    }
   ],
   "metadata": {}
  },
  {
   "cell_type": "code",
   "execution_count": 28,
   "source": [
    "vstate.to_array().shape"
   ],
   "outputs": [
    {
     "output_type": "execute_result",
     "data": {
      "text/plain": [
       "(4096,)"
      ]
     },
     "metadata": {},
     "execution_count": 28
    }
   ],
   "metadata": {}
  },
  {
   "cell_type": "code",
   "execution_count": 32,
   "source": [
    "plt.plot(vstate.to_array().real)\n",
    "plt.xlim([0,100])"
   ],
   "outputs": [
    {
     "output_type": "execute_result",
     "data": {
      "text/plain": [
       "(0.0, 100.0)"
      ]
     },
     "metadata": {},
     "execution_count": 32
    },
    {
     "output_type": "display_data",
     "data": {
      "image/png": "[encoded data removed]",
      "text/plain": [
       "<Figure size 432x288 with 1 Axes>"
      ]
     },
     "metadata": {
      "needs_background": "light"
     }
    }
   ],
   "metadata": {}
  },
  {
   "cell_type": "markdown",
   "source": [
    "## 6. Neural-Network Quantum State \n",
    "\n",
    "We now want to use a more sofisticated ansatz, based on a neural network representation of the wave function. At this point, this is quite straightforward, since we can again take advantage of automatic differentiation. \n",
    "\n",
    "Let us define a simple fully-connected feed-forward network with a ReLu activation function and a sum layer. "
   ],
   "metadata": {}
  },
  {
   "cell_type": "code",
   "execution_count": 61,
   "source": [
    "class FFN(nn.Module):\n",
    "    \n",
    "    # You can define attributes at the module-level\n",
    "    # with a default. This allows you to easily change\n",
    "    # some hyper-parameter without redefining the whole \n",
    "    # flax module. This is the ratio of neurons to input dofs\n",
    "    alpha : int = 1\n",
    "            \n",
    "    @nn.compact\n",
    "    def __call__(self, x):\n",
    "\n",
    "        # here we construct the first dense layer using a\n",
    "        # pre-built implementation in flax.\n",
    "        # features is the number of output nodes\n",
    "        # WARNING: Won't work with complex hamiltonians because\n",
    "        # of a bug in flax. Use nk.nn.Dense otherwise. \n",
    "        dense = nk.nn.Dense(features=self.alpha * x.shape[-1])\n",
    "        \n",
    "        # we apply the dense layer to the input\n",
    "        y = dense(x)\n",
    "\n",
    "        # the non-linearity is a simple ReLu\n",
    "        y = nn.relu(y)\n",
    "        \n",
    "        # sum the output\n",
    "        return jnp.sum(y, axis=-1)"
   ],
   "outputs": [],
   "metadata": {}
  },
  {
   "cell_type": "code",
   "execution_count": 62,
   "source": [
    "# it is easy here to pass the hyper-parameter value\n",
    "model = FFN(alpha=1)\n",
    "\n",
    "vstate = nk.vqs.MCState(sampler, model, n_samples=1000)"
   ],
   "outputs": [],
   "metadata": {}
  },
  {
   "cell_type": "markdown",
   "source": [
    "*Warning*: Flax has a bug with its layers, where they drop the imaginary part\n",
    "of complex numbers if the layer has real weights.\n",
    "If you try to work on more complex\n",
    "problems where you work with complex numbers you should rather use the equivalent \n",
    "`nk.nn.Dense` which contains a fix for this bug."
   ],
   "metadata": {}
  },
  {
   "cell_type": "markdown",
   "source": [
    "We then proceed to the optimization as before. "
   ],
   "metadata": {}
  },
  {
   "cell_type": "code",
   "execution_count": 63,
   "source": [
    "optimizer = nk.optimizer.Sgd(learning_rate=0.01)\n",
    "preconditioner = nk.optimizer.SR(diag_shift=0.1)\n",
    "\n",
    "# Notice the use, again of Stochastic Reconfiguration, which considerably improves the optimisation\n",
    "gs = nk.driver.VMC(\n",
    "    H, optimizer, variational_state=vstate, preconditioner=preconditioner\n",
    ")\n",
    "\n",
    "# logging and running\n",
    "log = nk.logging.RuntimeLog()\n",
    "gs.run(n_iter=3000, out=log)\n",
    "\n",
    "ffn_energy = vstate.expect(H)\n",
    "error = abs((ffn_energy.mean - eig_vals[0]) / eig_vals[0])\n",
    "print(f\"Optimized energy: {ffn_energy} \\nRelative error: {error*100:.2f}%\")\n"
   ],
   "outputs": [
    {
     "output_type": "stream",
     "name": "stderr",
     "text": [
      "100%|██████████| 3000/3000 [00:24<00:00, 124.74it/s, Energy=3.150e+00 ± 8.392e-17 [σ²=7.100e-30, R̂=1.0123]]\n"
     ]
    },
    {
     "output_type": "stream",
     "name": "stdout",
     "text": [
      "Optimized energy: 3.150e+00 ± 8.392e-17 [σ²=7.100e-30, R̂=1.0123] \n",
      "Relative error: 0.52%\n"
     ]
    }
   ],
   "metadata": {}
  },
  {
   "cell_type": "markdown",
   "source": [
    "The variance of the final answer is zero, indicating a possibly troublesome sampling. We can investigate by looking at the samples themselves"
   ],
   "metadata": {}
  },
  {
   "cell_type": "code",
   "execution_count": 67,
   "source": [
    "fig, ax = plt.subplots(ncols=N,figsize=(30,8))\n",
    "for i,axi in enumerate(ax):\n",
    "    axi.plot(vstate.samples[:,:,i].flatten(), '.', label=f\"site {i}\")\n",
    "    axi.legend()"
   ],
   "outputs": [
    {
     "output_type": "display_data",
     "data": {
      "image/png": "[encoded data removed]",
      "text/plain": [
       "<Figure size 2160x576 with 6 Axes>"
      ]
     },
     "metadata": {
      "needs_background": "light"
     }
    }
   ],
   "metadata": {}
  },
  {
   "cell_type": "code",
   "execution_count": 69,
   "source": [
    "plt.plot(vstate.to_array())"
   ],
   "outputs": [
    {
     "output_type": "execute_result",
     "data": {
      "text/plain": [
       "[<matplotlib.lines.Line2D at 0x7f6ed02ebac0>]"
      ]
     },
     "metadata": {},
     "execution_count": 69
    },
    {
     "output_type": "display_data",
     "data": {
      "image/png": "[encoded data removed]",
      "text/plain": [
       "<Figure size 432x288 with 1 Axes>"
      ]
     },
     "metadata": {
      "needs_background": "light"
     }
    }
   ],
   "metadata": {}
  },
  {
   "cell_type": "markdown",
   "source": [
    "And we can compare the results between the two different ansatze:"
   ],
   "metadata": {}
  },
  {
   "cell_type": "code",
   "execution_count": 71,
   "source": [
    "data_FFN = log.data\n",
    "\n",
    "fig, ax = plt.subplots(figsize=(10,5))\n",
    "ax.errorbar(data_jastrow[\"Energy\"].iters, data_jastrow[\"Energy\"].Mean.real, yerr=data_jastrow[\"Energy\"].Sigma, label=\"Jastrow\")\n",
    "ax.errorbar(data_FFN[\"Energy\"].iters/10, data_FFN[\"Energy\"].Mean.real, yerr=data_FFN[\"Energy\"].Sigma, label=\"FFN\")\n",
    "ax.axhline([eig_vals[0]], xmin=0, xmax=300, color='black', label=\"Exact\")\n",
    "ax.legend()\n",
    "\n",
    "ax.set_xlabel('Iterations')\n",
    "ax.set_ylabel('Energy (Re)')"
   ],
   "outputs": [
    {
     "output_type": "execute_result",
     "data": {
      "text/plain": [
       "Text(0, 0.5, 'Energy (Re)')"
      ]
     },
     "metadata": {},
     "execution_count": 71
    },
    {
     "output_type": "display_data",
     "data": {
      "image/png": "[encoded data removed]",
      "text/plain": [
       "<Figure size 720x360 with 1 Axes>"
      ]
     },
     "metadata": {
      "needs_background": "light"
     }
    }
   ],
   "metadata": {}
  },
  {
   "cell_type": "markdown",
   "source": [
    "### 6.1 Increasing the features\n",
    "\n",
    "We can try to use more _neurons_ in the dense layer to see if we can get a better result.\n",
    "This can be done simply by instantiating the `FFN` model again with a larger `alpha`."
   ],
   "metadata": {}
  },
  {
   "cell_type": "code",
   "execution_count": 38,
   "source": [
    "# it is easy here to pass the hyper-parameter value\n",
    "model = FFN(alpha=2)\n",
    "\n",
    "vstate = nk.vqs.MCState(sampler, model, n_samples=1000)\n",
    "\n",
    "optimizer = nk.optimizer.Sgd(learning_rate=0.1)\n",
    "\n",
    "# Notice the use, again of Stochastic Reconfiguration, which considerably improves the optimisation\n",
    "gs = nk.driver.VMC(H, optimizer, variational_state=vstate,preconditioner=nk.optimizer.SR(diag_shift=0.1))\n",
    "gs.run(n_iter=600)\n",
    "\n",
    "ffn_energy=vstate.expect(H)\n",
    "error=abs((ffn_energy.mean-eig_vals[0])/eig_vals[0])\n",
    "print(f\"Optimized energy: {ffn_energy} \\nRelative error: {error*100:.2f}%\")"
   ],
   "outputs": [
    {
     "output_type": "stream",
     "name": "stdout",
     "text": [
      "No output specified (out=[apath|nk.logging.JsonLogger(...)]).Running the optimization but not saving the output.\n"
     ]
    },
    {
     "output_type": "stream",
     "name": "stderr",
     "text": [
      "100%|██████████| 300/300 [00:13<00:00, 22.02it/s, Energy=6.250e+00 ± 1.958e-16 [σ²=3.865e-29, R̂=1.0121]]\n"
     ]
    },
    {
     "output_type": "stream",
     "name": "stdout",
     "text": [
      "Optimized energy: 6.2526 ± 0.0015 [σ²=0.0024, R̂=1.0069] \n",
      "Relative error: 99.50%\n"
     ]
    }
   ],
   "metadata": {}
  },
  {
   "cell_type": "markdown",
   "source": [
    "This is the best we can do without taking into consideration the phase of the wave function."
   ],
   "metadata": {}
  },
  {
   "cell_type": "markdown",
   "source": [
    "## 7. Learning the Phase of the Wave Function\n",
    "\n",
    "In the examples shown before we have ignored completely the phase of the wave function. For the ground state of this bosonic matrix model, the phase is not stricly needed.\n",
    "\n",
    "Training models with a phase is significantly less trivial than optimizing phaseless models, thus we will adopt here a heuristic approximation approach that has proven quite robust.\n",
    "What we will do here is that we will train the model using different (and time-dependent) learning rates for the phase and modulus parts of the wave function.\n",
    "\n",
    "The learning schedule rate is chosen in such as way that in the firs stages we will optimize mostly only the phase, while leaving the amplitude more or less constant. The schedule then will ramp up the learning rate for the amplitude and we will optimize everything at the same time. "
   ],
   "metadata": {}
  },
  {
   "cell_type": "markdown",
   "source": [
    "We define a fully-connected model that will include a network for the modulus and a network for the phase. Remember that the models are the logarithm of the density function $\\Psi(X)$ (so the phase network will appear with an imaginary unit and will be summed to the log of the modulus)"
   ],
   "metadata": {}
  },
  {
   "cell_type": "code",
   "execution_count": 46,
   "source": [
    "class FFNPhase(nn.Module):\n",
    "    \n",
    "    # You can define attributes at the module-level\n",
    "    # with a default. This allows you to easily change\n",
    "    # some hyper-parameter without redefining the whole \n",
    "    # flax module. This is the ratio of neurons to input dofs\n",
    "    alpha : int = 1\n",
    "            \n",
    "    @nn.compact\n",
    "    def __call__(self, x):\n",
    "\n",
    "        # here we construct the first dense layer for the modulus rho\n",
    "        dense_m = nk.nn.Dense(features=self.alpha * x.shape[-1], dtype=float, name=\"Modulus\")\n",
    "        # we apply the dense layer to the input\n",
    "        rho = dense_m(x)\n",
    "        # the non-linearity is a simple ReLu\n",
    "        rho = nn.relu(rho)\n",
    "\n",
    "        # repeat now for the phase\n",
    "        dense_p = nk.nn.Dense(features=self.alpha * x.shape[-1], dtype=float, name=\"Phase\")\n",
    "        # we apply the dense layer to the input\n",
    "        phase = dense_p(x)\n",
    "        # the non-linearity is a simple ReLu\n",
    "        phase = nn.relu(phase)\n",
    "        # sum the output\n",
    "        return jnp.sum(rho, axis=(-1)) + 1.0j*jnp.sum(phase, axis=(-1))"
   ],
   "outputs": [],
   "metadata": {}
  },
  {
   "cell_type": "code",
   "execution_count": 47,
   "source": [
    "# it is easy here to pass the hyper-parameter value\n",
    "model = FFNPhase(alpha=1)\n",
    "\n",
    "vstate = nk.vqs.MCState(sampler, model, n_samples=1000)"
   ],
   "outputs": [],
   "metadata": {}
  },
  {
   "cell_type": "code",
   "execution_count": 48,
   "source": [
    "print(f\"Number of parameters: {vstate.n_parameters}\")"
   ],
   "outputs": [
    {
     "output_type": "stream",
     "name": "stdout",
     "text": [
      "Number of parameters: 84\n"
     ]
    }
   ],
   "metadata": {}
  },
  {
   "cell_type": "markdown",
   "source": [
    "We then proceed to the optimization of the phase only. This is achieved the scheduling functionalities of  ```optax```, the optimization library that is fully compatible with `netket`. Notice that here we start with zero learning rate for the modulus and finite learning rate for the phase. "
   ],
   "metadata": {}
  },
  {
   "cell_type": "code",
   "execution_count": 49,
   "source": [
    "import optax,flax\n",
    "\n",
    "total_steps = 1000\n",
    "\n",
    "# A linear schedule varies the learning rate from 0 to 0.01 across n steps.\n",
    "modulus_schedule=optax.linear_schedule(0,0.01,total_steps)\n",
    "\n",
    "# The phase starts with a larger learning rate and then is decreased.\n",
    "phase_schedule=optax.linear_schedule(0.1,0.01,total_steps)\n",
    "\n",
    "# Combine the linear schedule with SGD\n",
    "optm=optax.sgd(modulus_schedule)\n",
    "optp=optax.sgd(phase_schedule)\n",
    "\n",
    "# The multi-transform optimizer uses different optimisers for different parts of the\n",
    "# parameters.\n",
    "optimizer = optax.multi_transform({'o1': optm, 'o2': optp}, \n",
    "                flax.core.freeze({\"Modulus\":\"o1\", \"Phase\":\"o2\"}))"
   ],
   "outputs": [],
   "metadata": {}
  },
  {
   "cell_type": "markdown",
   "source": [
    "This new optimizer can then be used as before in the MC driver:"
   ],
   "metadata": {}
  },
  {
   "cell_type": "code",
   "execution_count": 51,
   "source": [
    "gs = nk.driver.VMC(\n",
    "    H,\n",
    "    optimizer,\n",
    "    variational_state=vstate,\n",
    "    preconditioner=nk.optimizer.SR(diag_shift=0.1)\n",
    ")\n",
    "\n",
    "log = nk.logging.RuntimeLog()\n",
    "gs.run(n_iter=total_steps, out=log)"
   ],
   "outputs": [
    {
     "output_type": "stream",
     "name": "stderr",
     "text": [
      "100%|██████████| 1000/1000 [00:55<00:00, 17.95it/s, Energy=3.1766-0.0002j ± 0.0055 [σ²=0.0301, R̂=1.0261]]\n"
     ]
    },
    {
     "output_type": "execute_result",
     "data": {
      "text/plain": [
       "(<netket.logging.runtime_log.RuntimeLog at 0x12ee0a1f0>,)"
      ]
     },
     "metadata": {},
     "execution_count": 51
    }
   ],
   "metadata": {}
  },
  {
   "cell_type": "code",
   "execution_count": 52,
   "source": [
    "ffnp_energy=vstate.expect(H)\n",
    "error=abs((ffnp_energy.mean-eig_vals[0])/eig_vals[0])\n",
    "print(f\"Optimized energy: {ffnp_energy} \\nRelative error: {error*100:.2f}%\")"
   ],
   "outputs": [
    {
     "output_type": "stream",
     "name": "stdout",
     "text": [
      "Optimized energy: 3.1549-0.0001j ± 0.0026 [σ²=0.0071, R̂=1.0363] \n",
      "Relative error: 0.66%\n"
     ]
    }
   ],
   "metadata": {}
  },
  {
   "cell_type": "markdown",
   "source": [
    "Adding a phase does not seem to change the answer significantly, as we expected"
   ],
   "metadata": {}
  },
  {
   "cell_type": "markdown",
   "source": [
    "## 8. Autoregressive models\n",
    "\n",
    "In [this paper](https://arxiv.org/abs/2108.02942), an autoregressive flow model was used to parametrize the modulus of the wave function, while a fully-connected layer was used for the phase.\n",
    "The paper worked in a basis of coordinates for the matrices $X_I$ which is different from the basis of the Fock space we have chosen in this example.\n",
    "We do not expect to get the same results.\n",
    "\n",
    "Autoregressive models are included in `netket`, together with direct samplers for their conditional distributions (see [this link](https://www.netket.org/docs/_generated/models/netket.models.ARNNDense.html#netket-models-arnndense) for a fully-connected autoregressive model)"
   ],
   "metadata": {}
  },
  {
   "cell_type": "code",
   "execution_count": 58,
   "source": [
    "model = nk.models.ARNNDense(hilbert=hi, layers=3, features=10)\n",
    "\n",
    "# the autoregressive model has an exact sampler because of the conditional prob\n",
    "sampler = nk.sampler.ARDirectSampler(hi)\n",
    "\n",
    "# With direct sampling, we don't need many samples in each step to form a\n",
    "# Markov chain, and we don't need to discard samples\n",
    "vstate = nk.vqs.MCState(sampler, model, n_samples=64)"
   ],
   "outputs": [],
   "metadata": {}
  },
  {
   "cell_type": "code",
   "execution_count": 54,
   "source": [
    "print(f\"Number of parameters (ARNNDense): {vstate.n_parameters}\")"
   ],
   "outputs": [
    {
     "output_type": "stream",
     "name": "stdout",
     "text": [
      "Number of parameters (ARNNDense): 5544\n"
     ]
    }
   ],
   "metadata": {}
  },
  {
   "cell_type": "markdown",
   "source": [
    "Then we can call our driver as before"
   ],
   "metadata": {}
  },
  {
   "cell_type": "code",
   "execution_count": 61,
   "source": [
    "optimizer = nk.optimizer.Sgd(learning_rate=0.1)\n",
    "preconditioner = nk.optimizer.SR(diag_shift=0.1)\n",
    "\n",
    "# Notice the use, again of Stochastic Reconfiguration, which considerably improves the optimisation\n",
    "gs = nk.driver.VMC(H, optimizer, variational_state=vstate, preconditioner=preconditioner)\n",
    "\n",
    "# logging and running\n",
    "log=nk.logging.RuntimeLog()\n",
    "gs.run(n_iter=1000,out=log)\n",
    "\n",
    "arnn_energy=vstate.expect(H)\n",
    "error=abs((arnn_energy.mean-eig_vals[0])/eig_vals[0])\n",
    "print(f\"Optimized energy: {arnn_energy} \\nRelative error: {error*100:.2f}%\")"
   ],
   "outputs": [
    {
     "output_type": "stream",
     "name": "stderr",
     "text": [
      "100%|██████████| 1000/1000 [03:04<00:00,  5.43it/s, Energy=3.150e+00 ± 9.791e-17 [σ²=9.664e-30, R̂=1.0056]]\n"
     ]
    },
    {
     "output_type": "stream",
     "name": "stdout",
     "text": [
      "Optimized energy: 3.150e+00 ± 9.791e-17 [σ²=9.664e-30, R̂=1.0056] \n",
      "Relative error: 0.51%\n"
     ]
    }
   ],
   "metadata": {}
  },
  {
   "cell_type": "markdown",
   "source": [
    "## 9. Measuring Other Properties\n",
    "\n",
    "Once the model has been optimized, we can of course measure also other observables that are not the energy. For example, we could measure the generators of the gauge transformations.\n",
    "\n",
    "We could also use a larger number of samples to have a sufficiently low error bar on their measurement, by changing `vstate.n_samples` on the fly."
   ],
   "metadata": {}
  },
  {
   "cell_type": "markdown",
   "source": [
    "The Casimir operator for the gauge group is defined using a combination of $\\hat{a}^\\dagger_I$ and $\\hat{a}_I$ for each boson. We are assuming that sites 0, 1, and 2 are for the 3 gauge dof of one matrix and site 3, 4, and 5 are for the other matrix. Given this assignment we can write\n",
    "\n",
    "$$ \\hat{G}_{\\alpha}=i \\sum_{\\beta, \\gamma, I} f_{\\alpha \\beta \\gamma} \\hat{a}_{I \\beta}^{\\dagger} \\hat{a}_{I \\gamma} $$"
   ],
   "metadata": {}
  },
  {
   "cell_type": "code",
   "execution_count": 56,
   "source": [
    "g_list = [0] * 3\n",
    "g_list[0] = 1j * (\n",
    "    create(hi,1) * destroy(hi,2)\n",
    "    - create(hi,2) * destroy(hi,1)\n",
    "    + create(hi,4) * destroy(hi,5)\n",
    "    - create(hi,5) * destroy(hi,4)\n",
    ")\n",
    "g_list[1] = 1j * (\n",
    "    create(hi,2) * destroy(hi,0)\n",
    "    - create(hi,0) * destroy(hi,2)\n",
    "    + create(hi,5) * destroy(hi,3)\n",
    "    - create(hi,3) * destroy(hi,5)\n",
    ")\n",
    "g_list[2] = 1j * (\n",
    "    create(hi,0) * destroy(hi,1)\n",
    "    - create(hi,1) * destroy(hi,0)\n",
    "    + create(hi,3) * destroy(hi,4)\n",
    "    - create(hi,4) * destroy(hi,3)\n",
    ")\n",
    "G = sum([g * g for g in g_list])"
   ],
   "outputs": [],
   "metadata": {}
  },
  {
   "cell_type": "markdown",
   "source": [
    "We can sample 1000 times to get a more accurate result. We expect to find zero if the ground state is gauge invariant"
   ],
   "metadata": {}
  },
  {
   "cell_type": "code",
   "execution_count": 62,
   "source": [
    "vstate.n_samples = 1000\n",
    "vstate.expect(G)"
   ],
   "outputs": [
    {
     "output_type": "execute_result",
     "data": {
      "text/plain": [
       "0.000e+00+0.000e+00j ± nan [σ²=0.000e+00]"
      ]
     },
     "metadata": {},
     "execution_count": 62
    }
   ],
   "metadata": {}
  }
 ],
 "metadata": {
  "kernelspec": {
   "name": "python3",
   "display_name": "Python 3.9.6 64-bit ('netket': conda)"
  },
  "language_info": {
   "codemirror_mode": {
    "name": "ipython",
    "version": 3
   },
   "file_extension": ".py",
   "mimetype": "text/x-python",
   "name": "python",
   "nbconvert_exporter": "python",
   "pygments_lexer": "ipython3",
   "version": "3.9.6"
  },
  "interpreter": {
   "hash": "0599e152f67f5209f88bec1e9797953ea74f097c38416a644f6f08df38717728"
  }
 },
 "nbformat": 4,
 "nbformat_minor": 5
}