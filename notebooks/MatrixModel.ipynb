{
 "cells": [
  {
   "cell_type": "markdown",
   "source": [
    "# Ground-State Variational Search with NetKet for a Bosonic Matrix Model\n",
    "\n",
    "September 1, 2021 \n",
    "\n",
    "In this Tutorial we will use the open-source package [NetKet](https://www.netket.org/) to find the ground state (in a variational sense) of a quantum mechanical system of matrices.\n",
    "This system is referred to as a bosonic matrix model and was studied in [this preprint](https://arxiv.org/abs/2108.02942). \n",
    "\n",
    "Specifically, we will study the system defined by the Hamiltonian: \n",
    "\n",
    "$$ \\hat{H} = {\\rm Tr}\\left(\\frac{1}{2}\\hat{P}_I^2+\\frac{m^2}{2}\\hat{X}_I^2-\\frac{g^2}{4}[\\hat{X}_I,\\hat{X}_J]^2\\right) $$\n",
    "\n",
    "where \n",
    "$$\\hat{P}_I=\\sum_{\\alpha=1}^{N^2-1}\\hat{P}_I^\\alpha\\tau_\\alpha$$\n",
    "\n",
    "and\n",
    "\n",
    "$$\\hat{X}_I=\\sum_{\\alpha=1}^{N^2-1}\\hat{X}_I^\\alpha\\tau_\\alpha$$\n",
    "\n",
    "for a SU(N) gauge group with $N^2-1$ generators."
   ],
   "metadata": {}
  },
  {
   "cell_type": "markdown",
   "source": [
    "## 0. Installing Netket \n",
    "\n",
    "Installing NetKet is relatively straightforward. For this Tutorial, if you are running it locally on your machine, we recommend that you create a clean virtual environment (e.g. with `conda`) and install NetKet within (using `pip`): \n",
    "\n",
    "```bash\n",
    "conda create --name netket python pip ipython\n",
    "conda activate netket\n",
    "pip install --upgrade netket\n",
    "```\n",
    "\n",
    "**If you are on Google Colab**, run the following cell to install the required packages."
   ],
   "metadata": {}
  },
  {
   "cell_type": "code",
   "execution_count": null,
   "source": [
    "#!pip install --upgrade netket"
   ],
   "outputs": [],
   "metadata": {}
  },
  {
   "cell_type": "markdown",
   "source": [
    "You can check that the installation was succesfull doing "
   ],
   "metadata": {}
  },
  {
   "cell_type": "code",
   "execution_count": 1,
   "source": [
    "import netket as nk"
   ],
   "outputs": [],
   "metadata": {}
  },
  {
   "cell_type": "markdown",
   "source": [
    "You should also check that your version of netket is at least 3.0"
   ],
   "metadata": {}
  },
  {
   "cell_type": "code",
   "execution_count": 2,
   "source": [
    "print(f\"NetKet version: {nk.__version__}\")"
   ],
   "outputs": [
    {
     "output_type": "stream",
     "name": "stdout",
     "text": [
      "NetKet version: 3.0.3\n"
     ]
    }
   ],
   "metadata": {}
  },
  {
   "cell_type": "code",
   "execution_count": 3,
   "source": [
    "import numpy as np\n",
    "import matplotlib.pyplot as plt"
   ],
   "outputs": [],
   "metadata": {}
  },
  {
   "cell_type": "markdown",
   "source": [
    "## 1. Defining The Hamiltonian\n",
    "\n",
    "The first step in our journey consists in defining the Hamiltonian we are interested in. \n",
    "For this purpose, we first need to define the kind of degrees of freedom we are dealing with (i.e. if we have spins, bosons, fermions etc). This is done specifying the Hilbert space of the problem.\n",
    "\n",
    "For our problem we focus on the gauge group SU(2), which will determine the total number of bosons to be $N^2-1 = 3$ for each matrix. We will focus on 2 matrices, for a total of 6 bosonic degrees of freedom.\n",
    "\n",
    "We also need to decide a cutoff for the Fock space of each boson $\\Lambda$."
   ],
   "metadata": {}
  },
  {
   "cell_type": "markdown",
   "source": [
    "### 1.1 The Hilbert space"
   ],
   "metadata": {}
  },
  {
   "cell_type": "code",
   "execution_count": 4,
   "source": [
    "Lambda = 4  # cutoff of each bosonic Fock space\n",
    "N = 6  # number of bosons \n",
    "\n",
    "hi = nk.hilbert.Fock(n_max=Lambda-1, N=N)  # n_max -> Maximum occupation for a site (inclusive)"
   ],
   "outputs": [],
   "metadata": {}
  },
  {
   "cell_type": "markdown",
   "source": [
    "Test if the space is constructed as we expected.\n",
    "We want each of the $N$ bosons to have up to $\\Lambda$ excitations: the total Hilbert space is the tensor product of $N$ individual Fock spaces of dimension $\\Lambda$ for a total size of $\\Lambda^N = 4^6 = 4096$."
   ],
   "metadata": {}
  },
  {
   "cell_type": "code",
   "execution_count": 5,
   "source": [
    "# The size of the hilbert space on every site.\n",
    "hi.shape"
   ],
   "outputs": [
    {
     "output_type": "execute_result",
     "data": {
      "text/plain": [
       "(4, 4, 4, 4, 4, 4)"
      ]
     },
     "metadata": {},
     "execution_count": 5
    }
   ],
   "metadata": {}
  },
  {
   "cell_type": "code",
   "execution_count": 6,
   "source": [
    "# The total number number of degrees of freedom.\n",
    "hi.size"
   ],
   "outputs": [
    {
     "output_type": "execute_result",
     "data": {
      "text/plain": [
       "6"
      ]
     },
     "metadata": {},
     "execution_count": 6
    }
   ],
   "metadata": {}
  },
  {
   "cell_type": "code",
   "execution_count": 7,
   "source": [
    "# The total dimension of the many-body Hilbert space\n",
    "hi.n_states"
   ],
   "outputs": [
    {
     "output_type": "execute_result",
     "data": {
      "text/plain": [
       "4096"
      ]
     },
     "metadata": {},
     "execution_count": 7
    }
   ],
   "metadata": {}
  },
  {
   "cell_type": "markdown",
   "source": [
    "We have checked that all the dimensions correspond to our expectations. We can think of this as the Hilbert state of a mnay-body system with $N$ sites of bosons, each with excitations up to level $\\Lambda$ (inclusive, starting from 0 to $\\Lambda-1$)."
   ],
   "metadata": {}
  },
  {
   "cell_type": "markdown",
   "source": [
    "### 1.2 The free Hamiltonian\n",
    "\n",
    "We now need to specify the Hamiltonian.\n",
    "We will use some predefined operators for bosons, such as the `create` and `destroy` operators for each boson in the Hilber state (see the API documentation [here](https://www.netket.org/docs/api.html#pre-defined-operators)).\n",
    "\n",
    "In this specifc case, $\\hat{a}^\\dagger_I$ for each boson $I$ (we can regard this index as a _site_ index in `netket`).\n",
    "\n"
   ],
   "metadata": {}
  },
  {
   "cell_type": "code",
   "execution_count": 5,
   "source": [
    "from netket.operator.boson import create, destroy"
   ],
   "outputs": [],
   "metadata": {}
  },
  {
   "cell_type": "markdown",
   "source": [
    "We now start by defining the free part of the Hamiltonian, which is just a collection of harmonic oscillators\n"
   ],
   "metadata": {}
  },
  {
   "cell_type": "code",
   "execution_count": 6,
   "source": [
    "# we loop over all \"sites\" -> loop over N bosons\n",
    "H_free = sum([0.5+create(hi,i)*destroy(hi,i) for i in range(N)])"
   ],
   "outputs": [],
   "metadata": {}
  },
  {
   "cell_type": "markdown",
   "source": [
    "Here we have used a list comprehension to (mildly) show off our ability to write one-liners, however you could have just added the terms one by one in an explicit loop instead (though you'd end up with a whopping 3 lines of code). \n",
    "\n",
    "We have also used the fact that NetKet automatically recognizes products of local operators as tensor products and the addition of scalars as if they were multiplied by the identity matrix in the tensor space."
   ],
   "metadata": {}
  },
  {
   "cell_type": "markdown",
   "source": [
    "In general, when manipulating NetKet objects, you should always assume that you can safely operate on them like \n",
    "you would in mathematical equations, therefore you can sum and multiply them with ease."
   ],
   "metadata": {}
  },
  {
   "cell_type": "markdown",
   "source": [
    "### 1.3 Exact Diagonalization\n",
    "\n",
    "Let us check this free Hamiltonian, whose eigenvectors are analytically known: the ground state has vacuum energy for $N$ independent harmonic oscillators: $0.5N = 0.5 \\cdot 6 = 3$ "
   ],
   "metadata": {}
  },
  {
   "cell_type": "markdown",
   "source": [
    "In `netket` we can  convert our Hamiltonian operator into a sparse matrix of size $ $\\Lambda^N \\times \\Lambda^N $. "
   ],
   "metadata": {}
  },
  {
   "cell_type": "code",
   "execution_count": 10,
   "source": [
    "sp_h=H_free.to_sparse()\n",
    "sp_h.shape"
   ],
   "outputs": [
    {
     "output_type": "execute_result",
     "data": {
      "text/plain": [
       "(4096, 4096)"
      ]
     },
     "metadata": {},
     "execution_count": 10
    }
   ],
   "metadata": {}
  },
  {
   "cell_type": "markdown",
   "source": [
    "Since this is just a regular scipy sparse matrix, we can just use any sparse diagonalization routine in there to find the eigenstates. For example, this will find the two lowest eigenstates  "
   ],
   "metadata": {}
  },
  {
   "cell_type": "code",
   "execution_count": 11,
   "source": [
    "from scipy.sparse.linalg import eigsh\n",
    "\n",
    "eig_vals, eig_vecs = eigsh(sp_h, k=7, which=\"SA\")\n",
    "\n",
    "print(f\"Eigenvalues with scipy.sparse.linalg.eigsh: {eig_vals}\")\n"
   ],
   "outputs": [
    {
     "output_type": "stream",
     "name": "stdout",
     "text": [
      "Eigenvalues with scipy.sparse.linalg.eigsh: [3. 4. 4. 4. 4. 4. 4.]\n"
     ]
    }
   ],
   "metadata": {}
  },
  {
   "cell_type": "markdown",
   "source": [
    "These are the expected eigenvalues with the correct degeneracy: the first excited state is repeated $N$ times, and so forth."
   ],
   "metadata": {}
  },
  {
   "cell_type": "markdown",
   "source": [
    "*Note*: `netket` also provide a wrapper for `eigsh` in the form of a Lanczos [exact solver](https://www.netket.org/docs/_generated/exact/netket.exact.lanczos_ed.html#netket.exact.lanczos_ed)."
   ],
   "metadata": {}
  },
  {
   "cell_type": "code",
   "execution_count": 12,
   "source": [
    "eig_vals = nk.exact.lanczos_ed(H_free, k=13, compute_eigenvectors=False)  # args to scipy.sparse.linalg.eighs like can be passed with scipy_args={'tol':1e-8}\n",
    "print(f\"Eigenvalues with exact lanczos (sparse): {eig_vals}\")"
   ],
   "outputs": [
    {
     "output_type": "stream",
     "name": "stdout",
     "text": [
      "Eigenvalues with exact lanczos (sparse): [3. 4. 4. 4. 4. 4. 4. 5. 5. 5. 5. 5. 5.]\n"
     ]
    }
   ],
   "metadata": {}
  },
  {
   "cell_type": "markdown",
   "source": [
    "*Note*: a full (dense) exact diagonalization can also be done for small systems using [this exact solver](https://www.netket.org/docs/_generated/exact/netket.exact.full_ed.html#netket.exact.full_ed)"
   ],
   "metadata": {}
  },
  {
   "cell_type": "code",
   "execution_count": 13,
   "source": [
    "eig_vals = nk.exact.full_ed(H_free, compute_eigenvectors=False)\n",
    "print(f\"Eigenvalues with exact diag (dense): {eig_vals}\\nNumber of eigs: {eig_vals.shape[0]}\")"
   ],
   "outputs": [
    {
     "output_type": "stream",
     "name": "stdout",
     "text": [
      "Eigenvalues with exact diag (dense): [ 3.  4.  4. ... 20. 20. 21.]\n",
      "Number of eigs: 4096\n"
     ]
    }
   ],
   "metadata": {}
  },
  {
   "cell_type": "markdown",
   "source": [
    "### 1.4 The interaction Hamiltonian\n",
    "\n",
    "We can now continue building our full Hamiltonian by writing the interaction term.\n",
    "It is convenient to write the interaction using the `position` operators built from the creation and annihilation bosonic operators\n",
    "\n",
    "$$\\hat{x}_I = \\frac{1}{\\sqrt{2}} \\left( \\hat{a}^\\dagger_I + \\hat{a}_I \\right)$$\n"
   ],
   "metadata": {}
  },
  {
   "cell_type": "code",
   "execution_count": 7,
   "source": [
    "x_list = [(1 / np.sqrt(2))*(create(hi,i)+destroy(hi,i)) for i in range(N)]"
   ],
   "outputs": [],
   "metadata": {}
  },
  {
   "cell_type": "markdown",
   "source": [
    "The interactoin terms can be written using the Levi-Civita completely antisymmetric tensor with 3 indices or by writing out all the terms by hand:"
   ],
   "metadata": {}
  },
  {
   "cell_type": "code",
   "execution_count": 8,
   "source": [
    "### Quartic Interaction for bosons\n",
    "V_b = (\n",
    "    x_list[2] * x_list[2] * x_list[3] * x_list[3]\n",
    "    + x_list[2] * x_list[2] * x_list[4] * x_list[4]\n",
    "    + x_list[1] * x_list[1] * x_list[3] * x_list[3]\n",
    "    + x_list[1] * x_list[1] * x_list[5] * x_list[5]\n",
    "    + x_list[0] * x_list[0] * x_list[4] * x_list[4]\n",
    "    + x_list[0] * x_list[0] * x_list[5] * x_list[5]\n",
    "    - 2 * x_list[0] * x_list[2] * x_list[3] * x_list[5]\n",
    "    - 2 * x_list[0] * x_list[1] * x_list[3] * x_list[4]\n",
    "    - 2 * x_list[1] * x_list[2] * x_list[4] * x_list[5]\n",
    ")"
   ],
   "outputs": [],
   "metadata": {}
  },
  {
   "cell_type": "markdown",
   "source": [
    "And the full Hamiltonian with 't Hooft coupling $\\lambda = g^2 N_g$ (where $N_g$ is the gauge group number of colors) is"
   ],
   "metadata": {}
  },
  {
   "cell_type": "code",
   "execution_count": 9,
   "source": [
    "g2N = 0.2  # 't Hooft coupling lambda\n",
    "H = H_free + (g2N / 2) * V_b"
   ],
   "outputs": [],
   "metadata": {}
  },
  {
   "cell_type": "markdown",
   "source": [
    "## 2. Exact Diagonalization\n",
    "\n",
    "We can repeat for the full Hamiltonian at fixed gauge coupling $g^2N_g$ the exact diagonalization procedure we have used on the free Hamiltonian.\n",
    "\n",
    "When the gauge coupling constant is small, the difference of the energy of the ground state with the free case $g=0$ will be small."
   ],
   "metadata": {}
  },
  {
   "cell_type": "code",
   "execution_count": 17,
   "source": [
    "w = nk.exact.full_ed(H, compute_eigenvectors=False)\n",
    "print(f\"Eigenvalues with exact diag (dense): {w}\\nNumber of eigs: {w.shape[0]}\")"
   ],
   "outputs": [
    {
     "output_type": "stream",
     "name": "stdout",
     "text": [
      "Eigenvalues with exact diag (dense): [ 3.13406307  4.21516634  4.21516634 ... 22.94954115 22.94954115\n",
      " 23.42952917]\n",
      "Number of eigs: 4096\n"
     ]
    }
   ],
   "metadata": {}
  },
  {
   "cell_type": "markdown",
   "source": [
    "Or we can use the Lanczos solver and only approximately retrieve the lowest $k$ eigenvalues (this is much much quicker)"
   ],
   "metadata": {}
  },
  {
   "cell_type": "code",
   "execution_count": 10,
   "source": [
    "eig_vals = nk.exact.lanczos_ed(H, k=4, compute_eigenvectors=False, scipy_args={'tol':1e-8})\n",
    "print(f\"Eigenvalues with exact lanczos (sparse): {eig_vals}\")"
   ],
   "outputs": [
    {
     "output_type": "stream",
     "name": "stdout",
     "text": [
      "Eigenvalues with exact lanczos (sparse): [3.13406307 4.21516634 4.21516634 4.21516634]\n"
     ]
    }
   ],
   "metadata": {}
  },
  {
   "cell_type": "markdown",
   "source": [
    "## 3. Mean-Field Ansatz\n",
    "\n",
    "We now would like to find a variational approximation of the ground state of this Hamiltonian. As a first step, we can try to use a very simple mean field ansatz: \n",
    "\n",
    "$$ \\langle X_1,\\dots X_N| \\Psi_{\\mathrm{mf}} \\rangle = \\Pi_{i=1}^{N} \\Phi(X_i), $$\n",
    "\n",
    "where the variational parameters are individual boson's wave functions $\\Phi(X_i)$. This is probably a bad ansatz, but it will show how the variational Monte Carlo procedure works in `netket`\n",
    "\n",
    "We can further write $ \\Phi(X) = \\sqrt{P(X)}e^{i \\phi(X)}$.\n",
    "\n",
    "In order to simplify the presentation, we take here and in the following examples the phase $\\phi=0$.\n",
    "\n",
    "For the normalized single-boson probability we will take a sigmoid form: \n",
    "\n",
    "$$P(X; \\gamma) = 1/(1 + e^{-\\gamma X})$$\n",
    "thus depending on the real-valued variational parameter $\\gamma$. "
   ],
   "metadata": {}
  },
  {
   "cell_type": "markdown",
   "source": [
    "In `netket` one has to define a variational function approximating the **logarithm** of the wave-function amplitudes (or density-matrix values).\n",
    "\n",
    "$$ \\langle X_1,\\dots X_N| \\Psi_{\\mathrm{mf}} \\rangle = \\exp{(\\textrm{Model}(X; \\theta))} $$\n",
    "\n",
    "where $\\theta$ is a set of parameters.\n",
    "\n",
    "In this case, the parameter of the model will be just one: $\\gamma$.\n",
    "\n",
    "The Model can be defined using one of the several functional jax frameworks such as Jax/Stax, Flax or Haiku. NetKet includes several pre-built models and layers built with Flax, so we will be using it for the rest of the notebook."
   ],
   "metadata": {}
  },
  {
   "cell_type": "code",
   "execution_count": 11,
   "source": [
    "# numerical operations in the model should always use jax.numpy \n",
    "# instead of numpy because jax supports computing derivatives. \n",
    "# If you want to better understand the difference between the two, check\n",
    "# https://flax.readthedocs.io/en/latest/notebooks/jax_for_the_impatient.html\n",
    "import jax.numpy as jnp\n",
    "\n",
    "# Flax is a framework to define models using jax\n",
    "import flax\n",
    "# we refer to `flax.linen` as `nn`. It's a repository of \n",
    "# layers, initializers and nonlinear functions.\n",
    "import flax.linen as nn\n",
    "\n",
    "# A Flax model must be a class subclassing `nn.Module`\n",
    "class MF(nn.Module):\n",
    "    \n",
    "    # The most compact way to define the model is this.\n",
    "    # The __call__(self, x) function should take as \n",
    "    # input a batch of states x.shape = (n_samples, L)\n",
    "    # and should return a vector of n_samples log-amplitudes\n",
    "    @nn.compact\n",
    "    def __call__(self, x):\n",
    "        \n",
    "        # A tensor of variational parameters is defined by calling\n",
    "        # the method `self.param` where the arguments will be:\n",
    "        # - arbitrary name used to refer to this set of parameters\n",
    "        # - an initializer used to provide the initial values. \n",
    "        # - The shape of the tensor\n",
    "        # - The dtype of the tensor.\n",
    "        gam = self.param(\n",
    "            \"gamma\", nn.initializers.normal(), (1,), float\n",
    "        )\n",
    "        \n",
    "        # compute the probabilities\n",
    "        p = nn.log_sigmoid(gam*x)\n",
    "\n",
    "        # sum the output\n",
    "        return 0.5 * jnp.sum(p, axis=-1)"
   ],
   "outputs": [],
   "metadata": {}
  },
  {
   "cell_type": "markdown",
   "source": [
    "### 3.1 Variational State\n",
    "\n",
    "The model itself is only a set of instructions on how to initialise the parameters and how to compute the result. \n",
    "\n",
    "To actually create a **variational state** with its parameters, the easiest way is to construct a Monte-Carlo-sampled Variational State. \n",
    "\n",
    "To do this, we first need to define a sampler.\n",
    "\n",
    "In [`netket.sampler`](https://www.netket.org/docs/api.html#list-of-samplers) several samplers are defined, each with its own peculiarities.\n",
    "\n",
    "In the following example, we will be using a simple sampler that chooses the occupation number of each boson at random (uniform between 0 and $\\Lambda-1$) one by one.\n",
    "\n",
    "You can read more about how the sampler works by checking the documentation with `?nk.sampler.MetropolisLocal`"
   ],
   "metadata": {}
  },
  {
   "cell_type": "code",
   "execution_count": 12,
   "source": [
    "# Create an instance of the model.\n",
    "# Notice that this does not create the parameters.\n",
    "mf_model = MF()\n",
    "\n",
    "# Create the local sampler on the hilbert space (by default is uses 16 chains)\n",
    "sampler = nk.sampler.MetropolisLocal(hi)\n",
    "\n",
    "# Construct the variational state using the model and the sampler above.\n",
    "# n_samples specifies how many samples should be used to compute expectation\n",
    "# values.\n",
    "vstate = nk.vqs.MCState(sampler, mf_model, n_samples=500)\n"
   ],
   "outputs": [
    {
     "output_type": "stream",
     "name": "stderr",
     "text": [
      "WARNING:absl:No GPU/TPU found, falling back to CPU. (Set TF_CPP_MIN_LOG_LEVEL=0 and rerun for more info.)\n"
     ]
    }
   ],
   "metadata": {}
  },
  {
   "cell_type": "code",
   "execution_count": 55,
   "source": [
    "vstate.sampler"
   ],
   "outputs": [
    {
     "output_type": "execute_result",
     "data": {
      "text/plain": [
       "MetropolisSampler(\n",
       "  hilbert = Fock(n_max=3, N=6),\n",
       "  rule = LocalRule(),\n",
       "  n_chains = 16,\n",
       "  machine_power = 2,\n",
       "  reset_chains = False,\n",
       "  n_sweeps = 6,\n",
       "  dtype = <class 'numpy.float64'>)"
      ]
     },
     "metadata": {},
     "execution_count": 55
    }
   ],
   "metadata": {}
  },
  {
   "cell_type": "markdown",
   "source": [
    "You can play around with the variational state: for example, you can compute expectation values yourself or inspect it's parameters"
   ],
   "metadata": {}
  },
  {
   "cell_type": "code",
   "execution_count": 21,
   "source": [
    "# you can inspect the parameters which contain the single\n",
    "# variational parameter `gamma`\n",
    "print(vstate.parameters)"
   ],
   "outputs": [
    {
     "output_type": "stream",
     "name": "stdout",
     "text": [
      "FrozenDict({\n",
      "    gamma: DeviceArray([0.00812462], dtype=float64),\n",
      "})\n"
     ]
    }
   ],
   "metadata": {}
  },
  {
   "cell_type": "code",
   "execution_count": 22,
   "source": [
    "# Expectation value: notice that it also provides an error estimate.\n",
    "print(vstate.expect(H))"
   ],
   "outputs": [
    {
     "output_type": "stream",
     "name": "stdout",
     "text": [
      "13.08 ± 0.13 [σ²=8.70, R̂=1.0048]\n"
     ]
    }
   ],
   "metadata": {}
  },
  {
   "cell_type": "markdown",
   "source": [
    "The last cell was run with a randomly initialized parameter $\\gamma$ and for 500 samples (notice the metrics for the convergence of the Monte Carlo algorithm in square brackets). The output is $<O>= <\\Psi|O|\\Psi>/<\\Psi|\\Psi>$ for $O=\\hat{H}$"
   ],
   "metadata": {}
  },
  {
   "cell_type": "markdown",
   "source": [
    "## 4. Variational Monte Carlo"
   ],
   "metadata": {}
  },
  {
   "cell_type": "markdown",
   "source": [
    "We will now try to optimise $ \\gamma $ in order to best approximate the ground state of the hamiltonian.\n",
    "\n",
    "To do so, first I need to pick an iterative optimiser. We choose stochastic gradient descent with a learning\n",
    "rate of $0.05$.\n",
    "Then, we must provide all the elements to the variational monte carlo driver, which takes case of setting up and running the whole optimisation.\n",
    "\n",
    "For example, the driver can be run for a specific number of iterations. Each iteration will have to run the Monte Carlo sampling defined by the variational state `nk.vqs.MCState`."
   ],
   "metadata": {}
  },
  {
   "cell_type": "code",
   "execution_count": 13,
   "source": [
    "optimizer = nk.optimizer.Sgd(learning_rate=0.05)\n",
    "\n",
    "# build the optimisation driver\n",
    "gs = nk.driver.VMC(H, optimizer, variational_state=vstate)\n",
    "\n",
    "# run the driver for 300 iterations. This will display a progress bar\n",
    "# by default.\n",
    "gs.run(n_iter=300)\n",
    "\n",
    "# expectation value of the energy\n",
    "mf_energy = vstate.expect(H)\n",
    "# compare with the Lanczos exact diagonalization energy eigenvalue\n",
    "error = abs((mf_energy.mean - eig_vals[0]) / eig_vals[0])\n",
    "\n"
   ],
   "outputs": [
    {
     "output_type": "stream",
     "name": "stdout",
     "text": [
      "No output specified (out=[apath|nk.logging.JsonLogger(...)]).Running the optimization but not saving the output.\n"
     ]
    },
    {
     "output_type": "stream",
     "name": "stderr",
     "text": [
      "100%|██████████| 300/300 [00:04<00:00, 74.79it/s, Energy=3.268 ± 0.015 [σ²=0.110, R̂=1.0611]] \n"
     ]
    },
    {
     "output_type": "stream",
     "name": "stdout",
     "text": [
      "Optimized energy and relative error:  3.315 ± 0.018 [σ²=0.164, R̂=1.1140] 0.057682494216706855\n"
     ]
    }
   ],
   "metadata": {}
  },
  {
   "cell_type": "code",
   "execution_count": 14,
   "source": [
    "#  we can also inspect the parameter:\n",
    "print(\"Final optimized parameter: \", vstate.parameters[\"gamma\"])"
   ],
   "outputs": [
    {
     "output_type": "stream",
     "name": "stdout",
     "text": [
      "Final optimized parameter:  [-4.63541381]\n"
     ]
    }
   ],
   "metadata": {}
  },
  {
   "cell_type": "code",
   "execution_count": 15,
   "source": [
    "print(f\"Final optimized energy relative error (with mean-field ansatz): {error*100:.2f}%\")"
   ],
   "outputs": [
    {
     "output_type": "stream",
     "name": "stdout",
     "text": [
      "Final optimized energy relative error (with mean-field ansatz): 5.77%\n"
     ]
    }
   ],
   "metadata": {}
  },
  {
   "cell_type": "markdown",
   "source": [
    "Even a very rudimentary ansatz without interactions between the degrees of freedom is sufficient to reach a < 10% error on the ground state energy with a single parameter to optimize.\n",
    "\n",
    "We will see more complicated ansatzë below."
   ],
   "metadata": {}
  },
  {
   "cell_type": "markdown",
   "source": [
    "## 5. Jastrow Ansatz\n",
    "\n",
    "We have seen that the mean field ansatz yields a sub 10% error on the ground-state energy. Let's now try to do better, using a more correlated ansatz. \n",
    "\n",
    "We will now take a short-range Jastrow ansatz which is already inlcuded in `netket` as [`nk.models.Jastrow`](https://www.netket.org/docs/_generated/models/netket.models.Jastrow.html#netket.models.Jastrow):\n",
    "\n",
    "$$\\log{\\Psi(X)} = \\sum_{ij} X_i W_{ij} X_j$$\n",
    "\n",
    "where $W_{ij}$ is a symmetric matrix of learnable complex parameters (the _kernel_ of the quadratic form)."
   ],
   "metadata": {}
  },
  {
   "cell_type": "code",
   "execution_count": 53,
   "source": [
    "# change the model: initialize weights with normal distributions\n",
    "model = nk.models.Jastrow(kernel_init=nn.initializers.normal())\n",
    "\n",
    "# we use the same MetropolicLocal sapmler as before. Now we sample for longer to get a more accurate result\n",
    "vstate = nk.vqs.MCState(sampler, model, n_samples=1000)\n"
   ],
   "outputs": [],
   "metadata": {}
  },
  {
   "cell_type": "code",
   "execution_count": 43,
   "source": [
    "# number of parameters\n",
    "vstate.n_parameters"
   ],
   "outputs": [
    {
     "output_type": "execute_result",
     "data": {
      "text/plain": [
       "36"
      ]
     },
     "metadata": {},
     "execution_count": 43
    }
   ],
   "metadata": {}
  },
  {
   "cell_type": "code",
   "execution_count": 44,
   "source": [
    "# look at the parameters\n",
    "vstate.parameters"
   ],
   "outputs": [
    {
     "output_type": "execute_result",
     "data": {
      "text/plain": [
       "FrozenDict({\n",
       "    kernel: DeviceArray([[ 0.00300828+0.00437449j,  0.00035859+0.00966779j,\n",
       "                   0.00323684-0.00623613j, -0.00094063+0.0044653j ,\n",
       "                  -0.00961399+0.0033488j ,  0.00645835+0.0049005j ],\n",
       "                 [-0.00483521+0.00797528j,  0.00031534-0.00017236j,\n",
       "                   0.00956457-0.00427934j, -0.00170957-0.00488344j,\n",
       "                   0.00011237+0.01151915j,  0.00723263-0.00429235j],\n",
       "                 [ 0.00311971+0.00161008j, -0.00435278-0.01965019j,\n",
       "                  -0.00059983-0.00246288j,  0.00160126-0.00125839j,\n",
       "                   0.00906968+0.0009986j ,  0.0011105 -0.0044118j ],\n",
       "                 [ 0.00290478-0.02199919j,  0.00306831-0.00148636j,\n",
       "                   0.00395352+0.00625865j, -0.00225301-0.00820072j,\n",
       "                   0.00377009-0.00517756j, -0.00965418-0.00453425j],\n",
       "                 [-0.01370688+0.00525946j,  0.01142606+0.00597023j,\n",
       "                   0.0100192 -0.01331347j, -0.01087938-0.00544714j,\n",
       "                  -0.00866248+0.0006098j , -0.00934644+0.00221097j],\n",
       "                 [-0.00176785-0.00214778j, -0.00050849-0.0068381j ,\n",
       "                   0.00049603-0.00476948j,  0.00652288-0.00347572j,\n",
       "                   0.00190567-0.01575338j, -0.0004119 +0.00202919j]],            dtype=complex128),\n",
       "})"
      ]
     },
     "metadata": {},
     "execution_count": 44
    }
   ],
   "metadata": {}
  },
  {
   "cell_type": "markdown",
   "source": [
    "The sampler runs with a default number of chains (16 in this case) and will produce a total of `n_samples` (1000 in this case), so that we would have individual chains of 1000/16=62.5 (63) samples"
   ],
   "metadata": {}
  },
  {
   "cell_type": "code",
   "execution_count": 54,
   "source": [
    "vstate.sampler"
   ],
   "outputs": [
    {
     "output_type": "execute_result",
     "data": {
      "text/plain": [
       "MetropolisSampler(\n",
       "  hilbert = Fock(n_max=3, N=6),\n",
       "  rule = LocalRule(),\n",
       "  n_chains = 16,\n",
       "  machine_power = 2,\n",
       "  reset_chains = False,\n",
       "  n_sweeps = 6,\n",
       "  dtype = <class 'numpy.float64'>)"
      ]
     },
     "metadata": {},
     "execution_count": 54
    }
   ],
   "metadata": {}
  },
  {
   "cell_type": "code",
   "execution_count": 52,
   "source": [
    "vstate.chain_length"
   ],
   "outputs": [
    {
     "output_type": "execute_result",
     "data": {
      "text/plain": [
       "63"
      ]
     },
     "metadata": {},
     "execution_count": 52
    }
   ],
   "metadata": {}
  },
  {
   "cell_type": "markdown",
   "source": [
    "We then optimize it, however this time we also introduce a stochastic reconfiguration (natural gradient) preconditioner:"
   ],
   "metadata": {}
  },
  {
   "cell_type": "code",
   "execution_count": 42,
   "source": [
    "optimizer = nk.optimizer.Sgd(learning_rate=0.05)\n",
    "\n",
    "preconditioner = nk.optimizer.SR(diag_shift=0.1)\n",
    "\n",
    "# driver for running the simulation\n",
    "gs = nk.driver.VMC(H, optimizer, variational_state=vstate, preconditioner=preconditioner)"
   ],
   "outputs": [],
   "metadata": {}
  },
  {
   "cell_type": "markdown",
   "source": [
    "We now log the intermediate results of the optimization, so that we can visualize them at a later stage. "
   ],
   "metadata": {}
  },
  {
   "cell_type": "code",
   "execution_count": 18,
   "source": [
    "# Loggers that work together with optimisation drivers are defined in nk.logging.\n",
    "# RuntimeLog keeps the metrics in memory, JsonLog stores them to a json file which can be read\n",
    "# as a dict, TensorBoardLog can be used to log to TensorBoard.\n",
    "log=nk.logging.RuntimeLog()\n",
    "\n",
    "# One or more logger objects must be passed to the keyword argument `out`.\n",
    "gs.run(n_iter=300, out=log)\n"
   ],
   "outputs": [
    {
     "output_type": "stream",
     "name": "stderr",
     "text": [
      "100%|██████████| 300/300 [00:06<00:00, 47.58it/s, Energy=3.1522+0.0000j ± 0.0015 [σ²=0.0024, R̂=1.0069]]\n"
     ]
    },
    {
     "output_type": "execute_result",
     "data": {
      "text/plain": [
       "(<netket.logging.runtime_log.RuntimeLog at 0x7f6f393ce2e0>,)"
      ]
     },
     "metadata": {},
     "execution_count": 18
    }
   ],
   "metadata": {}
  },
  {
   "cell_type": "code",
   "execution_count": 19,
   "source": [
    "print(f\"Final optimized kernel parameters: {vstate.parameters['kernel']}\\n\")\n",
    "jas_energy=vstate.expect(H)\n",
    "error=abs((jas_energy.mean-eig_vals[0])/eig_vals[0])\n",
    "print(f\"Optimized energy : {jas_energy}\")\n",
    "print(f\"relative error   : {error*100:.2f}%\")"
   ],
   "outputs": [
    {
     "output_type": "stream",
     "name": "stdout",
     "text": [
      "Final optimized kernel parameters: [[-1.6713909 +0.02505264j -0.07461179+0.0149096j  -0.06003669-0.00173867j\n",
      "  -0.02127435-0.00871416j -0.10590858-0.00149251j -0.11627626-0.00469955j]\n",
      " [-0.06300741+0.01344962j -1.68646253+0.00588831j -0.09247343+0.00339039j\n",
      "  -0.12916385+0.00124274j -0.04694896-0.01200041j -0.11106874-0.00636688j]\n",
      " [-0.06147037-0.01151296j -0.09396702+0.01268899j -1.65333656-0.00011762j\n",
      "  -0.1124733 +0.02000254j -0.12680733+0.00353842j -0.02175949-0.00040635j]\n",
      " [-0.02439107-0.00802884j -0.12222353-0.00685724j -0.11962499+0.01088529j\n",
      "  -1.68153006+0.00076012j -0.07837226+0.00208823j -0.08181033-0.0010096j ]\n",
      " [-0.10392338+0.00396576j -0.04014739-0.01664755j -0.1118963 +0.00502634j\n",
      "  -0.0771495 +0.00266047j -1.66937841+0.01833916j -0.08531986+0.00943535j]\n",
      " [-0.10342281+0.00622289j -0.11269272-0.00564292j -0.02490313-0.00181396j\n",
      "  -0.08204805+0.00373655j -0.08253583+0.00077778j -1.64425208-0.01400123j]]\n",
      "\n",
      "Optimized energy : 3.1533+0.0000j ± 0.0019 [σ²=0.0036, R̂=1.0143]\n",
      "relative error   : 0.61%\n"
     ]
    }
   ],
   "metadata": {}
  },
  {
   "cell_type": "markdown",
   "source": [
    "You can now see that this ansatz is almost one order of magnitude more accurate than the mean field! \n",
    "\n",
    "In order to visualize what happened during the optimization, we can use the data that has been stored by the logger. There are several available loggers in NetKet, here we have just used a simple one that stores the intermediate results as values in a dictionary. "
   ],
   "metadata": {}
  },
  {
   "cell_type": "code",
   "execution_count": 20,
   "source": [
    "data_jastrow = log.data\n",
    "print(data_jastrow)"
   ],
   "outputs": [
    {
     "output_type": "stream",
     "name": "stdout",
     "text": [
      "{'Energy': History(\n",
      "   keys  = ['Mean', 'Variance', 'Sigma', 'R_hat', 'TauCorr'], \n",
      "   iters = [0, 1, ... 298, 299] (300 steps),\n",
      ")}\n"
     ]
    }
   ],
   "metadata": {}
  },
  {
   "cell_type": "code",
   "execution_count": 21,
   "source": [
    "energy_history = data_jastrow[\"Energy\"].Mean.real\n",
    "energy_error_history = data_jastrow[\"Energy\"].Sigma.real"
   ],
   "outputs": [],
   "metadata": {}
  },
  {
   "cell_type": "markdown",
   "source": [
    "These report several intermediate quantities, that can be easily plotted. For example we can plot the value of the energy (with its error bar) at each optimization step.  "
   ],
   "metadata": {}
  },
  {
   "cell_type": "code",
   "execution_count": 25,
   "source": [
    "fig, ax = plt.subplots(figsize=(10,5))\n",
    "ax.errorbar(data_jastrow[\"Energy\"].iters, energy_history, yerr=energy_error_history, label=\"Jastrow\")\n",
    "ax.axhline([eig_vals[0]], xmin=0, xmax=300, color='black', label=\"Exact\")\n",
    "ax.legend()\n",
    "ax.set_xlabel('Iterations')\n",
    "ax.set_ylabel('Energy (Re)');"
   ],
   "outputs": [
    {
     "output_type": "display_data",
     "data": {
      "image/png": "[encoded data removed]",
      "text/plain": [
       "<Figure size 720x360 with 1 Axes>"
      ]
     },
     "metadata": {
      "needs_background": "light"
     }
    }
   ],
   "metadata": {
    "scrolled": true
   }
  },
  {
   "cell_type": "markdown",
   "source": [
    "You can also look at the MCMC chain properties"
   ],
   "metadata": {}
  },
  {
   "cell_type": "code",
   "execution_count": 23,
   "source": [
    "plt.plot(data_jastrow[\"Energy\"].R_hat)\n",
    "plt.ylabel(\"R_hat\")\n",
    "plt.xlabel(\"Iterations\")"
   ],
   "outputs": [
    {
     "output_type": "execute_result",
     "data": {
      "text/plain": [
       "Text(0.5, 0, 'Iterations')"
      ]
     },
     "metadata": {},
     "execution_count": 23
    },
    {
     "output_type": "display_data",
     "data": {
      "image/png": "[encoded data removed]",
      "text/plain": [
       "<Figure size 432x288 with 1 Axes>"
      ]
     },
     "metadata": {
      "needs_background": "light"
     }
    }
   ],
   "metadata": {}
  },
  {
   "cell_type": "markdown",
   "source": [
    "Some chains have `R_hat` larger than ones, which means they might not have converged within the 1000 samples that we had specified..."
   ],
   "metadata": {}
  },
  {
   "cell_type": "markdown",
   "source": [
    "* Each variational state can be sampled with an arbitraty number of chains, samples per chain and burnin steps (discarded samples) (see the [sampling](https://www.netket.org/docs/varstate.html#sampling) section of the documentation)\n",
    "* Each state can be written in the computational basis by calling the `to_array()` method (in this case we have 4096 elements in our basis, so we would get a 4096-dim vector)"
   ],
   "metadata": {}
  },
  {
   "cell_type": "code",
   "execution_count": 56,
   "source": [
    "vstate.samples.shape  # [chain_length, n_chains, n_sites]"
   ],
   "outputs": [
    {
     "output_type": "execute_result",
     "data": {
      "text/plain": [
       "(63, 16, 6)"
      ]
     },
     "metadata": {},
     "execution_count": 56
    }
   ],
   "metadata": {}
  },
  {
   "cell_type": "code",
   "execution_count": 60,
   "source": [
    "# boson sampling:\n",
    "plt.plot(vstate.samples[:,:,0].flatten(), '.', label=\"site 0\")\n",
    "plt.legend()"
   ],
   "outputs": [
    {
     "output_type": "execute_result",
     "data": {
      "text/plain": [
       "<matplotlib.legend.Legend at 0x7f6f1416a490>"
      ]
     },
     "metadata": {},
     "execution_count": 60
    },
    {
     "output_type": "display_data",
     "data": {
      "image/png": "[encoded data removed]",
      "text/plain": [
       "<Figure size 432x288 with 1 Axes>"
      ]
     },
     "metadata": {
      "needs_background": "light"
     }
    }
   ],
   "metadata": {}
  },
  {
   "cell_type": "code",
   "execution_count": 28,
   "source": [
    "vstate.to_array().shape"
   ],
   "outputs": [
    {
     "output_type": "execute_result",
     "data": {
      "text/plain": [
       "(4096,)"
      ]
     },
     "metadata": {},
     "execution_count": 28
    }
   ],
   "metadata": {}
  },
  {
   "cell_type": "code",
   "execution_count": 32,
   "source": [
    "plt.plot(vstate.to_array().real)\n",
    "plt.xlim([0,100])"
   ],
   "outputs": [
    {
     "output_type": "execute_result",
     "data": {
      "text/plain": [
       "(0.0, 100.0)"
      ]
     },
     "metadata": {},
     "execution_count": 32
    },
    {
     "output_type": "display_data",
     "data": {
      "image/png": "[encoded data removed]",
      "text/plain": [
       "<Figure size 432x288 with 1 Axes>"
      ]
     },
     "metadata": {
      "needs_background": "light"
     }
    }
   ],
   "metadata": {}
  },
  {
   "cell_type": "markdown",
   "source": [
    "## 6. Neural-Network Quantum State \n",
    "\n",
    "We now want to use a more sofisticated ansatz, based on a neural network representation of the wave function. At this point, this is quite straightforward, since we can again take advantage of automatic differentiation. \n",
    "\n",
    "Let us define a simple fully-connected feed-forward network with a ReLu activation function and a sum layer. "
   ],
   "metadata": {}
  },
  {
   "cell_type": "code",
   "execution_count": 61,
   "source": [
    "class FFN(nn.Module):\n",
    "    \n",
    "    # You can define attributes at the module-level\n",
    "    # with a default. This allows you to easily change\n",
    "    # some hyper-parameter without redefining the whole \n",
    "    # flax module. This is the ratio of neurons to input dofs\n",
    "    alpha : int = 1\n",
    "            \n",
    "    @nn.compact\n",
    "    def __call__(self, x):\n",
    "\n",
    "        # here we construct the first dense layer using a\n",
    "        # pre-built implementation in flax.\n",
    "        # features is the number of output nodes\n",
    "        # WARNING: Won't work with complex hamiltonians because\n",
    "        # of a bug in flax. Use nk.nn.Dense otherwise. \n",
    "        dense = nk.nn.Dense(features=self.alpha * x.shape[-1])\n",
    "        \n",
    "        # we apply the dense layer to the input\n",
    "        y = dense(x)\n",
    "\n",
    "        # the non-linearity is a simple ReLu\n",
    "        y = nn.relu(y)\n",
    "        \n",
    "        # sum the output\n",
    "        return jnp.sum(y, axis=-1)"
   ],
   "outputs": [],
   "metadata": {}
  },
  {
   "cell_type": "code",
   "execution_count": 62,
   "source": [
    "# it is easy here to pass the hyper-parameter value\n",
    "model = FFN(alpha=1)\n",
    "\n",
    "vstate = nk.vqs.MCState(sampler, model, n_samples=1000)"
   ],
   "outputs": [],
   "metadata": {}
  },
  {
   "cell_type": "markdown",
   "source": [
    "*Warning*: Flax has a bug with its layers, where they drop the imaginary part\n",
    "of complex numbers if the layer has real weights.\n",
    "If you try to work on more complex\n",
    "problems where you work with complex numbers you should rather use the equivalent \n",
    "`nk.nn.Dense` which contains a fix for this bug."
   ],
   "metadata": {}
  },
  {
   "cell_type": "markdown",
   "source": [
    "We then proceed to the optimization as before. "
   ],
   "metadata": {}
  },
  {
   "cell_type": "code",
   "execution_count": 63,
   "source": [
    "optimizer = nk.optimizer.Sgd(learning_rate=0.01)\n",
    "preconditioner = nk.optimizer.SR(diag_shift=0.1)\n",
    "\n",
    "# Notice the use, again of Stochastic Reconfiguration, which considerably improves the optimisation\n",
    "gs = nk.driver.VMC(\n",
    "    H, optimizer, variational_state=vstate, preconditioner=preconditioner\n",
    ")\n",
    "\n",
    "# logging and running\n",
    "log = nk.logging.RuntimeLog()\n",
    "gs.run(n_iter=3000, out=log)\n",
    "\n",
    "ffn_energy = vstate.expect(H)\n",
    "error = abs((ffn_energy.mean - eig_vals[0]) / eig_vals[0])\n",
    "print(f\"Optimized energy: {ffn_energy} \\nRelative error: {error*100:.2f}%\")\n"
   ],
   "outputs": [
    {
     "output_type": "stream",
     "name": "stderr",
     "text": [
      "100%|██████████| 3000/3000 [00:24<00:00, 124.74it/s, Energy=3.150e+00 ± 8.392e-17 [σ²=7.100e-30, R̂=1.0123]]\n"
     ]
    },
    {
     "output_type": "stream",
     "name": "stdout",
     "text": [
      "Optimized energy: 3.150e+00 ± 8.392e-17 [σ²=7.100e-30, R̂=1.0123] \n",
      "Relative error: 0.52%\n"
     ]
    }
   ],
   "metadata": {}
  },
  {
   "cell_type": "markdown",
   "source": [
    "The variance of the final answer is zero, indicating a possibly troublesome sampling. We can investigate by looking at the samples themselves"
   ],
   "metadata": {}
  },
  {
   "cell_type": "code",
   "execution_count": 67,
   "source": [
    "fig, ax = plt.subplots(ncols=N,figsize=(30,8))\n",
    "for i,axi in enumerate(ax):\n",
    "    axi.plot(vstate.samples[:,:,i].flatten(), '.', label=f\"site {i}\")\n",
    "    axi.legend()"
   ],
   "outputs": [
    {
     "output_type": "display_data",
     "data": {
      "image/png": "[encoded data removed]",
      "text/plain": [
       "<Figure size 2160x576 with 6 Axes>"
      ]
     },
     "metadata": {
      "needs_background": "light"
     }
    }
   ],
   "metadata": {}
  },
  {
   "cell_type": "code",
   "execution_count": 69,
   "source": [
    "plt.plot(vstate.to_array())"
   ],
   "outputs": [
    {
     "output_type": "execute_result",
     "data": {
      "text/plain": [
       "[<matplotlib.lines.Line2D at 0x7f6ed02ebac0>]"
      ]
     },
     "metadata": {},
     "execution_count": 69
    },
    {
     "output_type": "display_data",
     "data": {
      "image/png": "[encoded data removed]",
      "text/plain": [
       "<Figure size 432x288 with 1 Axes>"
      ]
     },
     "metadata": {
      "needs_background": "light"
     }
    }
   ],
   "metadata": {}
  },
  {
   "cell_type": "markdown",
   "source": [
    "And we can compare the results between the two different ansatze:"
   ],
   "metadata": {}
  },
  {
   "cell_type": "code",
   "execution_count": 37,
   "source": [
    "data_FFN = log.data\n",
    "\n",
    "fig, ax = plt.subplots(figsize=(10,5))\n",
    "ax.errorbar(data_jastrow[\"Energy\"].iters, data_jastrow[\"Energy\"].Mean.real, yerr=data_jastrow[\"Energy\"].Sigma, label=\"Jastrow\")\n",
    "ax.errorbar(data_FFN[\"Energy\"].iters, data_FFN[\"Energy\"].Mean.real, yerr=data_FFN[\"Energy\"].Sigma, label=\"FFN\")\n",
    "ax.axhline([eig_vals[0]], xmin=0, xmax=300, color='black', label=\"Exact\")\n",
    "ax.legend()\n",
    "\n",
    "ax.set_xlabel('Iterations')\n",
    "ax.set_ylabel('Energy (Re)')"
   ],
   "outputs": [
    {
     "output_type": "execute_result",
     "data": {
      "text/plain": [
       "Text(0, 0.5, 'Energy (Re)')"
      ]
     },
     "metadata": {},
     "execution_count": 37
    },
    {
     "output_type": "display_data",
     "data": {
      "image/png": "[encoded data removed]",
      "image/svg+xml": "<?xml version=\"1.0\" encoding=\"utf-8\" standalone=\"no\"?>\n<!DOCTYPE svg PUBLIC \"-//W3C//DTD SVG 1.1//EN\"\n  \"http://www.w3.org/Graphics/SVG/1.1/DTD/svg11.dtd\">\n<svg height=\"316.55625pt\" version=\"1.1\" viewBox=\"0 0 605.803125 316.55625\" width=\"605.803125pt\" xmlns=\"http://www.w3.org/2000/svg\" xmlns:xlink=\"http://www.w3.org/1999/xlink\">\n <metadata>\n  <rdf:RDF xmlns:cc=\"http://creativecommons.org/ns#\" xmlns:dc=\"http://purl.org/dc/elements/1.1/\" xmlns:rdf=\"http://www.w3.org/1999/02/22-rdf-syntax-ns#\">\n   <cc:Work>\n    <dc:type rdf:resource=\"http://purl.org/dc/dcmitype/StillImage\"/>\n    <dc:date>2021-09-02T17:54:56.902140</dc:date>\n    <dc:format>image/svg+xml</dc:format>\n    <dc:creator>\n     <cc:Agent>\n      <dc:title>Matplotlib v3.4.3, https://matplotlib.org/</dc:title>\n     </cc:Agent>\n    </dc:creator>\n   </cc:Work>\n  </rdf:RDF>\n </metadata>\n <defs>\n  <style type=\"text/css\">*{stroke-linecap:butt;stroke-linejoin:round;}</style>\n </defs>\n <g id=\"figure_1\">\n  <g id=\"patch_1\">\n   <path d=\"M 0 316.55625 \nL 605.803125 316.55625 \nL 605.803125 0 \nL 0 0 \nz\n\" style=\"fill:none;\"/>\n  </g>\n  <g id=\"axes_1\">\n   <g id=\"patch_2\">\n    <path d=\"M 40.603125 279 \nL 598.603125 279 \nL 598.603125 7.2 \nL 40.603125 7.2 \nz\n\" style=\"fill:#ffffff;\"/>\n   </g>\n   <g id=\"matplotlib.axis_1\">\n    <g id=\"xtick_1\">\n     <g id=\"line2d_1\">\n      <defs>\n       <path d=\"M 0 0 \nL 0 3.5 \n\" id=\"m01ca88fd90\" style=\"stroke:#000000;stroke-width:0.8;\"/>\n      </defs>\n      <g>\n       <use style=\"stroke:#000000;stroke-width:0.8;\" x=\"65.966761\" xlink:href=\"#m01ca88fd90\" y=\"279\"/>\n      </g>\n     </g>\n     <g id=\"text_1\">\n      <!-- 0 -->\n      <g transform=\"translate(62.785511 293.598437)scale(0.1 -0.1)\">\n       <defs>\n        <path d=\"M 2034 4250 \nQ 1547 4250 1301 3770 \nQ 1056 3291 1056 2328 \nQ 1056 1369 1301 889 \nQ 1547 409 2034 409 \nQ 2525 409 2770 889 \nQ 3016 1369 3016 2328 \nQ 3016 3291 2770 3770 \nQ 2525 4250 2034 4250 \nz\nM 2034 4750 \nQ 2819 4750 3233 4129 \nQ 3647 3509 3647 2328 \nQ 3647 1150 3233 529 \nQ 2819 -91 2034 -91 \nQ 1250 -91 836 529 \nQ 422 1150 422 2328 \nQ 422 3509 836 4129 \nQ 1250 4750 2034 4750 \nz\n\" id=\"DejaVuSans-30\" transform=\"scale(0.015625)\"/>\n       </defs>\n       <use xlink:href=\"#DejaVuSans-30\"/>\n      </g>\n     </g>\n    </g>\n    <g id=\"xtick_2\">\n     <g id=\"line2d_2\">\n      <g>\n       <use style=\"stroke:#000000;stroke-width:0.8;\" x=\"150.794977\" xlink:href=\"#m01ca88fd90\" y=\"279\"/>\n      </g>\n     </g>\n     <g id=\"text_2\">\n      <!-- 50 -->\n      <g transform=\"translate(144.432477 293.598437)scale(0.1 -0.1)\">\n       <defs>\n        <path d=\"M 691 4666 \nL 3169 4666 \nL 3169 4134 \nL 1269 4134 \nL 1269 2991 \nQ 1406 3038 1543 3061 \nQ 1681 3084 1819 3084 \nQ 2600 3084 3056 2656 \nQ 3513 2228 3513 1497 \nQ 3513 744 3044 326 \nQ 2575 -91 1722 -91 \nQ 1428 -91 1123 -41 \nQ 819 9 494 109 \nL 494 744 \nQ 775 591 1075 516 \nQ 1375 441 1709 441 \nQ 2250 441 2565 725 \nQ 2881 1009 2881 1497 \nQ 2881 1984 2565 2268 \nQ 2250 2553 1709 2553 \nQ 1456 2553 1204 2497 \nQ 953 2441 691 2322 \nL 691 4666 \nz\n\" id=\"DejaVuSans-35\" transform=\"scale(0.015625)\"/>\n       </defs>\n       <use xlink:href=\"#DejaVuSans-35\"/>\n       <use x=\"63.623047\" xlink:href=\"#DejaVuSans-30\"/>\n      </g>\n     </g>\n    </g>\n    <g id=\"xtick_3\">\n     <g id=\"line2d_3\">\n      <g>\n       <use style=\"stroke:#000000;stroke-width:0.8;\" x=\"235.623192\" xlink:href=\"#m01ca88fd90\" y=\"279\"/>\n      </g>\n     </g>\n     <g id=\"text_3\">\n      <!-- 100 -->\n      <g transform=\"translate(226.079442 293.598437)scale(0.1 -0.1)\">\n       <defs>\n        <path d=\"M 794 531 \nL 1825 531 \nL 1825 4091 \nL 703 3866 \nL 703 4441 \nL 1819 4666 \nL 2450 4666 \nL 2450 531 \nL 3481 531 \nL 3481 0 \nL 794 0 \nL 794 531 \nz\n\" id=\"DejaVuSans-31\" transform=\"scale(0.015625)\"/>\n       </defs>\n       <use xlink:href=\"#DejaVuSans-31\"/>\n       <use x=\"63.623047\" xlink:href=\"#DejaVuSans-30\"/>\n       <use x=\"127.246094\" xlink:href=\"#DejaVuSans-30\"/>\n      </g>\n     </g>\n    </g>\n    <g id=\"xtick_4\">\n     <g id=\"line2d_4\">\n      <g>\n       <use style=\"stroke:#000000;stroke-width:0.8;\" x=\"320.451407\" xlink:href=\"#m01ca88fd90\" y=\"279\"/>\n      </g>\n     </g>\n     <g id=\"text_4\">\n      <!-- 150 -->\n      <g transform=\"translate(310.907657 293.598437)scale(0.1 -0.1)\">\n       <use xlink:href=\"#DejaVuSans-31\"/>\n       <use x=\"63.623047\" xlink:href=\"#DejaVuSans-35\"/>\n       <use x=\"127.246094\" xlink:href=\"#DejaVuSans-30\"/>\n      </g>\n     </g>\n    </g>\n    <g id=\"xtick_5\">\n     <g id=\"line2d_5\">\n      <g>\n       <use style=\"stroke:#000000;stroke-width:0.8;\" x=\"405.279622\" xlink:href=\"#m01ca88fd90\" y=\"279\"/>\n      </g>\n     </g>\n     <g id=\"text_5\">\n      <!-- 200 -->\n      <g transform=\"translate(395.735872 293.598437)scale(0.1 -0.1)\">\n       <defs>\n        <path d=\"M 1228 531 \nL 3431 531 \nL 3431 0 \nL 469 0 \nL 469 531 \nQ 828 903 1448 1529 \nQ 2069 2156 2228 2338 \nQ 2531 2678 2651 2914 \nQ 2772 3150 2772 3378 \nQ 2772 3750 2511 3984 \nQ 2250 4219 1831 4219 \nQ 1534 4219 1204 4116 \nQ 875 4013 500 3803 \nL 500 4441 \nQ 881 4594 1212 4672 \nQ 1544 4750 1819 4750 \nQ 2544 4750 2975 4387 \nQ 3406 4025 3406 3419 \nQ 3406 3131 3298 2873 \nQ 3191 2616 2906 2266 \nQ 2828 2175 2409 1742 \nQ 1991 1309 1228 531 \nz\n\" id=\"DejaVuSans-32\" transform=\"scale(0.015625)\"/>\n       </defs>\n       <use xlink:href=\"#DejaVuSans-32\"/>\n       <use x=\"63.623047\" xlink:href=\"#DejaVuSans-30\"/>\n       <use x=\"127.246094\" xlink:href=\"#DejaVuSans-30\"/>\n      </g>\n     </g>\n    </g>\n    <g id=\"xtick_6\">\n     <g id=\"line2d_6\">\n      <g>\n       <use style=\"stroke:#000000;stroke-width:0.8;\" x=\"490.107838\" xlink:href=\"#m01ca88fd90\" y=\"279\"/>\n      </g>\n     </g>\n     <g id=\"text_6\">\n      <!-- 250 -->\n      <g transform=\"translate(480.564088 293.598437)scale(0.1 -0.1)\">\n       <use xlink:href=\"#DejaVuSans-32\"/>\n       <use x=\"63.623047\" xlink:href=\"#DejaVuSans-35\"/>\n       <use x=\"127.246094\" xlink:href=\"#DejaVuSans-30\"/>\n      </g>\n     </g>\n    </g>\n    <g id=\"xtick_7\">\n     <g id=\"line2d_7\">\n      <g>\n       <use style=\"stroke:#000000;stroke-width:0.8;\" x=\"574.936053\" xlink:href=\"#m01ca88fd90\" y=\"279\"/>\n      </g>\n     </g>\n     <g id=\"text_7\">\n      <!-- 300 -->\n      <g transform=\"translate(565.392303 293.598437)scale(0.1 -0.1)\">\n       <defs>\n        <path d=\"M 2597 2516 \nQ 3050 2419 3304 2112 \nQ 3559 1806 3559 1356 \nQ 3559 666 3084 287 \nQ 2609 -91 1734 -91 \nQ 1441 -91 1130 -33 \nQ 819 25 488 141 \nL 488 750 \nQ 750 597 1062 519 \nQ 1375 441 1716 441 \nQ 2309 441 2620 675 \nQ 2931 909 2931 1356 \nQ 2931 1769 2642 2001 \nQ 2353 2234 1838 2234 \nL 1294 2234 \nL 1294 2753 \nL 1863 2753 \nQ 2328 2753 2575 2939 \nQ 2822 3125 2822 3475 \nQ 2822 3834 2567 4026 \nQ 2313 4219 1838 4219 \nQ 1578 4219 1281 4162 \nQ 984 4106 628 3988 \nL 628 4550 \nQ 988 4650 1302 4700 \nQ 1616 4750 1894 4750 \nQ 2613 4750 3031 4423 \nQ 3450 4097 3450 3541 \nQ 3450 3153 3228 2886 \nQ 3006 2619 2597 2516 \nz\n\" id=\"DejaVuSans-33\" transform=\"scale(0.015625)\"/>\n       </defs>\n       <use xlink:href=\"#DejaVuSans-33\"/>\n       <use x=\"63.623047\" xlink:href=\"#DejaVuSans-30\"/>\n       <use x=\"127.246094\" xlink:href=\"#DejaVuSans-30\"/>\n      </g>\n     </g>\n    </g>\n    <g id=\"text_8\">\n     <!-- Iterations -->\n     <g transform=\"translate(295.789844 307.276562)scale(0.1 -0.1)\">\n      <defs>\n       <path d=\"M 628 4666 \nL 1259 4666 \nL 1259 0 \nL 628 0 \nL 628 4666 \nz\n\" id=\"DejaVuSans-49\" transform=\"scale(0.015625)\"/>\n       <path d=\"M 1172 4494 \nL 1172 3500 \nL 2356 3500 \nL 2356 3053 \nL 1172 3053 \nL 1172 1153 \nQ 1172 725 1289 603 \nQ 1406 481 1766 481 \nL 2356 481 \nL 2356 0 \nL 1766 0 \nQ 1100 0 847 248 \nQ 594 497 594 1153 \nL 594 3053 \nL 172 3053 \nL 172 3500 \nL 594 3500 \nL 594 4494 \nL 1172 4494 \nz\n\" id=\"DejaVuSans-74\" transform=\"scale(0.015625)\"/>\n       <path d=\"M 3597 1894 \nL 3597 1613 \nL 953 1613 \nQ 991 1019 1311 708 \nQ 1631 397 2203 397 \nQ 2534 397 2845 478 \nQ 3156 559 3463 722 \nL 3463 178 \nQ 3153 47 2828 -22 \nQ 2503 -91 2169 -91 \nQ 1331 -91 842 396 \nQ 353 884 353 1716 \nQ 353 2575 817 3079 \nQ 1281 3584 2069 3584 \nQ 2775 3584 3186 3129 \nQ 3597 2675 3597 1894 \nz\nM 3022 2063 \nQ 3016 2534 2758 2815 \nQ 2500 3097 2075 3097 \nQ 1594 3097 1305 2825 \nQ 1016 2553 972 2059 \nL 3022 2063 \nz\n\" id=\"DejaVuSans-65\" transform=\"scale(0.015625)\"/>\n       <path d=\"M 2631 2963 \nQ 2534 3019 2420 3045 \nQ 2306 3072 2169 3072 \nQ 1681 3072 1420 2755 \nQ 1159 2438 1159 1844 \nL 1159 0 \nL 581 0 \nL 581 3500 \nL 1159 3500 \nL 1159 2956 \nQ 1341 3275 1631 3429 \nQ 1922 3584 2338 3584 \nQ 2397 3584 2469 3576 \nQ 2541 3569 2628 3553 \nL 2631 2963 \nz\n\" id=\"DejaVuSans-72\" transform=\"scale(0.015625)\"/>\n       <path d=\"M 2194 1759 \nQ 1497 1759 1228 1600 \nQ 959 1441 959 1056 \nQ 959 750 1161 570 \nQ 1363 391 1709 391 \nQ 2188 391 2477 730 \nQ 2766 1069 2766 1631 \nL 2766 1759 \nL 2194 1759 \nz\nM 3341 1997 \nL 3341 0 \nL 2766 0 \nL 2766 531 \nQ 2569 213 2275 61 \nQ 1981 -91 1556 -91 \nQ 1019 -91 701 211 \nQ 384 513 384 1019 \nQ 384 1609 779 1909 \nQ 1175 2209 1959 2209 \nL 2766 2209 \nL 2766 2266 \nQ 2766 2663 2505 2880 \nQ 2244 3097 1772 3097 \nQ 1472 3097 1187 3025 \nQ 903 2953 641 2809 \nL 641 3341 \nQ 956 3463 1253 3523 \nQ 1550 3584 1831 3584 \nQ 2591 3584 2966 3190 \nQ 3341 2797 3341 1997 \nz\n\" id=\"DejaVuSans-61\" transform=\"scale(0.015625)\"/>\n       <path d=\"M 603 3500 \nL 1178 3500 \nL 1178 0 \nL 603 0 \nL 603 3500 \nz\nM 603 4863 \nL 1178 4863 \nL 1178 4134 \nL 603 4134 \nL 603 4863 \nz\n\" id=\"DejaVuSans-69\" transform=\"scale(0.015625)\"/>\n       <path d=\"M 1959 3097 \nQ 1497 3097 1228 2736 \nQ 959 2375 959 1747 \nQ 959 1119 1226 758 \nQ 1494 397 1959 397 \nQ 2419 397 2687 759 \nQ 2956 1122 2956 1747 \nQ 2956 2369 2687 2733 \nQ 2419 3097 1959 3097 \nz\nM 1959 3584 \nQ 2709 3584 3137 3096 \nQ 3566 2609 3566 1747 \nQ 3566 888 3137 398 \nQ 2709 -91 1959 -91 \nQ 1206 -91 779 398 \nQ 353 888 353 1747 \nQ 353 2609 779 3096 \nQ 1206 3584 1959 3584 \nz\n\" id=\"DejaVuSans-6f\" transform=\"scale(0.015625)\"/>\n       <path d=\"M 3513 2113 \nL 3513 0 \nL 2938 0 \nL 2938 2094 \nQ 2938 2591 2744 2837 \nQ 2550 3084 2163 3084 \nQ 1697 3084 1428 2787 \nQ 1159 2491 1159 1978 \nL 1159 0 \nL 581 0 \nL 581 3500 \nL 1159 3500 \nL 1159 2956 \nQ 1366 3272 1645 3428 \nQ 1925 3584 2291 3584 \nQ 2894 3584 3203 3211 \nQ 3513 2838 3513 2113 \nz\n\" id=\"DejaVuSans-6e\" transform=\"scale(0.015625)\"/>\n       <path d=\"M 2834 3397 \nL 2834 2853 \nQ 2591 2978 2328 3040 \nQ 2066 3103 1784 3103 \nQ 1356 3103 1142 2972 \nQ 928 2841 928 2578 \nQ 928 2378 1081 2264 \nQ 1234 2150 1697 2047 \nL 1894 2003 \nQ 2506 1872 2764 1633 \nQ 3022 1394 3022 966 \nQ 3022 478 2636 193 \nQ 2250 -91 1575 -91 \nQ 1294 -91 989 -36 \nQ 684 19 347 128 \nL 347 722 \nQ 666 556 975 473 \nQ 1284 391 1588 391 \nQ 1994 391 2212 530 \nQ 2431 669 2431 922 \nQ 2431 1156 2273 1281 \nQ 2116 1406 1581 1522 \nL 1381 1569 \nQ 847 1681 609 1914 \nQ 372 2147 372 2553 \nQ 372 3047 722 3315 \nQ 1072 3584 1716 3584 \nQ 2034 3584 2315 3537 \nQ 2597 3491 2834 3397 \nz\n\" id=\"DejaVuSans-73\" transform=\"scale(0.015625)\"/>\n      </defs>\n      <use xlink:href=\"#DejaVuSans-49\"/>\n      <use x=\"29.492188\" xlink:href=\"#DejaVuSans-74\"/>\n      <use x=\"68.701172\" xlink:href=\"#DejaVuSans-65\"/>\n      <use x=\"130.224609\" xlink:href=\"#DejaVuSans-72\"/>\n      <use x=\"171.337891\" xlink:href=\"#DejaVuSans-61\"/>\n      <use x=\"232.617188\" xlink:href=\"#DejaVuSans-74\"/>\n      <use x=\"271.826172\" xlink:href=\"#DejaVuSans-69\"/>\n      <use x=\"299.609375\" xlink:href=\"#DejaVuSans-6f\"/>\n      <use x=\"360.791016\" xlink:href=\"#DejaVuSans-6e\"/>\n      <use x=\"424.169922\" xlink:href=\"#DejaVuSans-73\"/>\n     </g>\n    </g>\n   </g>\n   <g id=\"matplotlib.axis_2\">\n    <g id=\"ytick_1\">\n     <g id=\"line2d_8\">\n      <defs>\n       <path d=\"M 0 0 \nL -3.5 0 \n\" id=\"m483a14c515\" style=\"stroke:#000000;stroke-width:0.8;\"/>\n      </defs>\n      <g>\n       <use style=\"stroke:#000000;stroke-width:0.8;\" x=\"40.603125\" xlink:href=\"#m483a14c515\" y=\"247.345571\"/>\n      </g>\n     </g>\n     <g id=\"text_9\">\n      <!-- 4 -->\n      <g transform=\"translate(27.240625 251.14479)scale(0.1 -0.1)\">\n       <defs>\n        <path d=\"M 2419 4116 \nL 825 1625 \nL 2419 1625 \nL 2419 4116 \nz\nM 2253 4666 \nL 3047 4666 \nL 3047 1625 \nL 3713 1625 \nL 3713 1100 \nL 3047 1100 \nL 3047 0 \nL 2419 0 \nL 2419 1100 \nL 313 1100 \nL 313 1709 \nL 2253 4666 \nz\n\" id=\"DejaVuSans-34\" transform=\"scale(0.015625)\"/>\n       </defs>\n       <use xlink:href=\"#DejaVuSans-34\"/>\n      </g>\n     </g>\n    </g>\n    <g id=\"ytick_2\">\n     <g id=\"line2d_9\">\n      <g>\n       <use style=\"stroke:#000000;stroke-width:0.8;\" x=\"40.603125\" xlink:href=\"#m483a14c515\" y=\"201.93404\"/>\n      </g>\n     </g>\n     <g id=\"text_10\">\n      <!-- 6 -->\n      <g transform=\"translate(27.240625 205.733258)scale(0.1 -0.1)\">\n       <defs>\n        <path d=\"M 2113 2584 \nQ 1688 2584 1439 2293 \nQ 1191 2003 1191 1497 \nQ 1191 994 1439 701 \nQ 1688 409 2113 409 \nQ 2538 409 2786 701 \nQ 3034 994 3034 1497 \nQ 3034 2003 2786 2293 \nQ 2538 2584 2113 2584 \nz\nM 3366 4563 \nL 3366 3988 \nQ 3128 4100 2886 4159 \nQ 2644 4219 2406 4219 \nQ 1781 4219 1451 3797 \nQ 1122 3375 1075 2522 \nQ 1259 2794 1537 2939 \nQ 1816 3084 2150 3084 \nQ 2853 3084 3261 2657 \nQ 3669 2231 3669 1497 \nQ 3669 778 3244 343 \nQ 2819 -91 2113 -91 \nQ 1303 -91 875 529 \nQ 447 1150 447 2328 \nQ 447 3434 972 4092 \nQ 1497 4750 2381 4750 \nQ 2619 4750 2861 4703 \nQ 3103 4656 3366 4563 \nz\n\" id=\"DejaVuSans-36\" transform=\"scale(0.015625)\"/>\n       </defs>\n       <use xlink:href=\"#DejaVuSans-36\"/>\n      </g>\n     </g>\n    </g>\n    <g id=\"ytick_3\">\n     <g id=\"line2d_10\">\n      <g>\n       <use style=\"stroke:#000000;stroke-width:0.8;\" x=\"40.603125\" xlink:href=\"#m483a14c515\" y=\"156.522508\"/>\n      </g>\n     </g>\n     <g id=\"text_11\">\n      <!-- 8 -->\n      <g transform=\"translate(27.240625 160.321727)scale(0.1 -0.1)\">\n       <defs>\n        <path d=\"M 2034 2216 \nQ 1584 2216 1326 1975 \nQ 1069 1734 1069 1313 \nQ 1069 891 1326 650 \nQ 1584 409 2034 409 \nQ 2484 409 2743 651 \nQ 3003 894 3003 1313 \nQ 3003 1734 2745 1975 \nQ 2488 2216 2034 2216 \nz\nM 1403 2484 \nQ 997 2584 770 2862 \nQ 544 3141 544 3541 \nQ 544 4100 942 4425 \nQ 1341 4750 2034 4750 \nQ 2731 4750 3128 4425 \nQ 3525 4100 3525 3541 \nQ 3525 3141 3298 2862 \nQ 3072 2584 2669 2484 \nQ 3125 2378 3379 2068 \nQ 3634 1759 3634 1313 \nQ 3634 634 3220 271 \nQ 2806 -91 2034 -91 \nQ 1263 -91 848 271 \nQ 434 634 434 1313 \nQ 434 1759 690 2068 \nQ 947 2378 1403 2484 \nz\nM 1172 3481 \nQ 1172 3119 1398 2916 \nQ 1625 2713 2034 2713 \nQ 2441 2713 2670 2916 \nQ 2900 3119 2900 3481 \nQ 2900 3844 2670 4047 \nQ 2441 4250 2034 4250 \nQ 1625 4250 1398 4047 \nQ 1172 3844 1172 3481 \nz\n\" id=\"DejaVuSans-38\" transform=\"scale(0.015625)\"/>\n       </defs>\n       <use xlink:href=\"#DejaVuSans-38\"/>\n      </g>\n     </g>\n    </g>\n    <g id=\"ytick_4\">\n     <g id=\"line2d_11\">\n      <g>\n       <use style=\"stroke:#000000;stroke-width:0.8;\" x=\"40.603125\" xlink:href=\"#m483a14c515\" y=\"111.110977\"/>\n      </g>\n     </g>\n     <g id=\"text_12\">\n      <!-- 10 -->\n      <g transform=\"translate(20.878125 114.910195)scale(0.1 -0.1)\">\n       <use xlink:href=\"#DejaVuSans-31\"/>\n       <use x=\"63.623047\" xlink:href=\"#DejaVuSans-30\"/>\n      </g>\n     </g>\n    </g>\n    <g id=\"ytick_5\">\n     <g id=\"line2d_12\">\n      <g>\n       <use style=\"stroke:#000000;stroke-width:0.8;\" x=\"40.603125\" xlink:href=\"#m483a14c515\" y=\"65.699445\"/>\n      </g>\n     </g>\n     <g id=\"text_13\">\n      <!-- 12 -->\n      <g transform=\"translate(20.878125 69.498664)scale(0.1 -0.1)\">\n       <use xlink:href=\"#DejaVuSans-31\"/>\n       <use x=\"63.623047\" xlink:href=\"#DejaVuSans-32\"/>\n      </g>\n     </g>\n    </g>\n    <g id=\"ytick_6\">\n     <g id=\"line2d_13\">\n      <g>\n       <use style=\"stroke:#000000;stroke-width:0.8;\" x=\"40.603125\" xlink:href=\"#m483a14c515\" y=\"20.287914\"/>\n      </g>\n     </g>\n     <g id=\"text_14\">\n      <!-- 14 -->\n      <g transform=\"translate(20.878125 24.087133)scale(0.1 -0.1)\">\n       <use xlink:href=\"#DejaVuSans-31\"/>\n       <use x=\"63.623047\" xlink:href=\"#DejaVuSans-34\"/>\n      </g>\n     </g>\n    </g>\n    <g id=\"text_15\">\n     <!-- Energy (Re) -->\n     <g transform=\"translate(14.798437 172.422656)rotate(-90)scale(0.1 -0.1)\">\n      <defs>\n       <path d=\"M 628 4666 \nL 3578 4666 \nL 3578 4134 \nL 1259 4134 \nL 1259 2753 \nL 3481 2753 \nL 3481 2222 \nL 1259 2222 \nL 1259 531 \nL 3634 531 \nL 3634 0 \nL 628 0 \nL 628 4666 \nz\n\" id=\"DejaVuSans-45\" transform=\"scale(0.015625)\"/>\n       <path d=\"M 2906 1791 \nQ 2906 2416 2648 2759 \nQ 2391 3103 1925 3103 \nQ 1463 3103 1205 2759 \nQ 947 2416 947 1791 \nQ 947 1169 1205 825 \nQ 1463 481 1925 481 \nQ 2391 481 2648 825 \nQ 2906 1169 2906 1791 \nz\nM 3481 434 \nQ 3481 -459 3084 -895 \nQ 2688 -1331 1869 -1331 \nQ 1566 -1331 1297 -1286 \nQ 1028 -1241 775 -1147 \nL 775 -588 \nQ 1028 -725 1275 -790 \nQ 1522 -856 1778 -856 \nQ 2344 -856 2625 -561 \nQ 2906 -266 2906 331 \nL 2906 616 \nQ 2728 306 2450 153 \nQ 2172 0 1784 0 \nQ 1141 0 747 490 \nQ 353 981 353 1791 \nQ 353 2603 747 3093 \nQ 1141 3584 1784 3584 \nQ 2172 3584 2450 3431 \nQ 2728 3278 2906 2969 \nL 2906 3500 \nL 3481 3500 \nL 3481 434 \nz\n\" id=\"DejaVuSans-67\" transform=\"scale(0.015625)\"/>\n       <path d=\"M 2059 -325 \nQ 1816 -950 1584 -1140 \nQ 1353 -1331 966 -1331 \nL 506 -1331 \nL 506 -850 \nL 844 -850 \nQ 1081 -850 1212 -737 \nQ 1344 -625 1503 -206 \nL 1606 56 \nL 191 3500 \nL 800 3500 \nL 1894 763 \nL 2988 3500 \nL 3597 3500 \nL 2059 -325 \nz\n\" id=\"DejaVuSans-79\" transform=\"scale(0.015625)\"/>\n       <path id=\"DejaVuSans-20\" transform=\"scale(0.015625)\"/>\n       <path d=\"M 1984 4856 \nQ 1566 4138 1362 3434 \nQ 1159 2731 1159 2009 \nQ 1159 1288 1364 580 \nQ 1569 -128 1984 -844 \nL 1484 -844 \nQ 1016 -109 783 600 \nQ 550 1309 550 2009 \nQ 550 2706 781 3412 \nQ 1013 4119 1484 4856 \nL 1984 4856 \nz\n\" id=\"DejaVuSans-28\" transform=\"scale(0.015625)\"/>\n       <path d=\"M 2841 2188 \nQ 3044 2119 3236 1894 \nQ 3428 1669 3622 1275 \nL 4263 0 \nL 3584 0 \nL 2988 1197 \nQ 2756 1666 2539 1819 \nQ 2322 1972 1947 1972 \nL 1259 1972 \nL 1259 0 \nL 628 0 \nL 628 4666 \nL 2053 4666 \nQ 2853 4666 3247 4331 \nQ 3641 3997 3641 3322 \nQ 3641 2881 3436 2590 \nQ 3231 2300 2841 2188 \nz\nM 1259 4147 \nL 1259 2491 \nL 2053 2491 \nQ 2509 2491 2742 2702 \nQ 2975 2913 2975 3322 \nQ 2975 3731 2742 3939 \nQ 2509 4147 2053 4147 \nL 1259 4147 \nz\n\" id=\"DejaVuSans-52\" transform=\"scale(0.015625)\"/>\n       <path d=\"M 513 4856 \nL 1013 4856 \nQ 1481 4119 1714 3412 \nQ 1947 2706 1947 2009 \nQ 1947 1309 1714 600 \nQ 1481 -109 1013 -844 \nL 513 -844 \nQ 928 -128 1133 580 \nQ 1338 1288 1338 2009 \nQ 1338 2731 1133 3434 \nQ 928 4138 513 4856 \nz\n\" id=\"DejaVuSans-29\" transform=\"scale(0.015625)\"/>\n      </defs>\n      <use xlink:href=\"#DejaVuSans-45\"/>\n      <use x=\"63.183594\" xlink:href=\"#DejaVuSans-6e\"/>\n      <use x=\"126.5625\" xlink:href=\"#DejaVuSans-65\"/>\n      <use x=\"188.085938\" xlink:href=\"#DejaVuSans-72\"/>\n      <use x=\"227.449219\" xlink:href=\"#DejaVuSans-67\"/>\n      <use x=\"290.925781\" xlink:href=\"#DejaVuSans-79\"/>\n      <use x=\"350.105469\" xlink:href=\"#DejaVuSans-20\"/>\n      <use x=\"381.892578\" xlink:href=\"#DejaVuSans-28\"/>\n      <use x=\"420.90625\" xlink:href=\"#DejaVuSans-52\"/>\n      <use x=\"485.888672\" xlink:href=\"#DejaVuSans-65\"/>\n      <use x=\"547.412109\" xlink:href=\"#DejaVuSans-29\"/>\n     </g>\n    </g>\n   </g>\n   <g id=\"LineCollection_1\">\n    <path clip-path=\"url(#p6cc14bcaf0)\" d=\"M 65.966761 30.01769 \nL 65.966761 25.46409 \n\" style=\"fill:none;stroke:#1f77b4;stroke-width:1.5;\"/>\n    <path clip-path=\"url(#p6cc14bcaf0)\" d=\"M 67.663326 53.816963 \nL 67.663326 49.653411 \n\" style=\"fill:none;stroke:#1f77b4;stroke-width:1.5;\"/>\n    <path clip-path=\"url(#p6cc14bcaf0)\" d=\"M 69.35989 69.376738 \nL 69.35989 65.249454 \n\" style=\"fill:none;stroke:#1f77b4;stroke-width:1.5;\"/>\n    <path clip-path=\"url(#p6cc14bcaf0)\" d=\"M 71.056454 85.162056 \nL 71.056454 81.211773 \n\" style=\"fill:none;stroke:#1f77b4;stroke-width:1.5;\"/>\n    <path clip-path=\"url(#p6cc14bcaf0)\" d=\"M 72.753019 98.2973 \nL 72.753019 94.579674 \n\" style=\"fill:none;stroke:#1f77b4;stroke-width:1.5;\"/>\n    <path clip-path=\"url(#p6cc14bcaf0)\" d=\"M 74.449583 113.507763 \nL 74.449583 110.115064 \n\" style=\"fill:none;stroke:#1f77b4;stroke-width:1.5;\"/>\n    <path clip-path=\"url(#p6cc14bcaf0)\" d=\"M 76.146147 121.411563 \nL 76.146147 118.059838 \n\" style=\"fill:none;stroke:#1f77b4;stroke-width:1.5;\"/>\n    <path clip-path=\"url(#p6cc14bcaf0)\" d=\"M 77.842712 136.78167 \nL 77.842712 133.615951 \n\" style=\"fill:none;stroke:#1f77b4;stroke-width:1.5;\"/>\n    <path clip-path=\"url(#p6cc14bcaf0)\" d=\"M 79.539276 142.733532 \nL 79.539276 139.592111 \n\" style=\"fill:none;stroke:#1f77b4;stroke-width:1.5;\"/>\n    <path clip-path=\"url(#p6cc14bcaf0)\" d=\"M 81.23584 157.647466 \nL 81.23584 154.614828 \n\" style=\"fill:none;stroke:#1f77b4;stroke-width:1.5;\"/>\n    <path clip-path=\"url(#p6cc14bcaf0)\" d=\"M 82.932404 162.15112 \nL 82.932404 159.221963 \n\" style=\"fill:none;stroke:#1f77b4;stroke-width:1.5;\"/>\n    <path clip-path=\"url(#p6cc14bcaf0)\" d=\"M 84.628969 171.198916 \nL 84.628969 168.181682 \n\" style=\"fill:none;stroke:#1f77b4;stroke-width:1.5;\"/>\n    <path clip-path=\"url(#p6cc14bcaf0)\" d=\"M 86.325533 176.378293 \nL 86.325533 173.914373 \n\" style=\"fill:none;stroke:#1f77b4;stroke-width:1.5;\"/>\n    <path clip-path=\"url(#p6cc14bcaf0)\" d=\"M 88.022097 184.68187 \nL 88.022097 182.064475 \n\" style=\"fill:none;stroke:#1f77b4;stroke-width:1.5;\"/>\n    <path clip-path=\"url(#p6cc14bcaf0)\" d=\"M 89.718662 193.263192 \nL 89.718662 190.878232 \n\" style=\"fill:none;stroke:#1f77b4;stroke-width:1.5;\"/>\n    <path clip-path=\"url(#p6cc14bcaf0)\" d=\"M 91.415226 199.821421 \nL 91.415226 197.575197 \n\" style=\"fill:none;stroke:#1f77b4;stroke-width:1.5;\"/>\n    <path clip-path=\"url(#p6cc14bcaf0)\" d=\"M 93.11179 204.930265 \nL 93.11179 202.94709 \n\" style=\"fill:none;stroke:#1f77b4;stroke-width:1.5;\"/>\n    <path clip-path=\"url(#p6cc14bcaf0)\" d=\"M 94.808355 209.346885 \nL 94.808355 207.139578 \n\" style=\"fill:none;stroke:#1f77b4;stroke-width:1.5;\"/>\n    <path clip-path=\"url(#p6cc14bcaf0)\" d=\"M 96.504919 210.345711 \nL 96.504919 207.881212 \n\" style=\"fill:none;stroke:#1f77b4;stroke-width:1.5;\"/>\n    <path clip-path=\"url(#p6cc14bcaf0)\" d=\"M 98.201483 215.614064 \nL 98.201483 213.726134 \n\" style=\"fill:none;stroke:#1f77b4;stroke-width:1.5;\"/>\n    <path clip-path=\"url(#p6cc14bcaf0)\" d=\"M 99.898047 221.271295 \nL 99.898047 219.514534 \n\" style=\"fill:none;stroke:#1f77b4;stroke-width:1.5;\"/>\n    <path clip-path=\"url(#p6cc14bcaf0)\" d=\"M 101.594612 221.228726 \nL 101.594612 219.150038 \n\" style=\"fill:none;stroke:#1f77b4;stroke-width:1.5;\"/>\n    <path clip-path=\"url(#p6cc14bcaf0)\" d=\"M 103.291176 223.303286 \nL 103.291176 221.242037 \n\" style=\"fill:none;stroke:#1f77b4;stroke-width:1.5;\"/>\n    <path clip-path=\"url(#p6cc14bcaf0)\" d=\"M 104.98774 228.690973 \nL 104.98774 227.024152 \n\" style=\"fill:none;stroke:#1f77b4;stroke-width:1.5;\"/>\n    <path clip-path=\"url(#p6cc14bcaf0)\" d=\"M 106.684305 231.57633 \nL 106.684305 230.071891 \n\" style=\"fill:none;stroke:#1f77b4;stroke-width:1.5;\"/>\n    <path clip-path=\"url(#p6cc14bcaf0)\" d=\"M 108.380869 233.461339 \nL 108.380869 231.894303 \n\" style=\"fill:none;stroke:#1f77b4;stroke-width:1.5;\"/>\n    <path clip-path=\"url(#p6cc14bcaf0)\" d=\"M 110.077433 236.500713 \nL 110.077433 234.924561 \n\" style=\"fill:none;stroke:#1f77b4;stroke-width:1.5;\"/>\n    <path clip-path=\"url(#p6cc14bcaf0)\" d=\"M 111.773998 238.2402 \nL 111.773998 236.888109 \n\" style=\"fill:none;stroke:#1f77b4;stroke-width:1.5;\"/>\n    <path clip-path=\"url(#p6cc14bcaf0)\" d=\"M 113.470562 237.660394 \nL 113.470562 236.287821 \n\" style=\"fill:none;stroke:#1f77b4;stroke-width:1.5;\"/>\n    <path clip-path=\"url(#p6cc14bcaf0)\" d=\"M 115.167126 241.786595 \nL 115.167126 240.395844 \n\" style=\"fill:none;stroke:#1f77b4;stroke-width:1.5;\"/>\n    <path clip-path=\"url(#p6cc14bcaf0)\" d=\"M 116.863691 242.120495 \nL 116.863691 240.699623 \n\" style=\"fill:none;stroke:#1f77b4;stroke-width:1.5;\"/>\n    <path clip-path=\"url(#p6cc14bcaf0)\" d=\"M 118.560255 244.827298 \nL 118.560255 243.518623 \n\" style=\"fill:none;stroke:#1f77b4;stroke-width:1.5;\"/>\n    <path clip-path=\"url(#p6cc14bcaf0)\" d=\"M 120.256819 247.113746 \nL 120.256819 245.736394 \n\" style=\"fill:none;stroke:#1f77b4;stroke-width:1.5;\"/>\n    <path clip-path=\"url(#p6cc14bcaf0)\" d=\"M 121.953383 247.294692 \nL 121.953383 246.136379 \n\" style=\"fill:none;stroke:#1f77b4;stroke-width:1.5;\"/>\n    <path clip-path=\"url(#p6cc14bcaf0)\" d=\"M 123.649948 249.446305 \nL 123.649948 248.327775 \n\" style=\"fill:none;stroke:#1f77b4;stroke-width:1.5;\"/>\n    <path clip-path=\"url(#p6cc14bcaf0)\" d=\"M 125.346512 249.581431 \nL 125.346512 248.47518 \n\" style=\"fill:none;stroke:#1f77b4;stroke-width:1.5;\"/>\n    <path clip-path=\"url(#p6cc14bcaf0)\" d=\"M 127.043076 252.623292 \nL 127.043076 251.599229 \n\" style=\"fill:none;stroke:#1f77b4;stroke-width:1.5;\"/>\n    <path clip-path=\"url(#p6cc14bcaf0)\" d=\"M 128.739641 252.616489 \nL 128.739641 251.554288 \n\" style=\"fill:none;stroke:#1f77b4;stroke-width:1.5;\"/>\n    <path clip-path=\"url(#p6cc14bcaf0)\" d=\"M 130.436205 250.70801 \nL 130.436205 249.67226 \n\" style=\"fill:none;stroke:#1f77b4;stroke-width:1.5;\"/>\n    <path clip-path=\"url(#p6cc14bcaf0)\" d=\"M 132.132769 254.841598 \nL 132.132769 253.89211 \n\" style=\"fill:none;stroke:#1f77b4;stroke-width:1.5;\"/>\n    <path clip-path=\"url(#p6cc14bcaf0)\" d=\"M 133.829334 255.248685 \nL 133.829334 254.265535 \n\" style=\"fill:none;stroke:#1f77b4;stroke-width:1.5;\"/>\n    <path clip-path=\"url(#p6cc14bcaf0)\" d=\"M 135.525898 256.427149 \nL 135.525898 255.504258 \n\" style=\"fill:none;stroke:#1f77b4;stroke-width:1.5;\"/>\n    <path clip-path=\"url(#p6cc14bcaf0)\" d=\"M 137.222462 256.502051 \nL 137.222462 255.580735 \n\" style=\"fill:none;stroke:#1f77b4;stroke-width:1.5;\"/>\n    <path clip-path=\"url(#p6cc14bcaf0)\" d=\"M 138.919026 257.124441 \nL 138.919026 256.246211 \n\" style=\"fill:none;stroke:#1f77b4;stroke-width:1.5;\"/>\n    <path clip-path=\"url(#p6cc14bcaf0)\" d=\"M 140.615591 257.459932 \nL 140.615591 256.55617 \n\" style=\"fill:none;stroke:#1f77b4;stroke-width:1.5;\"/>\n    <path clip-path=\"url(#p6cc14bcaf0)\" d=\"M 142.312155 256.858945 \nL 142.312155 255.912039 \n\" style=\"fill:none;stroke:#1f77b4;stroke-width:1.5;\"/>\n    <path clip-path=\"url(#p6cc14bcaf0)\" d=\"M 144.008719 258.882174 \nL 144.008719 258.056526 \n\" style=\"fill:none;stroke:#1f77b4;stroke-width:1.5;\"/>\n    <path clip-path=\"url(#p6cc14bcaf0)\" d=\"M 145.705284 259.988346 \nL 145.705284 259.193297 \n\" style=\"fill:none;stroke:#1f77b4;stroke-width:1.5;\"/>\n    <path clip-path=\"url(#p6cc14bcaf0)\" d=\"M 147.401848 259.598841 \nL 147.401848 258.791493 \n\" style=\"fill:none;stroke:#1f77b4;stroke-width:1.5;\"/>\n    <path clip-path=\"url(#p6cc14bcaf0)\" d=\"M 149.098412 259.563407 \nL 149.098412 258.770868 \n\" style=\"fill:none;stroke:#1f77b4;stroke-width:1.5;\"/>\n    <path clip-path=\"url(#p6cc14bcaf0)\" d=\"M 150.794977 259.362363 \nL 150.794977 258.523221 \n\" style=\"fill:none;stroke:#1f77b4;stroke-width:1.5;\"/>\n    <path clip-path=\"url(#p6cc14bcaf0)\" d=\"M 152.491541 260.327067 \nL 152.491541 259.600606 \n\" style=\"fill:none;stroke:#1f77b4;stroke-width:1.5;\"/>\n    <path clip-path=\"url(#p6cc14bcaf0)\" d=\"M 154.188105 262.509559 \nL 154.188105 261.87727 \n\" style=\"fill:none;stroke:#1f77b4;stroke-width:1.5;\"/>\n    <path clip-path=\"url(#p6cc14bcaf0)\" d=\"M 155.88467 262.212378 \nL 155.88467 261.562677 \n\" style=\"fill:none;stroke:#1f77b4;stroke-width:1.5;\"/>\n    <path clip-path=\"url(#p6cc14bcaf0)\" d=\"M 157.581234 261.391951 \nL 157.581234 260.668196 \n\" style=\"fill:none;stroke:#1f77b4;stroke-width:1.5;\"/>\n    <path clip-path=\"url(#p6cc14bcaf0)\" d=\"M 159.277798 261.659696 \nL 159.277798 260.984876 \n\" style=\"fill:none;stroke:#1f77b4;stroke-width:1.5;\"/>\n    <path clip-path=\"url(#p6cc14bcaf0)\" d=\"M 160.974362 261.893756 \nL 160.974362 261.230325 \n\" style=\"fill:none;stroke:#1f77b4;stroke-width:1.5;\"/>\n    <path clip-path=\"url(#p6cc14bcaf0)\" d=\"M 162.670927 261.669813 \nL 162.670927 260.980909 \n\" style=\"fill:none;stroke:#1f77b4;stroke-width:1.5;\"/>\n    <path clip-path=\"url(#p6cc14bcaf0)\" d=\"M 164.367491 262.702779 \nL 164.367491 262.040649 \n\" style=\"fill:none;stroke:#1f77b4;stroke-width:1.5;\"/>\n    <path clip-path=\"url(#p6cc14bcaf0)\" d=\"M 166.064055 263.092461 \nL 166.064055 262.49092 \n\" style=\"fill:none;stroke:#1f77b4;stroke-width:1.5;\"/>\n    <path clip-path=\"url(#p6cc14bcaf0)\" d=\"M 167.76062 263.083748 \nL 167.76062 262.488569 \n\" style=\"fill:none;stroke:#1f77b4;stroke-width:1.5;\"/>\n    <path clip-path=\"url(#p6cc14bcaf0)\" d=\"M 169.457184 263.414342 \nL 169.457184 262.817707 \n\" style=\"fill:none;stroke:#1f77b4;stroke-width:1.5;\"/>\n    <path clip-path=\"url(#p6cc14bcaf0)\" d=\"M 171.153748 262.615776 \nL 171.153748 261.970623 \n\" style=\"fill:none;stroke:#1f77b4;stroke-width:1.5;\"/>\n    <path clip-path=\"url(#p6cc14bcaf0)\" d=\"M 172.850313 263.671445 \nL 172.850313 263.119507 \n\" style=\"fill:none;stroke:#1f77b4;stroke-width:1.5;\"/>\n    <path clip-path=\"url(#p6cc14bcaf0)\" d=\"M 174.546877 263.773811 \nL 174.546877 263.231134 \n\" style=\"fill:none;stroke:#1f77b4;stroke-width:1.5;\"/>\n    <path clip-path=\"url(#p6cc14bcaf0)\" d=\"M 176.243441 263.948868 \nL 176.243441 263.441716 \n\" style=\"fill:none;stroke:#1f77b4;stroke-width:1.5;\"/>\n    <path clip-path=\"url(#p6cc14bcaf0)\" d=\"M 177.940006 263.039684 \nL 177.940006 262.442164 \n\" style=\"fill:none;stroke:#1f77b4;stroke-width:1.5;\"/>\n    <path clip-path=\"url(#p6cc14bcaf0)\" d=\"M 179.63657 263.163367 \nL 179.63657 262.564397 \n\" style=\"fill:none;stroke:#1f77b4;stroke-width:1.5;\"/>\n    <path clip-path=\"url(#p6cc14bcaf0)\" d=\"M 181.333134 262.904377 \nL 181.333134 262.273533 \n\" style=\"fill:none;stroke:#1f77b4;stroke-width:1.5;\"/>\n    <path clip-path=\"url(#p6cc14bcaf0)\" d=\"M 183.029698 264.167364 \nL 183.029698 263.672603 \n\" style=\"fill:none;stroke:#1f77b4;stroke-width:1.5;\"/>\n    <path clip-path=\"url(#p6cc14bcaf0)\" d=\"M 184.726263 265.529018 \nL 184.726263 265.181287 \n\" style=\"fill:none;stroke:#1f77b4;stroke-width:1.5;\"/>\n    <path clip-path=\"url(#p6cc14bcaf0)\" d=\"M 186.422827 264.479938 \nL 186.422827 264.006718 \n\" style=\"fill:none;stroke:#1f77b4;stroke-width:1.5;\"/>\n    <path clip-path=\"url(#p6cc14bcaf0)\" d=\"M 188.119391 264.45325 \nL 188.119391 263.9545 \n\" style=\"fill:none;stroke:#1f77b4;stroke-width:1.5;\"/>\n    <path clip-path=\"url(#p6cc14bcaf0)\" d=\"M 189.815956 265.187752 \nL 189.815956 264.784776 \n\" style=\"fill:none;stroke:#1f77b4;stroke-width:1.5;\"/>\n    <path clip-path=\"url(#p6cc14bcaf0)\" d=\"M 191.51252 263.717368 \nL 191.51252 263.172301 \n\" style=\"fill:none;stroke:#1f77b4;stroke-width:1.5;\"/>\n    <path clip-path=\"url(#p6cc14bcaf0)\" d=\"M 193.209084 265.135616 \nL 193.209084 264.731918 \n\" style=\"fill:none;stroke:#1f77b4;stroke-width:1.5;\"/>\n    <path clip-path=\"url(#p6cc14bcaf0)\" d=\"M 194.905649 265.112339 \nL 194.905649 264.70607 \n\" style=\"fill:none;stroke:#1f77b4;stroke-width:1.5;\"/>\n    <path clip-path=\"url(#p6cc14bcaf0)\" d=\"M 196.602213 265.231231 \nL 196.602213 264.839319 \n\" style=\"fill:none;stroke:#1f77b4;stroke-width:1.5;\"/>\n    <path clip-path=\"url(#p6cc14bcaf0)\" d=\"M 198.298777 264.733712 \nL 198.298777 264.294448 \n\" style=\"fill:none;stroke:#1f77b4;stroke-width:1.5;\"/>\n    <path clip-path=\"url(#p6cc14bcaf0)\" d=\"M 199.995341 264.992886 \nL 199.995341 264.580225 \n\" style=\"fill:none;stroke:#1f77b4;stroke-width:1.5;\"/>\n    <path clip-path=\"url(#p6cc14bcaf0)\" d=\"M 201.691906 265.530124 \nL 201.691906 265.182302 \n\" style=\"fill:none;stroke:#1f77b4;stroke-width:1.5;\"/>\n    <path clip-path=\"url(#p6cc14bcaf0)\" d=\"M 203.38847 264.781168 \nL 203.38847 264.346562 \n\" style=\"fill:none;stroke:#1f77b4;stroke-width:1.5;\"/>\n    <path clip-path=\"url(#p6cc14bcaf0)\" d=\"M 205.085034 265.437361 \nL 205.085034 265.077149 \n\" style=\"fill:none;stroke:#1f77b4;stroke-width:1.5;\"/>\n    <path clip-path=\"url(#p6cc14bcaf0)\" d=\"M 206.781599 265.553466 \nL 206.781599 265.208802 \n\" style=\"fill:none;stroke:#1f77b4;stroke-width:1.5;\"/>\n    <path clip-path=\"url(#p6cc14bcaf0)\" d=\"M 208.478163 264.92639 \nL 208.478163 264.5009 \n\" style=\"fill:none;stroke:#1f77b4;stroke-width:1.5;\"/>\n    <path clip-path=\"url(#p6cc14bcaf0)\" d=\"M 210.174727 265.463001 \nL 210.174727 265.07602 \n\" style=\"fill:none;stroke:#1f77b4;stroke-width:1.5;\"/>\n    <path clip-path=\"url(#p6cc14bcaf0)\" d=\"M 211.871292 265.348427 \nL 211.871292 264.970283 \n\" style=\"fill:none;stroke:#1f77b4;stroke-width:1.5;\"/>\n    <path clip-path=\"url(#p6cc14bcaf0)\" d=\"M 213.567856 265.507341 \nL 213.567856 265.156347 \n\" style=\"fill:none;stroke:#1f77b4;stroke-width:1.5;\"/>\n    <path clip-path=\"url(#p6cc14bcaf0)\" d=\"M 215.26442 265.422917 \nL 215.26442 265.047686 \n\" style=\"fill:none;stroke:#1f77b4;stroke-width:1.5;\"/>\n    <path clip-path=\"url(#p6cc14bcaf0)\" d=\"M 216.960985 264.830594 \nL 216.960985 264.394527 \n\" style=\"fill:none;stroke:#1f77b4;stroke-width:1.5;\"/>\n    <path clip-path=\"url(#p6cc14bcaf0)\" d=\"M 218.657549 265.898894 \nL 218.657549 265.607032 \n\" style=\"fill:none;stroke:#1f77b4;stroke-width:1.5;\"/>\n    <path clip-path=\"url(#p6cc14bcaf0)\" d=\"M 220.354113 265.576975 \nL 220.354113 265.235497 \n\" style=\"fill:none;stroke:#1f77b4;stroke-width:1.5;\"/>\n    <path clip-path=\"url(#p6cc14bcaf0)\" d=\"M 222.050677 265.857958 \nL 222.050677 265.550911 \n\" style=\"fill:none;stroke:#1f77b4;stroke-width:1.5;\"/>\n    <path clip-path=\"url(#p6cc14bcaf0)\" d=\"M 223.747242 265.510226 \nL 223.747242 265.151736 \n\" style=\"fill:none;stroke:#1f77b4;stroke-width:1.5;\"/>\n    <path clip-path=\"url(#p6cc14bcaf0)\" d=\"M 225.443806 265.761603 \nL 225.443806 265.447321 \n\" style=\"fill:none;stroke:#1f77b4;stroke-width:1.5;\"/>\n    <path clip-path=\"url(#p6cc14bcaf0)\" d=\"M 227.14037 265.692581 \nL 227.14037 265.36777 \n\" style=\"fill:none;stroke:#1f77b4;stroke-width:1.5;\"/>\n    <path clip-path=\"url(#p6cc14bcaf0)\" d=\"M 228.836935 265.902341 \nL 228.836935 265.601335 \n\" style=\"fill:none;stroke:#1f77b4;stroke-width:1.5;\"/>\n    <path clip-path=\"url(#p6cc14bcaf0)\" d=\"M 230.533499 265.8534 \nL 230.533499 265.553836 \n\" style=\"fill:none;stroke:#1f77b4;stroke-width:1.5;\"/>\n    <path clip-path=\"url(#p6cc14bcaf0)\" d=\"M 232.230063 265.227976 \nL 232.230063 264.841664 \n\" style=\"fill:none;stroke:#1f77b4;stroke-width:1.5;\"/>\n    <path clip-path=\"url(#p6cc14bcaf0)\" d=\"M 233.926628 266.390159 \nL 233.926628 266.206091 \n\" style=\"fill:none;stroke:#1f77b4;stroke-width:1.5;\"/>\n    <path clip-path=\"url(#p6cc14bcaf0)\" d=\"M 235.623192 265.419402 \nL 235.623192 265.041523 \n\" style=\"fill:none;stroke:#1f77b4;stroke-width:1.5;\"/>\n    <path clip-path=\"url(#p6cc14bcaf0)\" d=\"M 237.319756 265.321482 \nL 237.319756 264.946452 \n\" style=\"fill:none;stroke:#1f77b4;stroke-width:1.5;\"/>\n    <path clip-path=\"url(#p6cc14bcaf0)\" d=\"M 239.016321 265.967495 \nL 239.016321 265.687604 \n\" style=\"fill:none;stroke:#1f77b4;stroke-width:1.5;\"/>\n    <path clip-path=\"url(#p6cc14bcaf0)\" d=\"M 240.712885 266.205303 \nL 240.712885 265.938393 \n\" style=\"fill:none;stroke:#1f77b4;stroke-width:1.5;\"/>\n    <path clip-path=\"url(#p6cc14bcaf0)\" d=\"M 242.409449 265.944781 \nL 242.409449 265.660822 \n\" style=\"fill:none;stroke:#1f77b4;stroke-width:1.5;\"/>\n    <path clip-path=\"url(#p6cc14bcaf0)\" d=\"M 244.106013 266.10318 \nL 244.106013 265.849225 \n\" style=\"fill:none;stroke:#1f77b4;stroke-width:1.5;\"/>\n    <path clip-path=\"url(#p6cc14bcaf0)\" d=\"M 245.802578 266.19273 \nL 245.802578 265.95786 \n\" style=\"fill:none;stroke:#1f77b4;stroke-width:1.5;\"/>\n    <path clip-path=\"url(#p6cc14bcaf0)\" d=\"M 247.499142 265.391461 \nL 247.499142 265.025175 \n\" style=\"fill:none;stroke:#1f77b4;stroke-width:1.5;\"/>\n    <path clip-path=\"url(#p6cc14bcaf0)\" d=\"M 249.195706 265.830658 \nL 249.195706 265.527309 \n\" style=\"fill:none;stroke:#1f77b4;stroke-width:1.5;\"/>\n    <path clip-path=\"url(#p6cc14bcaf0)\" d=\"M 250.892271 265.349602 \nL 250.892271 264.971867 \n\" style=\"fill:none;stroke:#1f77b4;stroke-width:1.5;\"/>\n    <path clip-path=\"url(#p6cc14bcaf0)\" d=\"M 252.588835 265.944851 \nL 252.588835 265.660881 \n\" style=\"fill:none;stroke:#1f77b4;stroke-width:1.5;\"/>\n    <path clip-path=\"url(#p6cc14bcaf0)\" d=\"M 254.285399 266.170497 \nL 254.285399 265.930692 \n\" style=\"fill:none;stroke:#1f77b4;stroke-width:1.5;\"/>\n    <path clip-path=\"url(#p6cc14bcaf0)\" d=\"M 255.981964 265.53096 \nL 255.981964 265.183035 \n\" style=\"fill:none;stroke:#1f77b4;stroke-width:1.5;\"/>\n    <path clip-path=\"url(#p6cc14bcaf0)\" d=\"M 257.678528 266.058222 \nL 257.678528 265.795285 \n\" style=\"fill:none;stroke:#1f77b4;stroke-width:1.5;\"/>\n    <path clip-path=\"url(#p6cc14bcaf0)\" d=\"M 259.375092 265.669773 \nL 259.375092 265.341506 \n\" style=\"fill:none;stroke:#1f77b4;stroke-width:1.5;\"/>\n    <path clip-path=\"url(#p6cc14bcaf0)\" d=\"M 261.071656 266.035649 \nL 261.071656 265.768353 \n\" style=\"fill:none;stroke:#1f77b4;stroke-width:1.5;\"/>\n    <path clip-path=\"url(#p6cc14bcaf0)\" d=\"M 262.768221 266.281462 \nL 262.768221 266.067548 \n\" style=\"fill:none;stroke:#1f77b4;stroke-width:1.5;\"/>\n    <path clip-path=\"url(#p6cc14bcaf0)\" d=\"M 264.464785 266.281469 \nL 264.464785 266.067555 \n\" style=\"fill:none;stroke:#1f77b4;stroke-width:1.5;\"/>\n    <path clip-path=\"url(#p6cc14bcaf0)\" d=\"M 266.161349 265.414826 \nL 266.161349 265.051501 \n\" style=\"fill:none;stroke:#1f77b4;stroke-width:1.5;\"/>\n    <path clip-path=\"url(#p6cc14bcaf0)\" d=\"M 267.857914 265.876513 \nL 267.857914 265.580724 \n\" style=\"fill:none;stroke:#1f77b4;stroke-width:1.5;\"/>\n    <path clip-path=\"url(#p6cc14bcaf0)\" d=\"M 269.554478 265.990381 \nL 269.554478 265.714594 \n\" style=\"fill:none;stroke:#1f77b4;stroke-width:1.5;\"/>\n    <path clip-path=\"url(#p6cc14bcaf0)\" d=\"M 271.251042 266.080836 \nL 271.251042 265.822332 \n\" style=\"fill:none;stroke:#1f77b4;stroke-width:1.5;\"/>\n    <path clip-path=\"url(#p6cc14bcaf0)\" d=\"M 272.947607 266.281506 \nL 272.947607 266.067586 \n\" style=\"fill:none;stroke:#1f77b4;stroke-width:1.5;\"/>\n    <path clip-path=\"url(#p6cc14bcaf0)\" d=\"M 274.644171 266.411928 \nL 274.644171 266.234442 \n\" style=\"fill:none;stroke:#1f77b4;stroke-width:1.5;\"/>\n    <path clip-path=\"url(#p6cc14bcaf0)\" d=\"M 276.340735 265.967688 \nL 276.340735 265.687764 \n\" style=\"fill:none;stroke:#1f77b4;stroke-width:1.5;\"/>\n    <path clip-path=\"url(#p6cc14bcaf0)\" d=\"M 278.0373 266.516852 \nL 278.0373 266.377271 \n\" style=\"fill:none;stroke:#1f77b4;stroke-width:1.5;\"/>\n    <path clip-path=\"url(#p6cc14bcaf0)\" d=\"M 279.733864 265.922074 \nL 279.733864 265.603926 \n\" style=\"fill:none;stroke:#1f77b4;stroke-width:1.5;\"/>\n    <path clip-path=\"url(#p6cc14bcaf0)\" d=\"M 281.430428 265.669833 \nL 281.430428 265.341551 \n\" style=\"fill:none;stroke:#1f77b4;stroke-width:1.5;\"/>\n    <path clip-path=\"url(#p6cc14bcaf0)\" d=\"M 283.126992 266.237364 \nL 283.126992 266.01269 \n\" style=\"fill:none;stroke:#1f77b4;stroke-width:1.5;\"/>\n    <path clip-path=\"url(#p6cc14bcaf0)\" d=\"M 284.823557 266.215184 \nL 284.823557 265.985341 \n\" style=\"fill:none;stroke:#1f77b4;stroke-width:1.5;\"/>\n    <path clip-path=\"url(#p6cc14bcaf0)\" d=\"M 286.520121 266.237372 \nL 286.520121 266.012697 \n\" style=\"fill:none;stroke:#1f77b4;stroke-width:1.5;\"/>\n    <path clip-path=\"url(#p6cc14bcaf0)\" d=\"M 288.216685 266.237374 \nL 288.216685 266.012698 \n\" style=\"fill:none;stroke:#1f77b4;stroke-width:1.5;\"/>\n    <path clip-path=\"url(#p6cc14bcaf0)\" d=\"M 289.91325 266.14827 \nL 289.91325 265.903626 \n\" style=\"fill:none;stroke:#1f77b4;stroke-width:1.5;\"/>\n    <path clip-path=\"url(#p6cc14bcaf0)\" d=\"M 291.609814 266.411978 \nL 291.609814 266.234488 \n\" style=\"fill:none;stroke:#1f77b4;stroke-width:1.5;\"/>\n    <path clip-path=\"url(#p6cc14bcaf0)\" d=\"M 293.306378 265.876572 \nL 293.306378 265.580772 \n\" style=\"fill:none;stroke:#1f77b4;stroke-width:1.5;\"/>\n    <path clip-path=\"url(#p6cc14bcaf0)\" d=\"M 295.002943 265.92222 \nL 295.002943 265.634229 \n\" style=\"fill:none;stroke:#1f77b4;stroke-width:1.5;\"/>\n    <path clip-path=\"url(#p6cc14bcaf0)\" d=\"M 296.699507 266.576696 \nL 296.699507 266.466181 \n\" style=\"fill:none;stroke:#1f77b4;stroke-width:1.5;\"/>\n    <path clip-path=\"url(#p6cc14bcaf0)\" d=\"M 298.396071 266.237396 \nL 298.396071 266.012717 \n\" style=\"fill:none;stroke:#1f77b4;stroke-width:1.5;\"/>\n    <path clip-path=\"url(#p6cc14bcaf0)\" d=\"M 300.092635 266.14829 \nL 300.092635 265.903644 \n\" style=\"fill:none;stroke:#1f77b4;stroke-width:1.5;\"/>\n    <path clip-path=\"url(#p6cc14bcaf0)\" d=\"M 301.7892 266.259525 \nL 301.7892 266.04015 \n\" style=\"fill:none;stroke:#1f77b4;stroke-width:1.5;\"/>\n    <path clip-path=\"url(#p6cc14bcaf0)\" d=\"M 303.485764 266.013126 \nL 303.485764 265.741531 \n\" style=\"fill:none;stroke:#1f77b4;stroke-width:1.5;\"/>\n    <path clip-path=\"url(#p6cc14bcaf0)\" d=\"M 305.182328 266.108923 \nL 305.182328 265.846329 \n\" style=\"fill:none;stroke:#1f77b4;stroke-width:1.5;\"/>\n    <path clip-path=\"url(#p6cc14bcaf0)\" d=\"M 306.878893 265.835672 \nL 306.878893 265.525059 \n\" style=\"fill:none;stroke:#1f77b4;stroke-width:1.5;\"/>\n    <path clip-path=\"url(#p6cc14bcaf0)\" d=\"M 308.575457 266.103427 \nL 308.575457 265.849438 \n\" style=\"fill:none;stroke:#1f77b4;stroke-width:1.5;\"/>\n    <path clip-path=\"url(#p6cc14bcaf0)\" d=\"M 310.272021 266.347259 \nL 310.272021 266.150645 \n\" style=\"fill:none;stroke:#1f77b4;stroke-width:1.5;\"/>\n    <path clip-path=\"url(#p6cc14bcaf0)\" d=\"M 311.968586 265.967755 \nL 311.968586 265.687817 \n\" style=\"fill:none;stroke:#1f77b4;stroke-width:1.5;\"/>\n    <path clip-path=\"url(#p6cc14bcaf0)\" d=\"M 313.66515 266.148315 \nL 313.66515 265.903664 \n\" style=\"fill:none;stroke:#1f77b4;stroke-width:1.5;\"/>\n    <path clip-path=\"url(#p6cc14bcaf0)\" d=\"M 315.361714 266.05837 \nL 315.361714 265.795408 \n\" style=\"fill:none;stroke:#1f77b4;stroke-width:1.5;\"/>\n    <path clip-path=\"url(#p6cc14bcaf0)\" d=\"M 317.058279 266.058372 \nL 317.058279 265.795409 \n\" style=\"fill:none;stroke:#1f77b4;stroke-width:1.5;\"/>\n    <path clip-path=\"url(#p6cc14bcaf0)\" d=\"M 318.754843 266.125907 \nL 318.754843 265.876538 \n\" style=\"fill:none;stroke:#1f77b4;stroke-width:1.5;\"/>\n    <path clip-path=\"url(#p6cc14bcaf0)\" d=\"M 320.451407 266.259556 \nL 320.451407 266.040175 \n\" style=\"fill:none;stroke:#1f77b4;stroke-width:1.5;\"/>\n    <path clip-path=\"url(#p6cc14bcaf0)\" d=\"M 322.147971 266.035785 \nL 322.147971 265.768463 \n\" style=\"fill:none;stroke:#1f77b4;stroke-width:1.5;\"/>\n    <path clip-path=\"url(#p6cc14bcaf0)\" d=\"M 323.844536 266.576752 \nL 323.844536 266.466233 \n\" style=\"fill:none;stroke:#1f77b4;stroke-width:1.5;\"/>\n    <path clip-path=\"url(#p6cc14bcaf0)\" d=\"M 325.5411 265.967769 \nL 325.5411 265.687827 \n\" style=\"fill:none;stroke:#1f77b4;stroke-width:1.5;\"/>\n    <path clip-path=\"url(#p6cc14bcaf0)\" d=\"M 327.237664 266.496386 \nL 327.237664 266.348403 \n\" style=\"fill:none;stroke:#1f77b4;stroke-width:1.5;\"/>\n    <path clip-path=\"url(#p6cc14bcaf0)\" d=\"M 328.934229 266.516965 \nL 328.934229 266.377374 \n\" style=\"fill:none;stroke:#1f77b4;stroke-width:1.5;\"/>\n    <path clip-path=\"url(#p6cc14bcaf0)\" d=\"M 330.630793 266.412047 \nL 330.630793 266.234549 \n\" style=\"fill:none;stroke:#1f77b4;stroke-width:1.5;\"/>\n    <path clip-path=\"url(#p6cc14bcaf0)\" d=\"M 332.327357 266.516968 \nL 332.327357 266.377378 \n\" style=\"fill:none;stroke:#1f77b4;stroke-width:1.5;\"/>\n    <path clip-path=\"url(#p6cc14bcaf0)\" d=\"M 334.023922 266.41205 \nL 334.023922 266.234552 \n\" style=\"fill:none;stroke:#1f77b4;stroke-width:1.5;\"/>\n    <path clip-path=\"url(#p6cc14bcaf0)\" d=\"M 335.720486 266.058389 \nL 335.720486 265.795423 \n\" style=\"fill:none;stroke:#1f77b4;stroke-width:1.5;\"/>\n    <path clip-path=\"url(#p6cc14bcaf0)\" d=\"M 337.41705 266.103453 \nL 337.41705 265.849457 \n\" style=\"fill:none;stroke:#1f77b4;stroke-width:1.5;\"/>\n    <path clip-path=\"url(#p6cc14bcaf0)\" d=\"M 339.113615 266.23745 \nL 339.113615 266.012762 \n\" style=\"fill:none;stroke:#1f77b4;stroke-width:1.5;\"/>\n    <path clip-path=\"url(#p6cc14bcaf0)\" d=\"M 340.810179 266.215265 \nL 340.810179 265.985406 \n\" style=\"fill:none;stroke:#1f77b4;stroke-width:1.5;\"/>\n    <path clip-path=\"url(#p6cc14bcaf0)\" d=\"M 342.506743 266.14834 \nL 342.506743 265.903682 \n\" style=\"fill:none;stroke:#1f77b4;stroke-width:1.5;\"/>\n    <path clip-path=\"url(#p6cc14bcaf0)\" d=\"M 344.203307 266.325498 \nL 344.203307 266.122929 \n\" style=\"fill:none;stroke:#1f77b4;stroke-width:1.5;\"/>\n    <path clip-path=\"url(#p6cc14bcaf0)\" d=\"M 345.899872 265.990492 \nL 345.899872 265.714679 \n\" style=\"fill:none;stroke:#1f77b4;stroke-width:1.5;\"/>\n    <path clip-path=\"url(#p6cc14bcaf0)\" d=\"M 347.596436 266.412066 \nL 347.596436 266.234567 \n\" style=\"fill:none;stroke:#1f77b4;stroke-width:1.5;\"/>\n    <path clip-path=\"url(#p6cc14bcaf0)\" d=\"M 349.293 266.237459 \nL 349.293 266.012768 \n\" style=\"fill:none;stroke:#1f77b4;stroke-width:1.5;\"/>\n    <path clip-path=\"url(#p6cc14bcaf0)\" d=\"M 350.989565 266.148346 \nL 350.989565 265.903687 \n\" style=\"fill:none;stroke:#1f77b4;stroke-width:1.5;\"/>\n    <path clip-path=\"url(#p6cc14bcaf0)\" d=\"M 352.686129 266.412069 \nL 352.686129 266.234569 \n\" style=\"fill:none;stroke:#1f77b4;stroke-width:1.5;\"/>\n    <path clip-path=\"url(#p6cc14bcaf0)\" d=\"M 354.382693 266.259586 \nL 354.382693 266.040199 \n\" style=\"fill:none;stroke:#1f77b4;stroke-width:1.5;\"/>\n    <path clip-path=\"url(#p6cc14bcaf0)\" d=\"M 356.079258 266.412072 \nL 356.079258 266.234572 \n\" style=\"fill:none;stroke:#1f77b4;stroke-width:1.5;\"/>\n    <path clip-path=\"url(#p6cc14bcaf0)\" d=\"M 357.775822 266.516995 \nL 357.775822 266.377404 \n\" style=\"fill:none;stroke:#1f77b4;stroke-width:1.5;\"/>\n    <path clip-path=\"url(#p6cc14bcaf0)\" d=\"M 359.472386 266.325505 \nL 359.472386 266.122931 \n\" style=\"fill:none;stroke:#1f77b4;stroke-width:1.5;\"/>\n    <path clip-path=\"url(#p6cc14bcaf0)\" d=\"M 361.16895 266.537296 \nL 361.16895 266.406653 \n\" style=\"fill:none;stroke:#1f77b4;stroke-width:1.5;\"/>\n    <path clip-path=\"url(#p6cc14bcaf0)\" d=\"M 362.865515 266.412073 \nL 362.865515 266.234571 \n\" style=\"fill:none;stroke:#1f77b4;stroke-width:1.5;\"/>\n    <path clip-path=\"url(#p6cc14bcaf0)\" d=\"M 364.562079 266.576789 \nL 364.562079 266.466265 \n\" style=\"fill:none;stroke:#1f77b4;stroke-width:1.5;\"/>\n    <path clip-path=\"url(#p6cc14bcaf0)\" d=\"M 366.258643 266.281644 \nL 366.258643 266.067704 \n\" style=\"fill:none;stroke:#1f77b4;stroke-width:1.5;\"/>\n    <path clip-path=\"url(#p6cc14bcaf0)\" d=\"M 367.955208 266.369014 \nL 367.955208 266.178538 \n\" style=\"fill:none;stroke:#1f77b4;stroke-width:1.5;\"/>\n    <path clip-path=\"url(#p6cc14bcaf0)\" d=\"M 369.651772 266.237468 \nL 369.651772 266.012774 \n\" style=\"fill:none;stroke:#1f77b4;stroke-width:1.5;\"/>\n    <path clip-path=\"url(#p6cc14bcaf0)\" d=\"M 371.348336 265.69296 \nL 371.348336 265.368066 \n\" style=\"fill:none;stroke:#1f77b4;stroke-width:1.5;\"/>\n    <path clip-path=\"url(#p6cc14bcaf0)\" d=\"M 373.044901 266.193033 \nL 373.044901 265.958123 \n\" style=\"fill:none;stroke:#1f77b4;stroke-width:1.5;\"/>\n    <path clip-path=\"url(#p6cc14bcaf0)\" d=\"M 374.741465 266.412082 \nL 374.741465 266.234579 \n\" style=\"fill:none;stroke:#1f77b4;stroke-width:1.5;\"/>\n    <path clip-path=\"url(#p6cc14bcaf0)\" d=\"M 376.438029 266.237472 \nL 376.438029 266.012777 \n\" style=\"fill:none;stroke:#1f77b4;stroke-width:1.5;\"/>\n    <path clip-path=\"url(#p6cc14bcaf0)\" d=\"M 378.134594 266.576799 \nL 378.134594 266.466274 \n\" style=\"fill:none;stroke:#1f77b4;stroke-width:1.5;\"/>\n    <path clip-path=\"url(#p6cc14bcaf0)\" d=\"M 379.831158 266.43342 \nL 379.831158 266.262795 \n\" style=\"fill:none;stroke:#1f77b4;stroke-width:1.5;\"/>\n    <path clip-path=\"url(#p6cc14bcaf0)\" d=\"M 381.527722 266.433421 \nL 381.527722 266.262795 \n\" style=\"fill:none;stroke:#1f77b4;stroke-width:1.5;\"/>\n    <path clip-path=\"url(#p6cc14bcaf0)\" d=\"M 383.224286 266.2596 \nL 383.224286 266.040209 \n\" style=\"fill:none;stroke:#1f77b4;stroke-width:1.5;\"/>\n    <path clip-path=\"url(#p6cc14bcaf0)\" d=\"M 384.920851 266.454608 \nL 384.920851 266.291164 \n\" style=\"fill:none;stroke:#1f77b4;stroke-width:1.5;\"/>\n    <path clip-path=\"url(#p6cc14bcaf0)\" d=\"M 386.617415 266.517011 \nL 386.617415 266.377416 \n\" style=\"fill:none;stroke:#1f77b4;stroke-width:1.5;\"/>\n    <path clip-path=\"url(#p6cc14bcaf0)\" d=\"M 388.313979 266.170726 \nL 388.313979 265.930882 \n\" style=\"fill:none;stroke:#1f77b4;stroke-width:1.5;\"/>\n    <path clip-path=\"url(#p6cc14bcaf0)\" d=\"M 390.010544 266.475622 \nL 390.010544 266.319706 \n\" style=\"fill:none;stroke:#1f77b4;stroke-width:1.5;\"/>\n    <path clip-path=\"url(#p6cc14bcaf0)\" d=\"M 391.707108 266.303628 \nL 391.707108 266.095284 \n\" style=\"fill:none;stroke:#1f77b4;stroke-width:1.5;\"/>\n    <path clip-path=\"url(#p6cc14bcaf0)\" d=\"M 393.403672 266.325522 \nL 393.403672 266.122945 \n\" style=\"fill:none;stroke:#1f77b4;stroke-width:1.5;\"/>\n    <path clip-path=\"url(#p6cc14bcaf0)\" d=\"M 395.100237 266.613944 \nL 395.100237 266.528247 \n\" style=\"fill:none;stroke:#1f77b4;stroke-width:1.5;\"/>\n    <path clip-path=\"url(#p6cc14bcaf0)\" d=\"M 396.796801 266.454612 \nL 396.796801 266.291167 \n\" style=\"fill:none;stroke:#1f77b4;stroke-width:1.5;\"/>\n    <path clip-path=\"url(#p6cc14bcaf0)\" d=\"M 398.493365 266.347325 \nL 398.493365 266.150698 \n\" style=\"fill:none;stroke:#1f77b4;stroke-width:1.5;\"/>\n    <path clip-path=\"url(#p6cc14bcaf0)\" d=\"M 400.189929 266.517016 \nL 400.189929 266.377419 \n\" style=\"fill:none;stroke:#1f77b4;stroke-width:1.5;\"/>\n    <path clip-path=\"url(#p6cc14bcaf0)\" d=\"M 401.886494 266.475624 \nL 401.886494 266.319706 \n\" style=\"fill:none;stroke:#1f77b4;stroke-width:1.5;\"/>\n    <path clip-path=\"url(#p6cc14bcaf0)\" d=\"M 403.583058 266.557278 \nL 403.583058 266.436264 \n\" style=\"fill:none;stroke:#1f77b4;stroke-width:1.5;\"/>\n    <path clip-path=\"url(#p6cc14bcaf0)\" style=\"fill:none;stroke:#1f77b4;stroke-width:1.5;\"/>\n    <path clip-path=\"url(#p6cc14bcaf0)\" d=\"M 406.976187 266.613948 \nL 406.976187 266.52825 \n\" style=\"fill:none;stroke:#1f77b4;stroke-width:1.5;\"/>\n    <path clip-path=\"url(#p6cc14bcaf0)\" d=\"M 408.672751 266.537318 \nL 408.672751 266.406674 \n\" style=\"fill:none;stroke:#1f77b4;stroke-width:1.5;\"/>\n    <path clip-path=\"url(#p6cc14bcaf0)\" d=\"M 410.369315 266.412094 \nL 410.369315 266.234589 \n\" style=\"fill:none;stroke:#1f77b4;stroke-width:1.5;\"/>\n    <path clip-path=\"url(#p6cc14bcaf0)\" d=\"M 412.06588 266.645427 \nL 412.06588 266.645427 \n\" style=\"fill:none;stroke:#1f77b4;stroke-width:1.5;\"/>\n    <path clip-path=\"url(#p6cc14bcaf0)\" d=\"M 413.762444 266.645415 \nL 413.762444 266.595888 \n\" style=\"fill:none;stroke:#1f77b4;stroke-width:1.5;\"/>\n    <path clip-path=\"url(#p6cc14bcaf0)\" d=\"M 415.459008 266.347326 \nL 415.459008 266.150698 \n\" style=\"fill:none;stroke:#1f77b4;stroke-width:1.5;\"/>\n    <path clip-path=\"url(#p6cc14bcaf0)\" d=\"M 417.155573 266.61395 \nL 417.155573 266.528252 \n\" style=\"fill:none;stroke:#1f77b4;stroke-width:1.5;\"/>\n    <path clip-path=\"url(#p6cc14bcaf0)\" d=\"M 418.852137 266.61395 \nL 418.852137 266.528251 \n\" style=\"fill:none;stroke:#1f77b4;stroke-width:1.5;\"/>\n    <path clip-path=\"url(#p6cc14bcaf0)\" d=\"M 420.548701 266.49644 \nL 420.548701 266.34845 \n\" style=\"fill:none;stroke:#1f77b4;stroke-width:1.5;\"/>\n    <path clip-path=\"url(#p6cc14bcaf0)\" d=\"M 422.245265 266.303634 \nL 422.245265 266.095288 \n\" style=\"fill:none;stroke:#1f77b4;stroke-width:1.5;\"/>\n    <path clip-path=\"url(#p6cc14bcaf0)\" d=\"M 423.94183 266.557282 \nL 423.94183 266.436266 \n\" style=\"fill:none;stroke:#1f77b4;stroke-width:1.5;\"/>\n    <path clip-path=\"url(#p6cc14bcaf0)\" d=\"M 425.638394 266.237483 \nL 425.638394 266.012785 \n\" style=\"fill:none;stroke:#1f77b4;stroke-width:1.5;\"/>\n    <path clip-path=\"url(#p6cc14bcaf0)\" d=\"M 427.334958 266.28166 \nL 427.334958 266.067714 \n\" style=\"fill:none;stroke:#1f77b4;stroke-width:1.5;\"/>\n    <path clip-path=\"url(#p6cc14bcaf0)\" d=\"M 429.031523 266.303637 \nL 429.031523 266.095291 \n\" style=\"fill:none;stroke:#1f77b4;stroke-width:1.5;\"/>\n    <path clip-path=\"url(#p6cc14bcaf0)\" d=\"M 430.728087 266.475631 \nL 430.728087 266.319713 \n\" style=\"fill:none;stroke:#1f77b4;stroke-width:1.5;\"/>\n    <path clip-path=\"url(#p6cc14bcaf0)\" d=\"M 432.424651 266.347331 \nL 432.424651 266.150702 \n\" style=\"fill:none;stroke:#1f77b4;stroke-width:1.5;\"/>\n    <path clip-path=\"url(#p6cc14bcaf0)\" d=\"M 434.121216 266.475632 \nL 434.121216 266.319714 \n\" style=\"fill:none;stroke:#1f77b4;stroke-width:1.5;\"/>\n    <path clip-path=\"url(#p6cc14bcaf0)\" d=\"M 435.81778 266.369034 \nL 435.81778 266.178553 \n\" style=\"fill:none;stroke:#1f77b4;stroke-width:1.5;\"/>\n    <path clip-path=\"url(#p6cc14bcaf0)\" d=\"M 437.514344 266.4121 \nL 437.514344 266.234592 \n\" style=\"fill:none;stroke:#1f77b4;stroke-width:1.5;\"/>\n    <path clip-path=\"url(#p6cc14bcaf0)\" d=\"M 439.210909 266.369036 \nL 439.210909 266.178555 \n\" style=\"fill:none;stroke:#1f77b4;stroke-width:1.5;\"/>\n    <path clip-path=\"url(#p6cc14bcaf0)\" d=\"M 440.907473 266.517026 \nL 440.907473 266.377428 \n\" style=\"fill:none;stroke:#1f77b4;stroke-width:1.5;\"/>\n    <path clip-path=\"url(#p6cc14bcaf0)\" d=\"M 442.604037 266.57682 \nL 442.604037 266.466293 \n\" style=\"fill:none;stroke:#1f77b4;stroke-width:1.5;\"/>\n    <path clip-path=\"url(#p6cc14bcaf0)\" d=\"M 444.300601 266.537328 \nL 444.300601 266.406681 \n\" style=\"fill:none;stroke:#1f77b4;stroke-width:1.5;\"/>\n    <path clip-path=\"url(#p6cc14bcaf0)\" d=\"M 445.997166 266.475635 \nL 445.997166 266.319716 \n\" style=\"fill:none;stroke:#1f77b4;stroke-width:1.5;\"/>\n    <path clip-path=\"url(#p6cc14bcaf0)\" d=\"M 447.69373 266.454624 \nL 447.69373 266.291177 \n\" style=\"fill:none;stroke:#1f77b4;stroke-width:1.5;\"/>\n    <path clip-path=\"url(#p6cc14bcaf0)\" d=\"M 449.390294 266.645438 \nL 449.390294 266.645438 \n\" style=\"fill:none;stroke:#1f77b4;stroke-width:1.5;\"/>\n    <path clip-path=\"url(#p6cc14bcaf0)\" d=\"M 451.086859 266.595787 \nL 451.086859 266.49688 \n\" style=\"fill:none;stroke:#1f77b4;stroke-width:1.5;\"/>\n    <path clip-path=\"url(#p6cc14bcaf0)\" d=\"M 452.783423 266.347335 \nL 452.783423 266.150706 \n\" style=\"fill:none;stroke:#1f77b4;stroke-width:1.5;\"/>\n    <path clip-path=\"url(#p6cc14bcaf0)\" d=\"M 454.479987 266.013186 \nL 454.479987 265.741566 \n\" style=\"fill:none;stroke:#1f77b4;stroke-width:1.5;\"/>\n    <path clip-path=\"url(#p6cc14bcaf0)\" d=\"M 456.176552 266.49645 \nL 456.176552 266.348459 \n\" style=\"fill:none;stroke:#1f77b4;stroke-width:1.5;\"/>\n    <path clip-path=\"url(#p6cc14bcaf0)\" d=\"M 457.873116 266.281667 \nL 457.873116 266.067719 \n\" style=\"fill:none;stroke:#1f77b4;stroke-width:1.5;\"/>\n    <path clip-path=\"url(#p6cc14bcaf0)\" d=\"M 459.56968 266.557291 \nL 459.56968 266.436274 \n\" style=\"fill:none;stroke:#1f77b4;stroke-width:1.5;\"/>\n    <path clip-path=\"url(#p6cc14bcaf0)\" d=\"M 461.266244 266.080976 \nL 461.266244 265.822436 \n\" style=\"fill:none;stroke:#1f77b4;stroke-width:1.5;\"/>\n    <path clip-path=\"url(#p6cc14bcaf0)\" d=\"M 462.962809 266.369039 \nL 462.962809 266.178557 \n\" style=\"fill:none;stroke:#1f77b4;stroke-width:1.5;\"/>\n    <path clip-path=\"url(#p6cc14bcaf0)\" d=\"M 464.659373 266.537332 \nL 464.659373 266.406684 \n\" style=\"fill:none;stroke:#1f77b4;stroke-width:1.5;\"/>\n    <path clip-path=\"url(#p6cc14bcaf0)\" d=\"M 466.355937 266.595792 \nL 466.355937 266.496883 \n\" style=\"fill:none;stroke:#1f77b4;stroke-width:1.5;\"/>\n    <path clip-path=\"url(#p6cc14bcaf0)\" d=\"M 468.052502 266.475639 \nL 468.052502 266.319718 \n\" style=\"fill:none;stroke:#1f77b4;stroke-width:1.5;\"/>\n    <path clip-path=\"url(#p6cc14bcaf0)\" d=\"M 469.749066 266.303643 \nL 469.749066 266.095293 \n\" style=\"fill:none;stroke:#1f77b4;stroke-width:1.5;\"/>\n    <path clip-path=\"url(#p6cc14bcaf0)\" d=\"M 471.44563 266.47564 \nL 471.44563 266.31972 \n\" style=\"fill:none;stroke:#1f77b4;stroke-width:1.5;\"/>\n    <path clip-path=\"url(#p6cc14bcaf0)\" d=\"M 473.142195 266.2153 \nL 473.142195 265.985428 \n\" style=\"fill:none;stroke:#1f77b4;stroke-width:1.5;\"/>\n    <path clip-path=\"url(#p6cc14bcaf0)\" d=\"M 474.838759 266.475641 \nL 474.838759 266.319721 \n\" style=\"fill:none;stroke:#1f77b4;stroke-width:1.5;\"/>\n    <path clip-path=\"url(#p6cc14bcaf0)\" d=\"M 476.535323 266.537335 \nL 476.535323 266.406687 \n\" style=\"fill:none;stroke:#1f77b4;stroke-width:1.5;\"/>\n    <path clip-path=\"url(#p6cc14bcaf0)\" d=\"M 478.231888 266.576828 \nL 478.231888 266.4663 \n\" style=\"fill:none;stroke:#1f77b4;stroke-width:1.5;\"/>\n    <path clip-path=\"url(#p6cc14bcaf0)\" d=\"M 479.928452 266.630897 \nL 479.928452 266.560888 \n\" style=\"fill:none;stroke:#1f77b4;stroke-width:1.5;\"/>\n    <path clip-path=\"url(#p6cc14bcaf0)\" d=\"M 481.625016 266.454629 \nL 481.625016 266.29118 \n\" style=\"fill:none;stroke:#1f77b4;stroke-width:1.5;\"/>\n    <path clip-path=\"url(#p6cc14bcaf0)\" d=\"M 483.32158 266.433445 \nL 483.32158 266.262814 \n\" style=\"fill:none;stroke:#1f77b4;stroke-width:1.5;\"/>\n    <path clip-path=\"url(#p6cc14bcaf0)\" d=\"M 485.018145 266.496455 \nL 485.018145 266.348463 \n\" style=\"fill:none;stroke:#1f77b4;stroke-width:1.5;\"/>\n    <path clip-path=\"url(#p6cc14bcaf0)\" d=\"M 486.714709 266.45463 \nL 486.714709 266.291181 \n\" style=\"fill:none;stroke:#1f77b4;stroke-width:1.5;\"/>\n    <path clip-path=\"url(#p6cc14bcaf0)\" d=\"M 488.411273 266.576829 \nL 488.411273 266.466301 \n\" style=\"fill:none;stroke:#1f77b4;stroke-width:1.5;\"/>\n    <path clip-path=\"url(#p6cc14bcaf0)\" d=\"M 490.107838 266.537336 \nL 490.107838 266.406686 \n\" style=\"fill:none;stroke:#1f77b4;stroke-width:1.5;\"/>\n    <path clip-path=\"url(#p6cc14bcaf0)\" d=\"M 491.804402 266.369043 \nL 491.804402 266.178559 \n\" style=\"fill:none;stroke:#1f77b4;stroke-width:1.5;\"/>\n    <path clip-path=\"url(#p6cc14bcaf0)\" d=\"M 493.500966 266.475644 \nL 493.500966 266.319723 \n\" style=\"fill:none;stroke:#1f77b4;stroke-width:1.5;\"/>\n    <path clip-path=\"url(#p6cc14bcaf0)\" d=\"M 495.197531 266.645448 \nL 495.197531 266.645448 \n\" style=\"fill:none;stroke:#1f77b4;stroke-width:1.5;\"/>\n    <path clip-path=\"url(#p6cc14bcaf0)\" d=\"M 496.894095 266.325539 \nL 496.894095 266.122957 \n\" style=\"fill:none;stroke:#1f77b4;stroke-width:1.5;\"/>\n    <path clip-path=\"url(#p6cc14bcaf0)\" d=\"M 498.590659 266.475644 \nL 498.590659 266.319723 \n\" style=\"fill:none;stroke:#1f77b4;stroke-width:1.5;\"/>\n    <path clip-path=\"url(#p6cc14bcaf0)\" d=\"M 500.287224 266.557298 \nL 500.287224 266.43628 \n\" style=\"fill:none;stroke:#1f77b4;stroke-width:1.5;\"/>\n    <path clip-path=\"url(#p6cc14bcaf0)\" d=\"M 501.983788 266.369044 \nL 501.983788 266.178559 \n\" style=\"fill:none;stroke:#1f77b4;stroke-width:1.5;\"/>\n    <path clip-path=\"url(#p6cc14bcaf0)\" d=\"M 503.680352 266.303648 \nL 503.680352 266.095298 \n\" style=\"fill:none;stroke:#1f77b4;stroke-width:1.5;\"/>\n    <path clip-path=\"url(#p6cc14bcaf0)\" d=\"M 505.376916 266.41211 \nL 505.376916 266.2346 \n\" style=\"fill:none;stroke:#1f77b4;stroke-width:1.5;\"/>\n    <path clip-path=\"url(#p6cc14bcaf0)\" d=\"M 507.073481 266.215302 \nL 507.073481 265.985427 \n\" style=\"fill:none;stroke:#1f77b4;stroke-width:1.5;\"/>\n    <path clip-path=\"url(#p6cc14bcaf0)\" d=\"M 508.770045 266.19305 \nL 508.770045 265.958129 \n\" style=\"fill:none;stroke:#1f77b4;stroke-width:1.5;\"/>\n    <path clip-path=\"url(#p6cc14bcaf0)\" d=\"M 510.466609 266.5573 \nL 510.466609 266.436281 \n\" style=\"fill:none;stroke:#1f77b4;stroke-width:1.5;\"/>\n    <path clip-path=\"url(#p6cc14bcaf0)\" d=\"M 512.163174 266.645439 \nL 512.163174 266.59591 \n\" style=\"fill:none;stroke:#1f77b4;stroke-width:1.5;\"/>\n    <path clip-path=\"url(#p6cc14bcaf0)\" d=\"M 513.859738 266.613972 \nL 513.859738 266.528271 \n\" style=\"fill:none;stroke:#1f77b4;stroke-width:1.5;\"/>\n    <path clip-path=\"url(#p6cc14bcaf0)\" d=\"M 515.556302 266.433449 \nL 515.556302 266.262817 \n\" style=\"fill:none;stroke:#1f77b4;stroke-width:1.5;\"/>\n    <path clip-path=\"url(#p6cc14bcaf0)\" d=\"M 517.252867 266.53734 \nL 517.252867 266.406691 \n\" style=\"fill:none;stroke:#1f77b4;stroke-width:1.5;\"/>\n    <path clip-path=\"url(#p6cc14bcaf0)\" d=\"M 518.949431 266.645452 \nL 518.949431 266.645452 \n\" style=\"fill:none;stroke:#1f77b4;stroke-width:1.5;\"/>\n    <path clip-path=\"url(#p6cc14bcaf0)\" d=\"M 520.645995 266.475647 \nL 520.645995 266.319725 \n\" style=\"fill:none;stroke:#1f77b4;stroke-width:1.5;\"/>\n    <path clip-path=\"url(#p6cc14bcaf0)\" d=\"M 522.342559 266.557302 \nL 522.342559 266.436284 \n\" style=\"fill:none;stroke:#1f77b4;stroke-width:1.5;\"/>\n    <path clip-path=\"url(#p6cc14bcaf0)\" d=\"M 524.039124 266.537341 \nL 524.039124 266.406692 \n\" style=\"fill:none;stroke:#1f77b4;stroke-width:1.5;\"/>\n    <path clip-path=\"url(#p6cc14bcaf0)\" d=\"M 525.735688 266.630904 \nL 525.735688 266.560894 \n\" style=\"fill:none;stroke:#1f77b4;stroke-width:1.5;\"/>\n    <path clip-path=\"url(#p6cc14bcaf0)\" d=\"M 527.432252 266.64544 \nL 527.432252 266.595912 \n\" style=\"fill:none;stroke:#1f77b4;stroke-width:1.5;\"/>\n    <path clip-path=\"url(#p6cc14bcaf0)\" d=\"M 529.128817 266.537341 \nL 529.128817 266.406691 \n\" style=\"fill:none;stroke:#1f77b4;stroke-width:1.5;\"/>\n    <path clip-path=\"url(#p6cc14bcaf0)\" d=\"M 530.825381 266.595801 \nL 530.825381 266.496891 \n\" style=\"fill:none;stroke:#1f77b4;stroke-width:1.5;\"/>\n    <path clip-path=\"url(#p6cc14bcaf0)\" d=\"M 532.521945 266.390639 \nL 532.521945 266.20652 \n\" style=\"fill:none;stroke:#1f77b4;stroke-width:1.5;\"/>\n    <path clip-path=\"url(#p6cc14bcaf0)\" d=\"M 534.21851 266.51704 \nL 534.21851 266.37744 \n\" style=\"fill:none;stroke:#1f77b4;stroke-width:1.5;\"/>\n    <path clip-path=\"url(#p6cc14bcaf0)\" d=\"M 535.915074 266.193049 \nL 535.915074 265.958126 \n\" style=\"fill:none;stroke:#1f77b4;stroke-width:1.5;\"/>\n    <path clip-path=\"url(#p6cc14bcaf0)\" d=\"M 537.611638 266.537341 \nL 537.611638 266.406691 \n\" style=\"fill:none;stroke:#1f77b4;stroke-width:1.5;\"/>\n    <path clip-path=\"url(#p6cc14bcaf0)\" d=\"M 539.308203 266.537342 \nL 539.308203 266.406692 \n\" style=\"fill:none;stroke:#1f77b4;stroke-width:1.5;\"/>\n    <path clip-path=\"url(#p6cc14bcaf0)\" d=\"M 541.004767 266.576835 \nL 541.004767 266.466305 \n\" style=\"fill:none;stroke:#1f77b4;stroke-width:1.5;\"/>\n    <path clip-path=\"url(#p6cc14bcaf0)\" d=\"M 542.701331 266.39064 \nL 542.701331 266.20652 \n\" style=\"fill:none;stroke:#1f77b4;stroke-width:1.5;\"/>\n    <path clip-path=\"url(#p6cc14bcaf0)\" d=\"M 544.397895 266.557303 \nL 544.397895 266.436284 \n\" style=\"fill:none;stroke:#1f77b4;stroke-width:1.5;\"/>\n    <path clip-path=\"url(#p6cc14bcaf0)\" d=\"M 546.09446 266.576836 \nL 546.09446 266.466306 \n\" style=\"fill:none;stroke:#1f77b4;stroke-width:1.5;\"/>\n    <path clip-path=\"url(#p6cc14bcaf0)\" d=\"M 547.791024 266.645455 \nL 547.791024 266.645455 \n\" style=\"fill:none;stroke:#1f77b4;stroke-width:1.5;\"/>\n    <path clip-path=\"url(#p6cc14bcaf0)\" d=\"M 549.487588 266.517041 \nL 549.487588 266.377441 \n\" style=\"fill:none;stroke:#1f77b4;stroke-width:1.5;\"/>\n    <path clip-path=\"url(#p6cc14bcaf0)\" d=\"M 551.184153 266.475649 \nL 551.184153 266.319727 \n\" style=\"fill:none;stroke:#1f77b4;stroke-width:1.5;\"/>\n    <path clip-path=\"url(#p6cc14bcaf0)\" d=\"M 552.880717 266.375855 \nL 552.880717 266.173937 \n\" style=\"fill:none;stroke:#1f77b4;stroke-width:1.5;\"/>\n    <path clip-path=\"url(#p6cc14bcaf0)\" d=\"M 554.577281 266.576836 \nL 554.577281 266.466307 \n\" style=\"fill:none;stroke:#1f77b4;stroke-width:1.5;\"/>\n    <path clip-path=\"url(#p6cc14bcaf0)\" d=\"M 556.273846 266.595804 \nL 556.273846 266.496894 \n\" style=\"fill:none;stroke:#1f77b4;stroke-width:1.5;\"/>\n    <path clip-path=\"url(#p6cc14bcaf0)\" d=\"M 557.97041 266.537343 \nL 557.97041 266.406693 \n\" style=\"fill:none;stroke:#1f77b4;stroke-width:1.5;\"/>\n    <path clip-path=\"url(#p6cc14bcaf0)\" d=\"M 559.666974 266.613976 \nL 559.666974 266.528274 \n\" style=\"fill:none;stroke:#1f77b4;stroke-width:1.5;\"/>\n    <path clip-path=\"url(#p6cc14bcaf0)\" d=\"M 561.363538 266.390641 \nL 561.363538 266.206521 \n\" style=\"fill:none;stroke:#1f77b4;stroke-width:1.5;\"/>\n    <path clip-path=\"url(#p6cc14bcaf0)\" d=\"M 563.060103 266.613976 \nL 563.060103 266.528274 \n\" style=\"fill:none;stroke:#1f77b4;stroke-width:1.5;\"/>\n    <path clip-path=\"url(#p6cc14bcaf0)\" d=\"M 564.756667 266.537344 \nL 564.756667 266.406693 \n\" style=\"fill:none;stroke:#1f77b4;stroke-width:1.5;\"/>\n    <path clip-path=\"url(#p6cc14bcaf0)\" d=\"M 566.453231 266.537344 \nL 566.453231 266.406693 \n\" style=\"fill:none;stroke:#1f77b4;stroke-width:1.5;\"/>\n    <path clip-path=\"url(#p6cc14bcaf0)\" d=\"M 568.149796 266.325543 \nL 568.149796 266.122958 \n\" style=\"fill:none;stroke:#1f77b4;stroke-width:1.5;\"/>\n    <path clip-path=\"url(#p6cc14bcaf0)\" d=\"M 569.84636 266.496463 \nL 569.84636 266.348467 \n\" style=\"fill:none;stroke:#1f77b4;stroke-width:1.5;\"/>\n    <path clip-path=\"url(#p6cc14bcaf0)\" d=\"M 571.542924 266.517043 \nL 571.542924 266.377441 \n\" style=\"fill:none;stroke:#1f77b4;stroke-width:1.5;\"/>\n    <path clip-path=\"url(#p6cc14bcaf0)\" d=\"M 573.239489 266.630908 \nL 573.239489 266.560899 \n\" style=\"fill:none;stroke:#1f77b4;stroke-width:1.5;\"/>\n   </g>\n   <g id=\"LineCollection_2\">\n    <path clip-path=\"url(#p6cc14bcaf0)\" d=\"M 65.966761 22.952393 \nL 65.966761 19.554545 \n\" style=\"fill:none;stroke:#ff7f0e;stroke-width:1.5;\"/>\n    <path clip-path=\"url(#p6cc14bcaf0)\" d=\"M 67.663326 44.955613 \nL 67.663326 41.478139 \n\" style=\"fill:none;stroke:#ff7f0e;stroke-width:1.5;\"/>\n    <path clip-path=\"url(#p6cc14bcaf0)\" d=\"M 69.35989 61.543497 \nL 69.35989 58.380296 \n\" style=\"fill:none;stroke:#ff7f0e;stroke-width:1.5;\"/>\n    <path clip-path=\"url(#p6cc14bcaf0)\" d=\"M 71.056454 79.885737 \nL 71.056454 76.381673 \n\" style=\"fill:none;stroke:#ff7f0e;stroke-width:1.5;\"/>\n    <path clip-path=\"url(#p6cc14bcaf0)\" d=\"M 72.753019 93.506055 \nL 72.753019 90.684018 \n\" style=\"fill:none;stroke:#ff7f0e;stroke-width:1.5;\"/>\n    <path clip-path=\"url(#p6cc14bcaf0)\" d=\"M 74.449583 100.781124 \nL 74.449583 98.076515 \n\" style=\"fill:none;stroke:#ff7f0e;stroke-width:1.5;\"/>\n    <path clip-path=\"url(#p6cc14bcaf0)\" d=\"M 76.146147 108.462837 \nL 76.146147 105.877596 \n\" style=\"fill:none;stroke:#ff7f0e;stroke-width:1.5;\"/>\n    <path clip-path=\"url(#p6cc14bcaf0)\" d=\"M 77.842712 114.8638 \nL 77.842712 112.483055 \n\" style=\"fill:none;stroke:#ff7f0e;stroke-width:1.5;\"/>\n    <path clip-path=\"url(#p6cc14bcaf0)\" d=\"M 79.539276 130.587808 \nL 79.539276 128.876652 \n\" style=\"fill:none;stroke:#ff7f0e;stroke-width:1.5;\"/>\n    <path clip-path=\"url(#p6cc14bcaf0)\" d=\"M 81.23584 134.071901 \nL 81.23584 132.157018 \n\" style=\"fill:none;stroke:#ff7f0e;stroke-width:1.5;\"/>\n    <path clip-path=\"url(#p6cc14bcaf0)\" d=\"M 82.932404 142.511976 \nL 82.932404 140.34337 \n\" style=\"fill:none;stroke:#ff7f0e;stroke-width:1.5;\"/>\n    <path clip-path=\"url(#p6cc14bcaf0)\" d=\"M 84.628969 141.058153 \nL 84.628969 138.636207 \n\" style=\"fill:none;stroke:#ff7f0e;stroke-width:1.5;\"/>\n    <path clip-path=\"url(#p6cc14bcaf0)\" d=\"M 86.325533 145.668594 \nL 86.325533 142.81413 \n\" style=\"fill:none;stroke:#ff7f0e;stroke-width:1.5;\"/>\n    <path clip-path=\"url(#p6cc14bcaf0)\" d=\"M 88.022097 161.44094 \nL 88.022097 159.302983 \n\" style=\"fill:none;stroke:#ff7f0e;stroke-width:1.5;\"/>\n    <path clip-path=\"url(#p6cc14bcaf0)\" d=\"M 89.718662 164.231483 \nL 89.718662 162.083899 \n\" style=\"fill:none;stroke:#ff7f0e;stroke-width:1.5;\"/>\n    <path clip-path=\"url(#p6cc14bcaf0)\" d=\"M 91.415226 171.502208 \nL 91.415226 169.648296 \n\" style=\"fill:none;stroke:#ff7f0e;stroke-width:1.5;\"/>\n    <path clip-path=\"url(#p6cc14bcaf0)\" d=\"M 93.11179 173.488649 \nL 93.11179 171.168891 \n\" style=\"fill:none;stroke:#ff7f0e;stroke-width:1.5;\"/>\n    <path clip-path=\"url(#p6cc14bcaf0)\" d=\"M 94.808355 180.493778 \nL 94.808355 178.722572 \n\" style=\"fill:none;stroke:#ff7f0e;stroke-width:1.5;\"/>\n    <path clip-path=\"url(#p6cc14bcaf0)\" d=\"M 96.504919 182.150846 \nL 96.504919 180.006732 \n\" style=\"fill:none;stroke:#ff7f0e;stroke-width:1.5;\"/>\n    <path clip-path=\"url(#p6cc14bcaf0)\" d=\"M 98.201483 186.260156 \nL 98.201483 184.993626 \n\" style=\"fill:none;stroke:#ff7f0e;stroke-width:1.5;\"/>\n    <path clip-path=\"url(#p6cc14bcaf0)\" d=\"M 99.898047 188.828167 \nL 99.898047 187.853545 \n\" style=\"fill:none;stroke:#ff7f0e;stroke-width:1.5;\"/>\n    <path clip-path=\"url(#p6cc14bcaf0)\" d=\"M 101.594612 191.888342 \nL 101.594612 191.163216 \n\" style=\"fill:none;stroke:#ff7f0e;stroke-width:1.5;\"/>\n    <path clip-path=\"url(#p6cc14bcaf0)\" d=\"M 103.291176 191.989439 \nL 103.291176 191.117974 \n\" style=\"fill:none;stroke:#ff7f0e;stroke-width:1.5;\"/>\n    <path clip-path=\"url(#p6cc14bcaf0)\" d=\"M 104.98774 190.523767 \nL 104.98774 189.324504 \n\" style=\"fill:none;stroke:#ff7f0e;stroke-width:1.5;\"/>\n    <path clip-path=\"url(#p6cc14bcaf0)\" d=\"M 106.684305 194.55064 \nL 106.684305 193.940846 \n\" style=\"fill:none;stroke:#ff7f0e;stroke-width:1.5;\"/>\n    <path clip-path=\"url(#p6cc14bcaf0)\" d=\"M 108.380869 193.619077 \nL 108.380869 192.9558 \n\" style=\"fill:none;stroke:#ff7f0e;stroke-width:1.5;\"/>\n    <path clip-path=\"url(#p6cc14bcaf0)\" d=\"M 110.077433 194.985188 \nL 110.077433 194.518924 \n\" style=\"fill:none;stroke:#ff7f0e;stroke-width:1.5;\"/>\n    <path clip-path=\"url(#p6cc14bcaf0)\" d=\"M 111.773998 194.139132 \nL 111.773998 193.553103 \n\" style=\"fill:none;stroke:#ff7f0e;stroke-width:1.5;\"/>\n    <path clip-path=\"url(#p6cc14bcaf0)\" d=\"M 113.470562 194.523784 \nL 113.470562 193.906081 \n\" style=\"fill:none;stroke:#ff7f0e;stroke-width:1.5;\"/>\n    <path clip-path=\"url(#p6cc14bcaf0)\" d=\"M 115.167126 195.103842 \nL 115.167126 194.533799 \n\" style=\"fill:none;stroke:#ff7f0e;stroke-width:1.5;\"/>\n    <path clip-path=\"url(#p6cc14bcaf0)\" d=\"M 116.863691 195.198925 \nL 116.863691 194.672182 \n\" style=\"fill:none;stroke:#ff7f0e;stroke-width:1.5;\"/>\n    <path clip-path=\"url(#p6cc14bcaf0)\" d=\"M 118.560255 195.091572 \nL 118.560255 194.523515 \n\" style=\"fill:none;stroke:#ff7f0e;stroke-width:1.5;\"/>\n    <path clip-path=\"url(#p6cc14bcaf0)\" d=\"M 120.256819 193.219916 \nL 120.256819 191.945065 \n\" style=\"fill:none;stroke:#ff7f0e;stroke-width:1.5;\"/>\n    <path clip-path=\"url(#p6cc14bcaf0)\" d=\"M 121.953383 191.928612 \nL 121.953383 190.198539 \n\" style=\"fill:none;stroke:#ff7f0e;stroke-width:1.5;\"/>\n    <path clip-path=\"url(#p6cc14bcaf0)\" d=\"M 123.649948 195.555632 \nL 123.649948 195.015557 \n\" style=\"fill:none;stroke:#ff7f0e;stroke-width:1.5;\"/>\n    <path clip-path=\"url(#p6cc14bcaf0)\" d=\"M 125.346512 195.830798 \nL 125.346512 195.404244 \n\" style=\"fill:none;stroke:#ff7f0e;stroke-width:1.5;\"/>\n    <path clip-path=\"url(#p6cc14bcaf0)\" d=\"M 127.043076 196.013311 \nL 127.043076 195.022329 \n\" style=\"fill:none;stroke:#ff7f0e;stroke-width:1.5;\"/>\n    <path clip-path=\"url(#p6cc14bcaf0)\" d=\"M 128.739641 195.8754 \nL 128.739641 195.494337 \n\" style=\"fill:none;stroke:#ff7f0e;stroke-width:1.5;\"/>\n    <path clip-path=\"url(#p6cc14bcaf0)\" d=\"M 130.436205 195.842675 \nL 130.436205 195.390785 \n\" style=\"fill:none;stroke:#ff7f0e;stroke-width:1.5;\"/>\n    <path clip-path=\"url(#p6cc14bcaf0)\" d=\"M 132.132769 195.86153 \nL 132.132769 195.385064 \n\" style=\"fill:none;stroke:#ff7f0e;stroke-width:1.5;\"/>\n    <path clip-path=\"url(#p6cc14bcaf0)\" d=\"M 133.829334 196.191847 \nL 133.829334 195.88315 \n\" style=\"fill:none;stroke:#ff7f0e;stroke-width:1.5;\"/>\n    <path clip-path=\"url(#p6cc14bcaf0)\" d=\"M 135.525898 191.414143 \nL 135.525898 189.603959 \n\" style=\"fill:none;stroke:#ff7f0e;stroke-width:1.5;\"/>\n    <path clip-path=\"url(#p6cc14bcaf0)\" d=\"M 137.222462 195.494208 \nL 137.222462 195.104863 \n\" style=\"fill:none;stroke:#ff7f0e;stroke-width:1.5;\"/>\n    <path clip-path=\"url(#p6cc14bcaf0)\" d=\"M 138.919026 196.156178 \nL 138.919026 195.801484 \n\" style=\"fill:none;stroke:#ff7f0e;stroke-width:1.5;\"/>\n    <path clip-path=\"url(#p6cc14bcaf0)\" d=\"M 140.615591 196.4897 \nL 140.615591 196.079222 \n\" style=\"fill:none;stroke:#ff7f0e;stroke-width:1.5;\"/>\n    <path clip-path=\"url(#p6cc14bcaf0)\" d=\"M 142.312155 193.41501 \nL 142.312155 191.946939 \n\" style=\"fill:none;stroke:#ff7f0e;stroke-width:1.5;\"/>\n    <path clip-path=\"url(#p6cc14bcaf0)\" d=\"M 144.008719 196.167791 \nL 144.008719 195.859259 \n\" style=\"fill:none;stroke:#ff7f0e;stroke-width:1.5;\"/>\n    <path clip-path=\"url(#p6cc14bcaf0)\" d=\"M 145.705284 196.3196 \nL 145.705284 196.005921 \n\" style=\"fill:none;stroke:#ff7f0e;stroke-width:1.5;\"/>\n    <path clip-path=\"url(#p6cc14bcaf0)\" d=\"M 147.401848 195.813284 \nL 147.401848 194.237763 \n\" style=\"fill:none;stroke:#ff7f0e;stroke-width:1.5;\"/>\n    <path clip-path=\"url(#p6cc14bcaf0)\" d=\"M 149.098412 196.416443 \nL 149.098412 196.04584 \n\" style=\"fill:none;stroke:#ff7f0e;stroke-width:1.5;\"/>\n    <path clip-path=\"url(#p6cc14bcaf0)\" d=\"M 150.794977 194.147127 \nL 150.794977 192.793598 \n\" style=\"fill:none;stroke:#ff7f0e;stroke-width:1.5;\"/>\n    <path clip-path=\"url(#p6cc14bcaf0)\" d=\"M 152.491541 194.465097 \nL 152.491541 193.180666 \n\" style=\"fill:none;stroke:#ff7f0e;stroke-width:1.5;\"/>\n    <path clip-path=\"url(#p6cc14bcaf0)\" d=\"M 154.188105 196.038986 \nL 154.188105 195.690032 \n\" style=\"fill:none;stroke:#ff7f0e;stroke-width:1.5;\"/>\n    <path clip-path=\"url(#p6cc14bcaf0)\" d=\"M 155.88467 196.558004 \nL 155.88467 196.226346 \n\" style=\"fill:none;stroke:#ff7f0e;stroke-width:1.5;\"/>\n    <path clip-path=\"url(#p6cc14bcaf0)\" d=\"M 157.581234 196.126812 \nL 157.581234 195.82427 \n\" style=\"fill:none;stroke:#ff7f0e;stroke-width:1.5;\"/>\n    <path clip-path=\"url(#p6cc14bcaf0)\" d=\"M 159.277798 195.600624 \nL 159.277798 194.979719 \n\" style=\"fill:none;stroke:#ff7f0e;stroke-width:1.5;\"/>\n    <path clip-path=\"url(#p6cc14bcaf0)\" d=\"M 160.974362 195.97426 \nL 160.974362 195.612541 \n\" style=\"fill:none;stroke:#ff7f0e;stroke-width:1.5;\"/>\n    <path clip-path=\"url(#p6cc14bcaf0)\" d=\"M 162.670927 196.682491 \nL 162.670927 196.37073 \n\" style=\"fill:none;stroke:#ff7f0e;stroke-width:1.5;\"/>\n    <path clip-path=\"url(#p6cc14bcaf0)\" d=\"M 164.367491 193.43886 \nL 164.367491 191.815195 \n\" style=\"fill:none;stroke:#ff7f0e;stroke-width:1.5;\"/>\n    <path clip-path=\"url(#p6cc14bcaf0)\" d=\"M 166.064055 196.552013 \nL 166.064055 196.288382 \n\" style=\"fill:none;stroke:#ff7f0e;stroke-width:1.5;\"/>\n    <path clip-path=\"url(#p6cc14bcaf0)\" d=\"M 167.76062 195.776854 \nL 167.76062 195.382376 \n\" style=\"fill:none;stroke:#ff7f0e;stroke-width:1.5;\"/>\n    <path clip-path=\"url(#p6cc14bcaf0)\" d=\"M 169.457184 195.276141 \nL 169.457184 194.923802 \n\" style=\"fill:none;stroke:#ff7f0e;stroke-width:1.5;\"/>\n    <path clip-path=\"url(#p6cc14bcaf0)\" d=\"M 171.153748 196.113416 \nL 171.153748 195.834155 \n\" style=\"fill:none;stroke:#ff7f0e;stroke-width:1.5;\"/>\n    <path clip-path=\"url(#p6cc14bcaf0)\" d=\"M 172.850313 196.14255 \nL 172.850313 195.701375 \n\" style=\"fill:none;stroke:#ff7f0e;stroke-width:1.5;\"/>\n    <path clip-path=\"url(#p6cc14bcaf0)\" d=\"M 174.546877 196.191523 \nL 174.546877 195.897514 \n\" style=\"fill:none;stroke:#ff7f0e;stroke-width:1.5;\"/>\n    <path clip-path=\"url(#p6cc14bcaf0)\" d=\"M 176.243441 196.161941 \nL 176.243441 195.912745 \n\" style=\"fill:none;stroke:#ff7f0e;stroke-width:1.5;\"/>\n    <path clip-path=\"url(#p6cc14bcaf0)\" d=\"M 177.940006 196.390912 \nL 177.940006 196.032546 \n\" style=\"fill:none;stroke:#ff7f0e;stroke-width:1.5;\"/>\n    <path clip-path=\"url(#p6cc14bcaf0)\" d=\"M 179.63657 196.510604 \nL 179.63657 196.308638 \n\" style=\"fill:none;stroke:#ff7f0e;stroke-width:1.5;\"/>\n    <path clip-path=\"url(#p6cc14bcaf0)\" d=\"M 181.333134 196.558655 \nL 181.333134 196.311122 \n\" style=\"fill:none;stroke:#ff7f0e;stroke-width:1.5;\"/>\n    <path clip-path=\"url(#p6cc14bcaf0)\" d=\"M 183.029698 196.457219 \nL 183.029698 196.114709 \n\" style=\"fill:none;stroke:#ff7f0e;stroke-width:1.5;\"/>\n    <path clip-path=\"url(#p6cc14bcaf0)\" d=\"M 184.726263 196.894123 \nL 184.726263 196.569986 \n\" style=\"fill:none;stroke:#ff7f0e;stroke-width:1.5;\"/>\n    <path clip-path=\"url(#p6cc14bcaf0)\" d=\"M 186.422827 196.563837 \nL 186.422827 196.247721 \n\" style=\"fill:none;stroke:#ff7f0e;stroke-width:1.5;\"/>\n    <path clip-path=\"url(#p6cc14bcaf0)\" d=\"M 188.119391 196.866013 \nL 188.119391 196.477365 \n\" style=\"fill:none;stroke:#ff7f0e;stroke-width:1.5;\"/>\n    <path clip-path=\"url(#p6cc14bcaf0)\" d=\"M 189.815956 197.017433 \nL 189.815956 196.675681 \n\" style=\"fill:none;stroke:#ff7f0e;stroke-width:1.5;\"/>\n    <path clip-path=\"url(#p6cc14bcaf0)\" d=\"M 191.51252 196.606871 \nL 191.51252 196.189586 \n\" style=\"fill:none;stroke:#ff7f0e;stroke-width:1.5;\"/>\n    <path clip-path=\"url(#p6cc14bcaf0)\" d=\"M 193.209084 196.85227 \nL 193.209084 196.532877 \n\" style=\"fill:none;stroke:#ff7f0e;stroke-width:1.5;\"/>\n    <path clip-path=\"url(#p6cc14bcaf0)\" d=\"M 194.905649 197.281883 \nL 194.905649 196.92456 \n\" style=\"fill:none;stroke:#ff7f0e;stroke-width:1.5;\"/>\n    <path clip-path=\"url(#p6cc14bcaf0)\" d=\"M 196.602213 193.467212 \nL 196.602213 191.779341 \n\" style=\"fill:none;stroke:#ff7f0e;stroke-width:1.5;\"/>\n    <path clip-path=\"url(#p6cc14bcaf0)\" d=\"M 198.298777 196.595196 \nL 198.298777 196.336167 \n\" style=\"fill:none;stroke:#ff7f0e;stroke-width:1.5;\"/>\n    <path clip-path=\"url(#p6cc14bcaf0)\" d=\"M 199.995341 196.977303 \nL 199.995341 196.627893 \n\" style=\"fill:none;stroke:#ff7f0e;stroke-width:1.5;\"/>\n    <path clip-path=\"url(#p6cc14bcaf0)\" d=\"M 201.691906 192.780597 \nL 201.691906 190.939112 \n\" style=\"fill:none;stroke:#ff7f0e;stroke-width:1.5;\"/>\n    <path clip-path=\"url(#p6cc14bcaf0)\" d=\"M 203.38847 197.339599 \nL 203.38847 196.99622 \n\" style=\"fill:none;stroke:#ff7f0e;stroke-width:1.5;\"/>\n    <path clip-path=\"url(#p6cc14bcaf0)\" d=\"M 205.085034 196.812315 \nL 205.085034 196.410566 \n\" style=\"fill:none;stroke:#ff7f0e;stroke-width:1.5;\"/>\n    <path clip-path=\"url(#p6cc14bcaf0)\" d=\"M 206.781599 197.624128 \nL 206.781599 197.226671 \n\" style=\"fill:none;stroke:#ff7f0e;stroke-width:1.5;\"/>\n    <path clip-path=\"url(#p6cc14bcaf0)\" d=\"M 208.478163 197.425524 \nL 208.478163 197.009718 \n\" style=\"fill:none;stroke:#ff7f0e;stroke-width:1.5;\"/>\n    <path clip-path=\"url(#p6cc14bcaf0)\" d=\"M 210.174727 189.080511 \nL 210.174727 186.282686 \n\" style=\"fill:none;stroke:#ff7f0e;stroke-width:1.5;\"/>\n    <path clip-path=\"url(#p6cc14bcaf0)\" d=\"M 211.871292 197.688415 \nL 211.871292 197.3435 \n\" style=\"fill:none;stroke:#ff7f0e;stroke-width:1.5;\"/>\n    <path clip-path=\"url(#p6cc14bcaf0)\" d=\"M 213.567856 197.281227 \nL 213.567856 196.920755 \n\" style=\"fill:none;stroke:#ff7f0e;stroke-width:1.5;\"/>\n    <path clip-path=\"url(#p6cc14bcaf0)\" d=\"M 215.26442 197.097169 \nL 215.26442 196.766346 \n\" style=\"fill:none;stroke:#ff7f0e;stroke-width:1.5;\"/>\n    <path clip-path=\"url(#p6cc14bcaf0)\" d=\"M 216.960985 198.088456 \nL 216.960985 197.688995 \n\" style=\"fill:none;stroke:#ff7f0e;stroke-width:1.5;\"/>\n    <path clip-path=\"url(#p6cc14bcaf0)\" d=\"M 218.657549 198.933284 \nL 218.657549 198.070077 \n\" style=\"fill:none;stroke:#ff7f0e;stroke-width:1.5;\"/>\n    <path clip-path=\"url(#p6cc14bcaf0)\" d=\"M 220.354113 197.408741 \nL 220.354113 196.905291 \n\" style=\"fill:none;stroke:#ff7f0e;stroke-width:1.5;\"/>\n    <path clip-path=\"url(#p6cc14bcaf0)\" d=\"M 222.050677 193.851392 \nL 222.050677 190.791854 \n\" style=\"fill:none;stroke:#ff7f0e;stroke-width:1.5;\"/>\n    <path clip-path=\"url(#p6cc14bcaf0)\" d=\"M 223.747242 198.906901 \nL 223.747242 198.432962 \n\" style=\"fill:none;stroke:#ff7f0e;stroke-width:1.5;\"/>\n    <path clip-path=\"url(#p6cc14bcaf0)\" d=\"M 225.443806 198.598933 \nL 225.443806 198.110686 \n\" style=\"fill:none;stroke:#ff7f0e;stroke-width:1.5;\"/>\n    <path clip-path=\"url(#p6cc14bcaf0)\" d=\"M 227.14037 200.269187 \nL 227.14037 199.60426 \n\" style=\"fill:none;stroke:#ff7f0e;stroke-width:1.5;\"/>\n    <path clip-path=\"url(#p6cc14bcaf0)\" d=\"M 228.836935 201.231243 \nL 228.836935 200.49227 \n\" style=\"fill:none;stroke:#ff7f0e;stroke-width:1.5;\"/>\n    <path clip-path=\"url(#p6cc14bcaf0)\" d=\"M 230.533499 189.546585 \nL 230.533499 186.235963 \n\" style=\"fill:none;stroke:#ff7f0e;stroke-width:1.5;\"/>\n    <path clip-path=\"url(#p6cc14bcaf0)\" d=\"M 232.230063 193.124403 \nL 232.230063 190.492674 \n\" style=\"fill:none;stroke:#ff7f0e;stroke-width:1.5;\"/>\n    <path clip-path=\"url(#p6cc14bcaf0)\" d=\"M 233.926628 200.674392 \nL 233.926628 199.997202 \n\" style=\"fill:none;stroke:#ff7f0e;stroke-width:1.5;\"/>\n    <path clip-path=\"url(#p6cc14bcaf0)\" d=\"M 235.623192 202.810984 \nL 235.623192 201.648331 \n\" style=\"fill:none;stroke:#ff7f0e;stroke-width:1.5;\"/>\n    <path clip-path=\"url(#p6cc14bcaf0)\" d=\"M 237.319756 205.066587 \nL 237.319756 203.961606 \n\" style=\"fill:none;stroke:#ff7f0e;stroke-width:1.5;\"/>\n    <path clip-path=\"url(#p6cc14bcaf0)\" d=\"M 239.016321 205.050411 \nL 239.016321 203.056919 \n\" style=\"fill:none;stroke:#ff7f0e;stroke-width:1.5;\"/>\n    <path clip-path=\"url(#p6cc14bcaf0)\" d=\"M 240.712885 204.255472 \nL 240.712885 201.611941 \n\" style=\"fill:none;stroke:#ff7f0e;stroke-width:1.5;\"/>\n    <path clip-path=\"url(#p6cc14bcaf0)\" d=\"M 242.409449 216.772744 \nL 242.409449 215.062936 \n\" style=\"fill:none;stroke:#ff7f0e;stroke-width:1.5;\"/>\n    <path clip-path=\"url(#p6cc14bcaf0)\" d=\"M 244.106013 224.52203 \nL 244.106013 222.64043 \n\" style=\"fill:none;stroke:#ff7f0e;stroke-width:1.5;\"/>\n    <path clip-path=\"url(#p6cc14bcaf0)\" d=\"M 245.802578 227.018216 \nL 245.802578 224.128844 \n\" style=\"fill:none;stroke:#ff7f0e;stroke-width:1.5;\"/>\n    <path clip-path=\"url(#p6cc14bcaf0)\" d=\"M 247.499142 234.832783 \nL 247.499142 232.883091 \n\" style=\"fill:none;stroke:#ff7f0e;stroke-width:1.5;\"/>\n    <path clip-path=\"url(#p6cc14bcaf0)\" d=\"M 249.195706 244.749115 \nL 249.195706 242.931429 \n\" style=\"fill:none;stroke:#ff7f0e;stroke-width:1.5;\"/>\n    <path clip-path=\"url(#p6cc14bcaf0)\" d=\"M 250.892271 253.896737 \nL 250.892271 252.410673 \n\" style=\"fill:none;stroke:#ff7f0e;stroke-width:1.5;\"/>\n    <path clip-path=\"url(#p6cc14bcaf0)\" d=\"M 252.588835 256.60008 \nL 252.588835 255.113942 \n\" style=\"fill:none;stroke:#ff7f0e;stroke-width:1.5;\"/>\n    <path clip-path=\"url(#p6cc14bcaf0)\" d=\"M 254.285399 259.414758 \nL 254.285399 258.183839 \n\" style=\"fill:none;stroke:#ff7f0e;stroke-width:1.5;\"/>\n    <path clip-path=\"url(#p6cc14bcaf0)\" d=\"M 255.981964 262.574506 \nL 255.981964 261.703474 \n\" style=\"fill:none;stroke:#ff7f0e;stroke-width:1.5;\"/>\n    <path clip-path=\"url(#p6cc14bcaf0)\" d=\"M 257.678528 261.846028 \nL 257.678528 260.887589 \n\" style=\"fill:none;stroke:#ff7f0e;stroke-width:1.5;\"/>\n    <path clip-path=\"url(#p6cc14bcaf0)\" d=\"M 259.375092 264.237914 \nL 259.375092 263.539749 \n\" style=\"fill:none;stroke:#ff7f0e;stroke-width:1.5;\"/>\n    <path clip-path=\"url(#p6cc14bcaf0)\" d=\"M 261.071656 264.374138 \nL 261.071656 263.756914 \n\" style=\"fill:none;stroke:#ff7f0e;stroke-width:1.5;\"/>\n    <path clip-path=\"url(#p6cc14bcaf0)\" d=\"M 262.768221 265.298574 \nL 262.768221 264.874567 \n\" style=\"fill:none;stroke:#ff7f0e;stroke-width:1.5;\"/>\n    <path clip-path=\"url(#p6cc14bcaf0)\" d=\"M 264.464785 265.663006 \nL 264.464785 265.256478 \n\" style=\"fill:none;stroke:#ff7f0e;stroke-width:1.5;\"/>\n    <path clip-path=\"url(#p6cc14bcaf0)\" d=\"M 266.161349 265.936996 \nL 266.161349 265.607909 \n\" style=\"fill:none;stroke:#ff7f0e;stroke-width:1.5;\"/>\n    <path clip-path=\"url(#p6cc14bcaf0)\" d=\"M 267.857914 266.050422 \nL 267.857914 265.765429 \n\" style=\"fill:none;stroke:#ff7f0e;stroke-width:1.5;\"/>\n    <path clip-path=\"url(#p6cc14bcaf0)\" d=\"M 269.554478 261.054202 \nL 269.554478 258.729049 \n\" style=\"fill:none;stroke:#ff7f0e;stroke-width:1.5;\"/>\n    <path clip-path=\"url(#p6cc14bcaf0)\" d=\"M 271.251042 266.430277 \nL 271.251042 266.199638 \n\" style=\"fill:none;stroke:#ff7f0e;stroke-width:1.5;\"/>\n    <path clip-path=\"url(#p6cc14bcaf0)\" d=\"M 272.947607 265.818322 \nL 272.947607 265.263361 \n\" style=\"fill:none;stroke:#ff7f0e;stroke-width:1.5;\"/>\n    <path clip-path=\"url(#p6cc14bcaf0)\" d=\"M 274.644171 266.133039 \nL 274.644171 265.791345 \n\" style=\"fill:none;stroke:#ff7f0e;stroke-width:1.5;\"/>\n    <path clip-path=\"url(#p6cc14bcaf0)\" d=\"M 276.340735 266.301845 \nL 276.340735 266.108656 \n\" style=\"fill:none;stroke:#ff7f0e;stroke-width:1.5;\"/>\n    <path clip-path=\"url(#p6cc14bcaf0)\" d=\"M 278.0373 266.24091 \nL 278.0373 265.803022 \n\" style=\"fill:none;stroke:#ff7f0e;stroke-width:1.5;\"/>\n    <path clip-path=\"url(#p6cc14bcaf0)\" d=\"M 279.733864 266.458527 \nL 279.733864 266.314729 \n\" style=\"fill:none;stroke:#ff7f0e;stroke-width:1.5;\"/>\n    <path clip-path=\"url(#p6cc14bcaf0)\" d=\"M 281.430428 266.500394 \nL 281.430428 266.376009 \n\" style=\"fill:none;stroke:#ff7f0e;stroke-width:1.5;\"/>\n    <path clip-path=\"url(#p6cc14bcaf0)\" d=\"M 283.126992 266.082498 \nL 283.126992 265.526419 \n\" style=\"fill:none;stroke:#ff7f0e;stroke-width:1.5;\"/>\n    <path clip-path=\"url(#p6cc14bcaf0)\" d=\"M 284.823557 266.464478 \nL 284.823557 266.319244 \n\" style=\"fill:none;stroke:#ff7f0e;stroke-width:1.5;\"/>\n    <path clip-path=\"url(#p6cc14bcaf0)\" d=\"M 286.520121 266.566632 \nL 286.520121 266.479958 \n\" style=\"fill:none;stroke:#ff7f0e;stroke-width:1.5;\"/>\n    <path clip-path=\"url(#p6cc14bcaf0)\" d=\"M 288.216685 266.566482 \nL 288.216685 266.478044 \n\" style=\"fill:none;stroke:#ff7f0e;stroke-width:1.5;\"/>\n    <path clip-path=\"url(#p6cc14bcaf0)\" d=\"M 289.91325 266.360259 \nL 289.91325 266.178508 \n\" style=\"fill:none;stroke:#ff7f0e;stroke-width:1.5;\"/>\n    <path clip-path=\"url(#p6cc14bcaf0)\" d=\"M 291.609814 266.568301 \nL 291.609814 266.481107 \n\" style=\"fill:none;stroke:#ff7f0e;stroke-width:1.5;\"/>\n    <path clip-path=\"url(#p6cc14bcaf0)\" d=\"M 293.306378 266.405512 \nL 293.306378 266.238307 \n\" style=\"fill:none;stroke:#ff7f0e;stroke-width:1.5;\"/>\n    <path clip-path=\"url(#p6cc14bcaf0)\" d=\"M 295.002943 266.569221 \nL 295.002943 266.481508 \n\" style=\"fill:none;stroke:#ff7f0e;stroke-width:1.5;\"/>\n    <path clip-path=\"url(#p6cc14bcaf0)\" d=\"M 296.699507 266.569472 \nL 296.699507 266.481728 \n\" style=\"fill:none;stroke:#ff7f0e;stroke-width:1.5;\"/>\n    <path clip-path=\"url(#p6cc14bcaf0)\" d=\"M 298.396071 266.601909 \nL 298.396071 266.550913 \n\" style=\"fill:none;stroke:#ff7f0e;stroke-width:1.5;\"/>\n    <path clip-path=\"url(#p6cc14bcaf0)\" d=\"M 300.092635 266.587261 \nL 300.092635 266.516469 \n\" style=\"fill:none;stroke:#ff7f0e;stroke-width:1.5;\"/>\n    <path clip-path=\"url(#p6cc14bcaf0)\" d=\"M 301.7892 266.512867 \nL 301.7892 266.390108 \n\" style=\"fill:none;stroke:#ff7f0e;stroke-width:1.5;\"/>\n    <path clip-path=\"url(#p6cc14bcaf0)\" d=\"M 303.485764 266.602947 \nL 303.485764 266.552865 \n\" style=\"fill:none;stroke:#ff7f0e;stroke-width:1.5;\"/>\n    <path clip-path=\"url(#p6cc14bcaf0)\" d=\"M 305.182328 266.319715 \nL 305.182328 265.930066 \n\" style=\"fill:none;stroke:#ff7f0e;stroke-width:1.5;\"/>\n    <path clip-path=\"url(#p6cc14bcaf0)\" d=\"M 306.878893 266.281014 \nL 306.878893 266.075318 \n\" style=\"fill:none;stroke:#ff7f0e;stroke-width:1.5;\"/>\n    <path clip-path=\"url(#p6cc14bcaf0)\" d=\"M 308.575457 266.34917 \nL 308.575457 266.162832 \n\" style=\"fill:none;stroke:#ff7f0e;stroke-width:1.5;\"/>\n    <path clip-path=\"url(#p6cc14bcaf0)\" d=\"M 310.272021 266.55789 \nL 310.272021 266.457915 \n\" style=\"fill:none;stroke:#ff7f0e;stroke-width:1.5;\"/>\n    <path clip-path=\"url(#p6cc14bcaf0)\" d=\"M 311.968586 265.891181 \nL 311.968586 265.116894 \n\" style=\"fill:none;stroke:#ff7f0e;stroke-width:1.5;\"/>\n    <path clip-path=\"url(#p6cc14bcaf0)\" d=\"M 313.66515 266.444816 \nL 313.66515 265.984534 \n\" style=\"fill:none;stroke:#ff7f0e;stroke-width:1.5;\"/>\n    <path clip-path=\"url(#p6cc14bcaf0)\" d=\"M 315.361714 266.439898 \nL 315.361714 266.280237 \n\" style=\"fill:none;stroke:#ff7f0e;stroke-width:1.5;\"/>\n    <path clip-path=\"url(#p6cc14bcaf0)\" d=\"M 317.058279 266.614021 \nL 317.058279 266.564016 \n\" style=\"fill:none;stroke:#ff7f0e;stroke-width:1.5;\"/>\n    <path clip-path=\"url(#p6cc14bcaf0)\" d=\"M 318.754843 266.582332 \nL 318.754843 266.495805 \n\" style=\"fill:none;stroke:#ff7f0e;stroke-width:1.5;\"/>\n    <path clip-path=\"url(#p6cc14bcaf0)\" d=\"M 320.451407 266.614333 \nL 320.451407 266.614333 \n\" style=\"fill:none;stroke:#ff7f0e;stroke-width:1.5;\"/>\n    <path clip-path=\"url(#p6cc14bcaf0)\" d=\"M 322.147971 266.483909 \nL 322.147971 266.342115 \n\" style=\"fill:none;stroke:#ff7f0e;stroke-width:1.5;\"/>\n    <path clip-path=\"url(#p6cc14bcaf0)\" d=\"M 323.844536 266.582996 \nL 323.844536 266.496466 \n\" style=\"fill:none;stroke:#ff7f0e;stroke-width:1.5;\"/>\n    <path clip-path=\"url(#p6cc14bcaf0)\" d=\"M 325.5411 266.58241 \nL 325.5411 266.493599 \n\" style=\"fill:none;stroke:#ff7f0e;stroke-width:1.5;\"/>\n    <path clip-path=\"url(#p6cc14bcaf0)\" d=\"M 327.237664 266.441106 \nL 327.237664 266.281282 \n\" style=\"fill:none;stroke:#ff7f0e;stroke-width:1.5;\"/>\n    <path clip-path=\"url(#p6cc14bcaf0)\" d=\"M 328.934229 265.234966 \nL 328.934229 264.027214 \n\" style=\"fill:none;stroke:#ff7f0e;stroke-width:1.5;\"/>\n    <path clip-path=\"url(#p6cc14bcaf0)\" d=\"M 330.630793 266.524187 \nL 330.630793 265.939676 \n\" style=\"fill:none;stroke:#ff7f0e;stroke-width:1.5;\"/>\n    <path clip-path=\"url(#p6cc14bcaf0)\" d=\"M 332.327357 266.449847 \nL 332.327357 266.29178 \n\" style=\"fill:none;stroke:#ff7f0e;stroke-width:1.5;\"/>\n    <path clip-path=\"url(#p6cc14bcaf0)\" d=\"M 334.023922 266.622287 \nL 334.023922 266.622287 \n\" style=\"fill:none;stroke:#ff7f0e;stroke-width:1.5;\"/>\n    <path clip-path=\"url(#p6cc14bcaf0)\" d=\"M 335.720486 266.622287 \nL 335.720486 266.622287 \n\" style=\"fill:none;stroke:#ff7f0e;stroke-width:1.5;\"/>\n    <path clip-path=\"url(#p6cc14bcaf0)\" d=\"M 337.41705 266.572254 \nL 337.41705 266.472585 \n\" style=\"fill:none;stroke:#ff7f0e;stroke-width:1.5;\"/>\n    <path clip-path=\"url(#p6cc14bcaf0)\" d=\"M 339.113615 266.607814 \nL 339.113615 266.537264 \n\" style=\"fill:none;stroke:#ff7f0e;stroke-width:1.5;\"/>\n    <path clip-path=\"url(#p6cc14bcaf0)\" d=\"M 340.810179 266.571945 \nL 340.810179 266.471082 \n\" style=\"fill:none;stroke:#ff7f0e;stroke-width:1.5;\"/>\n    <path clip-path=\"url(#p6cc14bcaf0)\" d=\"M 342.506743 266.622701 \nL 342.506743 266.622701 \n\" style=\"fill:none;stroke:#ff7f0e;stroke-width:1.5;\"/>\n    <path clip-path=\"url(#p6cc14bcaf0)\" d=\"M 344.203307 266.53387 \nL 344.203307 266.411918 \n\" style=\"fill:none;stroke:#ff7f0e;stroke-width:1.5;\"/>\n    <path clip-path=\"url(#p6cc14bcaf0)\" d=\"M 345.899872 266.622948 \nL 345.899872 266.622948 \n\" style=\"fill:none;stroke:#ff7f0e;stroke-width:1.5;\"/>\n    <path clip-path=\"url(#p6cc14bcaf0)\" d=\"M 347.596436 266.590842 \nL 347.596436 266.503436 \n\" style=\"fill:none;stroke:#ff7f0e;stroke-width:1.5;\"/>\n    <path clip-path=\"url(#p6cc14bcaf0)\" d=\"M 349.293 266.623043 \nL 349.293 266.623043 \n\" style=\"fill:none;stroke:#ff7f0e;stroke-width:1.5;\"/>\n    <path clip-path=\"url(#p6cc14bcaf0)\" d=\"M 350.989565 262.906365 \nL 350.989565 260.033442 \n\" style=\"fill:none;stroke:#ff7f0e;stroke-width:1.5;\"/>\n    <path clip-path=\"url(#p6cc14bcaf0)\" d=\"M 352.686129 266.629429 \nL 352.686129 266.629429 \n\" style=\"fill:none;stroke:#ff7f0e;stroke-width:1.5;\"/>\n    <path clip-path=\"url(#p6cc14bcaf0)\" d=\"M 354.382693 266.629429 \nL 354.382693 266.629429 \n\" style=\"fill:none;stroke:#ff7f0e;stroke-width:1.5;\"/>\n    <path clip-path=\"url(#p6cc14bcaf0)\" d=\"M 356.079258 266.629417 \nL 356.079258 266.57921 \n\" style=\"fill:none;stroke:#ff7f0e;stroke-width:1.5;\"/>\n    <path clip-path=\"url(#p6cc14bcaf0)\" d=\"M 357.775822 266.629455 \nL 357.775822 266.629455 \n\" style=\"fill:none;stroke:#ff7f0e;stroke-width:1.5;\"/>\n    <path clip-path=\"url(#p6cc14bcaf0)\" d=\"M 359.472386 266.479642 \nL 359.472386 266.330832 \n\" style=\"fill:none;stroke:#ff7f0e;stroke-width:1.5;\"/>\n    <path clip-path=\"url(#p6cc14bcaf0)\" d=\"M 361.16895 266.579353 \nL 361.16895 266.479048 \n\" style=\"fill:none;stroke:#ff7f0e;stroke-width:1.5;\"/>\n    <path clip-path=\"url(#p6cc14bcaf0)\" d=\"M 362.865515 266.536599 \nL 362.865515 266.161356 \n\" style=\"fill:none;stroke:#ff7f0e;stroke-width:1.5;\"/>\n    <path clip-path=\"url(#p6cc14bcaf0)\" d=\"M 364.562079 266.615998 \nL 364.562079 266.545613 \n\" style=\"fill:none;stroke:#ff7f0e;stroke-width:1.5;\"/>\n    <path clip-path=\"url(#p6cc14bcaf0)\" d=\"M 366.258643 266.630691 \nL 366.258643 266.630691 \n\" style=\"fill:none;stroke:#ff7f0e;stroke-width:1.5;\"/>\n    <path clip-path=\"url(#p6cc14bcaf0)\" d=\"M 367.955208 266.501326 \nL 367.955208 266.36069 \n\" style=\"fill:none;stroke:#ff7f0e;stroke-width:1.5;\"/>\n    <path clip-path=\"url(#p6cc14bcaf0)\" d=\"M 369.651772 266.630896 \nL 369.651772 266.630896 \n\" style=\"fill:none;stroke:#ff7f0e;stroke-width:1.5;\"/>\n    <path clip-path=\"url(#p6cc14bcaf0)\" d=\"M 371.348336 266.630883 \nL 371.348336 266.580655 \n\" style=\"fill:none;stroke:#ff7f0e;stroke-width:1.5;\"/>\n    <path clip-path=\"url(#p6cc14bcaf0)\" d=\"M 373.044901 266.630891 \nL 373.044901 266.58066 \n\" style=\"fill:none;stroke:#ff7f0e;stroke-width:1.5;\"/>\n    <path clip-path=\"url(#p6cc14bcaf0)\" d=\"M 374.741465 266.630899 \nL 374.741465 266.581102 \n\" style=\"fill:none;stroke:#ff7f0e;stroke-width:1.5;\"/>\n    <path clip-path=\"url(#p6cc14bcaf0)\" d=\"M 376.438029 266.580914 \nL 376.438029 266.481246 \n\" style=\"fill:none;stroke:#ff7f0e;stroke-width:1.5;\"/>\n    <path clip-path=\"url(#p6cc14bcaf0)\" d=\"M 378.134594 266.599386 \nL 378.134594 266.513218 \n\" style=\"fill:none;stroke:#ff7f0e;stroke-width:1.5;\"/>\n    <path clip-path=\"url(#p6cc14bcaf0)\" d=\"M 379.831158 266.631124 \nL 379.831158 266.631124 \n\" style=\"fill:none;stroke:#ff7f0e;stroke-width:1.5;\"/>\n    <path clip-path=\"url(#p6cc14bcaf0)\" d=\"M 381.527722 266.631124 \nL 381.527722 266.631124 \n\" style=\"fill:none;stroke:#ff7f0e;stroke-width:1.5;\"/>\n    <path clip-path=\"url(#p6cc14bcaf0)\" d=\"M 383.224286 266.599193 \nL 383.224286 266.512261 \n\" style=\"fill:none;stroke:#ff7f0e;stroke-width:1.5;\"/>\n    <path clip-path=\"url(#p6cc14bcaf0)\" d=\"M 384.920851 266.616289 \nL 384.920851 266.544849 \n\" style=\"fill:none;stroke:#ff7f0e;stroke-width:1.5;\"/>\n    <path clip-path=\"url(#p6cc14bcaf0)\" d=\"M 386.617415 266.63118 \nL 386.617415 266.63118 \n\" style=\"fill:none;stroke:#ff7f0e;stroke-width:1.5;\"/>\n    <path clip-path=\"url(#p6cc14bcaf0)\" d=\"M 388.313979 266.63118 \nL 388.313979 266.63118 \n\" style=\"fill:none;stroke:#ff7f0e;stroke-width:1.5;\"/>\n    <path clip-path=\"url(#p6cc14bcaf0)\" d=\"M 390.010544 266.61642 \nL 390.010544 266.545395 \n\" style=\"fill:none;stroke:#ff7f0e;stroke-width:1.5;\"/>\n    <path clip-path=\"url(#p6cc14bcaf0)\" d=\"M 391.707108 266.50038 \nL 391.707108 266.358174 \n\" style=\"fill:none;stroke:#ff7f0e;stroke-width:1.5;\"/>\n    <path clip-path=\"url(#p6cc14bcaf0)\" d=\"M 393.403672 266.59969 \nL 393.403672 266.513522 \n\" style=\"fill:none;stroke:#ff7f0e;stroke-width:1.5;\"/>\n    <path clip-path=\"url(#p6cc14bcaf0)\" d=\"M 395.100237 266.631425 \nL 395.100237 266.631425 \n\" style=\"fill:none;stroke:#ff7f0e;stroke-width:1.5;\"/>\n    <path clip-path=\"url(#p6cc14bcaf0)\" d=\"M 396.796801 266.631413 \nL 396.796801 266.581613 \n\" style=\"fill:none;stroke:#ff7f0e;stroke-width:1.5;\"/>\n    <path clip-path=\"url(#p6cc14bcaf0)\" d=\"M 398.493365 266.631456 \nL 398.493365 266.631456 \n\" style=\"fill:none;stroke:#ff7f0e;stroke-width:1.5;\"/>\n    <path clip-path=\"url(#p6cc14bcaf0)\" d=\"M 400.189929 266.631456 \nL 400.189929 266.631456 \n\" style=\"fill:none;stroke:#ff7f0e;stroke-width:1.5;\"/>\n    <path clip-path=\"url(#p6cc14bcaf0)\" d=\"M 401.886494 266.631456 \nL 401.886494 266.631456 \n\" style=\"fill:none;stroke:#ff7f0e;stroke-width:1.5;\"/>\n    <path clip-path=\"url(#p6cc14bcaf0)\" d=\"M 403.583058 266.631456 \nL 403.583058 266.631456 \n\" style=\"fill:none;stroke:#ff7f0e;stroke-width:1.5;\"/>\n    <path clip-path=\"url(#p6cc14bcaf0)\" d=\"M 405.279622 266.631456 \nL 405.279622 266.631456 \n\" style=\"fill:none;stroke:#ff7f0e;stroke-width:1.5;\"/>\n    <path clip-path=\"url(#p6cc14bcaf0)\" d=\"M 406.976187 266.631456 \nL 406.976187 266.631456 \n\" style=\"fill:none;stroke:#ff7f0e;stroke-width:1.5;\"/>\n    <path clip-path=\"url(#p6cc14bcaf0)\" d=\"M 408.672751 266.616828 \nL 408.672751 266.546435 \n\" style=\"fill:none;stroke:#ff7f0e;stroke-width:1.5;\"/>\n    <path clip-path=\"url(#p6cc14bcaf0)\" d=\"M 410.369315 266.581366 \nL 410.369315 266.481467 \n\" style=\"fill:none;stroke:#ff7f0e;stroke-width:1.5;\"/>\n    <path clip-path=\"url(#p6cc14bcaf0)\" d=\"M 412.06588 266.631578 \nL 412.06588 266.631578 \n\" style=\"fill:none;stroke:#ff7f0e;stroke-width:1.5;\"/>\n    <path clip-path=\"url(#p6cc14bcaf0)\" d=\"M 413.762444 266.631578 \nL 413.762444 266.631578 \n\" style=\"fill:none;stroke:#ff7f0e;stroke-width:1.5;\"/>\n    <path clip-path=\"url(#p6cc14bcaf0)\" d=\"M 415.459008 266.631578 \nL 415.459008 266.631578 \n\" style=\"fill:none;stroke:#ff7f0e;stroke-width:1.5;\"/>\n    <path clip-path=\"url(#p6cc14bcaf0)\" d=\"M 417.155573 266.61695 \nL 417.155573 266.546554 \n\" style=\"fill:none;stroke:#ff7f0e;stroke-width:1.5;\"/>\n    <path clip-path=\"url(#p6cc14bcaf0)\" d=\"M 418.852137 266.631635 \nL 418.852137 266.631635 \n\" style=\"fill:none;stroke:#ff7f0e;stroke-width:1.5;\"/>\n    <path clip-path=\"url(#p6cc14bcaf0)\" d=\"M 420.548701 266.631623 \nL 420.548701 266.58182 \n\" style=\"fill:none;stroke:#ff7f0e;stroke-width:1.5;\"/>\n    <path clip-path=\"url(#p6cc14bcaf0)\" d=\"M 422.245265 266.631653 \nL 422.245265 266.581429 \n\" style=\"fill:none;stroke:#ff7f0e;stroke-width:1.5;\"/>\n    <path clip-path=\"url(#p6cc14bcaf0)\" d=\"M 423.94183 266.631673 \nL 423.94183 266.631673 \n\" style=\"fill:none;stroke:#ff7f0e;stroke-width:1.5;\"/>\n    <path clip-path=\"url(#p6cc14bcaf0)\" d=\"M 425.638394 266.631673 \nL 425.638394 266.631673 \n\" style=\"fill:none;stroke:#ff7f0e;stroke-width:1.5;\"/>\n    <path clip-path=\"url(#p6cc14bcaf0)\" d=\"M 427.334958 266.631673 \nL 427.334958 266.631673 \n\" style=\"fill:none;stroke:#ff7f0e;stroke-width:1.5;\"/>\n    <path clip-path=\"url(#p6cc14bcaf0)\" d=\"M 429.031523 266.631673 \nL 429.031523 266.631673 \n\" style=\"fill:none;stroke:#ff7f0e;stroke-width:1.5;\"/>\n    <path clip-path=\"url(#p6cc14bcaf0)\" d=\"M 430.728087 266.439797 \nL 430.728087 266.27544 \n\" style=\"fill:none;stroke:#ff7f0e;stroke-width:1.5;\"/>\n    <path clip-path=\"url(#p6cc14bcaf0)\" d=\"M 432.424651 266.631864 \nL 432.424651 266.581676 \n\" style=\"fill:none;stroke:#ff7f0e;stroke-width:1.5;\"/>\n    <path clip-path=\"url(#p6cc14bcaf0)\" d=\"M 434.121216 264.040888 \nL 434.121216 259.774242 \n\" style=\"fill:none;stroke:#ff7f0e;stroke-width:1.5;\"/>\n    <path clip-path=\"url(#p6cc14bcaf0)\" d=\"M 435.81778 266.636317 \nL 435.81778 266.636317 \n\" style=\"fill:none;stroke:#ff7f0e;stroke-width:1.5;\"/>\n    <path clip-path=\"url(#p6cc14bcaf0)\" d=\"M 437.514344 266.567031 \nL 437.514344 266.455426 \n\" style=\"fill:none;stroke:#ff7f0e;stroke-width:1.5;\"/>\n    <path clip-path=\"url(#p6cc14bcaf0)\" d=\"M 439.210909 266.636353 \nL 439.210909 266.636353 \n\" style=\"fill:none;stroke:#ff7f0e;stroke-width:1.5;\"/>\n    <path clip-path=\"url(#p6cc14bcaf0)\" d=\"M 440.907473 266.636353 \nL 440.907473 266.636353 \n\" style=\"fill:none;stroke:#ff7f0e;stroke-width:1.5;\"/>\n    <path clip-path=\"url(#p6cc14bcaf0)\" d=\"M 442.604037 266.621748 \nL 442.604037 266.551466 \n\" style=\"fill:none;stroke:#ff7f0e;stroke-width:1.5;\"/>\n    <path clip-path=\"url(#p6cc14bcaf0)\" d=\"M 444.300601 266.604637 \nL 444.300601 266.518183 \n\" style=\"fill:none;stroke:#ff7f0e;stroke-width:1.5;\"/>\n    <path clip-path=\"url(#p6cc14bcaf0)\" d=\"M 445.997166 266.621837 \nL 445.997166 266.551555 \n\" style=\"fill:none;stroke:#ff7f0e;stroke-width:1.5;\"/>\n    <path clip-path=\"url(#p6cc14bcaf0)\" style=\"fill:none;stroke:#ff7f0e;stroke-width:1.5;\"/>\n    <path clip-path=\"url(#p6cc14bcaf0)\" d=\"M 449.390294 266.621876 \nL 449.390294 266.551593 \n\" style=\"fill:none;stroke:#ff7f0e;stroke-width:1.5;\"/>\n    <path clip-path=\"url(#p6cc14bcaf0)\" d=\"M 451.086859 266.62177 \nL 451.086859 266.550793 \n\" style=\"fill:none;stroke:#ff7f0e;stroke-width:1.5;\"/>\n    <path clip-path=\"url(#p6cc14bcaf0)\" d=\"M 452.783423 266.586681 \nL 452.783423 266.487384 \n\" style=\"fill:none;stroke:#ff7f0e;stroke-width:1.5;\"/>\n    <path clip-path=\"url(#p6cc14bcaf0)\" d=\"M 454.479987 266.621907 \nL 454.479987 266.551224 \n\" style=\"fill:none;stroke:#ff7f0e;stroke-width:1.5;\"/>\n    <path clip-path=\"url(#p6cc14bcaf0)\" d=\"M 456.176552 266.604997 \nL 456.176552 266.518959 \n\" style=\"fill:none;stroke:#ff7f0e;stroke-width:1.5;\"/>\n    <path clip-path=\"url(#p6cc14bcaf0)\" d=\"M 457.873116 266.636654 \nL 457.873116 266.636654 \n\" style=\"fill:none;stroke:#ff7f0e;stroke-width:1.5;\"/>\n    <path clip-path=\"url(#p6cc14bcaf0)\" d=\"M 459.56968 266.636654 \nL 459.56968 266.636654 \n\" style=\"fill:none;stroke:#ff7f0e;stroke-width:1.5;\"/>\n    <path clip-path=\"url(#p6cc14bcaf0)\" d=\"M 461.266244 266.636654 \nL 461.266244 266.636654 \n\" style=\"fill:none;stroke:#ff7f0e;stroke-width:1.5;\"/>\n    <path clip-path=\"url(#p6cc14bcaf0)\" d=\"M 462.962809 266.547635 \nL 462.962809 266.425426 \n\" style=\"fill:none;stroke:#ff7f0e;stroke-width:1.5;\"/>\n    <path clip-path=\"url(#p6cc14bcaf0)\" d=\"M 464.659373 266.636694 \nL 464.659373 266.636694 \n\" style=\"fill:none;stroke:#ff7f0e;stroke-width:1.5;\"/>\n    <path clip-path=\"url(#p6cc14bcaf0)\" d=\"M 466.355937 266.636694 \nL 466.355937 266.636694 \n\" style=\"fill:none;stroke:#ff7f0e;stroke-width:1.5;\"/>\n    <path clip-path=\"url(#p6cc14bcaf0)\" d=\"M 468.052502 266.636694 \nL 468.052502 266.636694 \n\" style=\"fill:none;stroke:#ff7f0e;stroke-width:1.5;\"/>\n    <path clip-path=\"url(#p6cc14bcaf0)\" d=\"M 469.749066 266.636694 \nL 469.749066 266.636694 \n\" style=\"fill:none;stroke:#ff7f0e;stroke-width:1.5;\"/>\n    <path clip-path=\"url(#p6cc14bcaf0)\" d=\"M 471.44563 266.636694 \nL 471.44563 266.636694 \n\" style=\"fill:none;stroke:#ff7f0e;stroke-width:1.5;\"/>\n    <path clip-path=\"url(#p6cc14bcaf0)\" d=\"M 473.142195 266.567477 \nL 473.142195 266.455983 \n\" style=\"fill:none;stroke:#ff7f0e;stroke-width:1.5;\"/>\n    <path clip-path=\"url(#p6cc14bcaf0)\" d=\"M 474.838759 266.527712 \nL 474.838759 266.395923 \n\" style=\"fill:none;stroke:#ff7f0e;stroke-width:1.5;\"/>\n    <path clip-path=\"url(#p6cc14bcaf0)\" d=\"M 476.535323 266.636857 \nL 476.535323 266.636857 \n\" style=\"fill:none;stroke:#ff7f0e;stroke-width:1.5;\"/>\n    <path clip-path=\"url(#p6cc14bcaf0)\" d=\"M 478.231888 266.622207 \nL 478.231888 266.551712 \n\" style=\"fill:none;stroke:#ff7f0e;stroke-width:1.5;\"/>\n    <path clip-path=\"url(#p6cc14bcaf0)\" d=\"M 479.928452 266.636885 \nL 479.928452 266.636885 \n\" style=\"fill:none;stroke:#ff7f0e;stroke-width:1.5;\"/>\n    <path clip-path=\"url(#p6cc14bcaf0)\" d=\"M 481.625016 266.636885 \nL 481.625016 266.636885 \n\" style=\"fill:none;stroke:#ff7f0e;stroke-width:1.5;\"/>\n    <path clip-path=\"url(#p6cc14bcaf0)\" d=\"M 483.32158 266.636885 \nL 483.32158 266.636885 \n\" style=\"fill:none;stroke:#ff7f0e;stroke-width:1.5;\"/>\n    <path clip-path=\"url(#p6cc14bcaf0)\" d=\"M 485.018145 266.636872 \nL 485.018145 266.586912 \n\" style=\"fill:none;stroke:#ff7f0e;stroke-width:1.5;\"/>\n    <path clip-path=\"url(#p6cc14bcaf0)\" d=\"M 486.714709 266.605199 \nL 486.714709 266.518888 \n\" style=\"fill:none;stroke:#ff7f0e;stroke-width:1.5;\"/>\n    <path clip-path=\"url(#p6cc14bcaf0)\" d=\"M 488.411273 266.636953 \nL 488.411273 266.636953 \n\" style=\"fill:none;stroke:#ff7f0e;stroke-width:1.5;\"/>\n    <path clip-path=\"url(#p6cc14bcaf0)\" d=\"M 490.107838 266.636515 \nL 490.107838 264.874421 \n\" style=\"fill:none;stroke:#ff7f0e;stroke-width:1.5;\"/>\n    <path clip-path=\"url(#p6cc14bcaf0)\" d=\"M 491.804402 266.606772 \nL 491.804402 266.520746 \n\" style=\"fill:none;stroke:#ff7f0e;stroke-width:1.5;\"/>\n    <path clip-path=\"url(#p6cc14bcaf0)\" style=\"fill:none;stroke:#ff7f0e;stroke-width:1.5;\"/>\n    <path clip-path=\"url(#p6cc14bcaf0)\" d=\"M 495.197531 266.588563 \nL 495.197531 266.489274 \n\" style=\"fill:none;stroke:#ff7f0e;stroke-width:1.5;\"/>\n    <path clip-path=\"url(#p6cc14bcaf0)\" d=\"M 496.894095 266.569559 \nL 496.894095 266.458599 \n\" style=\"fill:none;stroke:#ff7f0e;stroke-width:1.5;\"/>\n    <path clip-path=\"url(#p6cc14bcaf0)\" d=\"M 498.590659 266.63849 \nL 498.590659 266.63849 \n\" style=\"fill:none;stroke:#ff7f0e;stroke-width:1.5;\"/>\n    <path clip-path=\"url(#p6cc14bcaf0)\" d=\"M 500.287224 266.63849 \nL 500.287224 266.63849 \n\" style=\"fill:none;stroke:#ff7f0e;stroke-width:1.5;\"/>\n    <path clip-path=\"url(#p6cc14bcaf0)\" d=\"M 501.983788 266.63849 \nL 501.983788 266.63849 \n\" style=\"fill:none;stroke:#ff7f0e;stroke-width:1.5;\"/>\n    <path clip-path=\"url(#p6cc14bcaf0)\" d=\"M 503.680352 266.623883 \nL 503.680352 266.553596 \n\" style=\"fill:none;stroke:#ff7f0e;stroke-width:1.5;\"/>\n    <path clip-path=\"url(#p6cc14bcaf0)\" d=\"M 505.376916 266.638511 \nL 505.376916 266.638511 \n\" style=\"fill:none;stroke:#ff7f0e;stroke-width:1.5;\"/>\n    <path clip-path=\"url(#p6cc14bcaf0)\" d=\"M 507.073481 266.58866 \nL 507.073481 266.489354 \n\" style=\"fill:none;stroke:#ff7f0e;stroke-width:1.5;\"/>\n    <path clip-path=\"url(#p6cc14bcaf0)\" d=\"M 508.770045 266.569358 \nL 508.770045 266.457909 \n\" style=\"fill:none;stroke:#ff7f0e;stroke-width:1.5;\"/>\n    <path clip-path=\"url(#p6cc14bcaf0)\" d=\"M 510.466609 266.638612 \nL 510.466609 266.638612 \n\" style=\"fill:none;stroke:#ff7f0e;stroke-width:1.5;\"/>\n    <path clip-path=\"url(#p6cc14bcaf0)\" d=\"M 512.163174 266.638612 \nL 512.163174 266.638612 \n\" style=\"fill:none;stroke:#ff7f0e;stroke-width:1.5;\"/>\n    <path clip-path=\"url(#p6cc14bcaf0)\" d=\"M 513.859738 266.638612 \nL 513.859738 266.638612 \n\" style=\"fill:none;stroke:#ff7f0e;stroke-width:1.5;\"/>\n    <path clip-path=\"url(#p6cc14bcaf0)\" d=\"M 515.556302 266.638612 \nL 515.556302 266.638612 \n\" style=\"fill:none;stroke:#ff7f0e;stroke-width:1.5;\"/>\n    <path clip-path=\"url(#p6cc14bcaf0)\" d=\"M 517.252867 266.638612 \nL 517.252867 266.638612 \n\" style=\"fill:none;stroke:#ff7f0e;stroke-width:1.5;\"/>\n    <path clip-path=\"url(#p6cc14bcaf0)\" d=\"M 518.949431 266.638612 \nL 518.949431 266.638612 \n\" style=\"fill:none;stroke:#ff7f0e;stroke-width:1.5;\"/>\n    <path clip-path=\"url(#p6cc14bcaf0)\" d=\"M 520.645995 266.588496 \nL 520.645995 266.488659 \n\" style=\"fill:none;stroke:#ff7f0e;stroke-width:1.5;\"/>\n    <path clip-path=\"url(#p6cc14bcaf0)\" d=\"M 522.342559 266.588352 \nL 522.342559 266.488182 \n\" style=\"fill:none;stroke:#ff7f0e;stroke-width:1.5;\"/>\n    <path clip-path=\"url(#p6cc14bcaf0)\" d=\"M 524.039124 266.624041 \nL 524.039124 266.553748 \n\" style=\"fill:none;stroke:#ff7f0e;stroke-width:1.5;\"/>\n    <path clip-path=\"url(#p6cc14bcaf0)\" d=\"M 525.735688 266.638668 \nL 525.735688 266.638668 \n\" style=\"fill:none;stroke:#ff7f0e;stroke-width:1.5;\"/>\n    <path clip-path=\"url(#p6cc14bcaf0)\" d=\"M 527.432252 266.638668 \nL 527.432252 266.638668 \n\" style=\"fill:none;stroke:#ff7f0e;stroke-width:1.5;\"/>\n    <path clip-path=\"url(#p6cc14bcaf0)\" d=\"M 529.128817 266.623982 \nL 529.128817 266.553309 \n\" style=\"fill:none;stroke:#ff7f0e;stroke-width:1.5;\"/>\n    <path clip-path=\"url(#p6cc14bcaf0)\" d=\"M 530.825381 266.638681 \nL 530.825381 266.638681 \n\" style=\"fill:none;stroke:#ff7f0e;stroke-width:1.5;\"/>\n    <path clip-path=\"url(#p6cc14bcaf0)\" d=\"M 532.521945 266.638681 \nL 532.521945 266.638681 \n\" style=\"fill:none;stroke:#ff7f0e;stroke-width:1.5;\"/>\n    <path clip-path=\"url(#p6cc14bcaf0)\" d=\"M 534.21851 266.606939 \nL 534.21851 266.520523 \n\" style=\"fill:none;stroke:#ff7f0e;stroke-width:1.5;\"/>\n    <path clip-path=\"url(#p6cc14bcaf0)\" style=\"fill:none;stroke:#ff7f0e;stroke-width:1.5;\"/>\n    <path clip-path=\"url(#p6cc14bcaf0)\" style=\"fill:none;stroke:#ff7f0e;stroke-width:1.5;\"/>\n    <path clip-path=\"url(#p6cc14bcaf0)\" d=\"M 539.308203 266.549605 \nL 539.308203 266.427258 \n\" style=\"fill:none;stroke:#ff7f0e;stroke-width:1.5;\"/>\n    <path clip-path=\"url(#p6cc14bcaf0)\" style=\"fill:none;stroke:#ff7f0e;stroke-width:1.5;\"/>\n    <path clip-path=\"url(#p6cc14bcaf0)\" style=\"fill:none;stroke:#ff7f0e;stroke-width:1.5;\"/>\n    <path clip-path=\"url(#p6cc14bcaf0)\" d=\"M 544.397895 266.588685 \nL 544.397895 266.488949 \n\" style=\"fill:none;stroke:#ff7f0e;stroke-width:1.5;\"/>\n    <path clip-path=\"url(#p6cc14bcaf0)\" d=\"M 546.09446 266.638805 \nL 546.09446 266.638805 \n\" style=\"fill:none;stroke:#ff7f0e;stroke-width:1.5;\"/>\n    <path clip-path=\"url(#p6cc14bcaf0)\" d=\"M 547.791024 266.588735 \nL 547.791024 266.488993 \n\" style=\"fill:none;stroke:#ff7f0e;stroke-width:1.5;\"/>\n    <path clip-path=\"url(#p6cc14bcaf0)\" d=\"M 549.487588 266.529877 \nL 549.487588 266.398175 \n\" style=\"fill:none;stroke:#ff7f0e;stroke-width:1.5;\"/>\n    <path clip-path=\"url(#p6cc14bcaf0)\" d=\"M 551.184153 266.638905 \nL 551.184153 266.638905 \n\" style=\"fill:none;stroke:#ff7f0e;stroke-width:1.5;\"/>\n    <path clip-path=\"url(#p6cc14bcaf0)\" d=\"M 552.880717 266.638905 \nL 552.880717 266.638905 \n\" style=\"fill:none;stroke:#ff7f0e;stroke-width:1.5;\"/>\n    <path clip-path=\"url(#p6cc14bcaf0)\" d=\"M 554.577281 266.638905 \nL 554.577281 266.638905 \n\" style=\"fill:none;stroke:#ff7f0e;stroke-width:1.5;\"/>\n    <path clip-path=\"url(#p6cc14bcaf0)\" d=\"M 556.273846 266.638905 \nL 556.273846 266.638905 \n\" style=\"fill:none;stroke:#ff7f0e;stroke-width:1.5;\"/>\n    <path clip-path=\"url(#p6cc14bcaf0)\" d=\"M 557.97041 266.638905 \nL 557.97041 266.638905 \n\" style=\"fill:none;stroke:#ff7f0e;stroke-width:1.5;\"/>\n    <path clip-path=\"url(#p6cc14bcaf0)\" d=\"M 559.666974 266.638905 \nL 559.666974 266.638905 \n\" style=\"fill:none;stroke:#ff7f0e;stroke-width:1.5;\"/>\n    <path clip-path=\"url(#p6cc14bcaf0)\" d=\"M 561.363538 266.607159 \nL 561.363538 266.520734 \n\" style=\"fill:none;stroke:#ff7f0e;stroke-width:1.5;\"/>\n    <path clip-path=\"url(#p6cc14bcaf0)\" d=\"M 563.060103 266.638945 \nL 563.060103 266.638945 \n\" style=\"fill:none;stroke:#ff7f0e;stroke-width:1.5;\"/>\n    <path clip-path=\"url(#p6cc14bcaf0)\" d=\"M 564.756667 266.624304 \nL 564.756667 266.553854 \n\" style=\"fill:none;stroke:#ff7f0e;stroke-width:1.5;\"/>\n    <path clip-path=\"url(#p6cc14bcaf0)\" d=\"M 566.453231 266.638969 \nL 566.453231 266.638969 \n\" style=\"fill:none;stroke:#ff7f0e;stroke-width:1.5;\"/>\n    <path clip-path=\"url(#p6cc14bcaf0)\" d=\"M 568.149796 266.638969 \nL 568.149796 266.638969 \n\" style=\"fill:none;stroke:#ff7f0e;stroke-width:1.5;\"/>\n    <path clip-path=\"url(#p6cc14bcaf0)\" d=\"M 569.84636 266.638969 \nL 569.84636 266.638969 \n\" style=\"fill:none;stroke:#ff7f0e;stroke-width:1.5;\"/>\n    <path clip-path=\"url(#p6cc14bcaf0)\" d=\"M 571.542924 266.638969 \nL 571.542924 266.638969 \n\" style=\"fill:none;stroke:#ff7f0e;stroke-width:1.5;\"/>\n    <path clip-path=\"url(#p6cc14bcaf0)\" d=\"M 573.239489 266.638969 \nL 573.239489 266.638969 \n\" style=\"fill:none;stroke:#ff7f0e;stroke-width:1.5;\"/>\n   </g>\n   <g id=\"line2d_14\">\n    <path clip-path=\"url(#p6cc14bcaf0)\" d=\"M 40.603125 267.007332 \nL 606.803125 267.007332 \n\" style=\"fill:none;stroke:#000000;stroke-linecap:square;stroke-width:1.5;\"/>\n   </g>\n   <g id=\"line2d_15\">\n    <path clip-path=\"url(#p6cc14bcaf0)\" d=\"M 65.966761 27.74089 \nL 67.663326 51.735187 \nL 71.056454 83.186915 \nL 72.753019 96.438487 \nL 74.449583 111.811414 \nL 76.146147 119.735701 \nL 77.842712 135.198811 \nL 79.539276 141.162821 \nL 81.23584 156.131147 \nL 82.932404 160.686542 \nL 84.628969 169.690299 \nL 86.325533 175.146333 \nL 89.718662 192.070712 \nL 91.415226 198.698309 \nL 93.11179 203.938677 \nL 94.808355 208.243232 \nL 96.504919 209.113462 \nL 99.898047 220.392914 \nL 101.594612 220.189382 \nL 103.291176 222.272662 \nL 104.98774 227.857562 \nL 106.684305 230.824111 \nL 108.380869 232.677821 \nL 110.077433 235.712637 \nL 111.773998 237.564155 \nL 113.470562 236.974107 \nL 115.167126 241.091219 \nL 116.863691 241.410059 \nL 118.560255 244.172961 \nL 120.256819 246.42507 \nL 121.953383 246.715535 \nL 123.649948 248.88704 \nL 125.346512 249.028305 \nL 127.043076 252.111261 \nL 128.739641 252.085388 \nL 130.436205 250.190135 \nL 132.132769 254.366854 \nL 133.829334 254.75711 \nL 135.525898 255.965704 \nL 137.222462 256.041393 \nL 138.919026 256.685326 \nL 140.615591 257.008051 \nL 142.312155 256.385492 \nL 144.008719 258.46935 \nL 145.705284 259.590822 \nL 147.401848 259.195167 \nL 149.098412 259.167138 \nL 150.794977 258.942792 \nL 152.491541 259.963837 \nL 154.188105 262.193415 \nL 155.88467 261.887527 \nL 157.581234 261.030074 \nL 160.974362 261.562041 \nL 162.670927 261.325361 \nL 164.367491 262.371714 \nL 166.064055 262.79169 \nL 167.76062 262.786158 \nL 169.457184 263.116024 \nL 171.153748 262.293199 \nL 172.850313 263.395476 \nL 176.243441 263.695292 \nL 177.940006 262.740924 \nL 179.63657 262.863882 \nL 181.333134 262.588955 \nL 184.726263 265.355153 \nL 186.422827 264.243328 \nL 188.119391 264.203875 \nL 189.815956 264.986264 \nL 191.51252 263.444835 \nL 193.209084 264.933767 \nL 194.905649 264.909204 \nL 196.602213 265.035275 \nL 198.298777 264.51408 \nL 199.995341 264.786555 \nL 201.691906 265.356213 \nL 203.38847 264.563865 \nL 205.085034 265.257255 \nL 206.781599 265.381134 \nL 208.478163 264.713645 \nL 210.174727 265.26951 \nL 211.871292 265.159355 \nL 213.567856 265.331844 \nL 215.26442 265.235302 \nL 216.960985 264.61256 \nL 218.657549 265.752963 \nL 220.354113 265.406236 \nL 222.050677 265.704434 \nL 223.747242 265.330981 \nL 225.443806 265.604462 \nL 227.14037 265.530175 \nL 228.836935 265.751838 \nL 230.533499 265.703618 \nL 232.230063 265.03482 \nL 233.926628 266.298125 \nL 235.623192 265.230463 \nL 237.319756 265.133967 \nL 239.016321 265.827549 \nL 240.712885 266.071848 \nL 242.409449 265.802801 \nL 245.802578 266.075295 \nL 247.499142 265.208318 \nL 249.195706 265.678984 \nL 250.892271 265.160734 \nL 252.588835 265.802866 \nL 254.285399 266.050595 \nL 255.981964 265.356997 \nL 257.678528 265.926753 \nL 259.375092 265.505639 \nL 261.071656 265.902001 \nL 262.768221 266.174505 \nL 264.464785 266.174512 \nL 266.161349 265.233164 \nL 267.857914 265.728618 \nL 274.644171 266.323185 \nL 276.340735 265.827726 \nL 278.0373 266.447062 \nL 279.733864 265.763 \nL 281.430428 265.505692 \nL 283.126992 266.125027 \nL 289.91325 266.025948 \nL 291.609814 266.323233 \nL 293.306378 265.728672 \nL 295.002943 265.778225 \nL 296.699507 266.521439 \nL 298.396071 266.125056 \nL 300.092635 266.025967 \nL 301.7892 266.149838 \nL 303.485764 265.877329 \nL 305.182328 265.977626 \nL 306.878893 265.680365 \nL 310.272021 266.248952 \nL 311.968586 265.827786 \nL 313.66515 266.025989 \nL 317.058279 265.926891 \nL 320.451407 266.149866 \nL 322.147971 265.902124 \nL 323.844536 266.521492 \nL 325.5411 265.827798 \nL 327.237664 266.422395 \nL 328.934229 266.44717 \nL 330.630793 266.323298 \nL 332.327357 266.447173 \nL 334.023922 266.323301 \nL 335.720486 265.926906 \nL 344.203307 266.224213 \nL 345.899872 265.852586 \nL 347.596436 266.323317 \nL 350.989565 266.026016 \nL 352.686129 266.323319 \nL 354.382693 266.149893 \nL 357.775822 266.447199 \nL 359.472386 266.224218 \nL 361.16895 266.471975 \nL 362.865515 266.323322 \nL 364.562079 266.521527 \nL 366.258643 266.174674 \nL 367.955208 266.273776 \nL 369.651772 266.125121 \nL 371.348336 265.530513 \nL 373.044901 266.075578 \nL 374.741465 266.323331 \nL 376.438029 266.125124 \nL 378.134594 266.521536 \nL 379.831158 266.348108 \nL 381.527722 266.348108 \nL 383.224286 266.149905 \nL 384.920851 266.372886 \nL 386.617415 266.447213 \nL 388.313979 266.050804 \nL 390.010544 266.397664 \nL 391.707108 266.199456 \nL 393.403672 266.224234 \nL 395.100237 266.571096 \nL 398.493365 266.249012 \nL 400.189929 266.447217 \nL 401.886494 266.397665 \nL 405.279622 266.645426 \nL 410.369315 266.323341 \nL 412.06588 266.645427 \nL 413.762444 266.620651 \nL 415.459008 266.249012 \nL 417.155573 266.571101 \nL 418.852137 266.5711 \nL 422.245265 266.199461 \nL 423.94183 266.496774 \nL 425.638394 266.125134 \nL 429.031523 266.199464 \nL 430.728087 266.397672 \nL 432.424651 266.249016 \nL 434.121216 266.397673 \nL 435.81778 266.273794 \nL 444.300601 266.472004 \nL 447.69373 266.3729 \nL 449.390294 266.645438 \nL 451.086859 266.546333 \nL 454.479987 265.877376 \nL 456.176552 266.422455 \nL 457.873116 266.174693 \nL 459.56968 266.496783 \nL 461.266244 265.951706 \nL 462.962809 266.273798 \nL 464.659373 266.472008 \nL 466.355937 266.546337 \nL 469.749066 266.199468 \nL 471.44563 266.39768 \nL 473.142195 266.100364 \nL 474.838759 266.397681 \nL 479.928452 266.595893 \nL 481.625016 266.372905 \nL 486.714709 266.372906 \nL 488.411273 266.521565 \nL 490.107838 266.472011 \nL 491.804402 266.273801 \nL 493.500966 266.397683 \nL 495.197531 266.645448 \nL 496.894095 266.224248 \nL 500.287224 266.496789 \nL 501.983788 266.273802 \nL 503.680352 266.199473 \nL 505.376916 266.323355 \nL 507.073481 266.100365 \nL 508.770045 266.07559 \nL 510.466609 266.496791 \nL 512.163174 266.620675 \nL 513.859738 266.571122 \nL 515.556302 266.348133 \nL 518.949431 266.645452 \nL 520.645995 266.397686 \nL 522.342559 266.496793 \nL 524.039124 266.472016 \nL 527.432252 266.620676 \nL 529.128817 266.472016 \nL 530.825381 266.546346 \nL 532.521945 266.29858 \nL 534.21851 266.44724 \nL 535.915074 266.075587 \nL 537.611638 266.472016 \nL 541.004767 266.52157 \nL 542.701331 266.29858 \nL 544.397895 266.496794 \nL 547.791024 266.645455 \nL 549.487588 266.447241 \nL 552.880717 266.274896 \nL 554.577281 266.521571 \nL 559.666974 266.571125 \nL 561.363538 266.298581 \nL 563.060103 266.571125 \nL 568.149796 266.22425 \nL 569.84636 266.422465 \nL 571.542924 266.447242 \nL 573.239489 266.595903 \nL 573.239489 266.595903 \n\" style=\"fill:none;stroke:#1f77b4;stroke-linecap:square;stroke-width:1.5;\"/>\n   </g>\n   <g id=\"line2d_16\">\n    <path clip-path=\"url(#p6cc14bcaf0)\" d=\"M 65.966761 21.253469 \nL 67.663326 43.216876 \nL 69.35989 59.961896 \nL 71.056454 78.133705 \nL 72.753019 92.095036 \nL 77.842712 113.673428 \nL 79.539276 129.73223 \nL 81.23584 133.114459 \nL 82.932404 141.427673 \nL 84.628969 139.84718 \nL 86.325533 144.241362 \nL 88.022097 160.371961 \nL 89.718662 163.157691 \nL 91.415226 170.575252 \nL 93.11179 172.32877 \nL 94.808355 179.608175 \nL 96.504919 181.078789 \nL 98.201483 185.626891 \nL 99.898047 188.340856 \nL 101.594612 191.525779 \nL 103.291176 191.553707 \nL 104.98774 189.924136 \nL 106.684305 194.245743 \nL 108.380869 193.287438 \nL 110.077433 194.752056 \nL 111.773998 193.846117 \nL 113.470562 194.214933 \nL 115.167126 194.818821 \nL 116.863691 194.935554 \nL 118.560255 194.807544 \nL 120.256819 192.58249 \nL 121.953383 191.063575 \nL 123.649948 195.285594 \nL 125.346512 195.617521 \nL 127.043076 195.51782 \nL 128.739641 195.684868 \nL 132.132769 195.623297 \nL 133.829334 196.037499 \nL 135.525898 190.509051 \nL 137.222462 195.299535 \nL 138.919026 195.978831 \nL 140.615591 196.284461 \nL 142.312155 192.680974 \nL 144.008719 196.013525 \nL 145.705284 196.162761 \nL 147.401848 195.025523 \nL 149.098412 196.231142 \nL 150.794977 193.470363 \nL 152.491541 193.822882 \nL 154.188105 195.864509 \nL 155.88467 196.392175 \nL 157.581234 195.975541 \nL 159.277798 195.290172 \nL 160.974362 195.7934 \nL 162.670927 196.526611 \nL 164.367491 192.627028 \nL 166.064055 196.420198 \nL 167.76062 195.579615 \nL 169.457184 195.099972 \nL 171.153748 195.973786 \nL 172.850313 195.921963 \nL 174.546877 196.044519 \nL 176.243441 196.037343 \nL 179.63657 196.409621 \nL 181.333134 196.434889 \nL 183.029698 196.285964 \nL 184.726263 196.732054 \nL 186.422827 196.405779 \nL 189.815956 196.846557 \nL 191.51252 196.398229 \nL 193.209084 196.692574 \nL 194.905649 197.103221 \nL 196.602213 192.623277 \nL 198.298777 196.465681 \nL 199.995341 196.802598 \nL 201.691906 191.859855 \nL 203.38847 197.167909 \nL 205.085034 196.611441 \nL 206.781599 197.425399 \nL 208.478163 197.217621 \nL 210.174727 187.681598 \nL 211.871292 197.515957 \nL 213.567856 197.100991 \nL 215.26442 196.931757 \nL 216.960985 197.888725 \nL 218.657549 198.50168 \nL 220.354113 197.157016 \nL 222.050677 192.321623 \nL 223.747242 198.669932 \nL 225.443806 198.35481 \nL 227.14037 199.936724 \nL 228.836935 200.861757 \nL 230.533499 187.891274 \nL 232.230063 191.808539 \nL 233.926628 200.335797 \nL 235.623192 202.229658 \nL 237.319756 204.514096 \nL 239.016321 204.053665 \nL 240.712885 202.933707 \nL 242.409449 215.91784 \nL 244.106013 223.58123 \nL 245.802578 225.57353 \nL 247.499142 233.857937 \nL 249.195706 243.840272 \nL 250.892271 253.153705 \nL 252.588835 255.857011 \nL 254.285399 258.799298 \nL 255.981964 262.13899 \nL 257.678528 261.366809 \nL 259.375092 263.888831 \nL 261.071656 264.065526 \nL 262.768221 265.08657 \nL 266.161349 265.772452 \nL 267.857914 265.907925 \nL 269.554478 259.891625 \nL 271.251042 266.314957 \nL 272.947607 265.540841 \nL 274.644171 265.962192 \nL 276.340735 266.205251 \nL 278.0373 266.021966 \nL 279.733864 266.386628 \nL 281.430428 266.438202 \nL 283.126992 265.804458 \nL 284.823557 266.391861 \nL 286.520121 266.523295 \nL 288.216685 266.522263 \nL 289.91325 266.269384 \nL 291.609814 266.524704 \nL 293.306378 266.321909 \nL 295.002943 266.525364 \nL 303.485764 266.577906 \nL 305.182328 266.124891 \nL 308.575457 266.256001 \nL 310.272021 266.507902 \nL 311.968586 265.504038 \nL 313.66515 266.214675 \nL 317.058279 266.589018 \nL 318.754843 266.539069 \nL 320.451407 266.614333 \nL 322.147971 266.413012 \nL 323.844536 266.539731 \nL 325.5411 266.538004 \nL 327.237664 266.361194 \nL 328.934229 264.63109 \nL 330.630793 266.231931 \nL 332.327357 266.370813 \nL 334.023922 266.622287 \nL 342.506743 266.622701 \nL 344.203307 266.472894 \nL 345.899872 266.622948 \nL 347.596436 266.547139 \nL 349.293 266.623043 \nL 350.989565 261.469903 \nL 352.686129 266.629429 \nL 357.775822 266.629455 \nL 359.472386 266.405237 \nL 361.16895 266.529201 \nL 362.865515 266.348977 \nL 364.562079 266.580806 \nL 366.258643 266.630691 \nL 367.955208 266.431008 \nL 369.651772 266.630896 \nL 378.134594 266.556302 \nL 381.527722 266.631124 \nL 384.920851 266.580569 \nL 388.313979 266.63118 \nL 393.403672 266.556606 \nL 396.796801 266.606513 \nL 405.279622 266.631456 \nL 429.031523 266.631673 \nL 430.728087 266.357618 \nL 432.424651 266.60677 \nL 434.121216 261.907565 \nL 435.81778 266.636317 \nL 437.514344 266.511229 \nL 439.210909 266.636353 \nL 461.266244 266.636654 \nL 462.962809 266.486531 \nL 464.659373 266.636694 \nL 471.44563 266.636694 \nL 474.838759 266.461817 \nL 476.535323 266.636857 \nL 479.928452 266.636885 \nL 488.411273 266.636953 \nL 490.107838 265.755468 \nL 491.804402 266.563759 \nL 493.500966 266.638405 \nL 496.894095 266.514079 \nL 498.590659 266.63849 \nL 507.073481 266.539007 \nL 508.770045 266.513634 \nL 510.466609 266.638612 \nL 537.611638 266.638723 \nL 539.308203 266.488431 \nL 541.004767 266.638752 \nL 547.791024 266.538864 \nL 549.487588 266.464026 \nL 551.184153 266.638905 \nL 573.239489 266.638969 \nL 573.239489 266.638969 \n\" style=\"fill:none;stroke:#ff7f0e;stroke-linecap:square;stroke-width:1.5;\"/>\n   </g>\n   <g id=\"patch_3\">\n    <path d=\"M 40.603125 279 \nL 40.603125 7.2 \n\" style=\"fill:none;stroke:#000000;stroke-linecap:square;stroke-linejoin:miter;stroke-width:0.8;\"/>\n   </g>\n   <g id=\"patch_4\">\n    <path d=\"M 598.603125 279 \nL 598.603125 7.2 \n\" style=\"fill:none;stroke:#000000;stroke-linecap:square;stroke-linejoin:miter;stroke-width:0.8;\"/>\n   </g>\n   <g id=\"patch_5\">\n    <path d=\"M 40.603125 279 \nL 598.603125 279 \n\" style=\"fill:none;stroke:#000000;stroke-linecap:square;stroke-linejoin:miter;stroke-width:0.8;\"/>\n   </g>\n   <g id=\"patch_6\">\n    <path d=\"M 40.603125 7.2 \nL 598.603125 7.2 \n\" style=\"fill:none;stroke:#000000;stroke-linecap:square;stroke-linejoin:miter;stroke-width:0.8;\"/>\n   </g>\n   <g id=\"legend_1\">\n    <g id=\"patch_7\">\n     <path d=\"M 523.2125 59.234375 \nL 591.603125 59.234375 \nQ 593.603125 59.234375 593.603125 57.234375 \nL 593.603125 14.2 \nQ 593.603125 12.2 591.603125 12.2 \nL 523.2125 12.2 \nQ 521.2125 12.2 521.2125 14.2 \nL 521.2125 57.234375 \nQ 521.2125 59.234375 523.2125 59.234375 \nz\n\" style=\"fill:#ffffff;opacity:0.8;stroke:#cccccc;stroke-linejoin:miter;\"/>\n    </g>\n    <g id=\"line2d_17\">\n     <path d=\"M 525.2125 20.298437 \nL 545.2125 20.298437 \n\" style=\"fill:none;stroke:#000000;stroke-linecap:square;stroke-width:1.5;\"/>\n    </g>\n    <g id=\"line2d_18\"/>\n    <g id=\"text_16\">\n     <!-- Exact -->\n     <g transform=\"translate(553.2125 23.798437)scale(0.1 -0.1)\">\n      <defs>\n       <path d=\"M 3513 3500 \nL 2247 1797 \nL 3578 0 \nL 2900 0 \nL 1881 1375 \nL 863 0 \nL 184 0 \nL 1544 1831 \nL 300 3500 \nL 978 3500 \nL 1906 2253 \nL 2834 3500 \nL 3513 3500 \nz\n\" id=\"DejaVuSans-78\" transform=\"scale(0.015625)\"/>\n       <path d=\"M 3122 3366 \nL 3122 2828 \nQ 2878 2963 2633 3030 \nQ 2388 3097 2138 3097 \nQ 1578 3097 1268 2742 \nQ 959 2388 959 1747 \nQ 959 1106 1268 751 \nQ 1578 397 2138 397 \nQ 2388 397 2633 464 \nQ 2878 531 3122 666 \nL 3122 134 \nQ 2881 22 2623 -34 \nQ 2366 -91 2075 -91 \nQ 1284 -91 818 406 \nQ 353 903 353 1747 \nQ 353 2603 823 3093 \nQ 1294 3584 2113 3584 \nQ 2378 3584 2631 3529 \nQ 2884 3475 3122 3366 \nz\n\" id=\"DejaVuSans-63\" transform=\"scale(0.015625)\"/>\n      </defs>\n      <use xlink:href=\"#DejaVuSans-45\"/>\n      <use x=\"63.183594\" xlink:href=\"#DejaVuSans-78\"/>\n      <use x=\"122.363281\" xlink:href=\"#DejaVuSans-61\"/>\n      <use x=\"183.642578\" xlink:href=\"#DejaVuSans-63\"/>\n      <use x=\"238.623047\" xlink:href=\"#DejaVuSans-74\"/>\n     </g>\n    </g>\n    <g id=\"LineCollection_3\">\n     <path d=\"M 535.2125 39.976562 \nL 535.2125 29.976562 \n\" style=\"fill:none;stroke:#1f77b4;stroke-width:1.5;\"/>\n    </g>\n    <g id=\"line2d_19\">\n     <path d=\"M 525.2125 34.976562 \nL 545.2125 34.976562 \n\" style=\"fill:none;stroke:#1f77b4;stroke-linecap:square;stroke-width:1.5;\"/>\n    </g>\n    <g id=\"line2d_20\"/>\n    <g id=\"text_17\">\n     <!-- Jastrow -->\n     <g transform=\"translate(553.2125 38.476562)scale(0.1 -0.1)\">\n      <defs>\n       <path d=\"M 628 4666 \nL 1259 4666 \nL 1259 325 \nQ 1259 -519 939 -900 \nQ 619 -1281 -91 -1281 \nL -331 -1281 \nL -331 -750 \nL -134 -750 \nQ 284 -750 456 -515 \nQ 628 -281 628 325 \nL 628 4666 \nz\n\" id=\"DejaVuSans-4a\" transform=\"scale(0.015625)\"/>\n       <path d=\"M 269 3500 \nL 844 3500 \nL 1563 769 \nL 2278 3500 \nL 2956 3500 \nL 3675 769 \nL 4391 3500 \nL 4966 3500 \nL 4050 0 \nL 3372 0 \nL 2619 2869 \nL 1863 0 \nL 1184 0 \nL 269 3500 \nz\n\" id=\"DejaVuSans-77\" transform=\"scale(0.015625)\"/>\n      </defs>\n      <use xlink:href=\"#DejaVuSans-4a\"/>\n      <use x=\"29.492188\" xlink:href=\"#DejaVuSans-61\"/>\n      <use x=\"90.771484\" xlink:href=\"#DejaVuSans-73\"/>\n      <use x=\"142.871094\" xlink:href=\"#DejaVuSans-74\"/>\n      <use x=\"182.080078\" xlink:href=\"#DejaVuSans-72\"/>\n      <use x=\"220.943359\" xlink:href=\"#DejaVuSans-6f\"/>\n      <use x=\"282.125\" xlink:href=\"#DejaVuSans-77\"/>\n     </g>\n    </g>\n    <g id=\"LineCollection_4\">\n     <path d=\"M 535.2125 54.654687 \nL 535.2125 44.654687 \n\" style=\"fill:none;stroke:#ff7f0e;stroke-width:1.5;\"/>\n    </g>\n    <g id=\"line2d_21\">\n     <path d=\"M 525.2125 49.654687 \nL 545.2125 49.654687 \n\" style=\"fill:none;stroke:#ff7f0e;stroke-linecap:square;stroke-width:1.5;\"/>\n    </g>\n    <g id=\"line2d_22\"/>\n    <g id=\"text_18\">\n     <!-- FFN -->\n     <g transform=\"translate(553.2125 53.154687)scale(0.1 -0.1)\">\n      <defs>\n       <path d=\"M 628 4666 \nL 3309 4666 \nL 3309 4134 \nL 1259 4134 \nL 1259 2759 \nL 3109 2759 \nL 3109 2228 \nL 1259 2228 \nL 1259 0 \nL 628 0 \nL 628 4666 \nz\n\" id=\"DejaVuSans-46\" transform=\"scale(0.015625)\"/>\n       <path d=\"M 628 4666 \nL 1478 4666 \nL 3547 763 \nL 3547 4666 \nL 4159 4666 \nL 4159 0 \nL 3309 0 \nL 1241 3903 \nL 1241 0 \nL 628 0 \nL 628 4666 \nz\n\" id=\"DejaVuSans-4e\" transform=\"scale(0.015625)\"/>\n      </defs>\n      <use xlink:href=\"#DejaVuSans-46\"/>\n      <use x=\"57.519531\" xlink:href=\"#DejaVuSans-46\"/>\n      <use x=\"115.039062\" xlink:href=\"#DejaVuSans-4e\"/>\n     </g>\n    </g>\n   </g>\n  </g>\n </g>\n <defs>\n  <clipPath id=\"p6cc14bcaf0\">\n   <rect height=\"271.8\" width=\"558\" x=\"40.603125\" y=\"7.2\"/>\n  </clipPath>\n </defs>\n</svg>\n",
      "text/plain": [
       "<Figure size 720x360 with 1 Axes>"
      ]
     },
     "metadata": {
      "needs_background": "light"
     }
    }
   ],
   "metadata": {}
  },
  {
   "cell_type": "markdown",
   "source": [
    "### 6.1 Increasing the features\n",
    "\n",
    "We can try to use more _neurons_ in the dense layer to see if we can get a better result.\n",
    "This can be done simply by instantiating the `FFN` model again with a larger `alpha`."
   ],
   "metadata": {}
  },
  {
   "cell_type": "code",
   "execution_count": 38,
   "source": [
    "# it is easy here to pass the hyper-parameter value\n",
    "model = FFN(alpha=2)\n",
    "\n",
    "vstate = nk.vqs.MCState(sampler, model, n_samples=1000)\n",
    "\n",
    "optimizer = nk.optimizer.Sgd(learning_rate=0.1)\n",
    "\n",
    "# Notice the use, again of Stochastic Reconfiguration, which considerably improves the optimisation\n",
    "gs = nk.driver.VMC(H, optimizer, variational_state=vstate,preconditioner=nk.optimizer.SR(diag_shift=0.1))\n",
    "gs.run(n_iter=600)\n",
    "\n",
    "ffn_energy=vstate.expect(H)\n",
    "error=abs((ffn_energy.mean-eig_vals[0])/eig_vals[0])\n",
    "print(f\"Optimized energy: {ffn_energy} \\nRelative error: {error*100:.2f}%\")"
   ],
   "outputs": [
    {
     "output_type": "stream",
     "name": "stdout",
     "text": [
      "No output specified (out=[apath|nk.logging.JsonLogger(...)]).Running the optimization but not saving the output.\n"
     ]
    },
    {
     "output_type": "stream",
     "name": "stderr",
     "text": [
      "100%|██████████| 300/300 [00:13<00:00, 22.02it/s, Energy=6.250e+00 ± 1.958e-16 [σ²=3.865e-29, R̂=1.0121]]\n"
     ]
    },
    {
     "output_type": "stream",
     "name": "stdout",
     "text": [
      "Optimized energy: 6.2526 ± 0.0015 [σ²=0.0024, R̂=1.0069] \n",
      "Relative error: 99.50%\n"
     ]
    }
   ],
   "metadata": {}
  },
  {
   "cell_type": "markdown",
   "source": [
    "This is the best we can do without taking into consideration the phase of the wave function."
   ],
   "metadata": {}
  },
  {
   "cell_type": "markdown",
   "source": [
    "## 7. Learning the Phase of the Wave Function\n",
    "\n",
    "In the examples shown before we have ignored completely the phase of the wave function. For the ground state of this bosonic matrix model, the phase is not stricly needed.\n",
    "\n",
    "Training models with a phase is significantly less trivial than optimizing phaseless models, thus we will adopt here a heuristic approximation approach that has proven quite robust.\n",
    "What we will do here is that we will train the model using different (and time-dependent) learning rates for the phase and modulus parts of the wave function.\n",
    "\n",
    "The learning schedule rate is chosen in such as way that in the firs stages we will optimize mostly only the phase, while leaving the amplitude more or less constant. The schedule then will ramp up the learning rate for the amplitude and we will optimize everything at the same time. "
   ],
   "metadata": {}
  },
  {
   "cell_type": "markdown",
   "source": [
    "We define a fully-connected model that will include a network for the modulus and a network for the phase. Remember that the models are the logarithm of the density function $\\Psi(X)$ (so the phase network will appear with an imaginary unit and will be summed to the log of the modulus)"
   ],
   "metadata": {}
  },
  {
   "cell_type": "code",
   "execution_count": 46,
   "source": [
    "class FFNPhase(nn.Module):\n",
    "    \n",
    "    # You can define attributes at the module-level\n",
    "    # with a default. This allows you to easily change\n",
    "    # some hyper-parameter without redefining the whole \n",
    "    # flax module. This is the ratio of neurons to input dofs\n",
    "    alpha : int = 1\n",
    "            \n",
    "    @nn.compact\n",
    "    def __call__(self, x):\n",
    "\n",
    "        # here we construct the first dense layer for the modulus rho\n",
    "        dense_m = nk.nn.Dense(features=self.alpha * x.shape[-1], dtype=float, name=\"Modulus\")\n",
    "        # we apply the dense layer to the input\n",
    "        rho = dense_m(x)\n",
    "        # the non-linearity is a simple ReLu\n",
    "        rho = nn.relu(rho)\n",
    "\n",
    "        # repeat now for the phase\n",
    "        dense_p = nk.nn.Dense(features=self.alpha * x.shape[-1], dtype=float, name=\"Phase\")\n",
    "        # we apply the dense layer to the input\n",
    "        phase = dense_p(x)\n",
    "        # the non-linearity is a simple ReLu\n",
    "        phase = nn.relu(phase)\n",
    "        # sum the output\n",
    "        return jnp.sum(rho, axis=(-1)) + 1.0j*jnp.sum(phase, axis=(-1))"
   ],
   "outputs": [],
   "metadata": {}
  },
  {
   "cell_type": "code",
   "execution_count": 47,
   "source": [
    "# it is easy here to pass the hyper-parameter value\n",
    "model = FFNPhase(alpha=1)\n",
    "\n",
    "vstate = nk.vqs.MCState(sampler, model, n_samples=1000)"
   ],
   "outputs": [],
   "metadata": {}
  },
  {
   "cell_type": "code",
   "execution_count": 48,
   "source": [
    "print(f\"Number of parameters: {vstate.n_parameters}\")"
   ],
   "outputs": [
    {
     "output_type": "stream",
     "name": "stdout",
     "text": [
      "Number of parameters: 84\n"
     ]
    }
   ],
   "metadata": {}
  },
  {
   "cell_type": "markdown",
   "source": [
    "We then proceed to the optimization of the phase only. This is achieved the scheduling functionalities of  ```optax```, the optimization library that is fully compatible with `netket`. Notice that here we start with zero learning rate for the modulus and finite learning rate for the phase. "
   ],
   "metadata": {}
  },
  {
   "cell_type": "code",
   "execution_count": 49,
   "source": [
    "import optax,flax\n",
    "\n",
    "total_steps = 1000\n",
    "\n",
    "# A linear schedule varies the learning rate from 0 to 0.01 across n steps.\n",
    "modulus_schedule=optax.linear_schedule(0,0.01,total_steps)\n",
    "\n",
    "# The phase starts with a larger learning rate and then is decreased.\n",
    "phase_schedule=optax.linear_schedule(0.1,0.01,total_steps)\n",
    "\n",
    "# Combine the linear schedule with SGD\n",
    "optm=optax.sgd(modulus_schedule)\n",
    "optp=optax.sgd(phase_schedule)\n",
    "\n",
    "# The multi-transform optimizer uses different optimisers for different parts of the\n",
    "# parameters.\n",
    "optimizer = optax.multi_transform({'o1': optm, 'o2': optp}, \n",
    "                flax.core.freeze({\"Modulus\":\"o1\", \"Phase\":\"o2\"}))"
   ],
   "outputs": [],
   "metadata": {}
  },
  {
   "cell_type": "markdown",
   "source": [
    "This new optimizer can then be used as before in the MC driver:"
   ],
   "metadata": {}
  },
  {
   "cell_type": "code",
   "execution_count": 51,
   "source": [
    "gs = nk.driver.VMC(\n",
    "    H,\n",
    "    optimizer,\n",
    "    variational_state=vstate,\n",
    "    preconditioner=nk.optimizer.SR(diag_shift=0.1)\n",
    ")\n",
    "\n",
    "log = nk.logging.RuntimeLog()\n",
    "gs.run(n_iter=total_steps, out=log)"
   ],
   "outputs": [
    {
     "output_type": "stream",
     "name": "stderr",
     "text": [
      "100%|██████████| 1000/1000 [00:55<00:00, 17.95it/s, Energy=3.1766-0.0002j ± 0.0055 [σ²=0.0301, R̂=1.0261]]\n"
     ]
    },
    {
     "output_type": "execute_result",
     "data": {
      "text/plain": [
       "(<netket.logging.runtime_log.RuntimeLog at 0x12ee0a1f0>,)"
      ]
     },
     "metadata": {},
     "execution_count": 51
    }
   ],
   "metadata": {}
  },
  {
   "cell_type": "code",
   "execution_count": 52,
   "source": [
    "ffnp_energy=vstate.expect(H)\n",
    "error=abs((ffnp_energy.mean-eig_vals[0])/eig_vals[0])\n",
    "print(f\"Optimized energy: {ffnp_energy} \\nRelative error: {error*100:.2f}%\")"
   ],
   "outputs": [
    {
     "output_type": "stream",
     "name": "stdout",
     "text": [
      "Optimized energy: 3.1549-0.0001j ± 0.0026 [σ²=0.0071, R̂=1.0363] \n",
      "Relative error: 0.66%\n"
     ]
    }
   ],
   "metadata": {}
  },
  {
   "cell_type": "markdown",
   "source": [
    "Adding a phase does not seem to change the answer significantly, as we expected"
   ],
   "metadata": {}
  },
  {
   "cell_type": "markdown",
   "source": [
    "## 8. Autoregressive models\n",
    "\n",
    "In [this paper](https://arxiv.org/abs/2108.02942), an autoregressive flow model was used to parametrize the modulus of the wave function, while a fully-connected layer was used for the phase.\n",
    "The paper worked in a basis of coordinates for the matrices $X_I$ which is different from the basis of the Fock space we have chosen in this example.\n",
    "We do not expect to get the same results.\n",
    "\n",
    "Autoregressive models are included in `netket`, together with direct samplers for their conditional distributions (see [this link](https://www.netket.org/docs/_generated/models/netket.models.ARNNDense.html#netket-models-arnndense) for a fully-connected autoregressive model)"
   ],
   "metadata": {}
  },
  {
   "cell_type": "code",
   "execution_count": 58,
   "source": [
    "model = nk.models.ARNNDense(hilbert=hi, layers=3, features=10)\n",
    "\n",
    "# the autoregressive model has an exact sampler because of the conditional prob\n",
    "sampler = nk.sampler.ARDirectSampler(hi)\n",
    "\n",
    "# With direct sampling, we don't need many samples in each step to form a\n",
    "# Markov chain, and we don't need to discard samples\n",
    "vstate = nk.vqs.MCState(sampler, model, n_samples=64)"
   ],
   "outputs": [],
   "metadata": {}
  },
  {
   "cell_type": "code",
   "execution_count": 54,
   "source": [
    "print(f\"Number of parameters (ARNNDense): {vstate.n_parameters}\")"
   ],
   "outputs": [
    {
     "output_type": "stream",
     "name": "stdout",
     "text": [
      "Number of parameters (ARNNDense): 5544\n"
     ]
    }
   ],
   "metadata": {}
  },
  {
   "cell_type": "markdown",
   "source": [
    "Then we can call our driver as before"
   ],
   "metadata": {}
  },
  {
   "cell_type": "code",
   "execution_count": 61,
   "source": [
    "optimizer = nk.optimizer.Sgd(learning_rate=0.1)\n",
    "preconditioner = nk.optimizer.SR(diag_shift=0.1)\n",
    "\n",
    "# Notice the use, again of Stochastic Reconfiguration, which considerably improves the optimisation\n",
    "gs = nk.driver.VMC(H, optimizer, variational_state=vstate, preconditioner=preconditioner)\n",
    "\n",
    "# logging and running\n",
    "log=nk.logging.RuntimeLog()\n",
    "gs.run(n_iter=1000,out=log)\n",
    "\n",
    "arnn_energy=vstate.expect(H)\n",
    "error=abs((arnn_energy.mean-eig_vals[0])/eig_vals[0])\n",
    "print(f\"Optimized energy: {arnn_energy} \\nRelative error: {error*100:.2f}%\")"
   ],
   "outputs": [
    {
     "output_type": "stream",
     "name": "stderr",
     "text": [
      "100%|██████████| 1000/1000 [03:04<00:00,  5.43it/s, Energy=3.150e+00 ± 9.791e-17 [σ²=9.664e-30, R̂=1.0056]]\n"
     ]
    },
    {
     "output_type": "stream",
     "name": "stdout",
     "text": [
      "Optimized energy: 3.150e+00 ± 9.791e-17 [σ²=9.664e-30, R̂=1.0056] \n",
      "Relative error: 0.51%\n"
     ]
    }
   ],
   "metadata": {}
  },
  {
   "cell_type": "markdown",
   "source": [
    "## 9. Measuring Other Properties\n",
    "\n",
    "Once the model has been optimized, we can of course measure also other observables that are not the energy. For example, we could measure the generators of the gauge transformations.\n",
    "\n",
    "We could also use a larger number of samples to have a sufficiently low error bar on their measurement, by changing `vstate.n_samples` on the fly."
   ],
   "metadata": {}
  },
  {
   "cell_type": "markdown",
   "source": [
    "The Casimir operator for the gauge group is defined using a combination of $\\hat{a}^\\dagger_I$ and $\\hat{a}_I$ for each boson. We are assuming that sites 0, 1, and 2 are for the 3 gauge dof of one matrix and site 3, 4, and 5 are for the other matrix. Given this assignment we can write\n",
    "\n",
    "$$ \\hat{G}_{\\alpha}=i \\sum_{\\beta, \\gamma, I} f_{\\alpha \\beta \\gamma} \\hat{a}_{I \\beta}^{\\dagger} \\hat{a}_{I \\gamma} $$"
   ],
   "metadata": {}
  },
  {
   "cell_type": "code",
   "execution_count": 56,
   "source": [
    "g_list = [0] * 3\n",
    "g_list[0] = 1j * (\n",
    "    create(hi,1) * destroy(hi,2)\n",
    "    - create(hi,2) * destroy(hi,1)\n",
    "    + create(hi,4) * destroy(hi,5)\n",
    "    - create(hi,5) * destroy(hi,4)\n",
    ")\n",
    "g_list[1] = 1j * (\n",
    "    create(hi,2) * destroy(hi,0)\n",
    "    - create(hi,0) * destroy(hi,2)\n",
    "    + create(hi,5) * destroy(hi,3)\n",
    "    - create(hi,3) * destroy(hi,5)\n",
    ")\n",
    "g_list[2] = 1j * (\n",
    "    create(hi,0) * destroy(hi,1)\n",
    "    - create(hi,1) * destroy(hi,0)\n",
    "    + create(hi,3) * destroy(hi,4)\n",
    "    - create(hi,4) * destroy(hi,3)\n",
    ")\n",
    "G = sum([g * g for g in g_list])"
   ],
   "outputs": [],
   "metadata": {}
  },
  {
   "cell_type": "markdown",
   "source": [
    "We can sample 1000 times to get a more accurate result. We expect to find zero if the ground state is gauge invariant"
   ],
   "metadata": {}
  },
  {
   "cell_type": "code",
   "execution_count": 62,
   "source": [
    "vstate.n_samples = 1000\n",
    "vstate.expect(G)"
   ],
   "outputs": [
    {
     "output_type": "execute_result",
     "data": {
      "text/plain": [
       "0.000e+00+0.000e+00j ± nan [σ²=0.000e+00]"
      ]
     },
     "metadata": {},
     "execution_count": 62
    }
   ],
   "metadata": {}
  }
 ],
 "metadata": {
  "kernelspec": {
   "name": "python3",
   "display_name": "Python 3.9.6 64-bit ('netket': conda)"
  },
  "language_info": {
   "codemirror_mode": {
    "name": "ipython",
    "version": 3
   },
   "file_extension": ".py",
   "mimetype": "text/x-python",
   "name": "python",
   "nbconvert_exporter": "python",
   "pygments_lexer": "ipython3",
   "version": "3.9.6"
  },
  "interpreter": {
   "hash": "0599e152f67f5209f88bec1e9797953ea74f097c38416a644f6f08df38717728"
  }
 },
 "nbformat": 4,
 "nbformat_minor": 5
}