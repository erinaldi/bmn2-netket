{
 "cells": [
  {
   "cell_type": "markdown",
   "source": [
    "# Ground-State Variational Search with NetKet for a Bosonic Matrix Model\n",
    "\n",
    "September 1, 2021 \n",
    "\n",
    "In this Tutorial we will use the open-source package [NetKet](https://www.netket.org/) to find the ground state (in a variational sense) of a quantum mechanical system of matrices.\n",
    "This system is referred to as a bosonic matrix model and was studied in [this preprint](https://arxiv.org/abs/2108.02942). \n",
    "\n",
    "Specifically, we will study the system defined by the Hamiltonian: \n",
    "\n",
    "$$ \\hat{H} = {\\rm Tr}\\left(\\frac{1}{2}\\hat{P}_I^2+\\frac{m^2}{2}\\hat{X}_I^2-\\frac{g^2}{4}[\\hat{X}_I,\\hat{X}_J]^2\\right) $$\n",
    "\n",
    "where \n",
    "$$\\hat{P}_I=\\sum_{\\alpha=1}^{N^2-1}\\hat{P}_I^\\alpha\\tau_\\alpha$$\n",
    "\n",
    "and\n",
    "\n",
    "$$\\hat{X}_I=\\sum_{\\alpha=1}^{N^2-1}\\hat{X}_I^\\alpha\\tau_\\alpha$$\n",
    "\n",
    "for a SU(N) gauge group with $N^2-1$ generators."
   ],
   "metadata": {}
  },
  {
   "cell_type": "markdown",
   "source": [
    "## 0. Installing Netket \n",
    "\n",
    "Installing NetKet is relatively straightforward. For this Tutorial, if you are running it locally on your machine, we recommend that you create a clean virtual environment (e.g. with `conda`) and install NetKet within (using `pip`): \n",
    "\n",
    "```bash\n",
    "conda create --name netket python pip ipython\n",
    "conda activate netket\n",
    "pip install --upgrade netket\n",
    "```\n",
    "\n",
    "**If you are on Google Colab**, run the following cell to install the required packages."
   ],
   "metadata": {}
  },
  {
   "cell_type": "code",
   "execution_count": null,
   "source": [
    "!pip install --upgrade netket"
   ],
   "outputs": [],
   "metadata": {}
  },
  {
   "cell_type": "markdown",
   "source": [
    "You can check that the installation was succesfull doing "
   ],
   "metadata": {}
  },
  {
   "cell_type": "code",
   "execution_count": 1,
   "source": [
    "import netket as nk"
   ],
   "outputs": [],
   "metadata": {}
  },
  {
   "cell_type": "markdown",
   "source": [
    "You should also check that your version of netket is at least 3.0"
   ],
   "metadata": {}
  },
  {
   "cell_type": "code",
   "execution_count": 2,
   "source": [
    "print(f\"NetKet version: {nk.__version__}\")"
   ],
   "outputs": [
    {
     "output_type": "stream",
     "name": "stdout",
     "text": [
      "NetKet version: 3.0.1\n"
     ]
    }
   ],
   "metadata": {}
  },
  {
   "cell_type": "code",
   "execution_count": 18,
   "source": [
    "import numpy as np\n",
    "import matplotlib.pyplot as plt"
   ],
   "outputs": [],
   "metadata": {}
  },
  {
   "cell_type": "markdown",
   "source": [
    "## 1. Defining The Hamiltonian\n",
    "\n",
    "The first step in our journey consists in defining the Hamiltonian we are interested in. \n",
    "For this purpose, we first need to define the kind of degrees of freedom we are dealing with (i.e. if we have spins, bosons, fermions etc). This is done specifying the Hilbert space of the problem.\n",
    "\n",
    "For our problem we focus on the gauge group SU(2), which will determine the total number of bosons to be $N^2-1 = 3$ for each matrix. We will focus on 2 matrices, for a total of 6 bosonic degrees of freedom.\n",
    "\n",
    "We also need to decide a cutoff for the Fock space of each boson $\\Lambda$."
   ],
   "metadata": {}
  },
  {
   "cell_type": "markdown",
   "source": [
    "### 1.1 The Hilbert space"
   ],
   "metadata": {}
  },
  {
   "cell_type": "code",
   "execution_count": 3,
   "source": [
    "Lambda = 4  # cutoff of each bosonic Fock space\n",
    "N = 6  # number of bosons \n",
    "\n",
    "hi = nk.hilbert.Fock(n_max=Lambda-1, N=N)  # n_max -> Maximum occupation for a site (inclusive)"
   ],
   "outputs": [],
   "metadata": {}
  },
  {
   "cell_type": "markdown",
   "source": [
    "Test if the space is constructed as we expected.\n",
    "We want each of the $N$ bosons to have up to $\\Lambda$ excitations: the total Hilbert space is the tensor product of $N$ individual Fock spaces of dimension $\\Lambda$ for a total size of $\\Lambda^N = 4^6 = 4096$."
   ],
   "metadata": {}
  },
  {
   "cell_type": "code",
   "execution_count": 4,
   "source": [
    "# The size of the hilbert space on every site.\n",
    "hi.shape"
   ],
   "outputs": [
    {
     "output_type": "execute_result",
     "data": {
      "text/plain": [
       "(4, 4, 4, 4, 4, 4)"
      ]
     },
     "metadata": {},
     "execution_count": 4
    }
   ],
   "metadata": {}
  },
  {
   "cell_type": "code",
   "execution_count": 5,
   "source": [
    "# The total number number of degrees of freedom.\n",
    "hi.size"
   ],
   "outputs": [
    {
     "output_type": "execute_result",
     "data": {
      "text/plain": [
       "6"
      ]
     },
     "metadata": {},
     "execution_count": 5
    }
   ],
   "metadata": {}
  },
  {
   "cell_type": "code",
   "execution_count": 6,
   "source": [
    "# The total dimension of the many-body Hilbert space\n",
    "hi.n_states"
   ],
   "outputs": [
    {
     "output_type": "execute_result",
     "data": {
      "text/plain": [
       "4096"
      ]
     },
     "metadata": {},
     "execution_count": 6
    }
   ],
   "metadata": {}
  },
  {
   "cell_type": "markdown",
   "source": [
    "We have checked that all the dimensions correspond to our expectations. We can think of this as the Hilbert state of a mnay-body system with $N$ sites of bosons, each with excitations up to level $\\Lambda$ (inclusive, starting from 0 to $\\Lambda-1$)."
   ],
   "metadata": {}
  },
  {
   "cell_type": "markdown",
   "source": [
    "### 1.2 The free Hamiltonian\n",
    "\n",
    "We now need to specify the Hamiltonian.\n",
    "We will use some predefined operators for bosons, such as the `create` and `destroy` operators for each boson in the Hilber state (see the API documentation [here](https://www.netket.org/docs/api.html#pre-defined-operators)).\n",
    "\n",
    "In this specifc case, $\\hat{a}^\\dagger_I$ for each boson $I$ (we can regard this index as a _site_ index in `netket`).\n",
    "\n"
   ],
   "metadata": {}
  },
  {
   "cell_type": "code",
   "execution_count": 7,
   "source": [
    "from netket.operator.boson import create, destroy"
   ],
   "outputs": [],
   "metadata": {}
  },
  {
   "cell_type": "markdown",
   "source": [
    "We now start by defining the free part of the Hamiltonian, which is just a collection of harmonic oscillators\n"
   ],
   "metadata": {}
  },
  {
   "cell_type": "code",
   "execution_count": 8,
   "source": [
    "# we loop over all \"sites\" -> loop over N bosons\n",
    "H_free = sum([0.5+create(hi,i)*destroy(hi,i) for i in range(N)])"
   ],
   "outputs": [],
   "metadata": {}
  },
  {
   "cell_type": "markdown",
   "source": [
    "Here we have used a list comprehension to (mildly) show off our ability to write one-liners, however you could have just added the terms one by one in an explicit loop instead (though you'd end up with a whopping 3 lines of code). \n",
    "\n",
    "We have also used the fact that NetKet automatically recognizes products of local operators as tensor products and the addition of scalars as if they were multiplied by the identity matrix in the tensor space."
   ],
   "metadata": {}
  },
  {
   "cell_type": "markdown",
   "source": [
    "In general, when manipulating NetKet objects, you should always assume that you can safely operate on them like \n",
    "you would in mathematical equations, therefore you can sum and multiply them with ease."
   ],
   "metadata": {}
  },
  {
   "cell_type": "markdown",
   "source": [
    "### 1.3 Exact Diagonalization\n",
    "\n",
    "Let us check this free Hamiltonian, whose eigenvectors are analytically known: the ground state has vacuum energy for $N$ independent harmonic oscillators: $0.5N = 0.5 \\cdot 6 = 3$ "
   ],
   "metadata": {}
  },
  {
   "cell_type": "markdown",
   "source": [
    "In `netket` we can  convert our Hamiltonian operator into a sparse matrix of size $ $\\Lambda^N \\times \\Lambda^N $. "
   ],
   "metadata": {}
  },
  {
   "cell_type": "code",
   "execution_count": 9,
   "source": [
    "sp_h=H_free.to_sparse()\n",
    "sp_h.shape"
   ],
   "outputs": [
    {
     "output_type": "execute_result",
     "data": {
      "text/plain": [
       "(4096, 4096)"
      ]
     },
     "metadata": {},
     "execution_count": 9
    }
   ],
   "metadata": {}
  },
  {
   "cell_type": "markdown",
   "source": [
    "Since this is just a regular scipy sparse matrix, we can just use any sparse diagonalization routine in there to find the eigenstates. For example, this will find the two lowest eigenstates  "
   ],
   "metadata": {}
  },
  {
   "cell_type": "code",
   "execution_count": 12,
   "source": [
    "from scipy.sparse.linalg import eigsh\n",
    "\n",
    "eig_vals, eig_vecs = eigsh(sp_h, k=13, which=\"SA\")\n",
    "\n",
    "print(f\"Eigenvalues with scipy.sparse.linalg.eigsh: {eig_vals}\")\n",
    "\n",
    "E_gs = eig_vals[0]\n"
   ],
   "outputs": [
    {
     "output_type": "stream",
     "name": "stdout",
     "text": [
      "eigenvalues with scipy sparse: [3. 4. 4. 4. 4. 4. 4. 5. 5. 5. 5. 5. 5.]\n"
     ]
    }
   ],
   "metadata": {}
  },
  {
   "cell_type": "markdown",
   "source": [
    "These are the expected eigenvalues with the correct degeneracy: the first excited state is repeated $N$ times, and so forth."
   ],
   "metadata": {}
  },
  {
   "cell_type": "markdown",
   "source": [
    "*Note*: `netket` also provide a wrapper for `eigsh` in the form of a Lanczos [exact solver](https://www.netket.org/docs/_generated/exact/netket.exact.lanczos_ed.html#netket.exact.lanczos_ed)."
   ],
   "metadata": {}
  },
  {
   "cell_type": "code",
   "execution_count": 13,
   "source": [
    "w = nk.exact.lanczos_ed(H_free, k=13, compute_eigenvectors=False)  # args to scipy.sparse.linalg.eighs like can be passed with scipy_args={'tol':1e-8}\n",
    "print(f\"Eigenvalues with exact lanczos (sparse): {w}\")"
   ],
   "outputs": [
    {
     "output_type": "stream",
     "name": "stdout",
     "text": [
      "eigenvalues with exact lanczos (sparse): [3. 4. 4. 4. 4. 4. 4. 5. 5. 5. 5. 5. 5.]\n"
     ]
    }
   ],
   "metadata": {}
  },
  {
   "cell_type": "markdown",
   "source": [
    "*Note*: a full (dense) exact diagonalization can also be done for small systems using [this exact solver](https://www.netket.org/docs/_generated/exact/netket.exact.full_ed.html#netket.exact.full_ed)"
   ],
   "metadata": {}
  },
  {
   "cell_type": "code",
   "execution_count": 16,
   "source": [
    "w = nk.exact.full_ed(H_free, compute_eigenvectors=False)\n",
    "print(f\"Eigenvalues with exact diag (dense): {w}\\nNumber of eigs: {w.shape[0]}\")"
   ],
   "outputs": [
    {
     "output_type": "stream",
     "name": "stdout",
     "text": [
      "Eigenvalues with exact diag (dense): [ 3.  4.  4. ... 20. 20. 21.]\n",
      "Number of eigs: 4096\n"
     ]
    }
   ],
   "metadata": {}
  },
  {
   "cell_type": "markdown",
   "source": [
    "### 1.4 The interaction Hamiltonian\n",
    "\n",
    "We can now continue building our full Hamiltonian by writing the interaction term.\n",
    "It is convenient to write the interaction using the `position` operators built from the creation and annihilation bosonic operators\n",
    "\n",
    "$$\\hat{x}_I = \\frac{1}{\\sqrt{2}} \\left( \\hat{a}^\\dagger_I + \\hat{a}_I \\right)$$\n"
   ],
   "metadata": {}
  },
  {
   "cell_type": "code",
   "execution_count": 19,
   "source": [
    "x_list = [(1 / np.sqrt(2))*(create(hi,i)+destroy(hi,i)) for i in range(N)]"
   ],
   "outputs": [],
   "metadata": {}
  },
  {
   "cell_type": "markdown",
   "source": [
    "The interactoin terms can be written using the Levi-Civita completely antisymmetric tensor with 3 indices or by writing out all the terms by hand:"
   ],
   "metadata": {}
  },
  {
   "cell_type": "code",
   "execution_count": 20,
   "source": [
    "### Quartic Interaction for bosons\n",
    "V_b = (\n",
    "    x_list[2] * x_list[2] * x_list[3] * x_list[3]\n",
    "    + x_list[2] * x_list[2] * x_list[4] * x_list[4]\n",
    "    + x_list[1] * x_list[1] * x_list[3] * x_list[3]\n",
    "    + x_list[1] * x_list[1] * x_list[5] * x_list[5]\n",
    "    + x_list[0] * x_list[0] * x_list[4] * x_list[4]\n",
    "    + x_list[0] * x_list[0] * x_list[5] * x_list[5]\n",
    "    - 2 * x_list[0] * x_list[2] * x_list[3] * x_list[5]\n",
    "    - 2 * x_list[0] * x_list[1] * x_list[3] * x_list[4]\n",
    "    - 2 * x_list[1] * x_list[2] * x_list[4] * x_list[5]\n",
    ")"
   ],
   "outputs": [],
   "metadata": {}
  },
  {
   "cell_type": "markdown",
   "source": [
    "And the full Hamiltonian with 't Hooft coupling $\\lambda = g^2 N_g$ (where $N_g$ is the gauge group number of colors) is"
   ],
   "metadata": {}
  },
  {
   "cell_type": "code",
   "execution_count": 23,
   "source": [
    "g2N = 0.2  # 't Hooft coupling lambda\n",
    "H = H_free + (g2N / 2) * V_b"
   ],
   "outputs": [],
   "metadata": {}
  },
  {
   "cell_type": "markdown",
   "source": [
    "## 2. Exact Diagonalization\n",
    "\n",
    "We can repeat for the full Hamiltonian at fixed gauge coupling $g^2N_g$ the exact diagonalization procedure we have used on the free Hamiltonian.\n",
    "\n",
    "When the gauge coupling constant is small, the difference of the energy of the ground state with the free case $g=0$ will be small."
   ],
   "metadata": {}
  },
  {
   "cell_type": "code",
   "execution_count": 24,
   "source": [
    "w = nk.exact.full_ed(H, compute_eigenvectors=False)\n",
    "print(f\"Eigenvalues with exact diag (dense): {w}\\nNumber of eigs: {w.shape[0]}\")"
   ],
   "outputs": [
    {
     "output_type": "stream",
     "name": "stdout",
     "text": [
      "Eigenvalues with exact diag (dense): [ 3.13406307  4.21516634  4.21516634 ... 22.94954115 22.94954115\n",
      " 23.42952917]\n",
      "Number of eigs: 4096\n"
     ]
    }
   ],
   "metadata": {}
  },
  {
   "cell_type": "markdown",
   "source": [
    "Or we can use the Lanczos solver and only approximately retrieve the lowest $k$ eigenvalues (this is much much quicker)"
   ],
   "metadata": {}
  },
  {
   "cell_type": "code",
   "execution_count": 34,
   "source": [
    "eig_vals = nk.exact.lanczos_ed(H, k=4, compute_eigenvectors=False, scipy_args={'tol':1e-8})\n",
    "print(f\"Eigenvalues with exact lanczos (sparse): {eig_vals}\")"
   ],
   "outputs": [
    {
     "output_type": "stream",
     "name": "stdout",
     "text": [
      "Eigenvalues with exact lanczos (sparse): [3.13406307 4.21516634 4.21516634 4.21516634]\n"
     ]
    }
   ],
   "metadata": {}
  },
  {
   "cell_type": "markdown",
   "source": [
    "## 3. Mean-Field Ansatz\n",
    "\n",
    "We now would like to find a variational approximation of the ground state of this Hamiltonian. As a first step, we can try to use a very simple mean field ansatz: \n",
    "\n",
    "$$ \\langle X_1,\\dots X_N| \\Psi_{\\mathrm{mf}} \\rangle = \\Pi_{i=1}^{N} \\Phi(X_i), $$\n",
    "\n",
    "where the variational parameters are individual boson's wave functions $\\Phi(X_i)$. This is probably a bad ansatz, but it will show how the variational Monte Carlo procedure works in `netket`\n",
    "\n",
    "We can further write $ \\Phi(X) = \\sqrt{P(X)}e^{i \\phi(X)}$.\n",
    "\n",
    "In order to simplify the presentation, we take here and in the following examples the phase $\\phi=0$.\n",
    "\n",
    "For the normalized single-boson probability we will take a sigmoid form: \n",
    "\n",
    "$$P(X; \\gamma) = 1/(1 + e^{-\\gamma X})$$\n",
    "thus depending on the real-valued variational parameter $\\gamma$. "
   ],
   "metadata": {}
  },
  {
   "cell_type": "markdown",
   "source": [
    "In `netket` one has to define a variational function approximating the **logarithm** of the wave-function amplitudes (or density-matrix values).\n",
    "\n",
    "$$ \\langle X_1,\\dots X_N| \\Psi_{\\mathrm{mf}} \\rangle = \\exp{(\\textrm{Model}(X; \\theta))} $$\n",
    "\n",
    "where $\\theta$ is a set of parameters.\n",
    "\n",
    "In this case, the parameter of the model will be just one: $\\gamma$.\n",
    "\n",
    "The Model can be defined using one of the several functional jax frameworks such as Jax/Stax, Flax or Haiku. NetKet includes several pre-built models and layers built with Flax, so we will be using it for the rest of the notebook."
   ],
   "metadata": {}
  },
  {
   "cell_type": "code",
   "execution_count": 30,
   "source": [
    "# numerical operations in the model should always use jax.numpy \n",
    "# instead of numpy because jax supports computing derivatives. \n",
    "# If you want to better understand the difference between the two, check\n",
    "# https://flax.readthedocs.io/en/latest/notebooks/jax_for_the_impatient.html\n",
    "import jax.numpy as jnp\n",
    "\n",
    "# Flax is a framework to define models using jax\n",
    "import flax\n",
    "# we refer to `flax.linen` as `nn`. It's a repository of \n",
    "# layers, initializers and nonlinear functions.\n",
    "import flax.linen as nn\n",
    "\n",
    "# A Flax model must be a class subclassing `nn.Module`\n",
    "class MF(nn.Module):\n",
    "    \n",
    "    # The most compact way to define the model is this.\n",
    "    # The __call__(self, x) function should take as \n",
    "    # input a batch of states x.shape = (n_samples, L)\n",
    "    # and should return a vector of n_samples log-amplitudes\n",
    "    @nn.compact\n",
    "    def __call__(self, x):\n",
    "        \n",
    "        # A tensor of variational parameters is defined by calling\n",
    "        # the method `self.param` where the arguments will be:\n",
    "        # - arbitrary name used to refer to this set of parameters\n",
    "        # - an initializer used to provide the initial values. \n",
    "        # - The shape of the tensor\n",
    "        # - The dtype of the tensor.\n",
    "        gam = self.param(\n",
    "            \"gamma\", nn.initializers.normal(), (1,), float\n",
    "        )\n",
    "        \n",
    "        # compute the probabilities\n",
    "        p = nn.log_sigmoid(gam*x)\n",
    "\n",
    "        # sum the output\n",
    "        return 0.5 * jnp.sum(p, axis=-1)"
   ],
   "outputs": [],
   "metadata": {}
  },
  {
   "cell_type": "markdown",
   "source": [
    "### 3.1 Variational State\n",
    "\n",
    "The model itself is only a set of instructions on how to initialise the parameters and how to compute the result. \n",
    "\n",
    "To actually create a **variational state** with its parameters, the easiest way is to construct a Monte-Carlo-sampled Variational State. \n",
    "\n",
    "To do this, we first need to define a sampler.\n",
    "\n",
    "In [`netket.sampler`](https://www.netket.org/docs/api.html#list-of-samplers) several samplers are defined, each with its own peculiarities.\n",
    "\n",
    "In the following example, we will be using a simple sampler that chooses the occupation number of each boson at random (uniform between 0 and $\\Lambda-1$) one by one.\n",
    "\n",
    "You can read more about how the sampler works by checking the documentation with `?nk.sampler.MetropolisLocal`"
   ],
   "metadata": {}
  },
  {
   "cell_type": "code",
   "execution_count": 31,
   "source": [
    "# Create an instance of the model. \n",
    "# Notice that this does not create the parameters.\n",
    "mf_model=MF()\n",
    "\n",
    "# Create the local sampler on the hilbert space\n",
    "sampler = nk.sampler.MetropolisLocal(hi)\n",
    "\n",
    "# Construct the variational state using the model and the sampler above.\n",
    "# n_samples specifies how many samples should be used to compute expectation\n",
    "# values.\n",
    "vstate = nk.vqs.MCState(sampler, mf_model, n_samples=500)"
   ],
   "outputs": [],
   "metadata": {}
  },
  {
   "cell_type": "markdown",
   "source": [
    "You can play around with the variational state: for example, you can compute expectation values yourself or inspect it's parameters"
   ],
   "metadata": {}
  },
  {
   "cell_type": "code",
   "execution_count": 32,
   "source": [
    "# you can inspect the parameters which contain the single\n",
    "# variational parameter `gamma`\n",
    "print(vstate.parameters)"
   ],
   "outputs": [
    {
     "output_type": "stream",
     "name": "stdout",
     "text": [
      "FrozenDict({\n",
      "    gamma: DeviceArray([0.00924774], dtype=float64),\n",
      "})\n"
     ]
    }
   ],
   "metadata": {}
  },
  {
   "cell_type": "code",
   "execution_count": 33,
   "source": [
    "# Expectation value: notice that it also provides an error estimate.\n",
    "print(vstate.expect(H))"
   ],
   "outputs": [
    {
     "output_type": "stream",
     "name": "stdout",
     "text": [
      "12.90 ± 0.14 [σ²=9.50, R̂=1.0051]\n"
     ]
    }
   ],
   "metadata": {}
  },
  {
   "cell_type": "markdown",
   "source": [
    "The last cell was run with a randomly initialized parameter $\\gamma$ and for 500 samples (notice the metrics for the convergence of the Monte Carlo algorithm in square brackets)."
   ],
   "metadata": {}
  },
  {
   "cell_type": "markdown",
   "source": [
    "## 4. Variational Monte Carlo"
   ],
   "metadata": {}
  },
  {
   "cell_type": "markdown",
   "source": [
    "We will now try to optimise $ \\lambda $ in order to best approximate the ground state of the hamiltonian.\n",
    "\n",
    "To do so, first I need to pick an iterative optimiser. We choose stochastic gradient descent with a learning\n",
    "rate of $0.05$.\n",
    "Then, we must provide all the elements to the variational monte carlo driver, which takes case of setting up and running the whole optimisation.\n",
    "\n",
    "For example, the driver can be run for a specific number of iterations. Each iteration will have to run the Monte Carlo sampling defined by the variational state `nk.vqs.MCState`."
   ],
   "metadata": {}
  },
  {
   "cell_type": "code",
   "execution_count": 36,
   "source": [
    "optimizer = nk.optimizer.Sgd(learning_rate=0.05)\n",
    "\n",
    "# build the optimisation driver\n",
    "gs = nk.driver.VMC(H, optimizer, variational_state=vstate)\n",
    "\n",
    "# run the driver for 300 iterations. This will display a progress bar\n",
    "# by default.\n",
    "gs.run(n_iter=300)\n",
    "\n",
    "# expectation value of the energy\n",
    "mf_energy=vstate.expect(H)\n",
    "# compare with the Lanczos exact diagonalization energy eigenvalue\n",
    "error=abs((mf_energy.mean-eig_vals[0])/eig_vals[0])\n",
    "print(\"Optimized energy and relative error: \",mf_energy,error)"
   ],
   "outputs": [
    {
     "output_type": "stream",
     "name": "stdout",
     "text": [
      "No output specified (out=[apath|nk.logging.JsonLogger(...)]).Running the optimization but not saving the output.\n"
     ]
    },
    {
     "output_type": "stream",
     "name": "stderr",
     "text": [
      "100%|██████████| 300/300 [00:14<00:00, 20.21it/s, Energy=3.227 ± 0.012 [σ²=0.073, R̂=1.0456]]\n"
     ]
    },
    {
     "output_type": "stream",
     "name": "stdout",
     "text": [
      "Optimized energy and relative error:  3.373 ± 0.022 [σ²=0.240, R̂=1.0413] 0.07620810253945674\n"
     ]
    }
   ],
   "metadata": {}
  },
  {
   "cell_type": "code",
   "execution_count": 38,
   "source": [
    "# we can also inspect the parameter:\n",
    "print(\"Final optimized parameter: \",vstate.parameters[\"gamma\"])"
   ],
   "outputs": [
    {
     "output_type": "stream",
     "name": "stdout",
     "text": [
      "Final optimized parameter:  [-4.66281252]\n"
     ]
    }
   ],
   "metadata": {}
  },
  {
   "cell_type": "code",
   "execution_count": 41,
   "source": [
    "print(f\"Final optimized energy relative error (with mean-field ansatz): {error*100:.2f}%\")"
   ],
   "outputs": [
    {
     "output_type": "stream",
     "name": "stdout",
     "text": [
      "Final optimized energy relative error (with mean-field ansatz): 7.62%\n"
     ]
    }
   ],
   "metadata": {}
  },
  {
   "cell_type": "markdown",
   "source": [
    "Even a very rudimentary ansatz without interactions between the degrees of freedom is sufficient to reach a 7% error on the ground state energy with a single parameter to optimize.\n",
    "\n",
    "We will see more complicated ansatzë below."
   ],
   "metadata": {}
  },
  {
   "cell_type": "markdown",
   "source": [
    "## 5. Jastrow Ansatz\n",
    "\n",
    "We have seen that the mean field ansatz yields about 7% error on the ground-state energy. Let's now try to do better, using a more correlated ansatz. \n",
    "\n",
    "We will now take a short-range Jastrow ansatz which is already inlcuded in `netket` as [`nk.models.Jastrow`](https://www.netket.org/docs/_generated/models/netket.models.Jastrow.html#netket.models.Jastrow):\n",
    "\n",
    "$$\\log{\\Psi(X)} = \\sum_{ij} X_i W_{ij} X_j$$\n",
    "\n",
    "where $W_{ij}$ is a symmetric matrix of learnable complex parameters (the _kernel_ of the quadratic form)."
   ],
   "metadata": {}
  },
  {
   "cell_type": "code",
   "execution_count": 42,
   "source": [
    "# change the model: initialize weights with normal distributions\n",
    "model=nk.models.Jastrow(kernel_init=nn.initializers.normal())\n",
    "\n",
    "# we use the same MetropolicLocal sapmler as before. Now we sample for longer to get a more accurate result\n",
    "vstate = nk.vqs.MCState(sampler, model, n_samples=1000)"
   ],
   "outputs": [],
   "metadata": {}
  },
  {
   "cell_type": "code",
   "execution_count": 45,
   "source": [
    "# look at the parameters\n",
    "print(vstate.parameters)"
   ],
   "outputs": [
    {
     "output_type": "stream",
     "name": "stdout",
     "text": [
      "FrozenDict({\n",
      "    kernel: DeviceArray([[-1.67265974+0.00342668j, -0.05730606-0.01990046j,\n",
      "                  -0.07597856+0.00550249j, -0.02401424-0.00128284j,\n",
      "                  -0.10000491+0.01410519j, -0.11477138+0.01624514j],\n",
      "                 [-0.06869668-0.01551856j, -1.64225038+0.03116697j,\n",
      "                  -0.0561277 -0.00340361j, -0.1100495 +0.0228859j ,\n",
      "                  -0.01037214-0.01476293j, -0.13159474+0.00933418j],\n",
      "                 [-0.06183077+0.00095033j, -0.0798975 -0.01076397j,\n",
      "                  -1.66039473+0.00162631j, -0.10467202+0.00336656j,\n",
      "                  -0.11387701-0.00157704j, -0.01632164+0.00075209j],\n",
      "                 [-0.04170031-0.01504231j, -0.09973884+0.01466556j,\n",
      "                  -0.10760886+0.01105129j, -1.70003698+0.01674857j,\n",
      "                  -0.07864263-0.01537587j, -0.06865742-0.02231087j],\n",
      "                 [-0.10381782+0.00848046j, -0.00382873-0.01657275j,\n",
      "                  -0.11611846+0.01289382j, -0.06320484-0.00924098j,\n",
      "                  -1.65403724+0.0211605j , -0.081072  -0.00022443j],\n",
      "                 [-0.10125572+0.00512187j, -0.11763503+0.00766325j,\n",
      "                  -0.02285611+0.00402604j, -0.05707661-0.01737821j,\n",
      "                  -0.07492984-0.00914949j, -1.65545009+0.02822062j]],            dtype=complex128),\n",
      "})\n"
     ]
    }
   ],
   "metadata": {}
  },
  {
   "cell_type": "markdown",
   "source": [
    "We then optimize it, however this time we also introduce a stochastic reconfiguration (natural gradient) preconditioner:"
   ],
   "metadata": {}
  },
  {
   "cell_type": "code",
   "execution_count": 43,
   "source": [
    "optimizer = nk.optimizer.Sgd(learning_rate=0.05)\n",
    "\n",
    "preconditioner = nk.optimizer.SR(diag_shift=0.1)\n",
    "\n",
    "# driver for running the simulation\n",
    "gs = nk.driver.VMC(H, optimizer, variational_state=vstate, preconditioner=preconditioner)"
   ],
   "outputs": [],
   "metadata": {}
  },
  {
   "cell_type": "markdown",
   "source": [
    "We now log the intermediate results of the optimization, so that we can visualize them at a later stage. "
   ],
   "metadata": {}
  },
  {
   "cell_type": "code",
   "execution_count": 44,
   "source": [
    "# Loggers that work together with optimisation drivers are defined in nk.logging.\n",
    "# RuntimeLog keeps the metrics in memory, JsonLog stores them to a json file which can be read\n",
    "# as a dict, TensorBoardLog can be used to log to TensorBoard.\n",
    "log=nk.logging.RuntimeLog()\n",
    "\n",
    "# One or more logger objects must be passed to the keyword argument `out`.\n",
    "gs.run(n_iter=300, out=log)\n"
   ],
   "outputs": [
    {
     "output_type": "stream",
     "name": "stderr",
     "text": [
      "100%|██████████| 300/300 [00:27<00:00, 10.77it/s, Energy=3.1511+0.0000j ± 0.0011 [σ²=0.0012, R̂=0.9995]]\n"
     ]
    },
    {
     "output_type": "execute_result",
     "data": {
      "text/plain": [
       "(<netket.logging.runtime_log.RuntimeLog at 0x1298d9a90>,)"
      ]
     },
     "metadata": {},
     "execution_count": 44
    }
   ],
   "metadata": {}
  },
  {
   "cell_type": "code",
   "execution_count": 48,
   "source": [
    "print(f\"Final optimized kernel parameters: {vstate.parameters['kernel']}\\n\")\n",
    "jas_energy=vstate.expect(H)\n",
    "error=abs((jas_energy.mean-eig_vals[0])/eig_vals[0])\n",
    "print(f\"Optimized energy : {jas_energy}\")\n",
    "print(f\"relative error   : {error*100:.2f}%\")"
   ],
   "outputs": [
    {
     "output_type": "stream",
     "name": "stdout",
     "text": [
      "Final optimized kernel parameters: [[-1.67265974+0.00342668j -0.05730606-0.01990046j -0.07597856+0.00550249j\n",
      "  -0.02401424-0.00128284j -0.10000491+0.01410519j -0.11477138+0.01624514j]\n",
      " [-0.06869668-0.01551856j -1.64225038+0.03116697j -0.0561277 -0.00340361j\n",
      "  -0.1100495 +0.0228859j  -0.01037214-0.01476293j -0.13159474+0.00933418j]\n",
      " [-0.06183077+0.00095033j -0.0798975 -0.01076397j -1.66039473+0.00162631j\n",
      "  -0.10467202+0.00336656j -0.11387701-0.00157704j -0.01632164+0.00075209j]\n",
      " [-0.04170031-0.01504231j -0.09973884+0.01466556j -0.10760886+0.01105129j\n",
      "  -1.70003698+0.01674857j -0.07864263-0.01537587j -0.06865742-0.02231087j]\n",
      " [-0.10381782+0.00848046j -0.00382873-0.01657275j -0.11611846+0.01289382j\n",
      "  -0.06320484-0.00924098j -1.65403724+0.0211605j  -0.081072  -0.00022443j]\n",
      " [-0.10125572+0.00512187j -0.11763503+0.00766325j -0.02285611+0.00402604j\n",
      "  -0.05707661-0.01737821j -0.07492984-0.00914949j -1.65545009+0.02822062j]]\n",
      "\n",
      "Optimized energy : 3.1598+0.0000j ± 0.0033 [σ²=0.0107, R̂=1.0080]\n",
      "relative error   : 0.82%\n"
     ]
    }
   ],
   "metadata": {}
  },
  {
   "cell_type": "markdown",
   "source": [
    "You can now see that this ansatz is almost one order of magnitude more accurate than the mean field! \n",
    "\n",
    "In order to visualize what happened during the optimization, we can use the data that has been stored by the logger. There are several available loggers in NetKet, here we have just used a simple one that stores the intermediate results as values in a dictionary. "
   ],
   "metadata": {}
  },
  {
   "cell_type": "code",
   "execution_count": 49,
   "source": [
    "data_jastrow = log.data\n",
    "print(data_jastrow)"
   ],
   "outputs": [
    {
     "output_type": "stream",
     "name": "stdout",
     "text": [
      "{'Energy': History(\n",
      "   keys  = ['Mean', 'Variance', 'Sigma', 'R_hat', 'TauCorr'], \n",
      "   iters = [0, 1, ... 298, 299] (300 steps),\n",
      ")}\n"
     ]
    }
   ],
   "metadata": {}
  },
  {
   "cell_type": "code",
   "execution_count": 53,
   "source": [
    "energy_history = data_jastrow[\"Energy\"].Mean.real\n",
    "energy_error_history = data_jastrow[\"Energy\"].Sigma.real"
   ],
   "outputs": [],
   "metadata": {}
  },
  {
   "cell_type": "markdown",
   "source": [
    "These report several intermediate quantities, that can be easily plotted. For example we can plot the value of the energy (with its error bar) at each optimization step.  "
   ],
   "metadata": {}
  },
  {
   "cell_type": "code",
   "execution_count": 56,
   "source": [
    "fig, ax = plt.subplots(figsize=(10,5))\n",
    "ax.errorbar(data_jastrow[\"Energy\"].iters, energy_history, yerr=energy_error_history)\n",
    "ax.set_xlabel('Iterations')\n",
    "ax.set_ylabel('Energy (Re)');"
   ],
   "outputs": [
    {
     "output_type": "display_data",
     "data": {
      "text/plain": [
       "<Figure size 720x360 with 1 Axes>"
      ],
      "image/svg+xml": "<?xml version=\"1.0\" encoding=\"utf-8\" standalone=\"no\"?>\n<!DOCTYPE svg PUBLIC \"-//W3C//DTD SVG 1.1//EN\"\n  \"http://www.w3.org/Graphics/SVG/1.1/DTD/svg11.dtd\">\n<svg height=\"316.55625pt\" version=\"1.1\" viewBox=\"0 0 605.803125 316.55625\" width=\"605.803125pt\" xmlns=\"http://www.w3.org/2000/svg\" xmlns:xlink=\"http://www.w3.org/1999/xlink\">\n <metadata>\n  <rdf:RDF xmlns:cc=\"http://creativecommons.org/ns#\" xmlns:dc=\"http://purl.org/dc/elements/1.1/\" xmlns:rdf=\"http://www.w3.org/1999/02/22-rdf-syntax-ns#\">\n   <cc:Work>\n    <dc:type rdf:resource=\"http://purl.org/dc/dcmitype/StillImage\"/>\n    <dc:date>2021-09-01T18:31:50.881933</dc:date>\n    <dc:format>image/svg+xml</dc:format>\n    <dc:creator>\n     <cc:Agent>\n      <dc:title>Matplotlib v3.4.3, https://matplotlib.org/</dc:title>\n     </cc:Agent>\n    </dc:creator>\n   </cc:Work>\n  </rdf:RDF>\n </metadata>\n <defs>\n  <style type=\"text/css\">*{stroke-linecap:butt;stroke-linejoin:round;}</style>\n </defs>\n <g id=\"figure_1\">\n  <g id=\"patch_1\">\n   <path d=\"M 0 316.55625 \nL 605.803125 316.55625 \nL 605.803125 0 \nL 0 0 \nz\n\" style=\"fill:none;\"/>\n  </g>\n  <g id=\"axes_1\">\n   <g id=\"patch_2\">\n    <path d=\"M 40.603125 279 \nL 598.603125 279 \nL 598.603125 7.2 \nL 40.603125 7.2 \nz\n\" style=\"fill:#ffffff;\"/>\n   </g>\n   <g id=\"matplotlib.axis_1\">\n    <g id=\"xtick_1\">\n     <g id=\"line2d_1\">\n      <defs>\n       <path d=\"M 0 0 \nL 0 3.5 \n\" id=\"mb8179ca0a8\" style=\"stroke:#000000;stroke-width:0.8;\"/>\n      </defs>\n      <g>\n       <use style=\"stroke:#000000;stroke-width:0.8;\" x=\"65.966761\" xlink:href=\"#mb8179ca0a8\" y=\"279\"/>\n      </g>\n     </g>\n     <g id=\"text_1\">\n      <!-- 0 -->\n      <g transform=\"translate(62.785511 293.598437)scale(0.1 -0.1)\">\n       <defs>\n        <path d=\"M 2034 4250 \nQ 1547 4250 1301 3770 \nQ 1056 3291 1056 2328 \nQ 1056 1369 1301 889 \nQ 1547 409 2034 409 \nQ 2525 409 2770 889 \nQ 3016 1369 3016 2328 \nQ 3016 3291 2770 3770 \nQ 2525 4250 2034 4250 \nz\nM 2034 4750 \nQ 2819 4750 3233 4129 \nQ 3647 3509 3647 2328 \nQ 3647 1150 3233 529 \nQ 2819 -91 2034 -91 \nQ 1250 -91 836 529 \nQ 422 1150 422 2328 \nQ 422 3509 836 4129 \nQ 1250 4750 2034 4750 \nz\n\" id=\"DejaVuSans-30\" transform=\"scale(0.015625)\"/>\n       </defs>\n       <use xlink:href=\"#DejaVuSans-30\"/>\n      </g>\n     </g>\n    </g>\n    <g id=\"xtick_2\">\n     <g id=\"line2d_2\">\n      <g>\n       <use style=\"stroke:#000000;stroke-width:0.8;\" x=\"150.794977\" xlink:href=\"#mb8179ca0a8\" y=\"279\"/>\n      </g>\n     </g>\n     <g id=\"text_2\">\n      <!-- 50 -->\n      <g transform=\"translate(144.432477 293.598437)scale(0.1 -0.1)\">\n       <defs>\n        <path d=\"M 691 4666 \nL 3169 4666 \nL 3169 4134 \nL 1269 4134 \nL 1269 2991 \nQ 1406 3038 1543 3061 \nQ 1681 3084 1819 3084 \nQ 2600 3084 3056 2656 \nQ 3513 2228 3513 1497 \nQ 3513 744 3044 326 \nQ 2575 -91 1722 -91 \nQ 1428 -91 1123 -41 \nQ 819 9 494 109 \nL 494 744 \nQ 775 591 1075 516 \nQ 1375 441 1709 441 \nQ 2250 441 2565 725 \nQ 2881 1009 2881 1497 \nQ 2881 1984 2565 2268 \nQ 2250 2553 1709 2553 \nQ 1456 2553 1204 2497 \nQ 953 2441 691 2322 \nL 691 4666 \nz\n\" id=\"DejaVuSans-35\" transform=\"scale(0.015625)\"/>\n       </defs>\n       <use xlink:href=\"#DejaVuSans-35\"/>\n       <use x=\"63.623047\" xlink:href=\"#DejaVuSans-30\"/>\n      </g>\n     </g>\n    </g>\n    <g id=\"xtick_3\">\n     <g id=\"line2d_3\">\n      <g>\n       <use style=\"stroke:#000000;stroke-width:0.8;\" x=\"235.623192\" xlink:href=\"#mb8179ca0a8\" y=\"279\"/>\n      </g>\n     </g>\n     <g id=\"text_3\">\n      <!-- 100 -->\n      <g transform=\"translate(226.079442 293.598437)scale(0.1 -0.1)\">\n       <defs>\n        <path d=\"M 794 531 \nL 1825 531 \nL 1825 4091 \nL 703 3866 \nL 703 4441 \nL 1819 4666 \nL 2450 4666 \nL 2450 531 \nL 3481 531 \nL 3481 0 \nL 794 0 \nL 794 531 \nz\n\" id=\"DejaVuSans-31\" transform=\"scale(0.015625)\"/>\n       </defs>\n       <use xlink:href=\"#DejaVuSans-31\"/>\n       <use x=\"63.623047\" xlink:href=\"#DejaVuSans-30\"/>\n       <use x=\"127.246094\" xlink:href=\"#DejaVuSans-30\"/>\n      </g>\n     </g>\n    </g>\n    <g id=\"xtick_4\">\n     <g id=\"line2d_4\">\n      <g>\n       <use style=\"stroke:#000000;stroke-width:0.8;\" x=\"320.451407\" xlink:href=\"#mb8179ca0a8\" y=\"279\"/>\n      </g>\n     </g>\n     <g id=\"text_4\">\n      <!-- 150 -->\n      <g transform=\"translate(310.907657 293.598437)scale(0.1 -0.1)\">\n       <use xlink:href=\"#DejaVuSans-31\"/>\n       <use x=\"63.623047\" xlink:href=\"#DejaVuSans-35\"/>\n       <use x=\"127.246094\" xlink:href=\"#DejaVuSans-30\"/>\n      </g>\n     </g>\n    </g>\n    <g id=\"xtick_5\">\n     <g id=\"line2d_5\">\n      <g>\n       <use style=\"stroke:#000000;stroke-width:0.8;\" x=\"405.279622\" xlink:href=\"#mb8179ca0a8\" y=\"279\"/>\n      </g>\n     </g>\n     <g id=\"text_5\">\n      <!-- 200 -->\n      <g transform=\"translate(395.735872 293.598437)scale(0.1 -0.1)\">\n       <defs>\n        <path d=\"M 1228 531 \nL 3431 531 \nL 3431 0 \nL 469 0 \nL 469 531 \nQ 828 903 1448 1529 \nQ 2069 2156 2228 2338 \nQ 2531 2678 2651 2914 \nQ 2772 3150 2772 3378 \nQ 2772 3750 2511 3984 \nQ 2250 4219 1831 4219 \nQ 1534 4219 1204 4116 \nQ 875 4013 500 3803 \nL 500 4441 \nQ 881 4594 1212 4672 \nQ 1544 4750 1819 4750 \nQ 2544 4750 2975 4387 \nQ 3406 4025 3406 3419 \nQ 3406 3131 3298 2873 \nQ 3191 2616 2906 2266 \nQ 2828 2175 2409 1742 \nQ 1991 1309 1228 531 \nz\n\" id=\"DejaVuSans-32\" transform=\"scale(0.015625)\"/>\n       </defs>\n       <use xlink:href=\"#DejaVuSans-32\"/>\n       <use x=\"63.623047\" xlink:href=\"#DejaVuSans-30\"/>\n       <use x=\"127.246094\" xlink:href=\"#DejaVuSans-30\"/>\n      </g>\n     </g>\n    </g>\n    <g id=\"xtick_6\">\n     <g id=\"line2d_6\">\n      <g>\n       <use style=\"stroke:#000000;stroke-width:0.8;\" x=\"490.107838\" xlink:href=\"#mb8179ca0a8\" y=\"279\"/>\n      </g>\n     </g>\n     <g id=\"text_6\">\n      <!-- 250 -->\n      <g transform=\"translate(480.564088 293.598437)scale(0.1 -0.1)\">\n       <use xlink:href=\"#DejaVuSans-32\"/>\n       <use x=\"63.623047\" xlink:href=\"#DejaVuSans-35\"/>\n       <use x=\"127.246094\" xlink:href=\"#DejaVuSans-30\"/>\n      </g>\n     </g>\n    </g>\n    <g id=\"xtick_7\">\n     <g id=\"line2d_7\">\n      <g>\n       <use style=\"stroke:#000000;stroke-width:0.8;\" x=\"574.936053\" xlink:href=\"#mb8179ca0a8\" y=\"279\"/>\n      </g>\n     </g>\n     <g id=\"text_7\">\n      <!-- 300 -->\n      <g transform=\"translate(565.392303 293.598437)scale(0.1 -0.1)\">\n       <defs>\n        <path d=\"M 2597 2516 \nQ 3050 2419 3304 2112 \nQ 3559 1806 3559 1356 \nQ 3559 666 3084 287 \nQ 2609 -91 1734 -91 \nQ 1441 -91 1130 -33 \nQ 819 25 488 141 \nL 488 750 \nQ 750 597 1062 519 \nQ 1375 441 1716 441 \nQ 2309 441 2620 675 \nQ 2931 909 2931 1356 \nQ 2931 1769 2642 2001 \nQ 2353 2234 1838 2234 \nL 1294 2234 \nL 1294 2753 \nL 1863 2753 \nQ 2328 2753 2575 2939 \nQ 2822 3125 2822 3475 \nQ 2822 3834 2567 4026 \nQ 2313 4219 1838 4219 \nQ 1578 4219 1281 4162 \nQ 984 4106 628 3988 \nL 628 4550 \nQ 988 4650 1302 4700 \nQ 1616 4750 1894 4750 \nQ 2613 4750 3031 4423 \nQ 3450 4097 3450 3541 \nQ 3450 3153 3228 2886 \nQ 3006 2619 2597 2516 \nz\n\" id=\"DejaVuSans-33\" transform=\"scale(0.015625)\"/>\n       </defs>\n       <use xlink:href=\"#DejaVuSans-33\"/>\n       <use x=\"63.623047\" xlink:href=\"#DejaVuSans-30\"/>\n       <use x=\"127.246094\" xlink:href=\"#DejaVuSans-30\"/>\n      </g>\n     </g>\n    </g>\n    <g id=\"text_8\">\n     <!-- Iterations -->\n     <g transform=\"translate(295.789844 307.276562)scale(0.1 -0.1)\">\n      <defs>\n       <path d=\"M 628 4666 \nL 1259 4666 \nL 1259 0 \nL 628 0 \nL 628 4666 \nz\n\" id=\"DejaVuSans-49\" transform=\"scale(0.015625)\"/>\n       <path d=\"M 1172 4494 \nL 1172 3500 \nL 2356 3500 \nL 2356 3053 \nL 1172 3053 \nL 1172 1153 \nQ 1172 725 1289 603 \nQ 1406 481 1766 481 \nL 2356 481 \nL 2356 0 \nL 1766 0 \nQ 1100 0 847 248 \nQ 594 497 594 1153 \nL 594 3053 \nL 172 3053 \nL 172 3500 \nL 594 3500 \nL 594 4494 \nL 1172 4494 \nz\n\" id=\"DejaVuSans-74\" transform=\"scale(0.015625)\"/>\n       <path d=\"M 3597 1894 \nL 3597 1613 \nL 953 1613 \nQ 991 1019 1311 708 \nQ 1631 397 2203 397 \nQ 2534 397 2845 478 \nQ 3156 559 3463 722 \nL 3463 178 \nQ 3153 47 2828 -22 \nQ 2503 -91 2169 -91 \nQ 1331 -91 842 396 \nQ 353 884 353 1716 \nQ 353 2575 817 3079 \nQ 1281 3584 2069 3584 \nQ 2775 3584 3186 3129 \nQ 3597 2675 3597 1894 \nz\nM 3022 2063 \nQ 3016 2534 2758 2815 \nQ 2500 3097 2075 3097 \nQ 1594 3097 1305 2825 \nQ 1016 2553 972 2059 \nL 3022 2063 \nz\n\" id=\"DejaVuSans-65\" transform=\"scale(0.015625)\"/>\n       <path d=\"M 2631 2963 \nQ 2534 3019 2420 3045 \nQ 2306 3072 2169 3072 \nQ 1681 3072 1420 2755 \nQ 1159 2438 1159 1844 \nL 1159 0 \nL 581 0 \nL 581 3500 \nL 1159 3500 \nL 1159 2956 \nQ 1341 3275 1631 3429 \nQ 1922 3584 2338 3584 \nQ 2397 3584 2469 3576 \nQ 2541 3569 2628 3553 \nL 2631 2963 \nz\n\" id=\"DejaVuSans-72\" transform=\"scale(0.015625)\"/>\n       <path d=\"M 2194 1759 \nQ 1497 1759 1228 1600 \nQ 959 1441 959 1056 \nQ 959 750 1161 570 \nQ 1363 391 1709 391 \nQ 2188 391 2477 730 \nQ 2766 1069 2766 1631 \nL 2766 1759 \nL 2194 1759 \nz\nM 3341 1997 \nL 3341 0 \nL 2766 0 \nL 2766 531 \nQ 2569 213 2275 61 \nQ 1981 -91 1556 -91 \nQ 1019 -91 701 211 \nQ 384 513 384 1019 \nQ 384 1609 779 1909 \nQ 1175 2209 1959 2209 \nL 2766 2209 \nL 2766 2266 \nQ 2766 2663 2505 2880 \nQ 2244 3097 1772 3097 \nQ 1472 3097 1187 3025 \nQ 903 2953 641 2809 \nL 641 3341 \nQ 956 3463 1253 3523 \nQ 1550 3584 1831 3584 \nQ 2591 3584 2966 3190 \nQ 3341 2797 3341 1997 \nz\n\" id=\"DejaVuSans-61\" transform=\"scale(0.015625)\"/>\n       <path d=\"M 603 3500 \nL 1178 3500 \nL 1178 0 \nL 603 0 \nL 603 3500 \nz\nM 603 4863 \nL 1178 4863 \nL 1178 4134 \nL 603 4134 \nL 603 4863 \nz\n\" id=\"DejaVuSans-69\" transform=\"scale(0.015625)\"/>\n       <path d=\"M 1959 3097 \nQ 1497 3097 1228 2736 \nQ 959 2375 959 1747 \nQ 959 1119 1226 758 \nQ 1494 397 1959 397 \nQ 2419 397 2687 759 \nQ 2956 1122 2956 1747 \nQ 2956 2369 2687 2733 \nQ 2419 3097 1959 3097 \nz\nM 1959 3584 \nQ 2709 3584 3137 3096 \nQ 3566 2609 3566 1747 \nQ 3566 888 3137 398 \nQ 2709 -91 1959 -91 \nQ 1206 -91 779 398 \nQ 353 888 353 1747 \nQ 353 2609 779 3096 \nQ 1206 3584 1959 3584 \nz\n\" id=\"DejaVuSans-6f\" transform=\"scale(0.015625)\"/>\n       <path d=\"M 3513 2113 \nL 3513 0 \nL 2938 0 \nL 2938 2094 \nQ 2938 2591 2744 2837 \nQ 2550 3084 2163 3084 \nQ 1697 3084 1428 2787 \nQ 1159 2491 1159 1978 \nL 1159 0 \nL 581 0 \nL 581 3500 \nL 1159 3500 \nL 1159 2956 \nQ 1366 3272 1645 3428 \nQ 1925 3584 2291 3584 \nQ 2894 3584 3203 3211 \nQ 3513 2838 3513 2113 \nz\n\" id=\"DejaVuSans-6e\" transform=\"scale(0.015625)\"/>\n       <path d=\"M 2834 3397 \nL 2834 2853 \nQ 2591 2978 2328 3040 \nQ 2066 3103 1784 3103 \nQ 1356 3103 1142 2972 \nQ 928 2841 928 2578 \nQ 928 2378 1081 2264 \nQ 1234 2150 1697 2047 \nL 1894 2003 \nQ 2506 1872 2764 1633 \nQ 3022 1394 3022 966 \nQ 3022 478 2636 193 \nQ 2250 -91 1575 -91 \nQ 1294 -91 989 -36 \nQ 684 19 347 128 \nL 347 722 \nQ 666 556 975 473 \nQ 1284 391 1588 391 \nQ 1994 391 2212 530 \nQ 2431 669 2431 922 \nQ 2431 1156 2273 1281 \nQ 2116 1406 1581 1522 \nL 1381 1569 \nQ 847 1681 609 1914 \nQ 372 2147 372 2553 \nQ 372 3047 722 3315 \nQ 1072 3584 1716 3584 \nQ 2034 3584 2315 3537 \nQ 2597 3491 2834 3397 \nz\n\" id=\"DejaVuSans-73\" transform=\"scale(0.015625)\"/>\n      </defs>\n      <use xlink:href=\"#DejaVuSans-49\"/>\n      <use x=\"29.492188\" xlink:href=\"#DejaVuSans-74\"/>\n      <use x=\"68.701172\" xlink:href=\"#DejaVuSans-65\"/>\n      <use x=\"130.224609\" xlink:href=\"#DejaVuSans-72\"/>\n      <use x=\"171.337891\" xlink:href=\"#DejaVuSans-61\"/>\n      <use x=\"232.617188\" xlink:href=\"#DejaVuSans-74\"/>\n      <use x=\"271.826172\" xlink:href=\"#DejaVuSans-69\"/>\n      <use x=\"299.609375\" xlink:href=\"#DejaVuSans-6f\"/>\n      <use x=\"360.791016\" xlink:href=\"#DejaVuSans-6e\"/>\n      <use x=\"424.169922\" xlink:href=\"#DejaVuSans-73\"/>\n     </g>\n    </g>\n   </g>\n   <g id=\"matplotlib.axis_2\">\n    <g id=\"ytick_1\">\n     <g id=\"line2d_8\">\n      <defs>\n       <path d=\"M 0 0 \nL -3.5 0 \n\" id=\"m7aee19dae3\" style=\"stroke:#000000;stroke-width:0.8;\"/>\n      </defs>\n      <g>\n       <use style=\"stroke:#000000;stroke-width:0.8;\" x=\"40.603125\" xlink:href=\"#m7aee19dae3\" y=\"245.359197\"/>\n      </g>\n     </g>\n     <g id=\"text_9\">\n      <!-- 4 -->\n      <g transform=\"translate(27.240625 249.158416)scale(0.1 -0.1)\">\n       <defs>\n        <path d=\"M 2419 4116 \nL 825 1625 \nL 2419 1625 \nL 2419 4116 \nz\nM 2253 4666 \nL 3047 4666 \nL 3047 1625 \nL 3713 1625 \nL 3713 1100 \nL 3047 1100 \nL 3047 0 \nL 2419 0 \nL 2419 1100 \nL 313 1100 \nL 313 1709 \nL 2253 4666 \nz\n\" id=\"DejaVuSans-34\" transform=\"scale(0.015625)\"/>\n       </defs>\n       <use xlink:href=\"#DejaVuSans-34\"/>\n      </g>\n     </g>\n    </g>\n    <g id=\"ytick_2\">\n     <g id=\"line2d_9\">\n      <g>\n       <use style=\"stroke:#000000;stroke-width:0.8;\" x=\"40.603125\" xlink:href=\"#m7aee19dae3\" y=\"195.273843\"/>\n      </g>\n     </g>\n     <g id=\"text_10\">\n      <!-- 6 -->\n      <g transform=\"translate(27.240625 199.073062)scale(0.1 -0.1)\">\n       <defs>\n        <path d=\"M 2113 2584 \nQ 1688 2584 1439 2293 \nQ 1191 2003 1191 1497 \nQ 1191 994 1439 701 \nQ 1688 409 2113 409 \nQ 2538 409 2786 701 \nQ 3034 994 3034 1497 \nQ 3034 2003 2786 2293 \nQ 2538 2584 2113 2584 \nz\nM 3366 4563 \nL 3366 3988 \nQ 3128 4100 2886 4159 \nQ 2644 4219 2406 4219 \nQ 1781 4219 1451 3797 \nQ 1122 3375 1075 2522 \nQ 1259 2794 1537 2939 \nQ 1816 3084 2150 3084 \nQ 2853 3084 3261 2657 \nQ 3669 2231 3669 1497 \nQ 3669 778 3244 343 \nQ 2819 -91 2113 -91 \nQ 1303 -91 875 529 \nQ 447 1150 447 2328 \nQ 447 3434 972 4092 \nQ 1497 4750 2381 4750 \nQ 2619 4750 2861 4703 \nQ 3103 4656 3366 4563 \nz\n\" id=\"DejaVuSans-36\" transform=\"scale(0.015625)\"/>\n       </defs>\n       <use xlink:href=\"#DejaVuSans-36\"/>\n      </g>\n     </g>\n    </g>\n    <g id=\"ytick_3\">\n     <g id=\"line2d_10\">\n      <g>\n       <use style=\"stroke:#000000;stroke-width:0.8;\" x=\"40.603125\" xlink:href=\"#m7aee19dae3\" y=\"145.188489\"/>\n      </g>\n     </g>\n     <g id=\"text_11\">\n      <!-- 8 -->\n      <g transform=\"translate(27.240625 148.987708)scale(0.1 -0.1)\">\n       <defs>\n        <path d=\"M 2034 2216 \nQ 1584 2216 1326 1975 \nQ 1069 1734 1069 1313 \nQ 1069 891 1326 650 \nQ 1584 409 2034 409 \nQ 2484 409 2743 651 \nQ 3003 894 3003 1313 \nQ 3003 1734 2745 1975 \nQ 2488 2216 2034 2216 \nz\nM 1403 2484 \nQ 997 2584 770 2862 \nQ 544 3141 544 3541 \nQ 544 4100 942 4425 \nQ 1341 4750 2034 4750 \nQ 2731 4750 3128 4425 \nQ 3525 4100 3525 3541 \nQ 3525 3141 3298 2862 \nQ 3072 2584 2669 2484 \nQ 3125 2378 3379 2068 \nQ 3634 1759 3634 1313 \nQ 3634 634 3220 271 \nQ 2806 -91 2034 -91 \nQ 1263 -91 848 271 \nQ 434 634 434 1313 \nQ 434 1759 690 2068 \nQ 947 2378 1403 2484 \nz\nM 1172 3481 \nQ 1172 3119 1398 2916 \nQ 1625 2713 2034 2713 \nQ 2441 2713 2670 2916 \nQ 2900 3119 2900 3481 \nQ 2900 3844 2670 4047 \nQ 2441 4250 2034 4250 \nQ 1625 4250 1398 4047 \nQ 1172 3844 1172 3481 \nz\n\" id=\"DejaVuSans-38\" transform=\"scale(0.015625)\"/>\n       </defs>\n       <use xlink:href=\"#DejaVuSans-38\"/>\n      </g>\n     </g>\n    </g>\n    <g id=\"ytick_4\">\n     <g id=\"line2d_11\">\n      <g>\n       <use style=\"stroke:#000000;stroke-width:0.8;\" x=\"40.603125\" xlink:href=\"#m7aee19dae3\" y=\"95.103135\"/>\n      </g>\n     </g>\n     <g id=\"text_12\">\n      <!-- 10 -->\n      <g transform=\"translate(20.878125 98.902354)scale(0.1 -0.1)\">\n       <use xlink:href=\"#DejaVuSans-31\"/>\n       <use x=\"63.623047\" xlink:href=\"#DejaVuSans-30\"/>\n      </g>\n     </g>\n    </g>\n    <g id=\"ytick_5\">\n     <g id=\"line2d_12\">\n      <g>\n       <use style=\"stroke:#000000;stroke-width:0.8;\" x=\"40.603125\" xlink:href=\"#m7aee19dae3\" y=\"45.017781\"/>\n      </g>\n     </g>\n     <g id=\"text_13\">\n      <!-- 12 -->\n      <g transform=\"translate(20.878125 48.816999)scale(0.1 -0.1)\">\n       <use xlink:href=\"#DejaVuSans-31\"/>\n       <use x=\"63.623047\" xlink:href=\"#DejaVuSans-32\"/>\n      </g>\n     </g>\n    </g>\n    <g id=\"text_14\">\n     <!-- Energy (Re) -->\n     <g transform=\"translate(14.798437 172.422656)rotate(-90)scale(0.1 -0.1)\">\n      <defs>\n       <path d=\"M 628 4666 \nL 3578 4666 \nL 3578 4134 \nL 1259 4134 \nL 1259 2753 \nL 3481 2753 \nL 3481 2222 \nL 1259 2222 \nL 1259 531 \nL 3634 531 \nL 3634 0 \nL 628 0 \nL 628 4666 \nz\n\" id=\"DejaVuSans-45\" transform=\"scale(0.015625)\"/>\n       <path d=\"M 2906 1791 \nQ 2906 2416 2648 2759 \nQ 2391 3103 1925 3103 \nQ 1463 3103 1205 2759 \nQ 947 2416 947 1791 \nQ 947 1169 1205 825 \nQ 1463 481 1925 481 \nQ 2391 481 2648 825 \nQ 2906 1169 2906 1791 \nz\nM 3481 434 \nQ 3481 -459 3084 -895 \nQ 2688 -1331 1869 -1331 \nQ 1566 -1331 1297 -1286 \nQ 1028 -1241 775 -1147 \nL 775 -588 \nQ 1028 -725 1275 -790 \nQ 1522 -856 1778 -856 \nQ 2344 -856 2625 -561 \nQ 2906 -266 2906 331 \nL 2906 616 \nQ 2728 306 2450 153 \nQ 2172 0 1784 0 \nQ 1141 0 747 490 \nQ 353 981 353 1791 \nQ 353 2603 747 3093 \nQ 1141 3584 1784 3584 \nQ 2172 3584 2450 3431 \nQ 2728 3278 2906 2969 \nL 2906 3500 \nL 3481 3500 \nL 3481 434 \nz\n\" id=\"DejaVuSans-67\" transform=\"scale(0.015625)\"/>\n       <path d=\"M 2059 -325 \nQ 1816 -950 1584 -1140 \nQ 1353 -1331 966 -1331 \nL 506 -1331 \nL 506 -850 \nL 844 -850 \nQ 1081 -850 1212 -737 \nQ 1344 -625 1503 -206 \nL 1606 56 \nL 191 3500 \nL 800 3500 \nL 1894 763 \nL 2988 3500 \nL 3597 3500 \nL 2059 -325 \nz\n\" id=\"DejaVuSans-79\" transform=\"scale(0.015625)\"/>\n       <path id=\"DejaVuSans-20\" transform=\"scale(0.015625)\"/>\n       <path d=\"M 1984 4856 \nQ 1566 4138 1362 3434 \nQ 1159 2731 1159 2009 \nQ 1159 1288 1364 580 \nQ 1569 -128 1984 -844 \nL 1484 -844 \nQ 1016 -109 783 600 \nQ 550 1309 550 2009 \nQ 550 2706 781 3412 \nQ 1013 4119 1484 4856 \nL 1984 4856 \nz\n\" id=\"DejaVuSans-28\" transform=\"scale(0.015625)\"/>\n       <path d=\"M 2841 2188 \nQ 3044 2119 3236 1894 \nQ 3428 1669 3622 1275 \nL 4263 0 \nL 3584 0 \nL 2988 1197 \nQ 2756 1666 2539 1819 \nQ 2322 1972 1947 1972 \nL 1259 1972 \nL 1259 0 \nL 628 0 \nL 628 4666 \nL 2053 4666 \nQ 2853 4666 3247 4331 \nQ 3641 3997 3641 3322 \nQ 3641 2881 3436 2590 \nQ 3231 2300 2841 2188 \nz\nM 1259 4147 \nL 1259 2491 \nL 2053 2491 \nQ 2509 2491 2742 2702 \nQ 2975 2913 2975 3322 \nQ 2975 3731 2742 3939 \nQ 2509 4147 2053 4147 \nL 1259 4147 \nz\n\" id=\"DejaVuSans-52\" transform=\"scale(0.015625)\"/>\n       <path d=\"M 513 4856 \nL 1013 4856 \nQ 1481 4119 1714 3412 \nQ 1947 2706 1947 2009 \nQ 1947 1309 1714 600 \nQ 1481 -109 1013 -844 \nL 513 -844 \nQ 928 -128 1133 580 \nQ 1338 1288 1338 2009 \nQ 1338 2731 1133 3434 \nQ 928 4138 513 4856 \nz\n\" id=\"DejaVuSans-29\" transform=\"scale(0.015625)\"/>\n      </defs>\n      <use xlink:href=\"#DejaVuSans-45\"/>\n      <use x=\"63.183594\" xlink:href=\"#DejaVuSans-6e\"/>\n      <use x=\"126.5625\" xlink:href=\"#DejaVuSans-65\"/>\n      <use x=\"188.085938\" xlink:href=\"#DejaVuSans-72\"/>\n      <use x=\"227.449219\" xlink:href=\"#DejaVuSans-67\"/>\n      <use x=\"290.925781\" xlink:href=\"#DejaVuSans-79\"/>\n      <use x=\"350.105469\" xlink:href=\"#DejaVuSans-20\"/>\n      <use x=\"381.892578\" xlink:href=\"#DejaVuSans-28\"/>\n      <use x=\"420.90625\" xlink:href=\"#DejaVuSans-52\"/>\n      <use x=\"485.888672\" xlink:href=\"#DejaVuSans-65\"/>\n      <use x=\"547.412109\" xlink:href=\"#DejaVuSans-29\"/>\n     </g>\n    </g>\n   </g>\n   <g id=\"LineCollection_1\">\n    <path clip-path=\"url(#pdcbfb604bf)\" d=\"M 65.966761 24.148372 \nL 65.966761 19.554545 \n\" style=\"fill:none;stroke:#1f77b4;stroke-width:1.5;\"/>\n    <path clip-path=\"url(#pdcbfb604bf)\" d=\"M 67.663326 40.493263 \nL 67.663326 36.120694 \n\" style=\"fill:none;stroke:#1f77b4;stroke-width:1.5;\"/>\n    <path clip-path=\"url(#pdcbfb604bf)\" d=\"M 69.35989 58.728258 \nL 69.35989 54.478752 \n\" style=\"fill:none;stroke:#1f77b4;stroke-width:1.5;\"/>\n    <path clip-path=\"url(#pdcbfb604bf)\" d=\"M 71.056454 74.802675 \nL 71.056454 70.801997 \n\" style=\"fill:none;stroke:#1f77b4;stroke-width:1.5;\"/>\n    <path clip-path=\"url(#pdcbfb604bf)\" d=\"M 72.753019 94.941345 \nL 72.753019 91.179808 \n\" style=\"fill:none;stroke:#1f77b4;stroke-width:1.5;\"/>\n    <path clip-path=\"url(#pdcbfb604bf)\" d=\"M 74.449583 105.04604 \nL 74.449583 101.349576 \n\" style=\"fill:none;stroke:#1f77b4;stroke-width:1.5;\"/>\n    <path clip-path=\"url(#pdcbfb604bf)\" d=\"M 76.146147 117.786995 \nL 76.146147 114.277471 \n\" style=\"fill:none;stroke:#1f77b4;stroke-width:1.5;\"/>\n    <path clip-path=\"url(#pdcbfb604bf)\" d=\"M 77.842712 127.825297 \nL 77.842712 124.368678 \n\" style=\"fill:none;stroke:#1f77b4;stroke-width:1.5;\"/>\n    <path clip-path=\"url(#pdcbfb604bf)\" d=\"M 79.539276 134.331062 \nL 79.539276 130.96041 \n\" style=\"fill:none;stroke:#1f77b4;stroke-width:1.5;\"/>\n    <path clip-path=\"url(#pdcbfb604bf)\" d=\"M 81.23584 149.322518 \nL 81.23584 146.079322 \n\" style=\"fill:none;stroke:#1f77b4;stroke-width:1.5;\"/>\n    <path clip-path=\"url(#pdcbfb604bf)\" d=\"M 82.932404 159.339528 \nL 82.932404 156.259512 \n\" style=\"fill:none;stroke:#1f77b4;stroke-width:1.5;\"/>\n    <path clip-path=\"url(#pdcbfb604bf)\" d=\"M 84.628969 168.588862 \nL 84.628969 165.423602 \n\" style=\"fill:none;stroke:#1f77b4;stroke-width:1.5;\"/>\n    <path clip-path=\"url(#pdcbfb604bf)\" d=\"M 86.325533 171.734819 \nL 86.325533 168.897474 \n\" style=\"fill:none;stroke:#1f77b4;stroke-width:1.5;\"/>\n    <path clip-path=\"url(#pdcbfb604bf)\" d=\"M 88.022097 178.17524 \nL 88.022097 175.335702 \n\" style=\"fill:none;stroke:#1f77b4;stroke-width:1.5;\"/>\n    <path clip-path=\"url(#pdcbfb604bf)\" d=\"M 89.718662 184.551997 \nL 89.718662 181.923065 \n\" style=\"fill:none;stroke:#1f77b4;stroke-width:1.5;\"/>\n    <path clip-path=\"url(#pdcbfb604bf)\" d=\"M 91.415226 194.607498 \nL 91.415226 192.168741 \n\" style=\"fill:none;stroke:#1f77b4;stroke-width:1.5;\"/>\n    <path clip-path=\"url(#pdcbfb604bf)\" d=\"M 93.11179 197.362683 \nL 93.11179 194.68948 \n\" style=\"fill:none;stroke:#1f77b4;stroke-width:1.5;\"/>\n    <path clip-path=\"url(#pdcbfb604bf)\" d=\"M 94.808355 205.145363 \nL 94.808355 202.83151 \n\" style=\"fill:none;stroke:#1f77b4;stroke-width:1.5;\"/>\n    <path clip-path=\"url(#pdcbfb604bf)\" d=\"M 96.504919 205.929809 \nL 96.504919 203.794334 \n\" style=\"fill:none;stroke:#1f77b4;stroke-width:1.5;\"/>\n    <path clip-path=\"url(#pdcbfb604bf)\" d=\"M 98.201483 212.600246 \nL 98.201483 210.411145 \n\" style=\"fill:none;stroke:#1f77b4;stroke-width:1.5;\"/>\n    <path clip-path=\"url(#pdcbfb604bf)\" d=\"M 99.898047 216.387679 \nL 99.898047 214.391532 \n\" style=\"fill:none;stroke:#1f77b4;stroke-width:1.5;\"/>\n    <path clip-path=\"url(#pdcbfb604bf)\" d=\"M 101.594612 219.806021 \nL 101.594612 217.888401 \n\" style=\"fill:none;stroke:#1f77b4;stroke-width:1.5;\"/>\n    <path clip-path=\"url(#pdcbfb604bf)\" d=\"M 103.291176 222.876151 \nL 103.291176 221.063919 \n\" style=\"fill:none;stroke:#1f77b4;stroke-width:1.5;\"/>\n    <path clip-path=\"url(#pdcbfb604bf)\" d=\"M 104.98774 225.174565 \nL 104.98774 223.44954 \n\" style=\"fill:none;stroke:#1f77b4;stroke-width:1.5;\"/>\n    <path clip-path=\"url(#pdcbfb604bf)\" d=\"M 106.684305 226.435032 \nL 106.684305 224.509534 \n\" style=\"fill:none;stroke:#1f77b4;stroke-width:1.5;\"/>\n    <path clip-path=\"url(#pdcbfb604bf)\" d=\"M 108.380869 230.682751 \nL 108.380869 228.999857 \n\" style=\"fill:none;stroke:#1f77b4;stroke-width:1.5;\"/>\n    <path clip-path=\"url(#pdcbfb604bf)\" d=\"M 110.077433 233.926164 \nL 110.077433 232.26583 \n\" style=\"fill:none;stroke:#1f77b4;stroke-width:1.5;\"/>\n    <path clip-path=\"url(#pdcbfb604bf)\" d=\"M 111.773998 234.975269 \nL 111.773998 233.394991 \n\" style=\"fill:none;stroke:#1f77b4;stroke-width:1.5;\"/>\n    <path clip-path=\"url(#pdcbfb604bf)\" d=\"M 113.470562 238.166436 \nL 113.470562 236.632941 \n\" style=\"fill:none;stroke:#1f77b4;stroke-width:1.5;\"/>\n    <path clip-path=\"url(#pdcbfb604bf)\" d=\"M 115.167126 239.092424 \nL 115.167126 237.541092 \n\" style=\"fill:none;stroke:#1f77b4;stroke-width:1.5;\"/>\n    <path clip-path=\"url(#pdcbfb604bf)\" d=\"M 116.863691 240.967105 \nL 116.863691 239.457782 \n\" style=\"fill:none;stroke:#1f77b4;stroke-width:1.5;\"/>\n    <path clip-path=\"url(#pdcbfb604bf)\" d=\"M 118.560255 243.954979 \nL 118.560255 242.574347 \n\" style=\"fill:none;stroke:#1f77b4;stroke-width:1.5;\"/>\n    <path clip-path=\"url(#pdcbfb604bf)\" d=\"M 120.256819 243.429921 \nL 120.256819 242.047059 \n\" style=\"fill:none;stroke:#1f77b4;stroke-width:1.5;\"/>\n    <path clip-path=\"url(#pdcbfb604bf)\" d=\"M 121.953383 247.586135 \nL 121.953383 246.317732 \n\" style=\"fill:none;stroke:#1f77b4;stroke-width:1.5;\"/>\n    <path clip-path=\"url(#pdcbfb604bf)\" d=\"M 123.649948 246.909799 \nL 123.649948 245.669986 \n\" style=\"fill:none;stroke:#1f77b4;stroke-width:1.5;\"/>\n    <path clip-path=\"url(#pdcbfb604bf)\" d=\"M 125.346512 247.0115 \nL 125.346512 245.739475 \n\" style=\"fill:none;stroke:#1f77b4;stroke-width:1.5;\"/>\n    <path clip-path=\"url(#pdcbfb604bf)\" d=\"M 127.043076 245.317741 \nL 127.043076 244.036611 \n\" style=\"fill:none;stroke:#1f77b4;stroke-width:1.5;\"/>\n    <path clip-path=\"url(#pdcbfb604bf)\" d=\"M 128.739641 251.592871 \nL 128.739641 250.395308 \n\" style=\"fill:none;stroke:#1f77b4;stroke-width:1.5;\"/>\n    <path clip-path=\"url(#pdcbfb604bf)\" d=\"M 130.436205 252.811322 \nL 130.436205 251.744111 \n\" style=\"fill:none;stroke:#1f77b4;stroke-width:1.5;\"/>\n    <path clip-path=\"url(#pdcbfb604bf)\" d=\"M 132.132769 253.050019 \nL 132.132769 251.965964 \n\" style=\"fill:none;stroke:#1f77b4;stroke-width:1.5;\"/>\n    <path clip-path=\"url(#pdcbfb604bf)\" d=\"M 133.829334 253.054995 \nL 133.829334 251.990671 \n\" style=\"fill:none;stroke:#1f77b4;stroke-width:1.5;\"/>\n    <path clip-path=\"url(#pdcbfb604bf)\" d=\"M 135.525898 254.054372 \nL 135.525898 252.971885 \n\" style=\"fill:none;stroke:#1f77b4;stroke-width:1.5;\"/>\n    <path clip-path=\"url(#pdcbfb604bf)\" d=\"M 137.222462 254.42282 \nL 137.222462 253.386698 \n\" style=\"fill:none;stroke:#1f77b4;stroke-width:1.5;\"/>\n    <path clip-path=\"url(#pdcbfb604bf)\" d=\"M 138.919026 255.419091 \nL 138.919026 254.476692 \n\" style=\"fill:none;stroke:#1f77b4;stroke-width:1.5;\"/>\n    <path clip-path=\"url(#pdcbfb604bf)\" d=\"M 140.615591 255.891048 \nL 140.615591 254.916789 \n\" style=\"fill:none;stroke:#1f77b4;stroke-width:1.5;\"/>\n    <path clip-path=\"url(#pdcbfb604bf)\" d=\"M 142.312155 257.583684 \nL 142.312155 256.681353 \n\" style=\"fill:none;stroke:#1f77b4;stroke-width:1.5;\"/>\n    <path clip-path=\"url(#pdcbfb604bf)\" d=\"M 144.008719 257.38994 \nL 144.008719 256.427477 \n\" style=\"fill:none;stroke:#1f77b4;stroke-width:1.5;\"/>\n    <path clip-path=\"url(#pdcbfb604bf)\" d=\"M 145.705284 257.27529 \nL 145.705284 256.357768 \n\" style=\"fill:none;stroke:#1f77b4;stroke-width:1.5;\"/>\n    <path clip-path=\"url(#pdcbfb604bf)\" d=\"M 147.401848 258.308043 \nL 147.401848 257.402491 \n\" style=\"fill:none;stroke:#1f77b4;stroke-width:1.5;\"/>\n    <path clip-path=\"url(#pdcbfb604bf)\" d=\"M 149.098412 258.707589 \nL 149.098412 257.815971 \n\" style=\"fill:none;stroke:#1f77b4;stroke-width:1.5;\"/>\n    <path clip-path=\"url(#pdcbfb604bf)\" d=\"M 150.794977 259.430677 \nL 150.794977 258.575098 \n\" style=\"fill:none;stroke:#1f77b4;stroke-width:1.5;\"/>\n    <path clip-path=\"url(#pdcbfb604bf)\" d=\"M 152.491541 258.953939 \nL 152.491541 258.065343 \n\" style=\"fill:none;stroke:#1f77b4;stroke-width:1.5;\"/>\n    <path clip-path=\"url(#pdcbfb604bf)\" d=\"M 154.188105 262.114813 \nL 154.188105 261.427955 \n\" style=\"fill:none;stroke:#1f77b4;stroke-width:1.5;\"/>\n    <path clip-path=\"url(#pdcbfb604bf)\" d=\"M 155.88467 258.592577 \nL 155.88467 257.720098 \n\" style=\"fill:none;stroke:#1f77b4;stroke-width:1.5;\"/>\n    <path clip-path=\"url(#pdcbfb604bf)\" d=\"M 157.581234 260.50809 \nL 157.581234 259.734704 \n\" style=\"fill:none;stroke:#1f77b4;stroke-width:1.5;\"/>\n    <path clip-path=\"url(#pdcbfb604bf)\" d=\"M 159.277798 260.298362 \nL 159.277798 259.479781 \n\" style=\"fill:none;stroke:#1f77b4;stroke-width:1.5;\"/>\n    <path clip-path=\"url(#pdcbfb604bf)\" d=\"M 160.974362 262.091292 \nL 160.974362 261.417289 \n\" style=\"fill:none;stroke:#1f77b4;stroke-width:1.5;\"/>\n    <path clip-path=\"url(#pdcbfb604bf)\" d=\"M 162.670927 261.346986 \nL 162.670927 260.626174 \n\" style=\"fill:none;stroke:#1f77b4;stroke-width:1.5;\"/>\n    <path clip-path=\"url(#pdcbfb604bf)\" d=\"M 164.367491 261.232366 \nL 164.367491 260.487669 \n\" style=\"fill:none;stroke:#1f77b4;stroke-width:1.5;\"/>\n    <path clip-path=\"url(#pdcbfb604bf)\" d=\"M 166.064055 262.465825 \nL 166.064055 261.807162 \n\" style=\"fill:none;stroke:#1f77b4;stroke-width:1.5;\"/>\n    <path clip-path=\"url(#pdcbfb604bf)\" d=\"M 167.76062 262.310841 \nL 167.76062 261.64447 \n\" style=\"fill:none;stroke:#1f77b4;stroke-width:1.5;\"/>\n    <path clip-path=\"url(#pdcbfb604bf)\" d=\"M 169.457184 261.703353 \nL 169.457184 261.001122 \n\" style=\"fill:none;stroke:#1f77b4;stroke-width:1.5;\"/>\n    <path clip-path=\"url(#pdcbfb604bf)\" d=\"M 171.153748 264.259377 \nL 171.153748 263.732999 \n\" style=\"fill:none;stroke:#1f77b4;stroke-width:1.5;\"/>\n    <path clip-path=\"url(#pdcbfb604bf)\" d=\"M 172.850313 263.614969 \nL 172.850313 263.00406 \n\" style=\"fill:none;stroke:#1f77b4;stroke-width:1.5;\"/>\n    <path clip-path=\"url(#pdcbfb604bf)\" d=\"M 174.546877 263.885761 \nL 174.546877 263.33858 \n\" style=\"fill:none;stroke:#1f77b4;stroke-width:1.5;\"/>\n    <path clip-path=\"url(#pdcbfb604bf)\" d=\"M 176.243441 262.656464 \nL 176.243441 262.009444 \n\" style=\"fill:none;stroke:#1f77b4;stroke-width:1.5;\"/>\n    <path clip-path=\"url(#pdcbfb604bf)\" d=\"M 177.940006 263.74593 \nL 177.940006 263.161843 \n\" style=\"fill:none;stroke:#1f77b4;stroke-width:1.5;\"/>\n    <path clip-path=\"url(#pdcbfb604bf)\" d=\"M 179.63657 263.314115 \nL 179.63657 262.713639 \n\" style=\"fill:none;stroke:#1f77b4;stroke-width:1.5;\"/>\n    <path clip-path=\"url(#pdcbfb604bf)\" d=\"M 181.333134 264.188127 \nL 181.333134 263.643581 \n\" style=\"fill:none;stroke:#1f77b4;stroke-width:1.5;\"/>\n    <path clip-path=\"url(#pdcbfb604bf)\" d=\"M 183.029698 263.497424 \nL 183.029698 262.888084 \n\" style=\"fill:none;stroke:#1f77b4;stroke-width:1.5;\"/>\n    <path clip-path=\"url(#pdcbfb604bf)\" d=\"M 184.726263 264.223029 \nL 184.726263 263.709362 \n\" style=\"fill:none;stroke:#1f77b4;stroke-width:1.5;\"/>\n    <path clip-path=\"url(#pdcbfb604bf)\" d=\"M 186.422827 263.751554 \nL 186.422827 263.198247 \n\" style=\"fill:none;stroke:#1f77b4;stroke-width:1.5;\"/>\n    <path clip-path=\"url(#pdcbfb604bf)\" d=\"M 188.119391 264.651744 \nL 188.119391 264.119946 \n\" style=\"fill:none;stroke:#1f77b4;stroke-width:1.5;\"/>\n    <path clip-path=\"url(#pdcbfb604bf)\" d=\"M 189.815956 264.040268 \nL 189.815956 263.51056 \n\" style=\"fill:none;stroke:#1f77b4;stroke-width:1.5;\"/>\n    <path clip-path=\"url(#pdcbfb604bf)\" d=\"M 191.51252 264.073502 \nL 191.51252 263.535392 \n\" style=\"fill:none;stroke:#1f77b4;stroke-width:1.5;\"/>\n    <path clip-path=\"url(#pdcbfb604bf)\" d=\"M 193.209084 264.594193 \nL 193.209084 264.109929 \n\" style=\"fill:none;stroke:#1f77b4;stroke-width:1.5;\"/>\n    <path clip-path=\"url(#pdcbfb604bf)\" d=\"M 194.905649 265.363836 \nL 194.905649 264.973353 \n\" style=\"fill:none;stroke:#1f77b4;stroke-width:1.5;\"/>\n    <path clip-path=\"url(#pdcbfb604bf)\" d=\"M 196.602213 264.472114 \nL 196.602213 263.925413 \n\" style=\"fill:none;stroke:#1f77b4;stroke-width:1.5;\"/>\n    <path clip-path=\"url(#pdcbfb604bf)\" d=\"M 198.298777 264.822807 \nL 198.298777 264.367697 \n\" style=\"fill:none;stroke:#1f77b4;stroke-width:1.5;\"/>\n    <path clip-path=\"url(#pdcbfb604bf)\" d=\"M 199.995341 264.023465 \nL 199.995341 263.46846 \n\" style=\"fill:none;stroke:#1f77b4;stroke-width:1.5;\"/>\n    <path clip-path=\"url(#pdcbfb604bf)\" d=\"M 201.691906 264.199739 \nL 201.691906 263.67731 \n\" style=\"fill:none;stroke:#1f77b4;stroke-width:1.5;\"/>\n    <path clip-path=\"url(#pdcbfb604bf)\" d=\"M 203.38847 264.747491 \nL 203.38847 264.277139 \n\" style=\"fill:none;stroke:#1f77b4;stroke-width:1.5;\"/>\n    <path clip-path=\"url(#pdcbfb604bf)\" d=\"M 205.085034 264.466021 \nL 205.085034 263.962361 \n\" style=\"fill:none;stroke:#1f77b4;stroke-width:1.5;\"/>\n    <path clip-path=\"url(#pdcbfb604bf)\" d=\"M 206.781599 265.36444 \nL 206.781599 264.973896 \n\" style=\"fill:none;stroke:#1f77b4;stroke-width:1.5;\"/>\n    <path clip-path=\"url(#pdcbfb604bf)\" d=\"M 208.478163 264.978486 \nL 208.478163 264.540499 \n\" style=\"fill:none;stroke:#1f77b4;stroke-width:1.5;\"/>\n    <path clip-path=\"url(#pdcbfb604bf)\" d=\"M 210.174727 264.988389 \nL 210.174727 264.538836 \n\" style=\"fill:none;stroke:#1f77b4;stroke-width:1.5;\"/>\n    <path clip-path=\"url(#pdcbfb604bf)\" d=\"M 211.871292 265.338944 \nL 211.871292 264.944986 \n\" style=\"fill:none;stroke:#1f77b4;stroke-width:1.5;\"/>\n    <path clip-path=\"url(#pdcbfb604bf)\" d=\"M 213.567856 265.922367 \nL 213.567856 265.618269 \n\" style=\"fill:none;stroke:#1f77b4;stroke-width:1.5;\"/>\n    <path clip-path=\"url(#pdcbfb604bf)\" d=\"M 215.26442 265.517959 \nL 215.26442 265.148573 \n\" style=\"fill:none;stroke:#1f77b4;stroke-width:1.5;\"/>\n    <path clip-path=\"url(#pdcbfb604bf)\" d=\"M 216.960985 264.976896 \nL 216.960985 264.507692 \n\" style=\"fill:none;stroke:#1f77b4;stroke-width:1.5;\"/>\n    <path clip-path=\"url(#pdcbfb604bf)\" d=\"M 218.657549 265.518022 \nL 218.657549 265.148622 \n\" style=\"fill:none;stroke:#1f77b4;stroke-width:1.5;\"/>\n    <path clip-path=\"url(#pdcbfb604bf)\" d=\"M 220.354113 265.46706 \nL 220.354113 265.090441 \n\" style=\"fill:none;stroke:#1f77b4;stroke-width:1.5;\"/>\n    <path clip-path=\"url(#pdcbfb604bf)\" d=\"M 222.050677 265.36752 \nL 222.050677 264.968592 \n\" style=\"fill:none;stroke:#1f77b4;stroke-width:1.5;\"/>\n    <path clip-path=\"url(#pdcbfb604bf)\" d=\"M 223.747242 265.339194 \nL 223.747242 264.945213 \n\" style=\"fill:none;stroke:#1f77b4;stroke-width:1.5;\"/>\n    <path clip-path=\"url(#pdcbfb604bf)\" d=\"M 225.443806 265.236582 \nL 225.443806 264.829387 \n\" style=\"fill:none;stroke:#1f77b4;stroke-width:1.5;\"/>\n    <path clip-path=\"url(#pdcbfb604bf)\" d=\"M 227.14037 264.799937 \nL 227.14037 264.334951 \n\" style=\"fill:none;stroke:#1f77b4;stroke-width:1.5;\"/>\n    <path clip-path=\"url(#pdcbfb604bf)\" d=\"M 228.836935 265.467175 \nL 228.836935 265.09053 \n\" style=\"fill:none;stroke:#1f77b4;stroke-width:1.5;\"/>\n    <path clip-path=\"url(#pdcbfb604bf)\" d=\"M 230.533499 264.615773 \nL 230.533499 264.138929 \n\" style=\"fill:none;stroke:#1f77b4;stroke-width:1.5;\"/>\n    <path clip-path=\"url(#pdcbfb604bf)\" d=\"M 232.230063 265.15948 \nL 232.230063 264.7427 \n\" style=\"fill:none;stroke:#1f77b4;stroke-width:1.5;\"/>\n    <path clip-path=\"url(#pdcbfb604bf)\" d=\"M 233.926628 265.288013 \nL 233.926628 264.887324 \n\" style=\"fill:none;stroke:#1f77b4;stroke-width:1.5;\"/>\n    <path clip-path=\"url(#pdcbfb604bf)\" d=\"M 235.623192 265.847536 \nL 235.623192 265.529945 \n\" style=\"fill:none;stroke:#1f77b4;stroke-width:1.5;\"/>\n    <path clip-path=\"url(#pdcbfb604bf)\" d=\"M 237.319756 265.74676 \nL 237.319756 265.412202 \n\" style=\"fill:none;stroke:#1f77b4;stroke-width:1.5;\"/>\n    <path clip-path=\"url(#pdcbfb604bf)\" d=\"M 239.016321 265.645505 \nL 239.016321 265.294935 \n\" style=\"fill:none;stroke:#1f77b4;stroke-width:1.5;\"/>\n    <path clip-path=\"url(#pdcbfb604bf)\" d=\"M 240.712885 265.92281 \nL 240.712885 265.61866 \n\" style=\"fill:none;stroke:#1f77b4;stroke-width:1.5;\"/>\n    <path clip-path=\"url(#pdcbfb604bf)\" d=\"M 242.409449 266.022577 \nL 242.409449 265.737488 \n\" style=\"fill:none;stroke:#1f77b4;stroke-width:1.5;\"/>\n    <path clip-path=\"url(#pdcbfb604bf)\" d=\"M 244.106013 265.72152 \nL 244.106013 265.382862 \n\" style=\"fill:none;stroke:#1f77b4;stroke-width:1.5;\"/>\n    <path clip-path=\"url(#pdcbfb604bf)\" d=\"M 245.802578 266.480749 \nL 245.802578 266.31756 \n\" style=\"fill:none;stroke:#1f77b4;stroke-width:1.5;\"/>\n    <path clip-path=\"url(#pdcbfb604bf)\" d=\"M 247.499142 265.569316 \nL 247.499142 265.207276 \n\" style=\"fill:none;stroke:#1f77b4;stroke-width:1.5;\"/>\n    <path clip-path=\"url(#pdcbfb604bf)\" d=\"M 249.195706 265.34411 \nL 249.195706 264.94324 \n\" style=\"fill:none;stroke:#1f77b4;stroke-width:1.5;\"/>\n    <path clip-path=\"url(#pdcbfb604bf)\" d=\"M 250.892271 265.185351 \nL 250.892271 264.771704 \n\" style=\"fill:none;stroke:#1f77b4;stroke-width:1.5;\"/>\n    <path clip-path=\"url(#pdcbfb604bf)\" d=\"M 252.588835 265.575767 \nL 252.588835 265.196268 \n\" style=\"fill:none;stroke:#1f77b4;stroke-width:1.5;\"/>\n    <path clip-path=\"url(#pdcbfb604bf)\" d=\"M 254.285399 265.058871 \nL 254.285399 264.622146 \n\" style=\"fill:none;stroke:#1f77b4;stroke-width:1.5;\"/>\n    <path clip-path=\"url(#pdcbfb604bf)\" d=\"M 255.981964 265.721596 \nL 255.981964 265.382925 \n\" style=\"fill:none;stroke:#1f77b4;stroke-width:1.5;\"/>\n    <path clip-path=\"url(#pdcbfb604bf)\" d=\"M 257.678528 266.02269 \nL 257.678528 265.737587 \n\" style=\"fill:none;stroke:#1f77b4;stroke-width:1.5;\"/>\n    <path clip-path=\"url(#pdcbfb604bf)\" d=\"M 259.375092 265.822561 \nL 259.375092 265.500611 \n\" style=\"fill:none;stroke:#1f77b4;stroke-width:1.5;\"/>\n    <path clip-path=\"url(#pdcbfb604bf)\" d=\"M 261.071656 265.947957 \nL 261.071656 265.648428 \n\" style=\"fill:none;stroke:#1f77b4;stroke-width:1.5;\"/>\n    <path clip-path=\"url(#pdcbfb604bf)\" d=\"M 262.768221 266.20057 \nL 262.768221 265.940099 \n\" style=\"fill:none;stroke:#1f77b4;stroke-width:1.5;\"/>\n    <path clip-path=\"url(#pdcbfb604bf)\" d=\"M 264.464785 266.022724 \nL 264.464785 265.737618 \n\" style=\"fill:none;stroke:#1f77b4;stroke-width:1.5;\"/>\n    <path clip-path=\"url(#pdcbfb604bf)\" d=\"M 266.161349 266.121724 \nL 266.161349 265.857234 \n\" style=\"fill:none;stroke:#1f77b4;stroke-width:1.5;\"/>\n    <path clip-path=\"url(#pdcbfb604bf)\" d=\"M 267.857914 266.047557 \nL 267.857914 265.767443 \n\" style=\"fill:none;stroke:#1f77b4;stroke-width:1.5;\"/>\n    <path clip-path=\"url(#pdcbfb604bf)\" d=\"M 269.554478 265.645649 \nL 269.554478 265.295045 \n\" style=\"fill:none;stroke:#1f77b4;stroke-width:1.5;\"/>\n    <path clip-path=\"url(#pdcbfb604bf)\" d=\"M 271.251042 265.922983 \nL 271.251042 265.618808 \n\" style=\"fill:none;stroke:#1f77b4;stroke-width:1.5;\"/>\n    <path clip-path=\"url(#pdcbfb604bf)\" d=\"M 272.947607 265.594854 \nL 272.947607 265.236556 \n\" style=\"fill:none;stroke:#1f77b4;stroke-width:1.5;\"/>\n    <path clip-path=\"url(#pdcbfb604bf)\" d=\"M 274.644171 266.047587 \nL 274.644171 265.76747 \n\" style=\"fill:none;stroke:#1f77b4;stroke-width:1.5;\"/>\n    <path clip-path=\"url(#pdcbfb604bf)\" d=\"M 276.340735 265.847758 \nL 276.340735 265.530131 \n\" style=\"fill:none;stroke:#1f77b4;stroke-width:1.5;\"/>\n    <path clip-path=\"url(#pdcbfb604bf)\" d=\"M 278.0373 266.097089 \nL 278.0373 265.827268 \n\" style=\"fill:none;stroke:#1f77b4;stroke-width:1.5;\"/>\n    <path clip-path=\"url(#pdcbfb604bf)\" d=\"M 279.733864 266.411469 \nL 279.733864 266.223297 \n\" style=\"fill:none;stroke:#1f77b4;stroke-width:1.5;\"/>\n    <path clip-path=\"url(#pdcbfb604bf)\" d=\"M 281.430428 266.072375 \nL 281.430428 265.797348 \n\" style=\"fill:none;stroke:#1f77b4;stroke-width:1.5;\"/>\n    <path clip-path=\"url(#pdcbfb604bf)\" d=\"M 283.126992 265.211122 \nL 283.126992 264.800622 \n\" style=\"fill:none;stroke:#1f77b4;stroke-width:1.5;\"/>\n    <path clip-path=\"url(#pdcbfb604bf)\" d=\"M 284.823557 265.79744 \nL 284.823557 265.471194 \n\" style=\"fill:none;stroke:#1f77b4;stroke-width:1.5;\"/>\n    <path clip-path=\"url(#pdcbfb604bf)\" d=\"M 286.520121 265.973 \nL 286.520121 265.678175 \n\" style=\"fill:none;stroke:#1f77b4;stroke-width:1.5;\"/>\n    <path clip-path=\"url(#pdcbfb604bf)\" d=\"M 288.216685 266.219799 \nL 288.216685 265.977845 \n\" style=\"fill:none;stroke:#1f77b4;stroke-width:1.5;\"/>\n    <path clip-path=\"url(#pdcbfb604bf)\" d=\"M 289.91325 266.097123 \nL 289.91325 265.827296 \n\" style=\"fill:none;stroke:#1f77b4;stroke-width:1.5;\"/>\n    <path clip-path=\"url(#pdcbfb604bf)\" d=\"M 291.609814 265.772248 \nL 291.609814 265.441795 \n\" style=\"fill:none;stroke:#1f77b4;stroke-width:1.5;\"/>\n    <path clip-path=\"url(#pdcbfb604bf)\" d=\"M 293.306378 266.268369 \nL 293.306378 266.038599 \n\" style=\"fill:none;stroke:#1f77b4;stroke-width:1.5;\"/>\n    <path clip-path=\"url(#pdcbfb604bf)\" d=\"M 295.002943 265.973019 \nL 295.002943 265.678192 \n\" style=\"fill:none;stroke:#1f77b4;stroke-width:1.5;\"/>\n    <path clip-path=\"url(#pdcbfb604bf)\" d=\"M 296.699507 266.097139 \nL 296.699507 265.827311 \n\" style=\"fill:none;stroke:#1f77b4;stroke-width:1.5;\"/>\n    <path clip-path=\"url(#pdcbfb604bf)\" d=\"M 298.396071 265.997942 \nL 298.396071 265.707918 \n\" style=\"fill:none;stroke:#1f77b4;stroke-width:1.5;\"/>\n    <path clip-path=\"url(#pdcbfb604bf)\" d=\"M 300.092635 266.292527 \nL 300.092635 266.069117 \n\" style=\"fill:none;stroke:#1f77b4;stroke-width:1.5;\"/>\n    <path clip-path=\"url(#pdcbfb604bf)\" d=\"M 301.7892 266.316572 \nL 301.7892 266.099721 \n\" style=\"fill:none;stroke:#1f77b4;stroke-width:1.5;\"/>\n    <path clip-path=\"url(#pdcbfb604bf)\" d=\"M 303.485764 266.022822 \nL 303.485764 265.737695 \n\" style=\"fill:none;stroke:#1f77b4;stroke-width:1.5;\"/>\n    <path clip-path=\"url(#pdcbfb604bf)\" d=\"M 305.182328 265.898011 \nL 305.182328 265.58926 \n\" style=\"fill:none;stroke:#1f77b4;stroke-width:1.5;\"/>\n    <path clip-path=\"url(#pdcbfb604bf)\" d=\"M 306.878893 266.458081 \nL 306.878893 266.286129 \n\" style=\"fill:none;stroke:#1f77b4;stroke-width:1.5;\"/>\n    <path clip-path=\"url(#pdcbfb604bf)\" d=\"M 308.575457 266.244162 \nL 308.575457 266.008211 \n\" style=\"fill:none;stroke:#1f77b4;stroke-width:1.5;\"/>\n    <path clip-path=\"url(#pdcbfb604bf)\" d=\"M 310.272021 266.292542 \nL 310.272021 266.069129 \n\" style=\"fill:none;stroke:#1f77b4;stroke-width:1.5;\"/>\n    <path clip-path=\"url(#pdcbfb604bf)\" d=\"M 311.968586 266.146437 \nL 311.968586 265.887362 \n\" style=\"fill:none;stroke:#1f77b4;stroke-width:1.5;\"/>\n    <path clip-path=\"url(#pdcbfb604bf)\" d=\"M 313.66515 265.797476 \nL 313.66515 265.471217 \n\" style=\"fill:none;stroke:#1f77b4;stroke-width:1.5;\"/>\n    <path clip-path=\"url(#pdcbfb604bf)\" d=\"M 315.361714 266.219848 \nL 315.361714 265.977888 \n\" style=\"fill:none;stroke:#1f77b4;stroke-width:1.5;\"/>\n    <path clip-path=\"url(#pdcbfb604bf)\" d=\"M 317.058279 266.14644 \nL 317.058279 265.887362 \n\" style=\"fill:none;stroke:#1f77b4;stroke-width:1.5;\"/>\n    <path clip-path=\"url(#pdcbfb604bf)\" d=\"M 318.754843 266.481047 \nL 318.754843 266.317832 \n\" style=\"fill:none;stroke:#1f77b4;stroke-width:1.5;\"/>\n    <path clip-path=\"url(#pdcbfb604bf)\" d=\"M 320.451407 265.594916 \nL 320.451407 265.236594 \n\" style=\"fill:none;stroke:#1f77b4;stroke-width:1.5;\"/>\n    <path clip-path=\"url(#pdcbfb604bf)\" d=\"M 322.147971 266.244176 \nL 322.147971 266.00822 \n\" style=\"fill:none;stroke:#1f77b4;stroke-width:1.5;\"/>\n    <path clip-path=\"url(#pdcbfb604bf)\" d=\"M 323.844536 265.948088 \nL 323.844536 265.64853 \n\" style=\"fill:none;stroke:#1f77b4;stroke-width:1.5;\"/>\n    <path clip-path=\"url(#pdcbfb604bf)\" d=\"M 325.5411 266.219857 \nL 325.5411 265.977892 \n\" style=\"fill:none;stroke:#1f77b4;stroke-width:1.5;\"/>\n    <path clip-path=\"url(#pdcbfb604bf)\" d=\"M 327.237664 266.411571 \nL 327.237664 266.223392 \n\" style=\"fill:none;stroke:#1f77b4;stroke-width:1.5;\"/>\n    <path clip-path=\"url(#pdcbfb604bf)\" d=\"M 328.934229 266.093187 \nL 328.934229 265.764185 \n\" style=\"fill:none;stroke:#1f77b4;stroke-width:1.5;\"/>\n    <path clip-path=\"url(#pdcbfb604bf)\" d=\"M 330.630793 266.072457 \nL 330.630793 265.797416 \n\" style=\"fill:none;stroke:#1f77b4;stroke-width:1.5;\"/>\n    <path clip-path=\"url(#pdcbfb604bf)\" d=\"M 332.327357 266.268425 \nL 332.327357 266.038646 \n\" style=\"fill:none;stroke:#1f77b4;stroke-width:1.5;\"/>\n    <path clip-path=\"url(#pdcbfb604bf)\" d=\"M 334.023922 266.252157 \nL 334.023922 266.006532 \n\" style=\"fill:none;stroke:#1f77b4;stroke-width:1.5;\"/>\n    <path clip-path=\"url(#pdcbfb604bf)\" d=\"M 335.720486 266.364364 \nL 335.720486 266.161308 \n\" style=\"fill:none;stroke:#1f77b4;stroke-width:1.5;\"/>\n    <path clip-path=\"url(#pdcbfb604bf)\" d=\"M 337.41705 266.316615 \nL 337.41705 266.099756 \n\" style=\"fill:none;stroke:#1f77b4;stroke-width:1.5;\"/>\n    <path clip-path=\"url(#pdcbfb604bf)\" d=\"M 339.113615 266.388047 \nL 339.113615 266.192277 \n\" style=\"fill:none;stroke:#1f77b4;stroke-width:1.5;\"/>\n    <path clip-path=\"url(#pdcbfb604bf)\" d=\"M 340.810179 266.34055 \nL 340.810179 266.13047 \n\" style=\"fill:none;stroke:#1f77b4;stroke-width:1.5;\"/>\n    <path clip-path=\"url(#pdcbfb604bf)\" d=\"M 342.506743 266.364367 \nL 342.506743 266.161308 \n\" style=\"fill:none;stroke:#1f77b4;stroke-width:1.5;\"/>\n    <path clip-path=\"url(#pdcbfb604bf)\" d=\"M 344.203307 266.171002 \nL 344.203307 265.917483 \n\" style=\"fill:none;stroke:#1f77b4;stroke-width:1.5;\"/>\n    <path clip-path=\"url(#pdcbfb604bf)\" d=\"M 345.899872 266.590636 \nL 345.899872 266.481551 \n\" style=\"fill:none;stroke:#1f77b4;stroke-width:1.5;\"/>\n    <path clip-path=\"url(#pdcbfb604bf)\" d=\"M 347.596436 266.268433 \nL 347.596436 266.03865 \n\" style=\"fill:none;stroke:#1f77b4;stroke-width:1.5;\"/>\n    <path clip-path=\"url(#pdcbfb604bf)\" d=\"M 349.293 266.434951 \nL 349.293 266.254687 \n\" style=\"fill:none;stroke:#1f77b4;stroke-width:1.5;\"/>\n    <path clip-path=\"url(#pdcbfb604bf)\" d=\"M 350.989565 266.316625 \nL 350.989565 266.099766 \n\" style=\"fill:none;stroke:#1f77b4;stroke-width:1.5;\"/>\n    <path clip-path=\"url(#pdcbfb604bf)\" d=\"M 352.686129 266.121855 \nL 352.686129 265.85733 \n\" style=\"fill:none;stroke:#1f77b4;stroke-width:1.5;\"/>\n    <path clip-path=\"url(#pdcbfb604bf)\" d=\"M 354.382693 265.441953 \nL 354.382693 265.061671 \n\" style=\"fill:none;stroke:#1f77b4;stroke-width:1.5;\"/>\n    <path clip-path=\"url(#pdcbfb604bf)\" d=\"M 356.079258 266.590646 \nL 356.079258 266.481562 \n\" style=\"fill:none;stroke:#1f77b4;stroke-width:1.5;\"/>\n    <path clip-path=\"url(#pdcbfb604bf)\" d=\"M 357.775822 266.548187 \nL 357.775822 266.414719 \n\" style=\"fill:none;stroke:#1f77b4;stroke-width:1.5;\"/>\n    <path clip-path=\"url(#pdcbfb604bf)\" d=\"M 359.472386 266.244201 \nL 359.472386 266.008238 \n\" style=\"fill:none;stroke:#1f77b4;stroke-width:1.5;\"/>\n    <path clip-path=\"url(#pdcbfb604bf)\" d=\"M 361.16895 266.526176 \nL 361.16895 266.382088 \n\" style=\"fill:none;stroke:#1f77b4;stroke-width:1.5;\"/>\n    <path clip-path=\"url(#pdcbfb604bf)\" d=\"M 362.865515 266.268446 \nL 362.865515 266.038664 \n\" style=\"fill:none;stroke:#1f77b4;stroke-width:1.5;\"/>\n    <path clip-path=\"url(#pdcbfb604bf)\" d=\"M 364.562079 266.411596 \nL 364.562079 266.22341 \n\" style=\"fill:none;stroke:#1f77b4;stroke-width:1.5;\"/>\n    <path clip-path=\"url(#pdcbfb604bf)\" d=\"M 366.258643 266.12186 \nL 366.258643 265.857332 \n\" style=\"fill:none;stroke:#1f77b4;stroke-width:1.5;\"/>\n    <path clip-path=\"url(#pdcbfb604bf)\" d=\"M 367.955208 266.590652 \nL 367.955208 266.481568 \n\" style=\"fill:none;stroke:#1f77b4;stroke-width:1.5;\"/>\n    <path clip-path=\"url(#pdcbfb604bf)\" d=\"M 369.651772 266.195484 \nL 369.651772 265.947663 \n\" style=\"fill:none;stroke:#1f77b4;stroke-width:1.5;\"/>\n    <path clip-path=\"url(#pdcbfb604bf)\" d=\"M 371.348336 266.316633 \nL 371.348336 266.099769 \n\" style=\"fill:none;stroke:#1f77b4;stroke-width:1.5;\"/>\n    <path clip-path=\"url(#pdcbfb604bf)\" d=\"M 373.044901 266.590654 \nL 373.044901 266.481568 \n\" style=\"fill:none;stroke:#1f77b4;stroke-width:1.5;\"/>\n    <path clip-path=\"url(#pdcbfb604bf)\" d=\"M 374.741465 266.388069 \nL 374.741465 266.192296 \n\" style=\"fill:none;stroke:#1f77b4;stroke-width:1.5;\"/>\n    <path clip-path=\"url(#pdcbfb604bf)\" d=\"M 376.438029 266.244211 \nL 376.438029 266.008248 \n\" style=\"fill:none;stroke:#1f77b4;stroke-width:1.5;\"/>\n    <path clip-path=\"url(#pdcbfb604bf)\" d=\"M 378.134594 266.434968 \nL 378.134594 266.254703 \n\" style=\"fill:none;stroke:#1f77b4;stroke-width:1.5;\"/>\n    <path clip-path=\"url(#pdcbfb604bf)\" d=\"M 379.831158 266.458141 \nL 379.831158 266.286176 \n\" style=\"fill:none;stroke:#1f77b4;stroke-width:1.5;\"/>\n    <path clip-path=\"url(#pdcbfb604bf)\" d=\"M 381.527722 266.481097 \nL 381.527722 266.317875 \n\" style=\"fill:none;stroke:#1f77b4;stroke-width:1.5;\"/>\n    <path clip-path=\"url(#pdcbfb604bf)\" d=\"M 383.224286 266.503794 \nL 383.224286 266.34983 \n\" style=\"fill:none;stroke:#1f77b4;stroke-width:1.5;\"/>\n    <path clip-path=\"url(#pdcbfb604bf)\" d=\"M 384.920851 266.411605 \nL 384.920851 266.223418 \n\" style=\"fill:none;stroke:#1f77b4;stroke-width:1.5;\"/>\n    <path clip-path=\"url(#pdcbfb604bf)\" d=\"M 386.617415 266.411605 \nL 386.617415 266.223418 \n\" style=\"fill:none;stroke:#1f77b4;stroke-width:1.5;\"/>\n    <path clip-path=\"url(#pdcbfb604bf)\" d=\"M 388.313979 266.388072 \nL 388.313979 266.192297 \n\" style=\"fill:none;stroke:#1f77b4;stroke-width:1.5;\"/>\n    <path clip-path=\"url(#pdcbfb604bf)\" d=\"M 390.010544 266.548202 \nL 390.010544 266.414732 \n\" style=\"fill:none;stroke:#1f77b4;stroke-width:1.5;\"/>\n    <path clip-path=\"url(#pdcbfb604bf)\" d=\"M 391.707108 266.316645 \nL 391.707108 266.099782 \n\" style=\"fill:none;stroke:#1f77b4;stroke-width:1.5;\"/>\n    <path clip-path=\"url(#pdcbfb604bf)\" d=\"M 393.403672 266.458148 \nL 393.403672 266.286184 \n\" style=\"fill:none;stroke:#1f77b4;stroke-width:1.5;\"/>\n    <path clip-path=\"url(#pdcbfb604bf)\" d=\"M 395.100237 266.146477 \nL 395.100237 265.887385 \n\" style=\"fill:none;stroke:#1f77b4;stroke-width:1.5;\"/>\n    <path clip-path=\"url(#pdcbfb604bf)\" d=\"M 396.796801 266.434974 \nL 396.796801 266.254707 \n\" style=\"fill:none;stroke:#1f77b4;stroke-width:1.5;\"/>\n    <path clip-path=\"url(#pdcbfb604bf)\" d=\"M 398.493365 266.590665 \nL 398.493365 266.481578 \n\" style=\"fill:none;stroke:#1f77b4;stroke-width:1.5;\"/>\n    <path clip-path=\"url(#pdcbfb604bf)\" d=\"M 400.189929 266.316645 \nL 400.189929 266.09978 \n\" style=\"fill:none;stroke:#1f77b4;stroke-width:1.5;\"/>\n    <path clip-path=\"url(#pdcbfb604bf)\" d=\"M 401.886494 266.590667 \nL 401.886494 266.481582 \n\" style=\"fill:none;stroke:#1f77b4;stroke-width:1.5;\"/>\n    <path clip-path=\"url(#pdcbfb604bf)\" d=\"M 403.583058 266.569748 \nL 403.583058 266.447846 \n\" style=\"fill:none;stroke:#1f77b4;stroke-width:1.5;\"/>\n    <path clip-path=\"url(#pdcbfb604bf)\" d=\"M 405.279622 266.548206 \nL 405.279622 266.414736 \n\" style=\"fill:none;stroke:#1f77b4;stroke-width:1.5;\"/>\n    <path clip-path=\"url(#pdcbfb604bf)\" d=\"M 406.976187 266.610709 \nL 406.976187 266.516189 \n\" style=\"fill:none;stroke:#1f77b4;stroke-width:1.5;\"/>\n    <path clip-path=\"url(#pdcbfb604bf)\" d=\"M 408.672751 266.388079 \nL 408.672751 266.192305 \n\" style=\"fill:none;stroke:#1f77b4;stroke-width:1.5;\"/>\n    <path clip-path=\"url(#pdcbfb604bf)\" d=\"M 410.369315 266.629383 \nL 410.369315 266.552169 \n\" style=\"fill:none;stroke:#1f77b4;stroke-width:1.5;\"/>\n    <path clip-path=\"url(#pdcbfb604bf)\" d=\"M 412.06588 266.569749 \nL 412.06588 266.447847 \n\" style=\"fill:none;stroke:#1f77b4;stroke-width:1.5;\"/>\n    <path clip-path=\"url(#pdcbfb604bf)\" d=\"M 413.762444 266.548209 \nL 413.762444 266.414739 \n\" style=\"fill:none;stroke:#1f77b4;stroke-width:1.5;\"/>\n    <path clip-path=\"url(#pdcbfb604bf)\" d=\"M 415.459008 266.2926 \nL 415.459008 266.069172 \n\" style=\"fill:none;stroke:#1f77b4;stroke-width:1.5;\"/>\n    <path clip-path=\"url(#pdcbfb604bf)\" d=\"M 417.155573 266.590669 \nL 417.155573 266.481581 \n\" style=\"fill:none;stroke:#1f77b4;stroke-width:1.5;\"/>\n    <path clip-path=\"url(#pdcbfb604bf)\" d=\"M 418.852137 266.364398 \nL 418.852137 266.161333 \n\" style=\"fill:none;stroke:#1f77b4;stroke-width:1.5;\"/>\n    <path clip-path=\"url(#pdcbfb604bf)\" d=\"M 420.548701 266.458155 \nL 420.548701 266.28619 \n\" style=\"fill:none;stroke:#1f77b4;stroke-width:1.5;\"/>\n    <path clip-path=\"url(#pdcbfb604bf)\" d=\"M 422.245265 266.503806 \nL 422.245265 266.349841 \n\" style=\"fill:none;stroke:#1f77b4;stroke-width:1.5;\"/>\n    <path clip-path=\"url(#pdcbfb604bf)\" d=\"M 423.94183 266.146482 \nL 423.94183 265.887389 \n\" style=\"fill:none;stroke:#1f77b4;stroke-width:1.5;\"/>\n    <path clip-path=\"url(#pdcbfb604bf)\" d=\"M 425.638394 266.503806 \nL 425.638394 266.34984 \n\" style=\"fill:none;stroke:#1f77b4;stroke-width:1.5;\"/>\n    <path clip-path=\"url(#pdcbfb604bf)\" d=\"M 427.334958 266.526197 \nL 427.334958 266.382105 \n\" style=\"fill:none;stroke:#1f77b4;stroke-width:1.5;\"/>\n    <path clip-path=\"url(#pdcbfb604bf)\" d=\"M 429.031523 266.590673 \nL 429.031523 266.481585 \n\" style=\"fill:none;stroke:#1f77b4;stroke-width:1.5;\"/>\n    <path clip-path=\"url(#pdcbfb604bf)\" d=\"M 430.728087 266.097209 \nL 430.728087 265.827359 \n\" style=\"fill:none;stroke:#1f77b4;stroke-width:1.5;\"/>\n    <path clip-path=\"url(#pdcbfb604bf)\" d=\"M 432.424651 266.340586 \nL 432.424651 266.1305 \n\" style=\"fill:none;stroke:#1f77b4;stroke-width:1.5;\"/>\n    <path clip-path=\"url(#pdcbfb604bf)\" d=\"M 434.121216 266.219901 \nL 434.121216 265.977926 \n\" style=\"fill:none;stroke:#1f77b4;stroke-width:1.5;\"/>\n    <path clip-path=\"url(#pdcbfb604bf)\" d=\"M 435.81778 266.047703 \nL 435.81778 265.767548 \n\" style=\"fill:none;stroke:#1f77b4;stroke-width:1.5;\"/>\n    <path clip-path=\"url(#pdcbfb604bf)\" d=\"M 437.514344 266.268461 \nL 437.514344 266.03867 \n\" style=\"fill:none;stroke:#1f77b4;stroke-width:1.5;\"/>\n    <path clip-path=\"url(#pdcbfb604bf)\" d=\"M 439.210909 266.340588 \nL 439.210909 266.1305 \n\" style=\"fill:none;stroke:#1f77b4;stroke-width:1.5;\"/>\n    <path clip-path=\"url(#pdcbfb604bf)\" d=\"M 440.907473 266.548217 \nL 440.907473 266.414744 \n\" style=\"fill:none;stroke:#1f77b4;stroke-width:1.5;\"/>\n    <path clip-path=\"url(#pdcbfb604bf)\" d=\"M 442.604037 266.645439 \nL 442.604037 266.645439 \n\" style=\"fill:none;stroke:#1f77b4;stroke-width:1.5;\"/>\n    <path clip-path=\"url(#pdcbfb604bf)\" d=\"M 444.300601 266.645439 \nL 444.300601 266.645439 \n\" style=\"fill:none;stroke:#1f77b4;stroke-width:1.5;\"/>\n    <path clip-path=\"url(#pdcbfb604bf)\" d=\"M 445.997166 266.590678 \nL 445.997166 266.48159 \n\" style=\"fill:none;stroke:#1f77b4;stroke-width:1.5;\"/>\n    <path clip-path=\"url(#pdcbfb604bf)\" d=\"M 447.69373 266.61072 \nL 447.69373 266.516201 \n\" style=\"fill:none;stroke:#1f77b4;stroke-width:1.5;\"/>\n    <path clip-path=\"url(#pdcbfb604bf)\" d=\"M 449.390294 266.434985 \nL 449.390294 266.254715 \n\" style=\"fill:none;stroke:#1f77b4;stroke-width:1.5;\"/>\n    <path clip-path=\"url(#pdcbfb604bf)\" d=\"M 451.086859 266.434987 \nL 451.086859 266.254718 \n\" style=\"fill:none;stroke:#1f77b4;stroke-width:1.5;\"/>\n    <path clip-path=\"url(#pdcbfb604bf)\" d=\"M 452.783423 266.45816 \nL 452.783423 266.286192 \n\" style=\"fill:none;stroke:#1f77b4;stroke-width:1.5;\"/>\n    <path clip-path=\"url(#pdcbfb604bf)\" d=\"M 454.479987 266.195502 \nL 454.479987 265.947675 \n\" style=\"fill:none;stroke:#1f77b4;stroke-width:1.5;\"/>\n    <path clip-path=\"url(#pdcbfb604bf)\" d=\"M 456.176552 266.411622 \nL 456.176552 266.22343 \n\" style=\"fill:none;stroke:#1f77b4;stroke-width:1.5;\"/>\n    <path clip-path=\"url(#pdcbfb604bf)\" d=\"M 457.873116 266.569762 \nL 457.873116 266.447859 \n\" style=\"fill:none;stroke:#1f77b4;stroke-width:1.5;\"/>\n    <path clip-path=\"url(#pdcbfb604bf)\" d=\"M 459.56968 266.526204 \nL 459.56968 266.382109 \n\" style=\"fill:none;stroke:#1f77b4;stroke-width:1.5;\"/>\n    <path clip-path=\"url(#pdcbfb604bf)\" d=\"M 461.266244 266.645429 \nL 461.266244 266.590803 \n\" style=\"fill:none;stroke:#1f77b4;stroke-width:1.5;\"/>\n    <path clip-path=\"url(#pdcbfb604bf)\" d=\"M 462.962809 266.590681 \nL 462.962809 266.481593 \n\" style=\"fill:none;stroke:#1f77b4;stroke-width:1.5;\"/>\n    <path clip-path=\"url(#pdcbfb604bf)\" d=\"M 464.659373 266.388089 \nL 464.659373 266.192311 \n\" style=\"fill:none;stroke:#1f77b4;stroke-width:1.5;\"/>\n    <path clip-path=\"url(#pdcbfb604bf)\" d=\"M 466.355937 266.292612 \nL 466.355937 266.069182 \n\" style=\"fill:none;stroke:#1f77b4;stroke-width:1.5;\"/>\n    <path clip-path=\"url(#pdcbfb604bf)\" d=\"M 468.052502 266.610724 \nL 468.052502 266.516205 \n\" style=\"fill:none;stroke:#1f77b4;stroke-width:1.5;\"/>\n    <path clip-path=\"url(#pdcbfb604bf)\" d=\"M 469.749066 266.503816 \nL 469.749066 266.349849 \n\" style=\"fill:none;stroke:#1f77b4;stroke-width:1.5;\"/>\n    <path clip-path=\"url(#pdcbfb604bf)\" d=\"M 471.44563 266.022881 \nL 471.44563 265.737731 \n\" style=\"fill:none;stroke:#1f77b4;stroke-width:1.5;\"/>\n    <path clip-path=\"url(#pdcbfb604bf)\" d=\"M 473.142195 266.38809 \nL 473.142195 266.19231 \n\" style=\"fill:none;stroke:#1f77b4;stroke-width:1.5;\"/>\n    <path clip-path=\"url(#pdcbfb604bf)\" d=\"M 474.838759 266.526208 \nL 474.838759 266.382114 \n\" style=\"fill:none;stroke:#1f77b4;stroke-width:1.5;\"/>\n    <path clip-path=\"url(#pdcbfb604bf)\" d=\"M 476.535323 266.43499 \nL 476.535323 266.254718 \n\" style=\"fill:none;stroke:#1f77b4;stroke-width:1.5;\"/>\n    <path clip-path=\"url(#pdcbfb604bf)\" d=\"M 478.231888 266.48112 \nL 478.231888 266.317896 \n\" style=\"fill:none;stroke:#1f77b4;stroke-width:1.5;\"/>\n    <path clip-path=\"url(#pdcbfb604bf)\" d=\"M 479.928452 266.503818 \nL 479.928452 266.349851 \n\" style=\"fill:none;stroke:#1f77b4;stroke-width:1.5;\"/>\n    <path clip-path=\"url(#pdcbfb604bf)\" d=\"M 481.625016 265.898059 \nL 481.625016 265.589283 \n\" style=\"fill:none;stroke:#1f77b4;stroke-width:1.5;\"/>\n    <path clip-path=\"url(#pdcbfb604bf)\" d=\"M 483.32158 266.526209 \nL 483.32158 266.382115 \n\" style=\"fill:none;stroke:#1f77b4;stroke-width:1.5;\"/>\n    <path clip-path=\"url(#pdcbfb604bf)\" d=\"M 485.018145 266.146489 \nL 485.018145 265.887391 \n\" style=\"fill:none;stroke:#1f77b4;stroke-width:1.5;\"/>\n    <path clip-path=\"url(#pdcbfb604bf)\" d=\"M 486.714709 266.645434 \nL 486.714709 266.590808 \n\" style=\"fill:none;stroke:#1f77b4;stroke-width:1.5;\"/>\n    <path clip-path=\"url(#pdcbfb604bf)\" d=\"M 488.411273 266.610728 \nL 488.411273 266.516208 \n\" style=\"fill:none;stroke:#1f77b4;stroke-width:1.5;\"/>\n    <path clip-path=\"url(#pdcbfb604bf)\" d=\"M 490.107838 266.629402 \nL 490.107838 266.552187 \n\" style=\"fill:none;stroke:#1f77b4;stroke-width:1.5;\"/>\n    <path clip-path=\"url(#pdcbfb604bf)\" d=\"M 491.804402 266.645434 \nL 491.804402 266.590808 \n\" style=\"fill:none;stroke:#1f77b4;stroke-width:1.5;\"/>\n    <path clip-path=\"url(#pdcbfb604bf)\" d=\"M 493.500966 266.268469 \nL 493.500966 266.038676 \n\" style=\"fill:none;stroke:#1f77b4;stroke-width:1.5;\"/>\n    <path clip-path=\"url(#pdcbfb604bf)\" d=\"M 495.197531 266.411626 \nL 495.197531 266.223432 \n\" style=\"fill:none;stroke:#1f77b4;stroke-width:1.5;\"/>\n    <path clip-path=\"url(#pdcbfb604bf)\" d=\"M 496.894095 266.61073 \nL 496.894095 266.51621 \n\" style=\"fill:none;stroke:#1f77b4;stroke-width:1.5;\"/>\n    <path clip-path=\"url(#pdcbfb604bf)\" d=\"M 498.590659 266.569769 \nL 498.590659 266.447865 \n\" style=\"fill:none;stroke:#1f77b4;stroke-width:1.5;\"/>\n    <path clip-path=\"url(#pdcbfb604bf)\" d=\"M 500.287224 266.36441 \nL 500.287224 266.161342 \n\" style=\"fill:none;stroke:#1f77b4;stroke-width:1.5;\"/>\n    <path clip-path=\"url(#pdcbfb604bf)\" d=\"M 501.983788 266.481123 \nL 501.983788 266.317897 \n\" style=\"fill:none;stroke:#1f77b4;stroke-width:1.5;\"/>\n    <path clip-path=\"url(#pdcbfb604bf)\" d=\"M 503.680352 266.526212 \nL 503.680352 266.382118 \n\" style=\"fill:none;stroke:#1f77b4;stroke-width:1.5;\"/>\n    <path clip-path=\"url(#pdcbfb604bf)\" d=\"M 505.376916 266.548227 \nL 505.376916 266.414754 \n\" style=\"fill:none;stroke:#1f77b4;stroke-width:1.5;\"/>\n    <path clip-path=\"url(#pdcbfb604bf)\" d=\"M 507.073481 266.292613 \nL 507.073481 266.06918 \n\" style=\"fill:none;stroke:#1f77b4;stroke-width:1.5;\"/>\n    <path clip-path=\"url(#pdcbfb604bf)\" d=\"M 508.770045 266.610731 \nL 508.770045 266.516209 \n\" style=\"fill:none;stroke:#1f77b4;stroke-width:1.5;\"/>\n    <path clip-path=\"url(#pdcbfb604bf)\" d=\"M 510.466609 266.645437 \nL 510.466609 266.59081 \n\" style=\"fill:none;stroke:#1f77b4;stroke-width:1.5;\"/>\n    <path clip-path=\"url(#pdcbfb604bf)\" d=\"M 512.163174 266.64545 \nL 512.163174 266.64545 \n\" style=\"fill:none;stroke:#1f77b4;stroke-width:1.5;\"/>\n    <path clip-path=\"url(#pdcbfb604bf)\" d=\"M 513.859738 266.434995 \nL 513.859738 266.254723 \n\" style=\"fill:none;stroke:#1f77b4;stroke-width:1.5;\"/>\n    <path clip-path=\"url(#pdcbfb604bf)\" d=\"M 515.556302 266.388094 \nL 515.556302 266.192313 \n\" style=\"fill:none;stroke:#1f77b4;stroke-width:1.5;\"/>\n    <path clip-path=\"url(#pdcbfb604bf)\" d=\"M 517.252867 266.56977 \nL 517.252867 266.447865 \n\" style=\"fill:none;stroke:#1f77b4;stroke-width:1.5;\"/>\n    <path clip-path=\"url(#pdcbfb604bf)\" d=\"M 518.949431 266.629405 \nL 518.949431 266.55219 \n\" style=\"fill:none;stroke:#1f77b4;stroke-width:1.5;\"/>\n    <path clip-path=\"url(#pdcbfb604bf)\" d=\"M 520.645995 266.458169 \nL 520.645995 266.286199 \n\" style=\"fill:none;stroke:#1f77b4;stroke-width:1.5;\"/>\n    <path clip-path=\"url(#pdcbfb604bf)\" d=\"M 522.342559 266.526214 \nL 522.342559 266.382118 \n\" style=\"fill:none;stroke:#1f77b4;stroke-width:1.5;\"/>\n    <path clip-path=\"url(#pdcbfb604bf)\" d=\"M 524.039124 266.244232 \nL 524.039124 266.00826 \n\" style=\"fill:none;stroke:#1f77b4;stroke-width:1.5;\"/>\n    <path clip-path=\"url(#pdcbfb604bf)\" d=\"M 525.735688 266.645452 \nL 525.735688 266.645452 \n\" style=\"fill:none;stroke:#1f77b4;stroke-width:1.5;\"/>\n    <path clip-path=\"url(#pdcbfb604bf)\" d=\"M 527.432252 266.171034 \nL 527.432252 265.917501 \n\" style=\"fill:none;stroke:#1f77b4;stroke-width:1.5;\"/>\n    <path clip-path=\"url(#pdcbfb604bf)\" d=\"M 529.128817 266.610733 \nL 529.128817 266.516211 \n\" style=\"fill:none;stroke:#1f77b4;stroke-width:1.5;\"/>\n    <path clip-path=\"url(#pdcbfb604bf)\" d=\"M 530.825381 266.54823 \nL 530.825381 266.414756 \n\" style=\"fill:none;stroke:#1f77b4;stroke-width:1.5;\"/>\n    <path clip-path=\"url(#pdcbfb604bf)\" d=\"M 532.521945 266.481125 \nL 532.521945 266.317898 \n\" style=\"fill:none;stroke:#1f77b4;stroke-width:1.5;\"/>\n    <path clip-path=\"url(#pdcbfb604bf)\" d=\"M 534.21851 266.569772 \nL 534.21851 266.447867 \n\" style=\"fill:none;stroke:#1f77b4;stroke-width:1.5;\"/>\n    <path clip-path=\"url(#pdcbfb604bf)\" d=\"M 535.915074 266.481126 \nL 535.915074 266.3179 \n\" style=\"fill:none;stroke:#1f77b4;stroke-width:1.5;\"/>\n    <path clip-path=\"url(#pdcbfb604bf)\" d=\"M 537.611638 266.645453 \nL 537.611638 266.645453 \n\" style=\"fill:none;stroke:#1f77b4;stroke-width:1.5;\"/>\n    <path clip-path=\"url(#pdcbfb604bf)\" d=\"M 539.308203 266.268469 \nL 539.308203 266.038673 \n\" style=\"fill:none;stroke:#1f77b4;stroke-width:1.5;\"/>\n    <path clip-path=\"url(#pdcbfb604bf)\" d=\"M 541.004767 266.610734 \nL 541.004767 266.516212 \n\" style=\"fill:none;stroke:#1f77b4;stroke-width:1.5;\"/>\n    <path clip-path=\"url(#pdcbfb604bf)\" d=\"M 542.701331 266.645454 \nL 542.701331 266.645454 \n\" style=\"fill:none;stroke:#1f77b4;stroke-width:1.5;\"/>\n    <path clip-path=\"url(#pdcbfb604bf)\" d=\"M 544.397895 266.590692 \nL 544.397895 266.481601 \n\" style=\"fill:none;stroke:#1f77b4;stroke-width:1.5;\"/>\n    <path clip-path=\"url(#pdcbfb604bf)\" d=\"M 546.09446 266.645454 \nL 546.09446 266.645454 \n\" style=\"fill:none;stroke:#1f77b4;stroke-width:1.5;\"/>\n    <path clip-path=\"url(#pdcbfb604bf)\" d=\"M 547.791024 266.41163 \nL 547.791024 266.223435 \n\" style=\"fill:none;stroke:#1f77b4;stroke-width:1.5;\"/>\n    <path clip-path=\"url(#pdcbfb604bf)\" d=\"M 549.487588 266.171032 \nL 549.487588 265.917497 \n\" style=\"fill:none;stroke:#1f77b4;stroke-width:1.5;\"/>\n    <path clip-path=\"url(#pdcbfb604bf)\" d=\"M 551.184153 266.645455 \nL 551.184153 266.645455 \n\" style=\"fill:none;stroke:#1f77b4;stroke-width:1.5;\"/>\n    <path clip-path=\"url(#pdcbfb604bf)\" d=\"M 552.880717 266.526215 \nL 552.880717 266.382119 \n\" style=\"fill:none;stroke:#1f77b4;stroke-width:1.5;\"/>\n    <path clip-path=\"url(#pdcbfb604bf)\" d=\"M 554.577281 266.244231 \nL 554.577281 266.008257 \n\" style=\"fill:none;stroke:#1f77b4;stroke-width:1.5;\"/>\n    <path clip-path=\"url(#pdcbfb604bf)\" d=\"M 556.273846 266.645442 \nL 556.273846 266.590815 \n\" style=\"fill:none;stroke:#1f77b4;stroke-width:1.5;\"/>\n    <path clip-path=\"url(#pdcbfb604bf)\" d=\"M 557.97041 266.548231 \nL 557.97041 266.414757 \n\" style=\"fill:none;stroke:#1f77b4;stroke-width:1.5;\"/>\n    <path clip-path=\"url(#pdcbfb604bf)\" d=\"M 559.666974 266.503825 \nL 559.666974 266.349856 \n\" style=\"fill:none;stroke:#1f77b4;stroke-width:1.5;\"/>\n    <path clip-path=\"url(#pdcbfb604bf)\" d=\"M 561.363538 266.503825 \nL 561.363538 266.349855 \n\" style=\"fill:none;stroke:#1f77b4;stroke-width:1.5;\"/>\n    <path clip-path=\"url(#pdcbfb604bf)\" d=\"M 563.060103 266.503826 \nL 563.060103 266.349857 \n\" style=\"fill:none;stroke:#1f77b4;stroke-width:1.5;\"/>\n    <path clip-path=\"url(#pdcbfb604bf)\" d=\"M 564.756667 266.610736 \nL 564.756667 266.516214 \n\" style=\"fill:none;stroke:#1f77b4;stroke-width:1.5;\"/>\n    <path clip-path=\"url(#pdcbfb604bf)\" d=\"M 566.453231 266.610736 \nL 566.453231 266.516214 \n\" style=\"fill:none;stroke:#1f77b4;stroke-width:1.5;\"/>\n    <path clip-path=\"url(#pdcbfb604bf)\" d=\"M 568.149796 266.569775 \nL 568.149796 266.447869 \n\" style=\"fill:none;stroke:#1f77b4;stroke-width:1.5;\"/>\n    <path clip-path=\"url(#pdcbfb604bf)\" d=\"M 569.84636 266.62941 \nL 569.84636 266.552195 \n\" style=\"fill:none;stroke:#1f77b4;stroke-width:1.5;\"/>\n    <path clip-path=\"url(#pdcbfb604bf)\" d=\"M 571.542924 266.292618 \nL 571.542924 266.069184 \n\" style=\"fill:none;stroke:#1f77b4;stroke-width:1.5;\"/>\n    <path clip-path=\"url(#pdcbfb604bf)\" d=\"M 573.239489 266.645443 \nL 573.239489 266.590816 \n\" style=\"fill:none;stroke:#1f77b4;stroke-width:1.5;\"/>\n   </g>\n   <g id=\"line2d_13\">\n    <path clip-path=\"url(#pdcbfb604bf)\" d=\"M 65.966761 21.851459 \nL 67.663326 38.306979 \nL 69.35989 56.603505 \nL 71.056454 72.802336 \nL 72.753019 93.060576 \nL 74.449583 103.197808 \nL 76.146147 116.032233 \nL 77.842712 126.096987 \nL 79.539276 132.645736 \nL 81.23584 147.70092 \nL 82.932404 157.79952 \nL 84.628969 167.006232 \nL 86.325533 170.316147 \nL 89.718662 183.237531 \nL 91.415226 193.38812 \nL 93.11179 196.026081 \nL 94.808355 203.988437 \nL 96.504919 204.862072 \nL 98.201483 211.505695 \nL 99.898047 215.389606 \nL 101.594612 218.847211 \nL 103.291176 221.970035 \nL 104.98774 224.312053 \nL 106.684305 225.472283 \nL 108.380869 229.841304 \nL 110.077433 233.095997 \nL 111.773998 234.18513 \nL 113.470562 237.399689 \nL 115.167126 238.316758 \nL 116.863691 240.212443 \nL 118.560255 243.264663 \nL 120.256819 242.73849 \nL 121.953383 246.951933 \nL 123.649948 246.289893 \nL 125.346512 246.375487 \nL 127.043076 244.677176 \nL 128.739641 250.99409 \nL 130.436205 252.277717 \nL 132.132769 252.507992 \nL 133.829334 252.522833 \nL 135.525898 253.513129 \nL 137.222462 253.904759 \nL 138.919026 254.947892 \nL 140.615591 255.403918 \nL 142.312155 257.132519 \nL 144.008719 256.908708 \nL 145.705284 256.816529 \nL 147.401848 257.855267 \nL 149.098412 258.26178 \nL 150.794977 259.002888 \nL 152.491541 258.509641 \nL 154.188105 261.771384 \nL 155.88467 258.156337 \nL 157.581234 260.121397 \nL 159.277798 259.889072 \nL 160.974362 261.754291 \nL 162.670927 260.98658 \nL 164.367491 260.860017 \nL 166.064055 262.136494 \nL 167.76062 261.977656 \nL 169.457184 261.352237 \nL 171.153748 263.996188 \nL 172.850313 263.309515 \nL 174.546877 263.612171 \nL 176.243441 262.332954 \nL 177.940006 263.453887 \nL 179.63657 263.013877 \nL 181.333134 263.915854 \nL 183.029698 263.192754 \nL 184.726263 263.966195 \nL 186.422827 263.474901 \nL 188.119391 264.385845 \nL 189.815956 263.775414 \nL 191.51252 263.804447 \nL 193.209084 264.352061 \nL 194.905649 265.168595 \nL 196.602213 264.198763 \nL 198.298777 264.595252 \nL 199.995341 263.745963 \nL 201.691906 263.938525 \nL 203.38847 264.512315 \nL 205.085034 264.214191 \nL 206.781599 265.169168 \nL 208.478163 264.759492 \nL 210.174727 264.763612 \nL 211.871292 265.141965 \nL 213.567856 265.770318 \nL 215.26442 265.333266 \nL 216.960985 264.742294 \nL 218.657549 265.333322 \nL 225.443806 265.032984 \nL 227.14037 264.567444 \nL 228.836935 265.278852 \nL 230.533499 264.377351 \nL 232.230063 264.95109 \nL 233.926628 265.087669 \nL 235.623192 265.68874 \nL 239.016321 265.47022 \nL 240.712885 265.770735 \nL 242.409449 265.880033 \nL 244.106013 265.552191 \nL 245.802578 266.399154 \nL 247.499142 265.388296 \nL 250.892271 264.978527 \nL 252.588835 265.386018 \nL 254.285399 264.840509 \nL 255.981964 265.552261 \nL 257.678528 265.880139 \nL 259.375092 265.661586 \nL 261.071656 265.798192 \nL 262.768221 266.070335 \nL 264.464785 265.880171 \nL 266.161349 265.989479 \nL 267.857914 265.9075 \nL 269.554478 265.470347 \nL 271.251042 265.770895 \nL 272.947607 265.415705 \nL 274.644171 265.907529 \nL 276.340735 265.688944 \nL 279.733864 266.317383 \nL 281.430428 265.934862 \nL 283.126992 265.005872 \nL 284.823557 265.634317 \nL 288.216685 266.098822 \nL 289.91325 265.96221 \nL 291.609814 265.607022 \nL 293.306378 266.153484 \nL 295.002943 265.825606 \nL 296.699507 265.962225 \nL 298.396071 265.85293 \nL 300.092635 266.180822 \nL 301.7892 266.208147 \nL 303.485764 265.880258 \nL 305.182328 265.743636 \nL 306.878893 266.372105 \nL 308.575457 266.126187 \nL 310.272021 266.180836 \nL 311.968586 266.0169 \nL 313.66515 265.634346 \nL 315.361714 266.098868 \nL 317.058279 266.016901 \nL 318.754843 266.399439 \nL 320.451407 265.415755 \nL 322.147971 266.126198 \nL 323.844536 265.798309 \nL 327.237664 266.317481 \nL 328.934229 265.928686 \nL 330.630793 265.934937 \nL 332.327357 266.153535 \nL 334.023922 266.129344 \nL 335.720486 266.262836 \nL 337.41705 266.208185 \nL 339.113615 266.290162 \nL 344.203307 266.044242 \nL 345.899872 266.536094 \nL 347.596436 266.153542 \nL 349.293 266.344819 \nL 352.686129 265.989592 \nL 354.382693 265.251812 \nL 356.079258 266.536104 \nL 357.775822 266.481453 \nL 359.472386 266.126219 \nL 361.16895 266.454132 \nL 362.865515 266.153555 \nL 364.562079 266.317503 \nL 366.258643 265.989596 \nL 367.955208 266.53611 \nL 369.651772 266.071574 \nL 371.348336 266.208201 \nL 373.044901 266.536111 \nL 376.438029 266.126229 \nL 378.134594 266.344836 \nL 383.224286 266.426812 \nL 386.617415 266.317511 \nL 388.313979 266.290184 \nL 390.010544 266.481467 \nL 391.707108 266.208214 \nL 393.403672 266.372166 \nL 395.100237 266.016931 \nL 396.796801 266.344841 \nL 398.493365 266.536122 \nL 400.189929 266.208212 \nL 401.886494 266.536124 \nL 406.976187 266.563449 \nL 408.672751 266.290192 \nL 410.369315 266.590776 \nL 413.762444 266.481474 \nL 415.459008 266.180886 \nL 417.155573 266.536125 \nL 418.852137 266.262866 \nL 422.245265 266.426823 \nL 423.94183 266.016936 \nL 425.638394 266.426823 \nL 429.031523 266.536129 \nL 430.728087 265.962284 \nL 432.424651 266.235543 \nL 435.81778 265.907625 \nL 437.514344 266.153565 \nL 439.210909 266.235544 \nL 442.604037 266.645439 \nL 447.69373 266.563461 \nL 449.390294 266.34485 \nL 452.783423 266.372176 \nL 454.479987 266.071588 \nL 457.873116 266.508811 \nL 459.56968 266.454157 \nL 461.266244 266.618116 \nL 462.962809 266.536137 \nL 464.659373 266.2902 \nL 466.355937 266.180897 \nL 468.052502 266.563465 \nL 469.749066 266.426832 \nL 471.44563 265.880306 \nL 473.142195 266.2902 \nL 474.838759 266.454161 \nL 476.535323 266.344854 \nL 479.928452 266.426835 \nL 481.625016 265.743671 \nL 483.32158 266.454162 \nL 485.018145 266.01694 \nL 486.714709 266.618121 \nL 490.107838 266.590795 \nL 491.804402 266.618121 \nL 493.500966 266.153572 \nL 496.894095 266.56347 \nL 498.590659 266.508817 \nL 500.287224 266.262876 \nL 503.680352 266.454165 \nL 505.376916 266.48149 \nL 507.073481 266.180897 \nL 508.770045 266.56347 \nL 512.163174 266.64545 \nL 513.859738 266.344859 \nL 515.556302 266.290203 \nL 517.252867 266.508817 \nL 518.949431 266.590798 \nL 520.645995 266.372184 \nL 522.342559 266.454166 \nL 524.039124 266.126246 \nL 525.735688 266.645452 \nL 527.432252 266.044267 \nL 529.128817 266.563472 \nL 532.521945 266.399512 \nL 534.21851 266.50882 \nL 535.915074 266.399513 \nL 537.611638 266.645453 \nL 539.308203 266.153571 \nL 541.004767 266.563473 \nL 542.701331 266.645454 \nL 544.397895 266.536147 \nL 546.09446 266.645454 \nL 549.487588 266.044264 \nL 551.184153 266.645455 \nL 552.880717 266.454167 \nL 554.577281 266.126244 \nL 556.273846 266.618128 \nL 559.666974 266.426841 \nL 563.060103 266.426841 \nL 564.756667 266.563475 \nL 569.84636 266.590802 \nL 571.542924 266.180901 \nL 573.239489 266.618129 \nL 573.239489 266.618129 \n\" style=\"fill:none;stroke:#1f77b4;stroke-linecap:square;stroke-width:1.5;\"/>\n   </g>\n   <g id=\"patch_3\">\n    <path d=\"M 40.603125 279 \nL 40.603125 7.2 \n\" style=\"fill:none;stroke:#000000;stroke-linecap:square;stroke-linejoin:miter;stroke-width:0.8;\"/>\n   </g>\n   <g id=\"patch_4\">\n    <path d=\"M 598.603125 279 \nL 598.603125 7.2 \n\" style=\"fill:none;stroke:#000000;stroke-linecap:square;stroke-linejoin:miter;stroke-width:0.8;\"/>\n   </g>\n   <g id=\"patch_5\">\n    <path d=\"M 40.603125 279 \nL 598.603125 279 \n\" style=\"fill:none;stroke:#000000;stroke-linecap:square;stroke-linejoin:miter;stroke-width:0.8;\"/>\n   </g>\n   <g id=\"patch_6\">\n    <path d=\"M 40.603125 7.2 \nL 598.603125 7.2 \n\" style=\"fill:none;stroke:#000000;stroke-linecap:square;stroke-linejoin:miter;stroke-width:0.8;\"/>\n   </g>\n  </g>\n </g>\n <defs>\n  <clipPath id=\"pdcbfb604bf\">\n   <rect height=\"271.8\" width=\"558\" x=\"40.603125\" y=\"7.2\"/>\n  </clipPath>\n </defs>\n</svg>\n",
      "image/png": "[encoded data removed]"
     },
     "metadata": {
      "needs_background": "light"
     }
    }
   ],
   "metadata": {
    "scrolled": true
   }
  },
  {
   "cell_type": "markdown",
   "source": [
    "You can also look at the MCMC chain properties"
   ],
   "metadata": {}
  },
  {
   "cell_type": "code",
   "execution_count": 60,
   "source": [
    "plt.plot(data_jastrow[\"Energy\"].R_hat)\n",
    "plt.ylabel(\"R_hat\")\n",
    "plt.xlabel(\"Iterations\")"
   ],
   "outputs": [
    {
     "output_type": "execute_result",
     "data": {
      "text/plain": [
       "Text(0.5, 0, 'Iterations')"
      ]
     },
     "metadata": {},
     "execution_count": 60
    },
    {
     "output_type": "display_data",
     "data": {
      "text/plain": [
       "<Figure size 432x288 with 1 Axes>"
      ],
      "image/svg+xml": "<?xml version=\"1.0\" encoding=\"utf-8\" standalone=\"no\"?>\n<!DOCTYPE svg PUBLIC \"-//W3C//DTD SVG 1.1//EN\"\n  \"http://www.w3.org/Graphics/SVG/1.1/DTD/svg11.dtd\">\n<svg height=\"262.19625pt\" version=\"1.1\" viewBox=\"0 0 392.421875 262.19625\" width=\"392.421875pt\" xmlns=\"http://www.w3.org/2000/svg\" xmlns:xlink=\"http://www.w3.org/1999/xlink\">\n <metadata>\n  <rdf:RDF xmlns:cc=\"http://creativecommons.org/ns#\" xmlns:dc=\"http://purl.org/dc/elements/1.1/\" xmlns:rdf=\"http://www.w3.org/1999/02/22-rdf-syntax-ns#\">\n   <cc:Work>\n    <dc:type rdf:resource=\"http://purl.org/dc/dcmitype/StillImage\"/>\n    <dc:date>2021-09-01T18:34:50.963589</dc:date>\n    <dc:format>image/svg+xml</dc:format>\n    <dc:creator>\n     <cc:Agent>\n      <dc:title>Matplotlib v3.4.3, https://matplotlib.org/</dc:title>\n     </cc:Agent>\n    </dc:creator>\n   </cc:Work>\n  </rdf:RDF>\n </metadata>\n <defs>\n  <style type=\"text/css\">*{stroke-linecap:butt;stroke-linejoin:round;}</style>\n </defs>\n <g id=\"figure_1\">\n  <g id=\"patch_1\">\n   <path d=\"M -0 262.19625 \nL 392.421875 262.19625 \nL 392.421875 0 \nL -0 0 \nz\n\" style=\"fill:none;\"/>\n  </g>\n  <g id=\"axes_1\">\n   <g id=\"patch_2\">\n    <path d=\"M 50.421875 224.64 \nL 385.221875 224.64 \nL 385.221875 7.2 \nL 50.421875 7.2 \nz\n\" style=\"fill:#ffffff;\"/>\n   </g>\n   <g id=\"matplotlib.axis_1\">\n    <g id=\"xtick_1\">\n     <g id=\"line2d_1\">\n      <defs>\n       <path d=\"M 0 0 \nL 0 3.5 \n\" id=\"mc767b32d71\" style=\"stroke:#000000;stroke-width:0.8;\"/>\n      </defs>\n      <g>\n       <use style=\"stroke:#000000;stroke-width:0.8;\" x=\"65.640057\" xlink:href=\"#mc767b32d71\" y=\"224.64\"/>\n      </g>\n     </g>\n     <g id=\"text_1\">\n      <!-- 0 -->\n      <g transform=\"translate(62.458807 239.238438)scale(0.1 -0.1)\">\n       <defs>\n        <path d=\"M 2034 4250 \nQ 1547 4250 1301 3770 \nQ 1056 3291 1056 2328 \nQ 1056 1369 1301 889 \nQ 1547 409 2034 409 \nQ 2525 409 2770 889 \nQ 3016 1369 3016 2328 \nQ 3016 3291 2770 3770 \nQ 2525 4250 2034 4250 \nz\nM 2034 4750 \nQ 2819 4750 3233 4129 \nQ 3647 3509 3647 2328 \nQ 3647 1150 3233 529 \nQ 2819 -91 2034 -91 \nQ 1250 -91 836 529 \nQ 422 1150 422 2328 \nQ 422 3509 836 4129 \nQ 1250 4750 2034 4750 \nz\n\" id=\"DejaVuSans-30\" transform=\"scale(0.015625)\"/>\n       </defs>\n       <use xlink:href=\"#DejaVuSans-30\"/>\n      </g>\n     </g>\n    </g>\n    <g id=\"xtick_2\">\n     <g id=\"line2d_2\">\n      <g>\n       <use style=\"stroke:#000000;stroke-width:0.8;\" x=\"116.536986\" xlink:href=\"#mc767b32d71\" y=\"224.64\"/>\n      </g>\n     </g>\n     <g id=\"text_2\">\n      <!-- 50 -->\n      <g transform=\"translate(110.174486 239.238438)scale(0.1 -0.1)\">\n       <defs>\n        <path d=\"M 691 4666 \nL 3169 4666 \nL 3169 4134 \nL 1269 4134 \nL 1269 2991 \nQ 1406 3038 1543 3061 \nQ 1681 3084 1819 3084 \nQ 2600 3084 3056 2656 \nQ 3513 2228 3513 1497 \nQ 3513 744 3044 326 \nQ 2575 -91 1722 -91 \nQ 1428 -91 1123 -41 \nQ 819 9 494 109 \nL 494 744 \nQ 775 591 1075 516 \nQ 1375 441 1709 441 \nQ 2250 441 2565 725 \nQ 2881 1009 2881 1497 \nQ 2881 1984 2565 2268 \nQ 2250 2553 1709 2553 \nQ 1456 2553 1204 2497 \nQ 953 2441 691 2322 \nL 691 4666 \nz\n\" id=\"DejaVuSans-35\" transform=\"scale(0.015625)\"/>\n       </defs>\n       <use xlink:href=\"#DejaVuSans-35\"/>\n       <use x=\"63.623047\" xlink:href=\"#DejaVuSans-30\"/>\n      </g>\n     </g>\n    </g>\n    <g id=\"xtick_3\">\n     <g id=\"line2d_3\">\n      <g>\n       <use style=\"stroke:#000000;stroke-width:0.8;\" x=\"167.433915\" xlink:href=\"#mc767b32d71\" y=\"224.64\"/>\n      </g>\n     </g>\n     <g id=\"text_3\">\n      <!-- 100 -->\n      <g transform=\"translate(157.890165 239.238438)scale(0.1 -0.1)\">\n       <defs>\n        <path d=\"M 794 531 \nL 1825 531 \nL 1825 4091 \nL 703 3866 \nL 703 4441 \nL 1819 4666 \nL 2450 4666 \nL 2450 531 \nL 3481 531 \nL 3481 0 \nL 794 0 \nL 794 531 \nz\n\" id=\"DejaVuSans-31\" transform=\"scale(0.015625)\"/>\n       </defs>\n       <use xlink:href=\"#DejaVuSans-31\"/>\n       <use x=\"63.623047\" xlink:href=\"#DejaVuSans-30\"/>\n       <use x=\"127.246094\" xlink:href=\"#DejaVuSans-30\"/>\n      </g>\n     </g>\n    </g>\n    <g id=\"xtick_4\">\n     <g id=\"line2d_4\">\n      <g>\n       <use style=\"stroke:#000000;stroke-width:0.8;\" x=\"218.330844\" xlink:href=\"#mc767b32d71\" y=\"224.64\"/>\n      </g>\n     </g>\n     <g id=\"text_4\">\n      <!-- 150 -->\n      <g transform=\"translate(208.787094 239.238438)scale(0.1 -0.1)\">\n       <use xlink:href=\"#DejaVuSans-31\"/>\n       <use x=\"63.623047\" xlink:href=\"#DejaVuSans-35\"/>\n       <use x=\"127.246094\" xlink:href=\"#DejaVuSans-30\"/>\n      </g>\n     </g>\n    </g>\n    <g id=\"xtick_5\">\n     <g id=\"line2d_5\">\n      <g>\n       <use style=\"stroke:#000000;stroke-width:0.8;\" x=\"269.227773\" xlink:href=\"#mc767b32d71\" y=\"224.64\"/>\n      </g>\n     </g>\n     <g id=\"text_5\">\n      <!-- 200 -->\n      <g transform=\"translate(259.684023 239.238438)scale(0.1 -0.1)\">\n       <defs>\n        <path d=\"M 1228 531 \nL 3431 531 \nL 3431 0 \nL 469 0 \nL 469 531 \nQ 828 903 1448 1529 \nQ 2069 2156 2228 2338 \nQ 2531 2678 2651 2914 \nQ 2772 3150 2772 3378 \nQ 2772 3750 2511 3984 \nQ 2250 4219 1831 4219 \nQ 1534 4219 1204 4116 \nQ 875 4013 500 3803 \nL 500 4441 \nQ 881 4594 1212 4672 \nQ 1544 4750 1819 4750 \nQ 2544 4750 2975 4387 \nQ 3406 4025 3406 3419 \nQ 3406 3131 3298 2873 \nQ 3191 2616 2906 2266 \nQ 2828 2175 2409 1742 \nQ 1991 1309 1228 531 \nz\n\" id=\"DejaVuSans-32\" transform=\"scale(0.015625)\"/>\n       </defs>\n       <use xlink:href=\"#DejaVuSans-32\"/>\n       <use x=\"63.623047\" xlink:href=\"#DejaVuSans-30\"/>\n       <use x=\"127.246094\" xlink:href=\"#DejaVuSans-30\"/>\n      </g>\n     </g>\n    </g>\n    <g id=\"xtick_6\">\n     <g id=\"line2d_6\">\n      <g>\n       <use style=\"stroke:#000000;stroke-width:0.8;\" x=\"320.124703\" xlink:href=\"#mc767b32d71\" y=\"224.64\"/>\n      </g>\n     </g>\n     <g id=\"text_6\">\n      <!-- 250 -->\n      <g transform=\"translate(310.580953 239.238438)scale(0.1 -0.1)\">\n       <use xlink:href=\"#DejaVuSans-32\"/>\n       <use x=\"63.623047\" xlink:href=\"#DejaVuSans-35\"/>\n       <use x=\"127.246094\" xlink:href=\"#DejaVuSans-30\"/>\n      </g>\n     </g>\n    </g>\n    <g id=\"xtick_7\">\n     <g id=\"line2d_7\">\n      <g>\n       <use style=\"stroke:#000000;stroke-width:0.8;\" x=\"371.021632\" xlink:href=\"#mc767b32d71\" y=\"224.64\"/>\n      </g>\n     </g>\n     <g id=\"text_7\">\n      <!-- 300 -->\n      <g transform=\"translate(361.477882 239.238438)scale(0.1 -0.1)\">\n       <defs>\n        <path d=\"M 2597 2516 \nQ 3050 2419 3304 2112 \nQ 3559 1806 3559 1356 \nQ 3559 666 3084 287 \nQ 2609 -91 1734 -91 \nQ 1441 -91 1130 -33 \nQ 819 25 488 141 \nL 488 750 \nQ 750 597 1062 519 \nQ 1375 441 1716 441 \nQ 2309 441 2620 675 \nQ 2931 909 2931 1356 \nQ 2931 1769 2642 2001 \nQ 2353 2234 1838 2234 \nL 1294 2234 \nL 1294 2753 \nL 1863 2753 \nQ 2328 2753 2575 2939 \nQ 2822 3125 2822 3475 \nQ 2822 3834 2567 4026 \nQ 2313 4219 1838 4219 \nQ 1578 4219 1281 4162 \nQ 984 4106 628 3988 \nL 628 4550 \nQ 988 4650 1302 4700 \nQ 1616 4750 1894 4750 \nQ 2613 4750 3031 4423 \nQ 3450 4097 3450 3541 \nQ 3450 3153 3228 2886 \nQ 3006 2619 2597 2516 \nz\n\" id=\"DejaVuSans-33\" transform=\"scale(0.015625)\"/>\n       </defs>\n       <use xlink:href=\"#DejaVuSans-33\"/>\n       <use x=\"63.623047\" xlink:href=\"#DejaVuSans-30\"/>\n       <use x=\"127.246094\" xlink:href=\"#DejaVuSans-30\"/>\n      </g>\n     </g>\n    </g>\n    <g id=\"text_8\">\n     <!-- Iterations -->\n     <g transform=\"translate(194.008594 252.916563)scale(0.1 -0.1)\">\n      <defs>\n       <path d=\"M 628 4666 \nL 1259 4666 \nL 1259 0 \nL 628 0 \nL 628 4666 \nz\n\" id=\"DejaVuSans-49\" transform=\"scale(0.015625)\"/>\n       <path d=\"M 1172 4494 \nL 1172 3500 \nL 2356 3500 \nL 2356 3053 \nL 1172 3053 \nL 1172 1153 \nQ 1172 725 1289 603 \nQ 1406 481 1766 481 \nL 2356 481 \nL 2356 0 \nL 1766 0 \nQ 1100 0 847 248 \nQ 594 497 594 1153 \nL 594 3053 \nL 172 3053 \nL 172 3500 \nL 594 3500 \nL 594 4494 \nL 1172 4494 \nz\n\" id=\"DejaVuSans-74\" transform=\"scale(0.015625)\"/>\n       <path d=\"M 3597 1894 \nL 3597 1613 \nL 953 1613 \nQ 991 1019 1311 708 \nQ 1631 397 2203 397 \nQ 2534 397 2845 478 \nQ 3156 559 3463 722 \nL 3463 178 \nQ 3153 47 2828 -22 \nQ 2503 -91 2169 -91 \nQ 1331 -91 842 396 \nQ 353 884 353 1716 \nQ 353 2575 817 3079 \nQ 1281 3584 2069 3584 \nQ 2775 3584 3186 3129 \nQ 3597 2675 3597 1894 \nz\nM 3022 2063 \nQ 3016 2534 2758 2815 \nQ 2500 3097 2075 3097 \nQ 1594 3097 1305 2825 \nQ 1016 2553 972 2059 \nL 3022 2063 \nz\n\" id=\"DejaVuSans-65\" transform=\"scale(0.015625)\"/>\n       <path d=\"M 2631 2963 \nQ 2534 3019 2420 3045 \nQ 2306 3072 2169 3072 \nQ 1681 3072 1420 2755 \nQ 1159 2438 1159 1844 \nL 1159 0 \nL 581 0 \nL 581 3500 \nL 1159 3500 \nL 1159 2956 \nQ 1341 3275 1631 3429 \nQ 1922 3584 2338 3584 \nQ 2397 3584 2469 3576 \nQ 2541 3569 2628 3553 \nL 2631 2963 \nz\n\" id=\"DejaVuSans-72\" transform=\"scale(0.015625)\"/>\n       <path d=\"M 2194 1759 \nQ 1497 1759 1228 1600 \nQ 959 1441 959 1056 \nQ 959 750 1161 570 \nQ 1363 391 1709 391 \nQ 2188 391 2477 730 \nQ 2766 1069 2766 1631 \nL 2766 1759 \nL 2194 1759 \nz\nM 3341 1997 \nL 3341 0 \nL 2766 0 \nL 2766 531 \nQ 2569 213 2275 61 \nQ 1981 -91 1556 -91 \nQ 1019 -91 701 211 \nQ 384 513 384 1019 \nQ 384 1609 779 1909 \nQ 1175 2209 1959 2209 \nL 2766 2209 \nL 2766 2266 \nQ 2766 2663 2505 2880 \nQ 2244 3097 1772 3097 \nQ 1472 3097 1187 3025 \nQ 903 2953 641 2809 \nL 641 3341 \nQ 956 3463 1253 3523 \nQ 1550 3584 1831 3584 \nQ 2591 3584 2966 3190 \nQ 3341 2797 3341 1997 \nz\n\" id=\"DejaVuSans-61\" transform=\"scale(0.015625)\"/>\n       <path d=\"M 603 3500 \nL 1178 3500 \nL 1178 0 \nL 603 0 \nL 603 3500 \nz\nM 603 4863 \nL 1178 4863 \nL 1178 4134 \nL 603 4134 \nL 603 4863 \nz\n\" id=\"DejaVuSans-69\" transform=\"scale(0.015625)\"/>\n       <path d=\"M 1959 3097 \nQ 1497 3097 1228 2736 \nQ 959 2375 959 1747 \nQ 959 1119 1226 758 \nQ 1494 397 1959 397 \nQ 2419 397 2687 759 \nQ 2956 1122 2956 1747 \nQ 2956 2369 2687 2733 \nQ 2419 3097 1959 3097 \nz\nM 1959 3584 \nQ 2709 3584 3137 3096 \nQ 3566 2609 3566 1747 \nQ 3566 888 3137 398 \nQ 2709 -91 1959 -91 \nQ 1206 -91 779 398 \nQ 353 888 353 1747 \nQ 353 2609 779 3096 \nQ 1206 3584 1959 3584 \nz\n\" id=\"DejaVuSans-6f\" transform=\"scale(0.015625)\"/>\n       <path d=\"M 3513 2113 \nL 3513 0 \nL 2938 0 \nL 2938 2094 \nQ 2938 2591 2744 2837 \nQ 2550 3084 2163 3084 \nQ 1697 3084 1428 2787 \nQ 1159 2491 1159 1978 \nL 1159 0 \nL 581 0 \nL 581 3500 \nL 1159 3500 \nL 1159 2956 \nQ 1366 3272 1645 3428 \nQ 1925 3584 2291 3584 \nQ 2894 3584 3203 3211 \nQ 3513 2838 3513 2113 \nz\n\" id=\"DejaVuSans-6e\" transform=\"scale(0.015625)\"/>\n       <path d=\"M 2834 3397 \nL 2834 2853 \nQ 2591 2978 2328 3040 \nQ 2066 3103 1784 3103 \nQ 1356 3103 1142 2972 \nQ 928 2841 928 2578 \nQ 928 2378 1081 2264 \nQ 1234 2150 1697 2047 \nL 1894 2003 \nQ 2506 1872 2764 1633 \nQ 3022 1394 3022 966 \nQ 3022 478 2636 193 \nQ 2250 -91 1575 -91 \nQ 1294 -91 989 -36 \nQ 684 19 347 128 \nL 347 722 \nQ 666 556 975 473 \nQ 1284 391 1588 391 \nQ 1994 391 2212 530 \nQ 2431 669 2431 922 \nQ 2431 1156 2273 1281 \nQ 2116 1406 1581 1522 \nL 1381 1569 \nQ 847 1681 609 1914 \nQ 372 2147 372 2553 \nQ 372 3047 722 3315 \nQ 1072 3584 1716 3584 \nQ 2034 3584 2315 3537 \nQ 2597 3491 2834 3397 \nz\n\" id=\"DejaVuSans-73\" transform=\"scale(0.015625)\"/>\n      </defs>\n      <use xlink:href=\"#DejaVuSans-49\"/>\n      <use x=\"29.492188\" xlink:href=\"#DejaVuSans-74\"/>\n      <use x=\"68.701172\" xlink:href=\"#DejaVuSans-65\"/>\n      <use x=\"130.224609\" xlink:href=\"#DejaVuSans-72\"/>\n      <use x=\"171.337891\" xlink:href=\"#DejaVuSans-61\"/>\n      <use x=\"232.617188\" xlink:href=\"#DejaVuSans-74\"/>\n      <use x=\"271.826172\" xlink:href=\"#DejaVuSans-69\"/>\n      <use x=\"299.609375\" xlink:href=\"#DejaVuSans-6f\"/>\n      <use x=\"360.791016\" xlink:href=\"#DejaVuSans-6e\"/>\n      <use x=\"424.169922\" xlink:href=\"#DejaVuSans-73\"/>\n     </g>\n    </g>\n   </g>\n   <g id=\"matplotlib.axis_2\">\n    <g id=\"ytick_1\">\n     <g id=\"line2d_8\">\n      <defs>\n       <path d=\"M 0 0 \nL -3.5 0 \n\" id=\"m8102aa651e\" style=\"stroke:#000000;stroke-width:0.8;\"/>\n      </defs>\n      <g>\n       <use style=\"stroke:#000000;stroke-width:0.8;\" x=\"50.421875\" xlink:href=\"#m8102aa651e\" y=\"201.506917\"/>\n      </g>\n     </g>\n     <g id=\"text_9\">\n      <!-- 1.00 -->\n      <g transform=\"translate(21.15625 205.306136)scale(0.1 -0.1)\">\n       <defs>\n        <path d=\"M 684 794 \nL 1344 794 \nL 1344 0 \nL 684 0 \nL 684 794 \nz\n\" id=\"DejaVuSans-2e\" transform=\"scale(0.015625)\"/>\n       </defs>\n       <use xlink:href=\"#DejaVuSans-31\"/>\n       <use x=\"63.623047\" xlink:href=\"#DejaVuSans-2e\"/>\n       <use x=\"95.410156\" xlink:href=\"#DejaVuSans-30\"/>\n       <use x=\"159.033203\" xlink:href=\"#DejaVuSans-30\"/>\n      </g>\n     </g>\n    </g>\n    <g id=\"ytick_2\">\n     <g id=\"line2d_9\">\n      <g>\n       <use style=\"stroke:#000000;stroke-width:0.8;\" x=\"50.421875\" xlink:href=\"#m8102aa651e\" y=\"168.251336\"/>\n      </g>\n     </g>\n     <g id=\"text_10\">\n      <!-- 1.02 -->\n      <g transform=\"translate(21.15625 172.050555)scale(0.1 -0.1)\">\n       <use xlink:href=\"#DejaVuSans-31\"/>\n       <use x=\"63.623047\" xlink:href=\"#DejaVuSans-2e\"/>\n       <use x=\"95.410156\" xlink:href=\"#DejaVuSans-30\"/>\n       <use x=\"159.033203\" xlink:href=\"#DejaVuSans-32\"/>\n      </g>\n     </g>\n    </g>\n    <g id=\"ytick_3\">\n     <g id=\"line2d_10\">\n      <g>\n       <use style=\"stroke:#000000;stroke-width:0.8;\" x=\"50.421875\" xlink:href=\"#m8102aa651e\" y=\"134.995756\"/>\n      </g>\n     </g>\n     <g id=\"text_11\">\n      <!-- 1.04 -->\n      <g transform=\"translate(21.15625 138.794974)scale(0.1 -0.1)\">\n       <defs>\n        <path d=\"M 2419 4116 \nL 825 1625 \nL 2419 1625 \nL 2419 4116 \nz\nM 2253 4666 \nL 3047 4666 \nL 3047 1625 \nL 3713 1625 \nL 3713 1100 \nL 3047 1100 \nL 3047 0 \nL 2419 0 \nL 2419 1100 \nL 313 1100 \nL 313 1709 \nL 2253 4666 \nz\n\" id=\"DejaVuSans-34\" transform=\"scale(0.015625)\"/>\n       </defs>\n       <use xlink:href=\"#DejaVuSans-31\"/>\n       <use x=\"63.623047\" xlink:href=\"#DejaVuSans-2e\"/>\n       <use x=\"95.410156\" xlink:href=\"#DejaVuSans-30\"/>\n       <use x=\"159.033203\" xlink:href=\"#DejaVuSans-34\"/>\n      </g>\n     </g>\n    </g>\n    <g id=\"ytick_4\">\n     <g id=\"line2d_11\">\n      <g>\n       <use style=\"stroke:#000000;stroke-width:0.8;\" x=\"50.421875\" xlink:href=\"#m8102aa651e\" y=\"101.740175\"/>\n      </g>\n     </g>\n     <g id=\"text_12\">\n      <!-- 1.06 -->\n      <g transform=\"translate(21.15625 105.539393)scale(0.1 -0.1)\">\n       <defs>\n        <path d=\"M 2113 2584 \nQ 1688 2584 1439 2293 \nQ 1191 2003 1191 1497 \nQ 1191 994 1439 701 \nQ 1688 409 2113 409 \nQ 2538 409 2786 701 \nQ 3034 994 3034 1497 \nQ 3034 2003 2786 2293 \nQ 2538 2584 2113 2584 \nz\nM 3366 4563 \nL 3366 3988 \nQ 3128 4100 2886 4159 \nQ 2644 4219 2406 4219 \nQ 1781 4219 1451 3797 \nQ 1122 3375 1075 2522 \nQ 1259 2794 1537 2939 \nQ 1816 3084 2150 3084 \nQ 2853 3084 3261 2657 \nQ 3669 2231 3669 1497 \nQ 3669 778 3244 343 \nQ 2819 -91 2113 -91 \nQ 1303 -91 875 529 \nQ 447 1150 447 2328 \nQ 447 3434 972 4092 \nQ 1497 4750 2381 4750 \nQ 2619 4750 2861 4703 \nQ 3103 4656 3366 4563 \nz\n\" id=\"DejaVuSans-36\" transform=\"scale(0.015625)\"/>\n       </defs>\n       <use xlink:href=\"#DejaVuSans-31\"/>\n       <use x=\"63.623047\" xlink:href=\"#DejaVuSans-2e\"/>\n       <use x=\"95.410156\" xlink:href=\"#DejaVuSans-30\"/>\n       <use x=\"159.033203\" xlink:href=\"#DejaVuSans-36\"/>\n      </g>\n     </g>\n    </g>\n    <g id=\"ytick_5\">\n     <g id=\"line2d_12\">\n      <g>\n       <use style=\"stroke:#000000;stroke-width:0.8;\" x=\"50.421875\" xlink:href=\"#m8102aa651e\" y=\"68.484594\"/>\n      </g>\n     </g>\n     <g id=\"text_13\">\n      <!-- 1.08 -->\n      <g transform=\"translate(21.15625 72.283813)scale(0.1 -0.1)\">\n       <defs>\n        <path d=\"M 2034 2216 \nQ 1584 2216 1326 1975 \nQ 1069 1734 1069 1313 \nQ 1069 891 1326 650 \nQ 1584 409 2034 409 \nQ 2484 409 2743 651 \nQ 3003 894 3003 1313 \nQ 3003 1734 2745 1975 \nQ 2488 2216 2034 2216 \nz\nM 1403 2484 \nQ 997 2584 770 2862 \nQ 544 3141 544 3541 \nQ 544 4100 942 4425 \nQ 1341 4750 2034 4750 \nQ 2731 4750 3128 4425 \nQ 3525 4100 3525 3541 \nQ 3525 3141 3298 2862 \nQ 3072 2584 2669 2484 \nQ 3125 2378 3379 2068 \nQ 3634 1759 3634 1313 \nQ 3634 634 3220 271 \nQ 2806 -91 2034 -91 \nQ 1263 -91 848 271 \nQ 434 634 434 1313 \nQ 434 1759 690 2068 \nQ 947 2378 1403 2484 \nz\nM 1172 3481 \nQ 1172 3119 1398 2916 \nQ 1625 2713 2034 2713 \nQ 2441 2713 2670 2916 \nQ 2900 3119 2900 3481 \nQ 2900 3844 2670 4047 \nQ 2441 4250 2034 4250 \nQ 1625 4250 1398 4047 \nQ 1172 3844 1172 3481 \nz\n\" id=\"DejaVuSans-38\" transform=\"scale(0.015625)\"/>\n       </defs>\n       <use xlink:href=\"#DejaVuSans-31\"/>\n       <use x=\"63.623047\" xlink:href=\"#DejaVuSans-2e\"/>\n       <use x=\"95.410156\" xlink:href=\"#DejaVuSans-30\"/>\n       <use x=\"159.033203\" xlink:href=\"#DejaVuSans-38\"/>\n      </g>\n     </g>\n    </g>\n    <g id=\"ytick_6\">\n     <g id=\"line2d_13\">\n      <g>\n       <use style=\"stroke:#000000;stroke-width:0.8;\" x=\"50.421875\" xlink:href=\"#m8102aa651e\" y=\"35.229013\"/>\n      </g>\n     </g>\n     <g id=\"text_14\">\n      <!-- 1.10 -->\n      <g transform=\"translate(21.15625 39.028232)scale(0.1 -0.1)\">\n       <use xlink:href=\"#DejaVuSans-31\"/>\n       <use x=\"63.623047\" xlink:href=\"#DejaVuSans-2e\"/>\n       <use x=\"95.410156\" xlink:href=\"#DejaVuSans-31\"/>\n       <use x=\"159.033203\" xlink:href=\"#DejaVuSans-30\"/>\n      </g>\n     </g>\n    </g>\n    <g id=\"text_15\">\n     <!-- R_hat -->\n     <g transform=\"translate(14.798438 130.087188)rotate(-90)scale(0.1 -0.1)\">\n      <defs>\n       <path d=\"M 2841 2188 \nQ 3044 2119 3236 1894 \nQ 3428 1669 3622 1275 \nL 4263 0 \nL 3584 0 \nL 2988 1197 \nQ 2756 1666 2539 1819 \nQ 2322 1972 1947 1972 \nL 1259 1972 \nL 1259 0 \nL 628 0 \nL 628 4666 \nL 2053 4666 \nQ 2853 4666 3247 4331 \nQ 3641 3997 3641 3322 \nQ 3641 2881 3436 2590 \nQ 3231 2300 2841 2188 \nz\nM 1259 4147 \nL 1259 2491 \nL 2053 2491 \nQ 2509 2491 2742 2702 \nQ 2975 2913 2975 3322 \nQ 2975 3731 2742 3939 \nQ 2509 4147 2053 4147 \nL 1259 4147 \nz\n\" id=\"DejaVuSans-52\" transform=\"scale(0.015625)\"/>\n       <path d=\"M 3263 -1063 \nL 3263 -1509 \nL -63 -1509 \nL -63 -1063 \nL 3263 -1063 \nz\n\" id=\"DejaVuSans-5f\" transform=\"scale(0.015625)\"/>\n       <path d=\"M 3513 2113 \nL 3513 0 \nL 2938 0 \nL 2938 2094 \nQ 2938 2591 2744 2837 \nQ 2550 3084 2163 3084 \nQ 1697 3084 1428 2787 \nQ 1159 2491 1159 1978 \nL 1159 0 \nL 581 0 \nL 581 4863 \nL 1159 4863 \nL 1159 2956 \nQ 1366 3272 1645 3428 \nQ 1925 3584 2291 3584 \nQ 2894 3584 3203 3211 \nQ 3513 2838 3513 2113 \nz\n\" id=\"DejaVuSans-68\" transform=\"scale(0.015625)\"/>\n      </defs>\n      <use xlink:href=\"#DejaVuSans-52\"/>\n      <use x=\"69.482422\" xlink:href=\"#DejaVuSans-5f\"/>\n      <use x=\"119.482422\" xlink:href=\"#DejaVuSans-68\"/>\n      <use x=\"182.861328\" xlink:href=\"#DejaVuSans-61\"/>\n      <use x=\"244.140625\" xlink:href=\"#DejaVuSans-74\"/>\n     </g>\n    </g>\n   </g>\n   <g id=\"line2d_14\">\n    <path clip-path=\"url(#p6b79d7f512)\" d=\"M 65.640057 193.919783 \nL 66.657995 177.653617 \nL 67.675934 171.691619 \nL 68.693873 187.364291 \nL 69.711811 201.06578 \nL 70.72975 179.528606 \nL 71.747688 189.403002 \nL 72.765627 189.990495 \nL 73.783565 193.418162 \nL 74.801504 186.249071 \nL 75.819443 163.646187 \nL 76.837381 189.08373 \nL 77.85532 187.710148 \nL 78.873258 184.138308 \nL 79.891197 176.081165 \nL 80.909136 181.921871 \nL 81.927074 181.194996 \nL 82.945013 185.950425 \nL 83.962951 137.310472 \nL 84.98089 170.939913 \nL 85.998828 185.160568 \nL 87.016767 165.358233 \nL 88.034706 192.483226 \nL 89.052644 153.300521 \nL 90.070583 173.234393 \nL 91.088521 186.645654 \nL 92.10646 175.64859 \nL 93.124399 166.727221 \nL 94.142337 146.793582 \nL 95.160276 179.290086 \nL 96.178214 191.023422 \nL 97.196153 172.252494 \nL 98.214091 159.388155 \nL 99.23203 162.492833 \nL 100.249969 149.488019 \nL 101.267907 180.506099 \nL 102.285846 195.190576 \nL 103.303784 164.693835 \nL 105.339662 148.491192 \nL 106.3576 164.784001 \nL 107.375539 121.912308 \nL 108.393477 169.065423 \nL 109.411416 162.586973 \nL 110.429354 154.566073 \nL 111.447293 176.668488 \nL 113.48317 160.634621 \nL 114.501109 150.63515 \nL 115.519047 149.178777 \nL 116.536986 177.139792 \nL 117.554925 167.587702 \nL 118.572863 119.363416 \nL 120.60874 156.222918 \nL 121.626679 163.805593 \nL 122.644617 164.401943 \nL 123.662556 142.298548 \nL 124.680495 158.009013 \nL 125.698433 191.524477 \nL 126.716372 136.540504 \nL 127.73431 172.474888 \nL 128.752249 109.233511 \nL 129.770188 167.506566 \nL 130.788126 167.926439 \nL 132.824003 138.842411 \nL 133.841942 121.867817 \nL 134.85988 167.552193 \nL 135.877819 136.836254 \nL 136.895758 174.097282 \nL 137.913696 156.061475 \nL 138.931635 173.224783 \nL 139.949573 184.217393 \nL 140.967512 145.797844 \nL 143.003389 185.409698 \nL 144.021328 146.651098 \nL 145.039266 137.715156 \nL 146.057205 154.113448 \nL 147.075143 96.522373 \nL 149.111021 184.663247 \nL 151.146898 138.409298 \nL 152.164836 155.691564 \nL 153.182775 132.404338 \nL 154.200714 168.188041 \nL 155.218652 147.452064 \nL 156.236591 154.669554 \nL 157.254529 181.909522 \nL 158.272468 179.374063 \nL 159.290406 106.469673 \nL 160.308345 167.357173 \nL 161.326284 154.217163 \nL 162.344222 160.590726 \nL 163.362161 187.614727 \nL 164.380099 71.722616 \nL 165.398038 159.058378 \nL 166.415977 78.419282 \nL 167.433915 134.630846 \nL 168.451854 157.579195 \nL 169.469792 92.173985 \nL 170.487731 160.687393 \nL 171.505669 179.461537 \nL 172.523608 136.279442 \nL 173.541547 194.099421 \nL 174.559485 148.294993 \nL 175.577424 127.273034 \nL 176.595362 124.72605 \nL 177.613301 92.174923 \nL 178.63124 38.953015 \nL 179.649178 164.274902 \nL 180.667117 172.776277 \nL 181.685055 145.327089 \nL 182.702994 157.771147 \nL 183.720932 173.145829 \nL 184.738871 156.651676 \nL 185.75681 102.733313 \nL 186.774748 190.913531 \nL 187.792687 117.622646 \nL 188.810625 154.048322 \nL 189.828564 156.846905 \nL 190.846503 141.731609 \nL 191.864441 167.996848 \nL 192.88238 141.135359 \nL 193.900318 173.754909 \nL 194.918257 178.522327 \nL 195.936195 154.788569 \nL 196.954134 162.062614 \nL 197.972073 147.679499 \nL 198.990011 150.195096 \nL 200.00795 178.094276 \nL 201.025888 113.204732 \nL 202.043827 163.081056 \nL 203.061766 130.204146 \nL 204.079704 90.686046 \nL 205.097643 161.564693 \nL 206.115581 185.613991 \nL 207.13352 171.395153 \nL 208.151458 136.938248 \nL 209.169397 111.727347 \nL 210.187336 191.077785 \nL 211.205274 126.872306 \nL 212.223213 150.013891 \nL 213.241151 117.067933 \nL 214.25909 134.081487 \nL 215.277029 158.050271 \nL 216.294967 163.504983 \nL 217.312906 179.434354 \nL 218.330844 100.963633 \nL 220.366721 123.871102 \nL 221.38466 152.809494 \nL 222.402599 173.755502 \nL 223.420537 140.992836 \nL 224.438476 123.905937 \nL 225.456414 161.623288 \nL 226.474353 172.124333 \nL 227.492292 188.230512 \nL 228.51023 121.104378 \nL 230.546107 194.234698 \nL 231.564046 171.246435 \nL 232.581984 117.62917 \nL 233.599923 184.975085 \nL 234.617862 177.736285 \nL 235.6358 198.407809 \nL 236.653739 143.634778 \nL 237.671677 171.047264 \nL 238.689616 122.695622 \nL 239.707555 198.14536 \nL 240.725493 188.754271 \nL 241.743432 128.227826 \nL 242.76137 169.566972 \nL 243.779309 144.215275 \nL 244.797247 178.139656 \nL 245.815186 172.153819 \nL 246.833125 184.97498 \nL 247.851063 112.210003 \nL 248.869002 117.909371 \nL 249.88694 165.410738 \nL 250.904879 171.334993 \nL 251.922818 181.945245 \nL 252.940756 181.543659 \nL 253.958695 156.985714 \nL 254.976633 144.748075 \nL 255.994572 165.216154 \nL 257.01251 126.255338 \nL 258.030449 189.151137 \nL 259.048388 173.356281 \nL 260.066326 162.609058 \nL 261.084265 146.877237 \nL 262.102203 175.257282 \nL 263.120142 142.96217 \nL 264.138081 179.148261 \nL 265.156019 191.547242 \nL 266.173958 176.341796 \nL 267.191896 198.145448 \nL 268.209835 194.988449 \nL 269.227773 179.994079 \nL 270.245712 195.13743 \nL 271.263651 167.299587 \nL 272.281589 189.950805 \nL 273.299528 153.236509 \nL 274.317466 197.560464 \nL 275.335405 92.763736 \nL 276.353344 165.410738 \nL 277.371282 156.291807 \nL 278.389221 183.148814 \nL 279.407159 184.856967 \nL 280.425098 119.303077 \nL 281.443036 139.37641 \nL 282.460975 180.779779 \nL 283.478914 165.410738 \nL 284.496852 157.931532 \nL 285.514791 145.16151 \nL 286.532729 160.676662 \nL 287.550668 122.448491 \nL 288.568607 144.215388 \nL 289.586545 159.038435 \nL 290.604484 197.560499 \nL 291.622422 214.756364 \nL 292.640361 214.756364 \nL 293.658299 198.145405 \nL 294.676238 177.648348 \nL 295.694177 160.106338 \nL 296.712115 181.543643 \nL 297.730054 154.391234 \nL 298.747992 136.744671 \nL 299.765931 182.535588 \nL 301.801808 165.84566 \nL 302.819747 202.319621 \nL 303.837685 184.975059 \nL 304.855624 135.354925 \nL 305.873562 128.702402 \nL 306.891501 195.137509 \nL 307.90944 171.737765 \nL 308.927378 86.34795 \nL 309.945317 161.264247 \nL 310.963255 180.780037 \nL 311.981194 124.964392 \nL 312.999133 173.604051 \nL 314.017071 188.152761 \nL 315.03501 87.574078 \nL 316.052948 173.296376 \nL 317.070887 162.356414 \nL 318.088825 202.319621 \nL 319.106764 195.137368 \nL 320.124703 189.950805 \nL 321.142641 202.319621 \nL 322.16058 148.550509 \nL 323.178518 182.535647 \nL 324.196457 195.137449 \nL 325.214396 194.988519 \nL 326.232334 163.752893 \nL 327.250273 105.145794 \nL 328.268211 151.041795 \nL 329.28615 188.754249 \nL 330.304088 113.6383 \nL 331.322027 195.13746 \nL 332.339966 202.319621 \nL 333.357904 214.756364 \nL 334.375843 122.647216 \nL 335.393781 133.377861 \nL 336.41172 194.988466 \nL 337.429659 189.950805 \nL 338.447597 162.186117 \nL 339.465536 169.566948 \nL 340.483474 155.564815 \nL 341.501413 214.756364 \nL 342.519351 78.37319 \nL 343.53729 177.648348 \nL 344.555229 179.994079 \nL 345.573167 170.696257 \nL 346.591106 184.453115 \nL 347.609044 188.218092 \nL 348.626983 17.083636 \nL 349.644922 157.25373 \nL 350.66286 195.137443 \nL 351.680799 214.756364 \nL 352.698737 165.410738 \nL 353.716676 124.127438 \nL 354.734614 130.519771 \nL 355.752553 125.82099 \nL 356.770492 214.756364 \nL 357.78843 180.779608 \nL 358.806369 159.702651 \nL 359.824307 202.319621 \nL 360.842246 175.631014 \nL 361.860185 178.284527 \nL 362.878123 165.21627 \nL 363.896062 168.473883 \nL 364.914 203.95108 \nL 365.931939 195.13743 \nL 366.949877 153.236509 \nL 367.967816 189.950805 \nL 368.985755 156.152061 \nL 370.003693 202.319621 \nL 370.003693 202.319621 \n\" style=\"fill:none;stroke:#1f77b4;stroke-linecap:square;stroke-width:1.5;\"/>\n   </g>\n   <g id=\"patch_3\">\n    <path d=\"M 50.421875 224.64 \nL 50.421875 7.2 \n\" style=\"fill:none;stroke:#000000;stroke-linecap:square;stroke-linejoin:miter;stroke-width:0.8;\"/>\n   </g>\n   <g id=\"patch_4\">\n    <path d=\"M 385.221875 224.64 \nL 385.221875 7.2 \n\" style=\"fill:none;stroke:#000000;stroke-linecap:square;stroke-linejoin:miter;stroke-width:0.8;\"/>\n   </g>\n   <g id=\"patch_5\">\n    <path d=\"M 50.421875 224.64 \nL 385.221875 224.64 \n\" style=\"fill:none;stroke:#000000;stroke-linecap:square;stroke-linejoin:miter;stroke-width:0.8;\"/>\n   </g>\n   <g id=\"patch_6\">\n    <path d=\"M 50.421875 7.2 \nL 385.221875 7.2 \n\" style=\"fill:none;stroke:#000000;stroke-linecap:square;stroke-linejoin:miter;stroke-width:0.8;\"/>\n   </g>\n  </g>\n </g>\n <defs>\n  <clipPath id=\"p6b79d7f512\">\n   <rect height=\"217.44\" width=\"334.8\" x=\"50.421875\" y=\"7.2\"/>\n  </clipPath>\n </defs>\n</svg>\n",
      "image/png": "[encoded data removed]"
     },
     "metadata": {
      "needs_background": "light"
     }
    }
   ],
   "metadata": {}
  },
  {
   "cell_type": "markdown",
   "source": [
    "Some chains have `R_hat` larger than ones, which means they might not have converged within the 1000 samples that we had specified..."
   ],
   "metadata": {}
  },
  {
   "cell_type": "markdown",
   "source": [
    "## 6. Neural-Network Quantum State \n",
    "\n",
    "We now want to use a more sofisticated ansatz, based on a neural network representation of the wave function. At this point, this is quite straightforward, since we can again take advantage of automatic differentiation. \n",
    "\n",
    "Let us define a simple fully-connected feed-forward network with a ReLu activation function and a sum layer. "
   ],
   "metadata": {}
  },
  {
   "cell_type": "code",
   "execution_count": 19,
   "source": [
    "class FFN(nn.Module):\n",
    "    \n",
    "    # You can define attributes at the module-level\n",
    "    # with a default. This allows you to easily change\n",
    "    # some hyper-parameter without redefining the whole \n",
    "    # flax module.\n",
    "    alpha : int = 1\n",
    "            \n",
    "    @nn.compact\n",
    "    def __call__(self, x):\n",
    "\n",
    "        # here we construct the first dense layer using a\n",
    "        # pre-built implementation in flax.\n",
    "        # features is the number of output nodes\n",
    "        # WARNING: Won't work with complex hamiltonians because\n",
    "        # of a bug in flax. Use nk.nn.Dense otherwise. \n",
    "        dense = nn.Dense(features=self.alpha * x.shape[-1])\n",
    "        \n",
    "        # we apply the dense layer to the input\n",
    "        y = dense(x)\n",
    "\n",
    "        # the non-linearity is a simple ReLu\n",
    "        y = nn.relu(y)\n",
    "        \n",
    "        # sum the output\n",
    "        return jnp.sum(y, axis=-1)\n",
    "    \n",
    "model = FFN(alpha=1)\n",
    "\n",
    "vstate = nk.vqs.MCState(sampler, model, n_samples=1000)"
   ],
   "outputs": [],
   "metadata": {}
  },
  {
   "cell_type": "markdown",
   "source": [
    "*Warning*: Flax has a bug with its layers, where they drop the imaginary part\n",
    "of complex numbers if the layer has real weights.\n",
    "This is not a problem in the above example, but if you try to work on more complex\n",
    "problems where you work with complex numbers you should rather use the equivalent \n",
    "`nk.nn.Dense` which contains a fix for this bug."
   ],
   "metadata": {}
  },
  {
   "cell_type": "markdown",
   "source": [
    "We then proceed to the optimization as before. "
   ],
   "metadata": {}
  },
  {
   "cell_type": "code",
   "execution_count": 20,
   "source": [
    "optimizer = nk.optimizer.Sgd(learning_rate=0.1)\n",
    "\n",
    "# Notice the use, again of Stochastic Reconfiguration, which considerably improves the optimisation\n",
    "gs = nk.driver.VMC(H, optimizer, variational_state=vstate,preconditioner=nk.optimizer.SR(diag_shift=0.1))\n",
    "\n",
    "log=nk.logging.RuntimeLog()\n",
    "gs.run(n_iter=300,out=log)\n",
    "\n",
    "ffn_energy=vstate.expect(H)\n",
    "error=abs((ffn_energy.mean-eig_vals[0])/eig_vals[0])\n",
    "print(\"Optimized energy and relative error: \",ffn_energy,error)"
   ],
   "outputs": [
    {
     "output_type": "stream",
     "name": "stderr",
     "text": [
      "100%|███████████████████████████████████████████████████████████████████████████████████████████████| 300/300 [00:08<00:00, 33.98it/s, Energy=-25.480 ± 0.011 [σ²=0.118, R̂=0.9995]]\n"
     ]
    },
    {
     "output_type": "stream",
     "name": "stdout",
     "text": [
      "Optimized energy and relative error:  -25.501 ± 0.012 [σ²=0.150, R̂=0.9964] 0.000406655916988611\n"
     ]
    }
   ],
   "metadata": {}
  },
  {
   "cell_type": "markdown",
   "source": [
    "And we can compare the results between the two different ansatze:"
   ],
   "metadata": {}
  },
  {
   "cell_type": "code",
   "execution_count": 21,
   "source": [
    "data_FFN = log.data\n",
    "\n",
    "plt.errorbar(data_jastrow[\"Energy\"].iters, data_jastrow[\"Energy\"].Mean, yerr=data_jastrow[\"Energy\"].Sigma, label=\"Jastrow\")\n",
    "plt.errorbar(data_FFN[\"Energy\"].iters, data_FFN[\"Energy\"].Mean, yerr=data_FFN[\"Energy\"].Sigma, label=\"FFN\")\n",
    "plt.hlines([E_gs], xmin=0, xmax=300, color='black', label=\"Exact\")\n",
    "plt.legend()\n",
    "\n",
    "plt.xlabel('Iterations')\n",
    "plt.ylabel('Energy')"
   ],
   "outputs": [
    {
     "output_type": "execute_result",
     "data": {
      "text/plain": [
       "Text(0, 0.5, 'Energy')"
      ]
     },
     "metadata": {},
     "execution_count": 21
    },
    {
     "output_type": "display_data",
     "data": {
      "text/plain": [
       "<Figure size 432x288 with 1 Axes>"
      ],
      "image/png": "[encoded data removed]"
     },
     "metadata": {
      "needs_background": "light"
     }
    }
   ],
   "metadata": {}
  },
  {
   "cell_type": "markdown",
   "source": [
    "## 7. Translation Symmetry \n",
    "\n",
    "In order to enforce spatial symmetries we can use some built-in functionalities of NetKet, in conjunction with equivariant layers. \n",
    "\n",
    "The first step is to construct explicitly a graph that contains the edges of our interactions, in this case this is a simple chain with periodic boundaries. NetKet has builtin several symmetry groups that can be used to target specific spatial symmetries. In this case for example after constructing the graph we can also print its translation group. \n"
   ],
   "metadata": {}
  },
  {
   "cell_type": "code",
   "execution_count": 22,
   "source": [
    "graph=nk.graph.Chain(length=N, pbc=True)\n",
    "\n",
    "print(graph.translation_group())"
   ],
   "outputs": [
    {
     "output_type": "stream",
     "name": "stdout",
     "text": [
      "PermutationGroup(elems=[Id(), Translation([1]), Translation([2]), Translation([3]), Translation([4]), Translation([5]), Translation([6]), Translation([7]), Translation([8]), Translation([9]), Translation([10]), Translation([11]), Translation([12]), Translation([13]), Translation([14]), Translation([15]), Translation([16]), Translation([17]), Translation([18]), Translation([19])], degree=20)\n"
     ]
    }
   ],
   "metadata": {}
  },
  {
   "cell_type": "markdown",
   "source": [
    "Graphs are in general quite handy when defining hamiltonian terms on their edges. For example we can define our Hamiltonian as "
   ],
   "metadata": {}
  },
  {
   "cell_type": "code",
   "execution_count": 23,
   "source": [
    "Gamma=-1\n",
    "H = sum([Gamma*sigmax(hi,i) for i in range(N)])\n",
    "\n",
    "V=-1\n",
    "H += sum([V*sigmaz(hi,i)*sigmaz(hi,j) for (i,j) in graph.edges()])"
   ],
   "outputs": [],
   "metadata": {}
  },
  {
   "cell_type": "markdown",
   "source": [
    "We now write a model with an invariant transformation given by the translation group. Notice that we will now use NetKet's own ```nn``` module, instead of Flax, since it contains several additions and also an extended and seamless support for complex layers/parameters.  "
   ],
   "metadata": {}
  },
  {
   "cell_type": "code",
   "execution_count": 24,
   "source": [
    "import netket.nn as nknn\n",
    "\n",
    "class SymmModel(nn.Module):\n",
    "    alpha: int\n",
    "\n",
    "    @nn.compact\n",
    "    def __call__(self, x):\n",
    "        \n",
    "        x = nknn.DenseSymm(symmetries=graph.translation_group(),\n",
    "                           features=self.alpha,\n",
    "                           kernel_init=nk.nn.initializers.normal(stddev=0.01))(x)\n",
    "        x = nn.relu(x)\n",
    "\n",
    "        # sum the output\n",
    "        return jnp.sum(x,axis=(-1,-2))\n",
    "\n",
    "\n",
    "sampler = nk.sampler.MetropolisLocal(hi)\n",
    "\n",
    "#Let us define a model with 4 features per symmetry\n",
    "model=SymmModel(alpha=4)\n",
    "\n",
    "vstate = nk.vqs.MCState(sampler, model, n_samples=1000)\n",
    "\n",
    "vstate.n_parameters"
   ],
   "outputs": [
    {
     "output_type": "execute_result",
     "data": {
      "text/plain": [
       "84"
      ]
     },
     "metadata": {},
     "execution_count": 24
    }
   ],
   "metadata": {}
  },
  {
   "cell_type": "markdown",
   "source": [
    "As it can be seen, the number of parameters of this model is greatly reduced, because of the symmetries that impose constraints on the weights of the dense layers. We can now optimize the model, using a few more optimization steps than before.  "
   ],
   "metadata": {}
  },
  {
   "cell_type": "code",
   "execution_count": 25,
   "source": [
    "optimizer = nk.optimizer.Sgd(learning_rate=0.1)\n",
    "\n",
    "gs = nk.driver.VMC(H, optimizer, variational_state=vstate,preconditioner=nk.optimizer.SR(diag_shift=0.1))\n",
    "\n",
    "log=nk.logging.RuntimeLog()\n",
    "gs.run(n_iter=600,out=log)\n",
    "\n",
    "symm_energy=vstate.expect(H)\n",
    "error=abs((symm_energy.mean-eig_vals[0])/eig_vals[0])\n",
    "print(\"Optimized energy and relative error: \",symm_energy,error)"
   ],
   "outputs": [
    {
     "output_type": "stream",
     "name": "stderr",
     "text": [
      "100%|████████████████████████████████████████████████████████████████████████████████████████████| 600/600 [00:30<00:00, 19.58it/s, Energy=-25.4888 ± 0.0014 [σ²=0.0020, R̂=1.0006]]\n"
     ]
    },
    {
     "output_type": "stream",
     "name": "stdout",
     "text": [
      "Optimized energy and relative error:  -25.4910 ± 0.0015 [σ²=0.0024, R̂=1.0010] 1.8086847978220319e-06\n"
     ]
    }
   ],
   "metadata": {}
  },
  {
   "cell_type": "code",
   "execution_count": 26,
   "source": [
    "plt.errorbar(log.data[\"Energy\"].iters[50:],log.data[\"Energy\"].Mean[50:],yerr=log.data[\"Energy\"].Sigma[50:],label=\"SymmModel\")\n",
    "\n",
    "plt.axhline(y=eig_vals[0], xmin=0, xmax=log.data[\"Energy\"].iters[-1], linewidth=2, color=\"k\", label=\"Exact\")\n",
    "plt.xlabel('Iterations')\n",
    "plt.ylabel('Energy')\n",
    "plt.legend(frameon=False)"
   ],
   "outputs": [
    {
     "output_type": "execute_result",
     "data": {
      "text/plain": [
       "<matplotlib.legend.Legend at 0x147d05dc0>"
      ]
     },
     "metadata": {},
     "execution_count": 26
    },
    {
     "output_type": "display_data",
     "data": {
      "text/plain": [
       "<Figure size 432x288 with 1 Axes>"
      ],
      "image/png": "[encoded data removed]"
     },
     "metadata": {
      "needs_background": "light"
     }
    }
   ],
   "metadata": {}
  },
  {
   "cell_type": "markdown",
   "source": [
    "## 8. Measuring Other Properties\n",
    "\n",
    "Once the model has been optimized, we can of course measure also other observables that are not the energy. For example, we could decide to measure the value of the nearest-neighbor $X-X$ correlator. \n",
    "Notice that since correlators do not enjoy the zero-variance principle as the Hamiltonian instead does, it is important to use a larger number of samples to have a sufficiently low error bar on their measurement. \n"
   ],
   "metadata": {}
  },
  {
   "cell_type": "code",
   "execution_count": 27,
   "source": [
    "corr = sum([sigmax(hi,i)*sigmax(hi,j) for (i,j) in graph.edges()])"
   ],
   "outputs": [],
   "metadata": {}
  },
  {
   "cell_type": "code",
   "execution_count": 28,
   "source": [
    "vstate.n_samples=400000"
   ],
   "outputs": [],
   "metadata": {}
  },
  {
   "cell_type": "code",
   "execution_count": 29,
   "source": [
    "vstate.expect(corr)"
   ],
   "outputs": [
    {
     "output_type": "execute_result",
     "data": {
      "text/plain": [
       "10.858 ± 0.018 [σ²=31.582, R̂=1.0000]"
      ]
     },
     "metadata": {},
     "execution_count": 29
    }
   ],
   "metadata": {}
  },
  {
   "cell_type": "markdown",
   "source": [
    "And we can further compare this to the exact ED result. "
   ],
   "metadata": {}
  },
  {
   "cell_type": "code",
   "execution_count": 30,
   "source": [
    "psi = eig_vecs[:, 0]\n",
    "exact_corr=psi@(corr.to_sparse()@psi)\n",
    "print(exact_corr)"
   ],
   "outputs": [
    {
     "output_type": "stream",
     "name": "stdout",
     "text": [
      "10.85224871312767\n"
     ]
    }
   ],
   "metadata": {}
  },
  {
   "cell_type": "markdown",
   "source": [
    "## 9. Learning the Phase of the Wave Function\n",
    "\n",
    "In the examples shown before we have ignored completely the phase of the wave function, since we were working with a Hamiltonian whose ground-state has a definite sign. \n",
    "We now generalize the previous discussion and study a model, the Heisenberg model\n",
    "\n",
    "$$ \\mathcal{H}= J\\sum_{i}\\vec{\\sigma}_{i}\\cdot \\vec{\\sigma}_{i+1}^. $$\n",
    "\n",
    "that has a non-trivial sign structure for the ground state. \n",
    "\n",
    "Training models with a phase is significantly less trivial than optimizing phaseless models, thus we will adopt here a heuristic approximation approach that has proven quite robust. What we will do here is that we will train the model using different (and time-dependent) learning rates for the phase and modulus parts of the wave function. The learning schedule rate is chosen in such as way that in the firs stages we will optimize mostly only the phase, while leaving the amplitude more or less constant. The schedule then will ramp up the learning rate for the amplitude and we will optimize everything at the same time. \n",
    "\n",
    "For the moment, we start defining our Hamiltonian (with $J=1$), and we also focus on the sector with vanishing total spin, since we know that the ground state is in this sector :  "
   ],
   "metadata": {}
  },
  {
   "cell_type": "code",
   "execution_count": 31,
   "source": [
    "# We define an hilbert space for N spins with total magnetization fixed at 0.\n",
    "hi = nk.hilbert.Spin(s=1 / 2, N=N, total_sz=0)\n",
    "\n",
    "from netket.operator.spin import sigmax, sigmaz, sigmay\n",
    "\n",
    "graph = nk.graph.Chain(length=N, pbc=True)\n",
    "\n",
    "def exchange(i, j):\n",
    "    return (\n",
    "        sigmax(hi, i) * sigmax(hi, j)\n",
    "        + sigmay(hi, i) * sigmay(hi, j)\n",
    "        + sigmaz(hi, i) * sigmaz(hi, j)\n",
    "    )\n",
    "\n",
    "\n",
    "H = sum([exchange(i, j) for (i, j) in graph.edges()])"
   ],
   "outputs": [],
   "metadata": {}
  },
  {
   "cell_type": "markdown",
   "source": [
    "Since we fixed the magnetization, random states generated by the hilbert space will \n",
    "have 0 magnetization. See below:"
   ],
   "metadata": {}
  },
  {
   "cell_type": "code",
   "execution_count": 35,
   "source": [
    "import jax \n",
    "\n",
    "v = hi.random_state(jax.random.PRNGKey(0), (2,))\n",
    "\n",
    "print(\"The total magnetization for those two states are: \", v.sum(axis=-1))"
   ],
   "outputs": [
    {
     "output_type": "stream",
     "name": "stdout",
     "text": [
      "The total magnetization for those two states are:  [0. 0.]\n"
     ]
    }
   ],
   "metadata": {}
  },
  {
   "cell_type": "markdown",
   "source": [
    "As before, we also compute the exact energy, for future benchmarking. "
   ],
   "metadata": {}
  },
  {
   "cell_type": "code",
   "execution_count": 36,
   "source": [
    "sp_h = H.to_sparse().real\n",
    "\n",
    "from scipy.sparse.linalg import eigsh\n",
    "import numpy as np\n",
    "\n",
    "print(\"diagonalizing...\")\n",
    "eig_vals = np.sort(eigsh(sp_h, k=4, which=\"SA\", return_eigenvectors=False, tol=1.0e-8))\n",
    "\n",
    "print(\"eigenvalues with scipy sparse:\", eig_vals)"
   ],
   "outputs": [
    {
     "output_type": "stream",
     "name": "stdout",
     "text": [
      "diagonalizing...\n",
      "eigenvalues with scipy sparse: [-35.61754612 -34.74576394 -34.21753829 -33.63032594]\n"
     ]
    }
   ],
   "metadata": {}
  },
  {
   "cell_type": "markdown",
   "source": [
    "We then define a symmetric neural network model as before, but this time we also allow for another real-valued network that represents the phase: "
   ],
   "metadata": {}
  },
  {
   "cell_type": "code",
   "execution_count": 40,
   "source": [
    "import flax.linen as nn\n",
    "import netket.nn as nknn\n",
    "import jax.numpy as jnp\n",
    "\n",
    "class FullModel(nn.Module):\n",
    "\n",
    "    alpha: int\n",
    "\n",
    "    @nn.compact\n",
    "    def __call__(self, x):\n",
    "        \n",
    "        # We use a symmetrized dense layer, and the symmetries are given\n",
    "        # by the translational group on our lattice\n",
    "        rho = nknn.DenseSymm(\n",
    "            symmetries=graph.translation_group(),\n",
    "            features=self.alpha,\n",
    "            dtype=float,\n",
    "            kernel_init=nn.initializers.normal(stddev=0.001),\n",
    "            name=\"Modulus\"\n",
    "        )(x)\n",
    "        rho = nn.relu(rho)\n",
    "        \n",
    "        # We use nknn.Dense and not nn.Dense because the latter has a bug\n",
    "        # with complex number inputs\n",
    "        phase= nknn.Dense(\n",
    "            features=self.alpha*N,\n",
    "            dtype=float,\n",
    "            kernel_init=nn.initializers.normal(stddev=0.001),\n",
    "            name=\"Phase\"\n",
    "        )(x)\n",
    "        phase = nn.relu(phase)\n",
    "\n",
    "        return jnp.sum(rho, axis=(-1, -2)) + 1.0j*jnp.sum(phase, axis=(-1))"
   ],
   "outputs": [],
   "metadata": {}
  },
  {
   "cell_type": "markdown",
   "source": [
    "We then construct a suitable Variational State, using this model (with the phase only, for the moment) and also a sampler that preserves the total magnetization. For the latter, we will use a MCMC sampler that exchanges spins at random, thus preserving the total magnetization. "
   ],
   "metadata": {}
  },
  {
   "cell_type": "code",
   "execution_count": 42,
   "source": [
    "model = FullModel(alpha=4)\n",
    "\n",
    "# MetropolisLocal does not conserve the total magnetization of the states initially imposed by\n",
    "# the hilbert space. MetropolisExchange, instead, exchanges the population at two sites so \n",
    "# it does.\n",
    "sampler = nk.sampler.MetropolisExchange(hi, graph=graph)\n",
    "\n",
    "vstate = nk.vqs.MCState(sampler, model, n_samples=1000)"
   ],
   "outputs": [],
   "metadata": {}
  },
  {
   "cell_type": "markdown",
   "source": [
    "We then proceed to the optimization of the phase only. This is achieved the scheduling functionalities of  ```optax```, the optimization library that is fully compatible with NetKet. Notice that here we start with zero learning rate for the modulus and fintie learning rate for the phase. "
   ],
   "metadata": {}
  },
  {
   "cell_type": "code",
   "execution_count": 47,
   "source": [
    "import optax,flax\n",
    "\n",
    "# A linear schedule varies the learning rate from 0 to 0.01 across 600 steps.\n",
    "modulus_schedule=optax.linear_schedule(0,0.01,600)\n",
    "\n",
    "# The phase starts with a larger learning rate and then is decreased.\n",
    "phase_schedule=optax.linear_schedule(0.05,0.01,600)\n",
    "\n",
    "# Combine the linear schedule with SGD\n",
    "optm=optax.sgd(modulus_schedule)\n",
    "optp=optax.sgd(phase_schedule)\n",
    "\n",
    "# The multi-transform optimizer uses different optimisers for different parts of the\n",
    "# parameters.\n",
    "optimizer = optax.multi_transform({'o1': optm, 'o2': optp}, \n",
    "                flax.core.freeze({\"Modulus\":\"o1\", \"Phase\":\"o2\"}))"
   ],
   "outputs": [],
   "metadata": {}
  },
  {
   "cell_type": "markdown",
   "source": [
    "We then use this advanced optimizer as usual in our VMC code. "
   ],
   "metadata": {}
  },
  {
   "cell_type": "code",
   "execution_count": 45,
   "source": [
    "gs = nk.driver.VMC(\n",
    "    H,\n",
    "    optimizer,\n",
    "    variational_state=vstate,\n",
    "    preconditioner=nk.optimizer.SR(diag_shift=0.1)\n",
    ")\n",
    "\n",
    "log = nk.logging.RuntimeLog()\n",
    "gs.run(n_iter=600, out=log)"
   ],
   "outputs": [
    {
     "output_type": "stream",
     "name": "stderr",
     "text": [
      "100%|████████████████████████████████████████████████████████████████████████████████████████| 600/600 [01:10<00:00,  8.47it/s, Energy=-35.610-0.000j ± 0.011 [σ²=0.120, R̂=0.9977]]\n"
     ]
    },
    {
     "output_type": "execute_result",
     "data": {
      "text/plain": [
       "(<netket.logging.runtime_log.RuntimeLog at 0x1487fc910>,)"
      ]
     },
     "metadata": {},
     "execution_count": 45
    }
   ],
   "metadata": {}
  },
  {
   "cell_type": "code",
   "execution_count": 46,
   "source": [
    "symm_energy=vstate.expect(H)\n",
    "error=abs((symm_energy.mean-eig_vals[0])/eig_vals[0])\n",
    "print(\"Optimized energy and relative error: \",symm_energy,error)\n",
    "\n",
    "\n",
    "from matplotlib import pyplot as plt\n",
    "plt.errorbar(log.data[\"Energy\"].iters,log.data[\"Energy\"].Mean.real,yerr=log.data[\"Energy\"].Sigma,label=\"FullModel\")\n",
    "plt.axhline(y=eig_vals[0], xmin=0, xmax=log.data[\"Energy\"].iters[-1], linewidth=2, color=\"k\", label=\"Exact\")\n",
    "plt.xlabel('Iterations')\n",
    "plt.ylabel('Energy')\n",
    "plt.legend(frameon=False)"
   ],
   "outputs": [
    {
     "output_type": "stream",
     "name": "stdout",
     "text": [
      "Optimized energy and relative error:  -35.600+0.001j ± 0.010 [σ²=0.104, R̂=1.0037] 0.0005007882608163399\n"
     ]
    },
    {
     "output_type": "execute_result",
     "data": {
      "text/plain": [
       "<matplotlib.legend.Legend at 0x149456700>"
      ]
     },
     "metadata": {},
     "execution_count": 46
    },
    {
     "output_type": "display_data",
     "data": {
      "text/plain": [
       "<Figure size 432x288 with 1 Axes>"
      ],
      "image/png": "[encoded data removed]"
     },
     "metadata": {
      "needs_background": "light"
     }
    }
   ],
   "metadata": {}
  },
  {
   "cell_type": "code",
   "execution_count": null,
   "source": [],
   "outputs": [],
   "metadata": {}
  }
 ],
 "metadata": {
  "kernelspec": {
   "name": "python3",
   "display_name": "Python 3.9.6 64-bit ('netket': conda)"
  },
  "language_info": {
   "codemirror_mode": {
    "name": "ipython",
    "version": 3
   },
   "file_extension": ".py",
   "mimetype": "text/x-python",
   "name": "python",
   "nbconvert_exporter": "python",
   "pygments_lexer": "ipython3",
   "version": "3.9.6"
  },
  "interpreter": {
   "hash": "6af1ff007a635e245b448dcbef332223f87a99a2750ef372d5ae20a823277492"
  }
 },
 "nbformat": 4,
 "nbformat_minor": 5
}