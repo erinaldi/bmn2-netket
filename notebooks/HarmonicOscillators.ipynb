{
 "cells": [
  {
   "cell_type": "markdown",
   "metadata": {},
   "source": [
    "# Ground-State Variational Search with NetKet for a FREE Bosonic Matrix Model\n",
    "\n",
    "Enrico Rinaldi, March 1, 2022 \n",
    "\n",
    "In this Tutorial we will use the open-source package [NetKet](https://www.netket.org/) to find the ground state (in a variational sense) of a quantum mechanical system of matrices, which can be seen as a chain of harmonic oscillators.\n",
    "This system is referred to as a free bosonic matrix model and was studied in [this PRX Quantum paper](https://journals.aps.org/prxquantum/abstract/10.1103/PRXQuantum.3.010324).\n",
    "For this introductory tutorial we set the coupling constant to zero, reducing the system to a set of un-coupled harmonic oscillators. \n",
    "\n",
    "Specifically, we will study the system defined by the Hamiltonian: \n",
    "\n",
    "$$ \\hat{H} = {\\rm Tr}\\left(\\frac{1}{2}\\hat{P}_I^2+\\frac{m^2}{2}\\hat{X}_I^2\\right) $$\n",
    "\n",
    "where \n",
    "$$\\hat{P}_I=\\sum_{\\alpha=1}^{N^2-1}\\hat{P}_I^\\alpha\\tau_\\alpha$$\n",
    "\n",
    "and\n",
    "\n",
    "$$\\hat{X}_I=\\sum_{\\alpha=1}^{N^2-1}\\hat{X}_I^\\alpha\\tau_\\alpha$$\n",
    "\n",
    "for a SU(N) gauge group with $N^2-1$ generators."
   ]
  },
  {
   "cell_type": "markdown",
   "metadata": {},
   "source": [
    "## 0. Installing Netket \n",
    "\n",
    "Installing NetKet is relatively straightforward. For this Tutorial, if you are running it locally on your machine, we recommend that you create a clean virtual environment (e.g. with `conda`) and install NetKet within (using `pip`): \n",
    "\n",
    "```bash\n",
    "conda create --name netket python pip ipython\n",
    "conda activate netket\n",
    "pip install --upgrade netket\n",
    "```\n",
    "\n",
    "**If you are on Google Colab**, run the following cell to install the required packages."
   ]
  },
  {
   "cell_type": "code",
   "execution_count": null,
   "metadata": {},
   "outputs": [],
   "source": [
    "!pip install --upgrade netket"
   ]
  },
  {
   "cell_type": "markdown",
   "metadata": {},
   "source": [
    "You can check that the installation was succesfull doing "
   ]
  },
  {
   "cell_type": "code",
   "execution_count": 1,
   "metadata": {},
   "outputs": [],
   "source": [
    "import netket as nk"
   ]
  },
  {
   "cell_type": "markdown",
   "metadata": {},
   "source": [
    "You should also check that your version of netket is at least 3.0"
   ]
  },
  {
   "cell_type": "code",
   "execution_count": 2,
   "metadata": {},
   "outputs": [
    {
     "name": "stdout",
     "output_type": "stream",
     "text": [
      "NetKet version: 3.3.2.post2\n"
     ]
    }
   ],
   "source": [
    "print(f\"NetKet version: {nk.__version__}\")"
   ]
  },
  {
   "cell_type": "code",
   "execution_count": 4,
   "id": "0c7e10ff",
   "metadata": {},
   "outputs": [
    {
     "name": "stdout",
     "output_type": "stream",
     "text": [
      "====================================================\n",
      "==         NetKet Diagnostic Informations         ==\n",
      "====================================================\n",
      "NetKet version       : 3.3.2.post2\n",
      "\n",
      "# Python\n",
      "  - implementation   : CPython\n",
      "  - version          : 3.9.6\n",
      "  - distribution     : GCC 7.5.0\n",
      "  - path             : /home/enrico/miniconda3/envs/netket/bin/python\n",
      "\n",
      "# Host informations\n",
      "  - System           : Linux-5.13.0-30-generic-x86_64-with-glibc2.31\n",
      "  - Architecture     : x86_64\n",
      "  - AVX              : True\n",
      "  - AVX2             : True\n",
      "  - Cores            : 12\n",
      "\n",
      "# NetKet dependencies\n",
      "  - numpy            : 1.20.3\n",
      "  - jaxlib           : 0.3.0\n",
      "  - jax              : 0.3.1\n",
      "  - flax             : 0.4.0\n",
      "  - optax            : 0.1.1\n",
      "  - numba            : 0.54.0\n",
      "  - mpi4py           : unavailable\n",
      "  - mpi4jax          : unavailable\n",
      "  - netket           : 3.3.2.post2\n",
      "\n",
      "# Jax \n",
      "WARNING:absl:No GPU/TPU found, falling back to CPU. (Set TF_CPP_MIN_LOG_LEVEL=0 and rerun for more info.)\n",
      "  - backends         : ['cpu']\n",
      "    - cpu            : ['<0: cpu>']\n",
      "\n"
     ]
    }
   ],
   "source": [
    "!python -m netket.tools.info"
   ]
  },
  {
   "cell_type": "code",
   "execution_count": 5,
   "metadata": {},
   "outputs": [],
   "source": [
    "import numpy as np\n",
    "import matplotlib.pyplot as plt"
   ]
  },
  {
   "cell_type": "markdown",
   "metadata": {},
   "source": [
    "## 1. Defining The Hamiltonian\n",
    "\n",
    "The first step in our journey consists in defining the Hamiltonian we are interested in. \n",
    "For this purpose, we first need to define the kind of degrees of freedom we are dealing with (i.e. if we have spins, bosons, fermions etc). This is done specifying the Hilbert space of the problem.\n",
    "\n",
    "For our problem we focus on the gauge group SU(2), which will determine the total number of bosons to be $N^2-1 = 3$ for each matrix. We will focus on 2 matrices, for a total of 6 bosonic degrees of freedom.\n",
    "\n",
    "We also need to decide a cutoff for the Fock space of each boson $\\Lambda$.\n",
    "\n",
    "(We are also setting the mass $m$ parameter to 1. The Hamiltonian is then a simple sum over harmonic oscillators with unit frequency $\\omega_i=1$)"
   ]
  },
  {
   "cell_type": "markdown",
   "metadata": {},
   "source": [
    "### 1.1 The Hilbert space"
   ]
  },
  {
   "cell_type": "markdown",
   "metadata": {},
   "source": [
    "Our degrees of freedom can be exchanged without changing the Hamiltonian (it is a sum of all the terms, thus symmetric under exchange). \n",
    "We can use the graph functionalities of `netket` (which are originally designed for spatial symmetries) to build the Hilbert space corresponding to our system.\n",
    "\n",
    "If we consider $N$ bosonic sites, with an exchange symmetry (permutation), we can write them down as a set (a graph with nodes and no edges)"
   ]
  },
  {
   "cell_type": "code",
   "execution_count": 6,
   "metadata": {},
   "outputs": [
    {
     "name": "stdout",
     "output_type": "stream",
     "text": [
      "Number of sites: 6\n"
     ]
    }
   ],
   "source": [
    "N = 6  # number of bosons \n",
    "\n",
    "# graph with no edges\n",
    "sites = nk.graph.Edgeless(list(range(N)))\n",
    "\n",
    "print(f\"Number of sites: {sites.n_nodes}\")"
   ]
  },
  {
   "cell_type": "markdown",
   "metadata": {},
   "source": [
    "Graphs have a built-in methods to inspect their symmetries (for a permutation group with 6 elements this should be $6!=6\\cdot5\\cdot4\\cdot3\\cdot2=720$)"
   ]
  },
  {
   "cell_type": "code",
   "execution_count": 7,
   "metadata": {},
   "outputs": [
    {
     "name": "stdout",
     "output_type": "stream",
     "text": [
      "Nmber of permutations: 720\n"
     ]
    }
   ],
   "source": [
    "symmetries = sites.automorphisms()\n",
    "print(f\"Nmber of permutations: {len(symmetries)}\")"
   ]
  },
  {
   "cell_type": "markdown",
   "metadata": {},
   "source": [
    "We then construct the Hilbert space (we could use the graph but for `Fock` spaces this is deprecated in `netket` v3.0)"
   ]
  },
  {
   "cell_type": "code",
   "execution_count": 8,
   "metadata": {},
   "outputs": [],
   "source": [
    "Lambda = 4  # cutoff of each bosonic Fock space\n",
    "\n",
    "hi = nk.hilbert.Fock(n_max=Lambda-1, N=N)  # n_max -> Maximum occupation for a site (inclusive)"
   ]
  },
  {
   "cell_type": "markdown",
   "metadata": {},
   "source": [
    "Test if the space is constructed as we expected.\n",
    "We want each of the $N$ bosons to have up to $\\Lambda$ excitations: the total Hilbert space is the tensor product of $N$ individual Fock spaces of dimension $\\Lambda$ for a total size of $\\Lambda^N = 4^6 = 4096$."
   ]
  },
  {
   "cell_type": "code",
   "execution_count": 9,
   "metadata": {},
   "outputs": [
    {
     "data": {
      "text/plain": [
       "(4, 4, 4, 4, 4, 4)"
      ]
     },
     "execution_count": 9,
     "metadata": {},
     "output_type": "execute_result"
    }
   ],
   "source": [
    "# The size of the hilbert space on every site.\n",
    "hi.shape"
   ]
  },
  {
   "cell_type": "code",
   "execution_count": 10,
   "metadata": {},
   "outputs": [
    {
     "data": {
      "text/plain": [
       "6"
      ]
     },
     "execution_count": 10,
     "metadata": {},
     "output_type": "execute_result"
    }
   ],
   "source": [
    "# The total number number of degrees of freedom.\n",
    "hi.size"
   ]
  },
  {
   "cell_type": "code",
   "execution_count": 11,
   "metadata": {},
   "outputs": [
    {
     "data": {
      "text/plain": [
       "4096"
      ]
     },
     "execution_count": 11,
     "metadata": {},
     "output_type": "execute_result"
    }
   ],
   "source": [
    "# The total dimension of the many-body Hilbert space\n",
    "hi.n_states"
   ]
  },
  {
   "cell_type": "markdown",
   "metadata": {},
   "source": [
    "We have checked that all the dimensions correspond to our expectations. We can think of this as the Hilbert state of a many-body system with $N$ sites of bosons, each with excitations up to level $\\Lambda$ (inclusive, starting from 0 to $\\Lambda-1$)."
   ]
  },
  {
   "cell_type": "markdown",
   "metadata": {},
   "source": [
    "### 1.2 The free Hamiltonian\n",
    "\n",
    "We now need to specify the Hamiltonian.\n",
    "We will use some predefined operators for bosons, such as the `create` and `destroy` operators for each boson in the Hilber state (see the API documentation [here](https://www.netket.org/docs/api.html#pre-defined-operators)).\n",
    "\n",
    "In this specifc case, $\\hat{a}^\\dagger_I$ and $\\hat{a}_I$ for each boson $I$ (we can regard this index as the _site_ index in `netket`).\n",
    "\n"
   ]
  },
  {
   "cell_type": "code",
   "execution_count": 12,
   "metadata": {},
   "outputs": [],
   "source": [
    "from netket.operator.boson import create, destroy"
   ]
  },
  {
   "cell_type": "markdown",
   "metadata": {},
   "source": [
    "We define the free part of the Hamiltonian, which is just a collection of harmonic oscillators.\n",
    "Instead of using the `nk.operator.GraphOperator`, where we need to pass the Hilbert space, the graph structure, and a list of operators for each site and edge (if present), we simply use a `LocalOperator`.\n",
    "In fact, we only have site operators, which are the _number_ operator for each boson (harmonic oscillator), summed over all sites.\n"
   ]
  },
  {
   "cell_type": "code",
   "execution_count": 13,
   "metadata": {},
   "outputs": [],
   "source": [
    "# we loop over all \"sites\" -> loop over N bosons\n",
    "H = sum([0.5+create(hi,i)*destroy(hi,i) for i in range(N)])"
   ]
  },
  {
   "cell_type": "code",
   "execution_count": 14,
   "metadata": {},
   "outputs": [
    {
     "data": {
      "text/plain": [
       "LocalOperator(dim=6, acting_on=[[0], [1], [2], [3], [4], [5]], constant=3.0, dtype=float64)"
      ]
     },
     "execution_count": 14,
     "metadata": {},
     "output_type": "execute_result"
    }
   ],
   "source": [
    "H"
   ]
  },
  {
   "cell_type": "markdown",
   "metadata": {},
   "source": [
    "In general, when manipulating NetKet objects, you should always assume that you can safely operate on them like \n",
    "you would in mathematical equations, therefore you can sum and multiply them with ease."
   ]
  },
  {
   "cell_type": "markdown",
   "metadata": {},
   "source": [
    "## 2. Exact Diagonalization\n",
    "\n",
    "Let us check this free Hamiltonian, whose eigenvectors are analytically known: the ground state has vacuum energy for $N$ independent harmonic oscillators: $0.5N = 0.5 \\cdot 6 = 3$ "
   ]
  },
  {
   "cell_type": "markdown",
   "metadata": {},
   "source": [
    "`netket` provides a wrapper for `eigsh` in the form of a Lanczos [exact solver](https://www.netket.org/docs/_generated/exact/netket.exact.lanczos_ed.html#netket.exact.lanczos_ed)."
   ]
  },
  {
   "cell_type": "code",
   "execution_count": 15,
   "metadata": {},
   "outputs": [
    {
     "name": "stdout",
     "output_type": "stream",
     "text": [
      "Eigenvalues with exact lanczos (sparse): [3.]\n"
     ]
    }
   ],
   "source": [
    "eig_vals = nk.exact.lanczos_ed(H, k=1, compute_eigenvectors=False)  # args to scipy.sparse.linalg.eighs like can be passed with scipy_args={'tol':1e-8}\n",
    "print(f\"Eigenvalues with exact lanczos (sparse): {eig_vals}\")"
   ]
  },
  {
   "cell_type": "markdown",
   "metadata": {},
   "source": [
    "*Note*: a full (dense) exact diagonalization can also be done for small systems using [this exact solver](https://www.netket.org/docs/_generated/exact/netket.exact.full_ed.html#netket.exact.full_ed)"
   ]
  },
  {
   "cell_type": "code",
   "execution_count": 16,
   "metadata": {},
   "outputs": [
    {
     "name": "stdout",
     "output_type": "stream",
     "text": [
      "Eigenvalues with exact diag (dense): [ 3.  4.  4. ... 20. 20. 21.]\n",
      "Number of eigs: 4096\n"
     ]
    }
   ],
   "source": [
    "w = nk.exact.full_ed(H, compute_eigenvectors=False)\n",
    "print(f\"Eigenvalues with exact diag (dense): {w}\\nNumber of eigs: {w.shape[0]}\")"
   ]
  },
  {
   "cell_type": "markdown",
   "metadata": {},
   "source": [
    "## 3. Mean-Field Ansatz\n",
    "\n",
    "We now would like to find a variational approximation of the ground state of this Hamiltonian. As a first step, we can try to use a very simple mean field ansatz: \n",
    "\n",
    "$$ \\langle X_1,\\dots X_N| \\Psi_{\\mathrm{mf}} \\rangle = \\Pi_{i=1}^{N} \\Phi(X_i), $$\n",
    "\n",
    "where the variational parameters are individual boson's wave functions $\\Phi(X_i)$. This is probably a bad ansatz, but it will show how the variational Monte Carlo procedure works in `netket`\n",
    "\n",
    "We can further write $ \\Phi(X) = \\sqrt{P(X)}e^{i \\phi(X)}$.\n",
    "\n",
    "In order to simplify the presentation, we take here and in the following examples the phase $\\phi=0$.\n",
    "\n",
    "For the normalized single-boson probability we will take a sigmoid form: \n",
    "\n",
    "$$P(X; \\gamma) = 1/(1 + e^{-\\gamma X})$$\n",
    "thus depending on the real-valued variational parameter $\\gamma$. "
   ]
  },
  {
   "cell_type": "markdown",
   "metadata": {},
   "source": [
    "In `netket` one has to define a variational function approximating the **logarithm** of the wave-function amplitudes (or density-matrix values).\n",
    "\n",
    "$$ \\langle X_1,\\dots X_N| \\Psi_{\\mathrm{mf}} \\rangle = \\exp{(\\textrm{Model}(X; \\theta))} $$\n",
    "\n",
    "where $\\theta$ is a set of parameters.\n",
    "\n",
    "In this case, the parameter of the model will be just one: $\\gamma$.\n",
    "\n",
    "The Model can be defined using one of the several functional jax frameworks such as Jax/Stax, Flax or Haiku. NetKet includes several pre-built models and layers built with Flax, so we will be using it for the rest of the notebook."
   ]
  },
  {
   "cell_type": "code",
   "execution_count": 17,
   "metadata": {},
   "outputs": [],
   "source": [
    "# numerical operations in the model should always use jax.numpy \n",
    "# instead of numpy because jax supports computing derivatives. \n",
    "# If you want to better understand the difference between the two, check\n",
    "# https://flax.readthedocs.io/en/latest/notebooks/jax_for_the_impatient.html\n",
    "import jax.numpy as jnp\n",
    "\n",
    "# Flax is a framework to define models using jax\n",
    "import flax\n",
    "# we refer to `flax.linen` as `nn`. It's a repository of \n",
    "# layers, initializers and nonlinear functions.\n",
    "import flax.linen as nn\n",
    "\n",
    "# A Flax model must be a class subclassing `nn.Module`\n",
    "class MF(nn.Module):\n",
    "    \n",
    "    # The most compact way to define the model is this.\n",
    "    # The __call__(self, x) function should take as \n",
    "    # input a batch of states x.shape = (n_samples, L)\n",
    "    # and should return a vector of n_samples log-amplitudes\n",
    "    @nn.compact\n",
    "    def __call__(self, x):\n",
    "        \n",
    "        # A tensor of variational parameters is defined by calling\n",
    "        # the method `self.param` where the arguments will be:\n",
    "        # - arbitrary name used to refer to this set of parameters\n",
    "        # - an initializer used to provide the initial values. \n",
    "        # - The shape of the tensor\n",
    "        # - The dtype of the tensor.\n",
    "        gam = self.param(\n",
    "            \"gamma\", nn.initializers.normal(), (1,), float\n",
    "        )\n",
    "        \n",
    "        # compute the probabilities\n",
    "        p = nn.log_sigmoid(gam*x)\n",
    "\n",
    "        # sum the output\n",
    "        return 0.5 * jnp.sum(p, axis=-1)"
   ]
  },
  {
   "cell_type": "markdown",
   "metadata": {},
   "source": [
    "### 3.1 Variational State\n",
    "\n",
    "The model itself is only a set of instructions on how to initialise the parameters and how to compute the result. \n",
    "\n",
    "To actually create a **variational state** with its parameters, the easiest way is to construct a Monte-Carlo-sampled Variational State. \n",
    "\n",
    "To do this, we first need to define a sampler.\n",
    "\n",
    "In [`netket.sampler`](https://www.netket.org/docs/api.html#list-of-samplers) several samplers are defined, each with its own peculiarities.\n",
    "\n",
    "In the following example, we will be using a simple sampler that chooses the occupation number of each boson at random (uniform between 0 and $\\Lambda-1$) one by one.\n",
    "\n",
    "You can read more about how the sampler works by checking the documentation with `?nk.sampler.MetropolisLocal`"
   ]
  },
  {
   "cell_type": "code",
   "execution_count": 18,
   "metadata": {},
   "outputs": [
    {
     "name": "stderr",
     "output_type": "stream",
     "text": [
      "WARNING:absl:No GPU/TPU found, falling back to CPU. (Set TF_CPP_MIN_LOG_LEVEL=0 and rerun for more info.)\n"
     ]
    }
   ],
   "source": [
    "# Create an instance of the model. \n",
    "# Notice that this does not create the parameters.\n",
    "mf_model=MF()\n",
    "\n",
    "# Create the local sampler on the hilbert space. Only sample 4 chains for this example\n",
    "sampler = nk.sampler.MetropolisLocal(hi, n_chains=4)\n",
    "\n",
    "# Construct the variational state using the model and the sampler above.\n",
    "# n_samples specifies how many samples should be used to compute expectation\n",
    "# values.\n",
    "vstate = nk.vqs.MCState(sampler, mf_model, n_samples=2**9)"
   ]
  },
  {
   "cell_type": "markdown",
   "metadata": {},
   "source": [
    "You can play around with the variational state: for example, you can compute expectation values yourself or inspect it's parameters"
   ]
  },
  {
   "cell_type": "code",
   "execution_count": 19,
   "metadata": {},
   "outputs": [
    {
     "name": "stdout",
     "output_type": "stream",
     "text": [
      "FrozenDict({\n",
      "    gamma: DeviceArray([-0.00199725], dtype=float64),\n",
      "})\n"
     ]
    }
   ],
   "source": [
    "# you can inspect the parameters which contain the single\n",
    "# variational parameter `gamma`\n",
    "print(vstate.parameters)"
   ]
  },
  {
   "cell_type": "code",
   "execution_count": 20,
   "metadata": {},
   "outputs": [
    {
     "name": "stdout",
     "output_type": "stream",
     "text": [
      "12.11 ± 0.13 [σ²=7.11, R̂=0.9969]\n"
     ]
    }
   ],
   "source": [
    "# Expectation value: notice that it also provides an error estimate.\n",
    "print(vstate.expect(H))"
   ]
  },
  {
   "cell_type": "markdown",
   "metadata": {},
   "source": [
    "The last cell was run with a randomly initialized parameter $\\gamma$ and for $2^9=512$ samples (notice the metrics for the convergence of the Monte Carlo algorithm in square brackets, the Gelman-Rubin statistic between multiple independent MCMC chains. It does not show up if we only run 1 chain)."
   ]
  },
  {
   "cell_type": "markdown",
   "metadata": {},
   "source": [
    "## 4. Variational Monte Carlo"
   ]
  },
  {
   "cell_type": "markdown",
   "metadata": {},
   "source": [
    "We will now try to optimise $ \\gamma $ in order to best approximate the ground state of the hamiltonian.\n",
    "\n",
    "To do so, first I need to pick an iterative optimiser. We choose stochastic gradient descent with a learning\n",
    "rate of $0.05$.\n",
    "Then, we must provide all the elements to the variational monte carlo driver, which takes case of setting up and running the whole optimisation.\n",
    "\n",
    "For example, the driver can be run for a specific number of iterations. Each iteration will have to run the Monte Carlo sampling defined by the variational state `nk.vqs.MCState`."
   ]
  },
  {
   "cell_type": "code",
   "execution_count": 21,
   "metadata": {},
   "outputs": [
    {
     "name": "stdout",
     "output_type": "stream",
     "text": [
      "No output specified (out=[apath|nk.logging.JsonLogger(...)]).Running the optimization but not saving the output.\n"
     ]
    },
    {
     "name": "stderr",
     "output_type": "stream",
     "text": [
      "100%|██████████| 300/300 [00:00<00:00, 339.44it/s, Energy=3.111 ± 0.023 [σ²=0.111, R̂=1.0065]]\n"
     ]
    },
    {
     "name": "stdout",
     "output_type": "stream",
     "text": [
      "Optimized energy and relative error:  3.094 ± 0.023 [σ²=0.101, R̂=1.0126] 0.031250000000001985\n"
     ]
    }
   ],
   "source": [
    "optimizer = nk.optimizer.Sgd(learning_rate=0.05)\n",
    "\n",
    "# build the optimisation driver\n",
    "gs = nk.driver.VMC(H, optimizer, variational_state=vstate)\n",
    "\n",
    "# run the driver for 300 iterations. This will display a progress bar\n",
    "# by default.\n",
    "gs.run(n_iter=300)\n",
    "\n",
    "# expectation value of the energy\n",
    "mf_energy=vstate.expect(H)\n",
    "# compare with the Lanczos exact diagonalization energy eigenvalue\n",
    "error=abs((mf_energy.mean-eig_vals[0])/eig_vals[0])\n",
    "print(\"Optimized energy and relative error: \",mf_energy,error)"
   ]
  },
  {
   "cell_type": "code",
   "execution_count": 22,
   "metadata": {},
   "outputs": [
    {
     "name": "stdout",
     "output_type": "stream",
     "text": [
      "Final optimized parameter:  [-4.45163064]\n"
     ]
    }
   ],
   "source": [
    "# we can also inspect the parameter:\n",
    "print(\"Final optimized parameter: \",vstate.parameters[\"gamma\"])"
   ]
  },
  {
   "cell_type": "code",
   "execution_count": 23,
   "metadata": {},
   "outputs": [
    {
     "name": "stdout",
     "output_type": "stream",
     "text": [
      "Final optimized energy relative error (with mean-field ansatz): 3.13%\n"
     ]
    }
   ],
   "source": [
    "print(f\"Final optimized energy relative error (with mean-field ansatz): {error*100:.2f}%\")"
   ]
  },
  {
   "cell_type": "markdown",
   "metadata": {},
   "source": [
    "Even a very rudimentary ansatz without interactions between the degrees of freedom is sufficient to reach a 3% error on the ground state energy with a single parameter to optimize.\n",
    "\n",
    "We would expect that we can recover the correct ground state for harmonic oscillators."
   ]
  },
  {
   "cell_type": "markdown",
   "id": "84bdadd3",
   "metadata": {},
   "source": [
    "### 4.1 Exact Sampling\n",
    "\n",
    "The results we obtained above are dependent on the sampling we do at each step of the variational optimization procedure. For Hilbert spaces with manageable size (for exampe where we can easily do exact diagonalization), we can diagnose our variational procedure using an exact sampler, where the expectation values is calculated exactly by sampling from the exact Born distribution pre-computed over all the states in the Hilbert space."
   ]
  },
  {
   "cell_type": "code",
   "execution_count": 24,
   "id": "79f37313",
   "metadata": {},
   "outputs": [],
   "source": [
    "# Create an instance of the model. \n",
    "# Notice that this does not create the parameters.\n",
    "mf_model=MF()\n",
    "\n",
    "# Create the an exact sampler over the Hilber space , if it is not too large\n",
    "sampler = nk.sampler.ExactSampler(hi)\n",
    "\n",
    "# Construct the variational state using the model and the sampler above.\n",
    "# n_samples specifies how many samples should be used to compute expectation\n",
    "# values.\n",
    "vstate = nk.vqs.MCState(sampler, mf_model, n_samples=2**9)"
   ]
  },
  {
   "cell_type": "markdown",
   "id": "2fa41036",
   "metadata": {},
   "source": [
    "For comparison with the previous result, we do not change the details of the optimization"
   ]
  },
  {
   "cell_type": "code",
   "execution_count": 25,
   "id": "3b3556c3",
   "metadata": {},
   "outputs": [
    {
     "name": "stdout",
     "output_type": "stream",
     "text": [
      "No output specified (out=[apath|nk.logging.JsonLogger(...)]).Running the optimization but not saving the output.\n"
     ]
    },
    {
     "name": "stderr",
     "output_type": "stream",
     "text": [
      "100%|██████████| 300/300 [00:01<00:00, 253.29it/s, Energy=3.145 ± 0.018 [σ²=0.139]]\n"
     ]
    },
    {
     "name": "stdout",
     "output_type": "stream",
     "text": [
      "Optimized energy and relative error:  3.145 ± 0.016 [σ²=0.174] 0.04817708333333535\n"
     ]
    }
   ],
   "source": [
    "optimizer = nk.optimizer.Sgd(learning_rate=0.05)\n",
    "\n",
    "# build the optimisation driver\n",
    "gs = nk.driver.VMC(H, optimizer, variational_state=vstate)\n",
    "\n",
    "# run the driver for 300 iterations. This will display a progress bar\n",
    "# by default.\n",
    "gs.run(n_iter=300)\n",
    "\n",
    "# expectation value of the energy\n",
    "mf_energy=vstate.expect(H)\n",
    "# compare with the Lanczos exact diagonalization energy eigenvalue\n",
    "error=abs((mf_energy.mean-eig_vals[0])/eig_vals[0])\n",
    "print(\"Optimized energy and relative error: \",mf_energy,error)"
   ]
  },
  {
   "cell_type": "markdown",
   "metadata": {},
   "source": [
    "## 5. Jastrow Ansatz\n",
    "\n",
    "We have seen that the mean field ansatz yields about 3% error on the ground-state energy. Let's now try to do better, using a more correlated ansatz where the states of the individual bosons are connected. \n",
    "\n",
    "We will now take a short-range Jastrow ansatz which is already inlcuded in `netket` as [`nk.models.Jastrow`](https://www.netket.org/docs/_generated/models/netket.models.Jastrow.html#netket.models.Jastrow):\n",
    "\n",
    "$$\\log{\\Psi(X)} = \\sum_{ij} X_i W_{ij} X_j$$\n",
    "\n",
    "where $W_{ij}$ is a symmetric matrix of learnable complex parameters (the _kernel_ of the quadratic form)."
   ]
  },
  {
   "cell_type": "code",
   "execution_count": 26,
   "metadata": {},
   "outputs": [],
   "source": [
    "# change the model: initialize weights with normal distributions\n",
    "model=nk.models.Jastrow(kernel_init=nn.initializers.normal())\n",
    "\n",
    "# Create the Exact sampler on the hilbert space.\n",
    "sampler = nk.sampler.ExactSampler(hi)\n",
    "\n",
    "# we use the same MetropolicLocal sapmler as before. Now we sample for longer to get a more accurate result\n",
    "vstate = nk.vqs.MCState(sampler, model, n_samples=2**10)"
   ]
  },
  {
   "cell_type": "code",
   "execution_count": 27,
   "metadata": {},
   "outputs": [
    {
     "name": "stdout",
     "output_type": "stream",
     "text": [
      "36\n"
     ]
    }
   ],
   "source": [
    "# look at the parameters: How many do we have?\n",
    "print(vstate.n_parameters)"
   ]
  },
  {
   "cell_type": "markdown",
   "metadata": {},
   "source": [
    "We then optimize it, however this time we also introduce a stochastic reconfiguration (natural gradient) preconditioner:"
   ]
  },
  {
   "cell_type": "code",
   "execution_count": 28,
   "metadata": {},
   "outputs": [],
   "source": [
    "optimizer = nk.optimizer.Sgd(learning_rate=0.05)\n",
    "\n",
    "preconditioner = nk.optimizer.SR(diag_shift=0.1)\n",
    "\n",
    "# driver for running the simulation\n",
    "gs = nk.driver.VMC(H, optimizer, variational_state=vstate, preconditioner=preconditioner)"
   ]
  },
  {
   "cell_type": "markdown",
   "metadata": {},
   "source": [
    "We now log the intermediate results of the optimization, so that we can visualize them at a later stage. "
   ]
  },
  {
   "cell_type": "code",
   "execution_count": 29,
   "metadata": {},
   "outputs": [
    {
     "name": "stderr",
     "output_type": "stream",
     "text": [
      "100%|██████████| 300/300 [00:00<00:00, 319.27it/s, Energy=3.0117+0.0000j ± 0.0033 [σ²=0.0116]]\n"
     ]
    },
    {
     "data": {
      "text/plain": [
       "(<netket.logging.runtime_log.RuntimeLog at 0x7f90f8fe3d90>,)"
      ]
     },
     "execution_count": 29,
     "metadata": {},
     "output_type": "execute_result"
    }
   ],
   "source": [
    "# Loggers that work together with optimisation drivers are defined in nk.logging.\n",
    "# RuntimeLog keeps the metrics in memory, JsonLog stores them to a json file which can be read\n",
    "# as a dict, TensorBoardLog can be used to log to TensorBoard.\n",
    "log=nk.logging.RuntimeLog()\n",
    "\n",
    "# One or more logger objects must be passed to the keyword argument `out`.\n",
    "gs.run(n_iter=300, out=log)\n"
   ]
  },
  {
   "cell_type": "code",
   "execution_count": 30,
   "metadata": {},
   "outputs": [
    {
     "name": "stdout",
     "output_type": "stream",
     "text": [
      "Final optimized kernel parameters: [[-1.65261578-0.01527142j -0.16682552+0.02208071j -0.14440586-0.00490561j\n",
      "  -0.14971937-0.00574248j -0.17168386-0.00959335j -0.1563914 -0.00219832j]\n",
      " [-0.16223199-0.00463046j -1.65171282-0.00996841j -0.15435979+0.00438731j\n",
      "  -0.15723578-0.00158052j -0.16008813-0.01342735j -0.17299738-0.00460905j]\n",
      " [-0.14640732-0.00053102j -0.16858308-0.00358102j -1.64761074-0.01059507j\n",
      "  -0.16381303-0.00012101j -0.15990057+0.01226299j -0.17394412-0.0034364j ]\n",
      " [-0.16495926-0.00722856j -0.16515576-0.0013834j  -0.16207319-0.00514167j\n",
      "  -1.64881518-0.00078507j -0.17362139-0.00661297j -0.16453172-0.00305812j]\n",
      " [-0.16224588+0.00243294j -0.15752839+0.00502059j -0.15549937+0.00025069j\n",
      "  -0.16741078+0.00108848j -1.64154065-0.0070936j  -0.15928599-0.00338568j]\n",
      " [-0.15902622+0.00134185j -0.16938223-0.00742788j -0.16399775-0.01356691j\n",
      "  -0.17144925-0.0042913j  -0.15443159+0.00370721j -1.64549461-0.00103612j]]\n",
      "\n",
      "Optimized energy : 3.0078+0.0000j ± 0.0028 [σ²=0.0078]\n",
      "relative error   : 0.26%\n"
     ]
    }
   ],
   "source": [
    "print(f\"Final optimized kernel parameters: {vstate.parameters['kernel']}\\n\")\n",
    "jas_energy=vstate.expect(H)\n",
    "error=abs((jas_energy.mean-eig_vals[0])/eig_vals[0])\n",
    "print(f\"Optimized energy : {jas_energy}\")\n",
    "print(f\"relative error   : {error*100:.2f}%\")"
   ]
  },
  {
   "cell_type": "markdown",
   "metadata": {},
   "source": [
    "You can now see that this ansatz is almost one order of magnitude more accurate than the mean field! \n",
    "This ansatz has more parameters (we went from 1 to 36).\n",
    "\n",
    "In order to visualize what happened during the optimization, we can use the data that has been stored by the logger. There are several available loggers in `netket`, here we have just used a simple one that stores the intermediate results as values in a dictionary. "
   ]
  },
  {
   "cell_type": "markdown",
   "metadata": {},
   "source": [
    "These report several intermediate quantities, that can be easily plotted. For example we can plot the value of the energy (with its error bar) at each optimization step.  "
   ]
  },
  {
   "cell_type": "code",
   "execution_count": 31,
   "metadata": {},
   "outputs": [
    {
     "data": {
      "image/png": "[encoded data removed]",
      "text/plain": [
       "<Figure size 720x360 with 1 Axes>"
      ]
     },
     "metadata": {
      "needs_background": "light"
     },
     "output_type": "display_data"
    }
   ],
   "source": [
    "data_jastrow = log.data\n",
    "energy_history = data_jastrow[\"Energy\"][\"Mean\"].real\n",
    "energy_error_history = data_jastrow[\"Energy\"][\"Sigma\"]\n",
    "\n",
    "fig, ax = plt.subplots(figsize=(10,5))\n",
    "ax.errorbar(data_jastrow[\"Energy\"].iters, energy_history, yerr=energy_error_history,label=\"Jastrow\")\n",
    "ax.axhline(y=eig_vals[0], xmin=0, xmax=data_jastrow[\"Energy\"].iters[-1], linewidth=2, color=\"k\", label=\"Exact\")\n",
    "ax.legend()\n",
    "ax.set_xlabel('Iterations')\n",
    "ax.set_ylabel('Energy (Re)');"
   ]
  },
  {
   "cell_type": "markdown",
   "id": "4ad15d8e",
   "metadata": {},
   "source": [
    "A good result is reached already after 100 iterations"
   ]
  },
  {
   "cell_type": "markdown",
   "id": "ec9ea271",
   "metadata": {},
   "source": [
    "We did the sampling from the Born distribution using an exact sampler and this avoid problems with the MCMC getting stuck on a single configuration (state), which might happen for wave functions where the probability density peaks on a single state of the basis. Let us switch back to the Metropolis local sampler and observe the result by logging the acceptance rate during the algorithm (we use a callback for that)"
   ]
  },
  {
   "cell_type": "code",
   "execution_count": 32,
   "id": "772e2ae8",
   "metadata": {},
   "outputs": [],
   "source": [
    "# define acceptance logger callback\n",
    "def cb_acc(step, logged_data, driver):\n",
    "        logged_data[\"acceptance\"] = float(driver.state.sampler_state.acceptance)\n",
    "        return True"
   ]
  },
  {
   "cell_type": "code",
   "execution_count": 33,
   "id": "dbdf3cac",
   "metadata": {},
   "outputs": [],
   "source": [
    "# change the model: initialize weights with normal distributions\n",
    "model=nk.models.Jastrow(kernel_init=nn.initializers.normal())\n",
    "\n",
    "# Create the local sampler on the hilbert space. Only sample 4 chains for this example\n",
    "sampler = nk.sampler.MetropolisLocal(hi, n_chains=4)\n",
    "\n",
    "# we use the same MetropolicLocal sapmler as before. Now we sample for longer to get a more accurate result\n",
    "vstate = nk.vqs.MCState(sampler, model, n_samples=2**10)"
   ]
  },
  {
   "cell_type": "code",
   "execution_count": 34,
   "id": "d354a237",
   "metadata": {},
   "outputs": [],
   "source": [
    "optimizer = nk.optimizer.Sgd(learning_rate=0.05)\n",
    "\n",
    "preconditioner = nk.optimizer.SR(diag_shift=0.1)\n",
    "\n",
    "# driver for running the simulation\n",
    "gs = nk.driver.VMC(H, optimizer, variational_state=vstate, preconditioner=preconditioner)"
   ]
  },
  {
   "cell_type": "markdown",
   "id": "cb640078",
   "metadata": {},
   "source": [
    "Run by adding the callbak to the options"
   ]
  },
  {
   "cell_type": "code",
   "execution_count": 35,
   "id": "6a4d5626",
   "metadata": {},
   "outputs": [
    {
     "name": "stderr",
     "output_type": "stream",
     "text": [
      "100%|██████████| 300/300 [00:01<00:00, 214.32it/s, Energy=3.0088+0.0000j ± 0.0062 [σ²=0.0087, R̂=1.0052]]    \n"
     ]
    },
    {
     "data": {
      "text/plain": [
       "(<netket.logging.runtime_log.RuntimeLog at 0x7f90c40ad640>,)"
      ]
     },
     "execution_count": 35,
     "metadata": {},
     "output_type": "execute_result"
    }
   ],
   "source": [
    "log=nk.logging.RuntimeLog()\n",
    "\n",
    "# One or more logger objects must be passed to the keyword argument `out`.\n",
    "gs.run(n_iter=300, out=log, callback=cb_acc)"
   ]
  },
  {
   "cell_type": "code",
   "execution_count": 36,
   "id": "99ecc179",
   "metadata": {},
   "outputs": [
    {
     "name": "stdout",
     "output_type": "stream",
     "text": [
      "Optimized energy : 3.0068+0.0000j ± 0.0035 [σ²=0.0068, R̂=1.0005]\n",
      "relative error   : 0.23%\n"
     ]
    },
    {
     "data": {
      "image/png": "[encoded data removed]",
      "text/plain": [
       "<Figure size 720x360 with 1 Axes>"
      ]
     },
     "metadata": {
      "needs_background": "light"
     },
     "output_type": "display_data"
    }
   ],
   "source": [
    "jas_energy=vstate.expect(H)\n",
    "error=abs((jas_energy.mean-eig_vals[0])/eig_vals[0])\n",
    "print(f\"Optimized energy : {jas_energy}\")\n",
    "print(f\"relative error   : {error*100:.2f}%\")\n",
    "\n",
    "data_jastrow = log.data\n",
    "energy_history = data_jastrow[\"Energy\"][\"Mean\"].real\n",
    "energy_error_history = data_jastrow[\"Energy\"][\"Sigma\"]\n",
    "\n",
    "fig, ax = plt.subplots(figsize=(10,5))\n",
    "ax.errorbar(data_jastrow[\"Energy\"].iters, energy_history, yerr=energy_error_history)\n",
    "ax.set_xlabel('Iterations')\n",
    "ax.set_ylabel('Energy (Re)');"
   ]
  },
  {
   "cell_type": "markdown",
   "metadata": {},
   "source": [
    "You can also look at the MCMC chain properties and see that some have gotten stuck and resulted in a variance for the optimized energy of very close to ZERO"
   ]
  },
  {
   "cell_type": "code",
   "execution_count": 37,
   "metadata": {},
   "outputs": [
    {
     "data": {
      "text/plain": [
       "Text(0.5, 0, 'Iterations')"
      ]
     },
     "execution_count": 37,
     "metadata": {},
     "output_type": "execute_result"
    },
    {
     "data": {
      "image/png": "[encoded data removed]",
      "text/plain": [
       "<Figure size 432x288 with 1 Axes>"
      ]
     },
     "metadata": {
      "needs_background": "light"
     },
     "output_type": "display_data"
    }
   ],
   "source": [
    "plt.plot(data_jastrow[\"Energy\"].R_hat)\n",
    "plt.ylabel(\"R_hat\")\n",
    "plt.xlabel(\"Iterations\")"
   ]
  },
  {
   "cell_type": "markdown",
   "metadata": {},
   "source": [
    "Some chains have `R_hat` larger than ones, which means they might not have converged within the 1024 samples that we had specified...or that there are large autocorrelations. For example we can look at what sampled have been extracted from the state for the first boson"
   ]
  },
  {
   "cell_type": "code",
   "execution_count": 38,
   "id": "42381a13",
   "metadata": {},
   "outputs": [
    {
     "data": {
      "text/plain": [
       "<matplotlib.legend.Legend at 0x7f910cbb1dc0>"
      ]
     },
     "execution_count": 38,
     "metadata": {},
     "output_type": "execute_result"
    },
    {
     "data": {
      "image/png": "[encoded data removed]",
      "text/plain": [
       "<Figure size 432x288 with 1 Axes>"
      ]
     },
     "metadata": {
      "needs_background": "light"
     },
     "output_type": "display_data"
    }
   ],
   "source": [
    "# boson sampling:\n",
    "plt.plot(vstate.samples[:,:,0].flatten(), '.', label=\"site 0\")\n",
    "plt.legend()"
   ]
  },
  {
   "cell_type": "markdown",
   "id": "36052201",
   "metadata": {},
   "source": [
    "As you can see the chain of samples is stuck on just the zero state. And we can confirm that the acceptance rate is getting smaller and smaller and almost no moves are accepted when the state is close to the final result"
   ]
  },
  {
   "cell_type": "code",
   "execution_count": 39,
   "id": "75bf62bb",
   "metadata": {},
   "outputs": [
    {
     "data": {
      "text/plain": [
       "Text(0, 0.5, 'Acc. Rate')"
      ]
     },
     "execution_count": 39,
     "metadata": {},
     "output_type": "execute_result"
    },
    {
     "data": {
      "image/png": "[encoded data removed]",
      "text/plain": [
       "<Figure size 720x360 with 1 Axes>"
      ]
     },
     "metadata": {
      "needs_background": "light"
     },
     "output_type": "display_data"
    }
   ],
   "source": [
    "fig, ax = plt.subplots(figsize=(10,5))\n",
    "ax.errorbar(data_jastrow[\"Energy\"].iters, data_jastrow[\"acceptance\"][\"value\"], label=\"Jastrow\")\n",
    "ax.axhline(0,c='k')\n",
    "ax.legend()\n",
    "\n",
    "ax.set_xlabel('Iterations')\n",
    "ax.set_ylabel('Acc. Rate')"
   ]
  },
  {
   "cell_type": "markdown",
   "id": "1a108b2e",
   "metadata": {},
   "source": [
    "When the acceptance rate becomes so close to zero, we can not trust the results of the VMC. We should move back to the Exact sampler"
   ]
  },
  {
   "cell_type": "markdown",
   "metadata": {},
   "source": [
    "## 6. Neural-Network Quantum State \n",
    "\n",
    "We now want to use a more sofisticated ansatz, based on a neural network representation of the wave function. At this point, this is quite straightforward, since we can again take advantage of automatic differentiation. \n",
    "\n",
    "Let us define a simple fully-connected feed-forward network with a ReLu activation function and a sum layer. "
   ]
  },
  {
   "cell_type": "code",
   "execution_count": 40,
   "metadata": {},
   "outputs": [],
   "source": [
    "class FFN(nn.Module):\n",
    "    \n",
    "    # You can define attributes at the module-level\n",
    "    # with a default. This allows you to easily change\n",
    "    # some hyper-parameter without redefining the whole \n",
    "    # flax module. This is the ratio of neurons to input dofs\n",
    "    alpha : int = 1\n",
    "            \n",
    "    @nn.compact\n",
    "    def __call__(self, x):\n",
    "\n",
    "        # here we construct the first dense layer using a\n",
    "        # pre-built implementation in flax.\n",
    "        # features is the number of output nodes\n",
    "        # WARNING: Won't work with complex hamiltonians because\n",
    "        # of a bug in flax. Use nk.nn.Dense otherwise. \n",
    "        dense = nk.nn.Dense(features=self.alpha * x.shape[-1])\n",
    "        \n",
    "        # we apply the dense layer to the input\n",
    "        y = dense(x)\n",
    "\n",
    "        # the non-linearity is a simple ReLu\n",
    "        y = nn.relu(y)\n",
    "        \n",
    "        # sum the output\n",
    "        return jnp.sum(y, axis=-1)"
   ]
  },
  {
   "cell_type": "code",
   "execution_count": 41,
   "metadata": {},
   "outputs": [
    {
     "name": "stdout",
     "output_type": "stream",
     "text": [
      "Number of parameters for this model: 42\n"
     ]
    }
   ],
   "source": [
    "# it is easy here to pass the hyper-parameter value\n",
    "model = FFN(alpha=1)\n",
    "\n",
    "# Create the Exact Sampler\n",
    "sampler = nk.sampler.ExactSampler(hi,)\n",
    "\n",
    "vstate = nk.vqs.MCState(sampler, model, n_samples=2**10)\n",
    "\n",
    "print(f\"Number of parameters for this model: {vstate.n_parameters}\")"
   ]
  },
  {
   "cell_type": "markdown",
   "metadata": {},
   "source": [
    "We then proceed to the optimization as before, using the Exact sampler (we will see that we do not get in troubles with the stochastic estimate because the sampling is exact)"
   ]
  },
  {
   "cell_type": "code",
   "execution_count": 42,
   "metadata": {},
   "outputs": [
    {
     "name": "stderr",
     "output_type": "stream",
     "text": [
      "100%|██████████| 300/300 [00:00<00:00, 339.72it/s, Energy=3.0029 ± 0.0016 [σ²=0.0029]]   \n"
     ]
    },
    {
     "data": {
      "text/plain": [
       "(<netket.logging.runtime_log.RuntimeLog at 0x7f90c4205f40>,)"
      ]
     },
     "execution_count": 42,
     "metadata": {},
     "output_type": "execute_result"
    }
   ],
   "source": [
    "optimizer = nk.optimizer.Sgd(learning_rate=0.1)\n",
    "preconditioner = nk.optimizer.SR(diag_shift=0.1)\n",
    "\n",
    "# Notice the use, again of Stochastic Reconfiguration, which considerably improves the optimisation\n",
    "gs = nk.driver.VMC(H, optimizer, variational_state=vstate,preconditioner=preconditioner)\n",
    "\n",
    "# logging and running\n",
    "log=nk.logging.RuntimeLog()\n",
    "gs.run(n_iter=300,out=log)\n"
   ]
  },
  {
   "cell_type": "code",
   "execution_count": 43,
   "metadata": {},
   "outputs": [
    {
     "data": {
      "text/plain": [
       "<matplotlib.legend.Legend at 0x7f90f8ea37f0>"
      ]
     },
     "execution_count": 43,
     "metadata": {},
     "output_type": "execute_result"
    },
    {
     "data": {
      "image/png": "[encoded data removed]",
      "text/plain": [
       "<Figure size 432x288 with 1 Axes>"
      ]
     },
     "metadata": {
      "needs_background": "light"
     },
     "output_type": "display_data"
    }
   ],
   "source": [
    "# last iterations only\n",
    "last = 300\n",
    "ffn_data = log.data\n",
    "its = ffn_data[\"Energy\"].iters[-last:]\n",
    "ene = ffn_data[\"Energy\"][\"Mean\"].real[-last:]\n",
    "err = ffn_data[\"Energy\"][\"Sigma\"][-last:]\n",
    "\n",
    "plt.errorbar(its,ene,yerr=err,label=\"FNN\")\n",
    "plt.axhline(y=eig_vals[0], xmin=0, xmax=ffn_data[\"Energy\"].iters[-1], linewidth=2, color=\"k\", label=\"Exact\")\n",
    "plt.xlabel('Iterations')\n",
    "plt.ylabel('Energy')\n",
    "plt.legend(frameon=False)"
   ]
  },
  {
   "cell_type": "code",
   "execution_count": 44,
   "id": "430b70dd",
   "metadata": {},
   "outputs": [
    {
     "name": "stdout",
     "output_type": "stream",
     "text": [
      "Optimized energy: 3.0039 ± 0.0018 [σ²=0.0039] \n",
      "Relative error: 0.13021%\n"
     ]
    }
   ],
   "source": [
    "\n",
    "ffn_energy=vstate.expect(H)\n",
    "error=abs((ffn_energy.mean-eig_vals[0])/eig_vals[0])\n",
    "print(f\"Optimized energy: {ffn_energy} \\nRelative error: {error*100:.5f}%\")"
   ]
  },
  {
   "cell_type": "markdown",
   "id": "8240d883",
   "metadata": {},
   "source": [
    "With the exact sampler, 50 iterations are enough to reach the ground state energy accurately. With 300 iterations we get the exact answer"
   ]
  },
  {
   "cell_type": "markdown",
   "metadata": {},
   "source": [
    "## 7. Enforcing Symmetry \n",
    "\n",
    "In order to enforce symmetries we can use some built-in functionalities of graphs in `netket`, in conjunction with equivariant layers.\n",
    "\n",
    "We have already constructed a graph (using `nk.graph.Edgless`) for our Hamiltonian and we have seen its symmetry group, the permutation group."
   ]
  },
  {
   "cell_type": "markdown",
   "metadata": {},
   "source": [
    "We now write a model with an invariant transformation given by the permutation group. Notice that we will now use `netket`'s own ```nn``` module, instead of Flax, since it contains several additions and also an extended and seamless support for complex layers/parameters.  "
   ]
  },
  {
   "cell_type": "code",
   "execution_count": 45,
   "metadata": {},
   "outputs": [],
   "source": [
    "import netket.nn as nknn\n",
    "import jax \n",
    "\n",
    "class SymmModel(nn.Module):\n",
    "    alpha: int\n",
    "\n",
    "    @nn.compact\n",
    "    def __call__(self, x):\n",
    "        \n",
    "        x = nknn.DenseSymm(symmetries=sites.automorphisms(),\n",
    "                           features=self.alpha,\n",
    "                           kernel_init=jax.nn.initializers.normal(stddev=0.01))(x)\n",
    "        x = nn.relu(x)\n",
    "\n",
    "        # sum the output\n",
    "        return jnp.sum(x,axis=(-1,-2))"
   ]
  },
  {
   "cell_type": "code",
   "execution_count": 46,
   "metadata": {},
   "outputs": [
    {
     "name": "stderr",
     "output_type": "stream",
     "text": [
      "/home/enrico/miniconda3/envs/netket/lib/python3.9/site-packages/netket/nn/symmetric_linear.py:43: FutureWarning: 2-dimensional input to DenseSymm layer is deprecated.\n",
      "Input shape (1, 6) has been reshaped to (1, 1, 6), where the middle dimension encodes different input channels.\n",
      "Please provide a 3-dimensional input.\n",
      "This warning will become an error in the future.\n",
      "  warn_deprecation(\n"
     ]
    },
    {
     "name": "stdout",
     "output_type": "stream",
     "text": [
      "Number of parameters for this model: 7\n"
     ]
    }
   ],
   "source": [
    "# define again the sampler\n",
    "sampler = nk.sampler.MetropolisLocal(hi)\n",
    "\n",
    "#Let us define a model with 1 feature per symmetry\n",
    "model=SymmModel(alpha=1)\n",
    "\n",
    "# define again the variational MC state\n",
    "vstate = nk.vqs.MCState(sampler, model, n_samples=2**10)\n",
    "\n",
    "# print the number of parameters\n",
    "print(f\"Number of parameters for this model: {vstate.n_parameters}\")"
   ]
  },
  {
   "cell_type": "markdown",
   "metadata": {},
   "source": [
    "As it can be seen, the number of parameters of this model is greatly reduced, because of the symmetries that impose constraints on the weights of the dense layers. We can now optimize the model"
   ]
  },
  {
   "cell_type": "code",
   "execution_count": 47,
   "metadata": {},
   "outputs": [
    {
     "name": "stderr",
     "output_type": "stream",
     "text": [
      "  0%|          | 0/300 [00:00<?, ?it/s]/home/enrico/miniconda3/envs/netket/lib/python3.9/site-packages/netket/nn/symmetric_linear.py:43: FutureWarning: 2-dimensional input to DenseSymm layer is deprecated.\n",
      "Input shape (16, 6) has been reshaped to (16, 1, 6), where the middle dimension encodes different input channels.\n",
      "Please provide a 3-dimensional input.\n",
      "This warning will become an error in the future.\n",
      "  warn_deprecation(\n",
      "/home/enrico/miniconda3/envs/netket/lib/python3.9/site-packages/netket/nn/symmetric_linear.py:43: FutureWarning: 2-dimensional input to DenseSymm layer is deprecated.\n",
      "Input shape (1024, 6) has been reshaped to (1024, 1, 6), where the middle dimension encodes different input channels.\n",
      "Please provide a 3-dimensional input.\n",
      "This warning will become an error in the future.\n",
      "  warn_deprecation(\n",
      "100%|██████████| 300/300 [00:10<00:00, 29.86it/s, Energy=3.000e+00 ± nan [σ²=0.000e+00]]        \n"
     ]
    },
    {
     "name": "stdout",
     "output_type": "stream",
     "text": [
      "Optimized energy: 3.000e+00 ± nan [σ²=0.000e+00] \n",
      "Relative error: 0.00%\n"
     ]
    }
   ],
   "source": [
    "gs = nk.driver.VMC(H, optimizer, variational_state=vstate,preconditioner=preconditioner)\n",
    "\n",
    "log=nk.logging.RuntimeLog()\n",
    "gs.run(n_iter=300,out=log)\n",
    "\n",
    "symm_energy=vstate.expect(H)\n",
    "error=abs((symm_energy.mean-eig_vals[0])/eig_vals[0])\n",
    "print(f\"Optimized energy: {symm_energy} \\nRelative error: {error*100:.2f}%\")"
   ]
  },
  {
   "cell_type": "markdown",
   "metadata": {},
   "source": [
    "This seems like a very precise resut already aftvery few iterations and without hitting a plateaux in the energy"
   ]
  },
  {
   "cell_type": "code",
   "execution_count": 48,
   "metadata": {},
   "outputs": [
    {
     "data": {
      "text/plain": [
       "<matplotlib.legend.Legend at 0x7f90c40e4850>"
      ]
     },
     "execution_count": 48,
     "metadata": {},
     "output_type": "execute_result"
    },
    {
     "data": {
      "image/png": "[encoded data removed]",
      "text/plain": [
       "<Figure size 432x288 with 1 Axes>"
      ]
     },
     "metadata": {
      "needs_background": "light"
     },
     "output_type": "display_data"
    }
   ],
   "source": [
    "# last iterations only\n",
    "last = 300\n",
    "symm_data = log.data\n",
    "its = symm_data[\"Energy\"].iters[-last:]\n",
    "ene = symm_data[\"Energy\"][\"Mean\"].real[-last:]\n",
    "err = symm_data[\"Energy\"][\"Sigma\"][-last:]\n",
    "\n",
    "plt.errorbar(its,ene,yerr=err,label=\"SymmModel\")\n",
    "plt.axhline(y=eig_vals[0], xmin=0, xmax=symm_data[\"Energy\"].iters[-1], linewidth=2, color=\"k\", label=\"Exact\")\n",
    "plt.xlabel('Iterations')\n",
    "plt.ylabel('Energy')\n",
    "plt.legend(frameon=False)"
   ]
  },
  {
   "cell_type": "markdown",
   "metadata": {},
   "source": [
    "With 6 times less parameters than the fully-connected feed-forward neural network ansatz (because we can exchange the 6 sites and the answer should not change, which is our enforced symmetry) we can reach an equally good, if not better, results in less iterations."
   ]
  },
  {
   "cell_type": "markdown",
   "metadata": {},
   "source": [
    "## 8. Measuring Other Properties\n",
    "\n",
    "Once the model has been optimized, we can of course measure also other observables that are not the energy. For example, we could measure the generators of the gauge transformations.\n",
    "\n",
    "We could also use a larger number of samples to have a sufficiently low error bar on their measurement, by changing `vstate.n_samples` on the fly.\n"
   ]
  },
  {
   "cell_type": "markdown",
   "metadata": {},
   "source": [
    "The Casimir operator for the gauge group is defined using a combination of $\\hat{a}^\\dagger_I$ and $\\hat{a}_I$ for each boson "
   ]
  },
  {
   "cell_type": "code",
   "execution_count": 49,
   "metadata": {},
   "outputs": [],
   "source": [
    "g_list = [0] * 3\n",
    "g_list[0] = 1j * (\n",
    "    create(hi,1) * destroy(hi,2)\n",
    "    - create(hi,2) * destroy(hi,1)\n",
    "    + create(hi,4) * destroy(hi,5)\n",
    "    - create(hi,5) * destroy(hi,4)\n",
    ")\n",
    "g_list[1] = 1j * (\n",
    "    create(hi,2) * destroy(hi,0)\n",
    "    - create(hi,0) * destroy(hi,2)\n",
    "    + create(hi,5) * destroy(hi,3)\n",
    "    - create(hi,3) * destroy(hi,5)\n",
    ")\n",
    "g_list[2] = 1j * (\n",
    "    create(hi,0) * destroy(hi,1)\n",
    "    - create(hi,1) * destroy(hi,0)\n",
    "    + create(hi,3) * destroy(hi,4)\n",
    "    - create(hi,4) * destroy(hi,3)\n",
    ")\n",
    "G = sum([g * g for g in g_list])"
   ]
  },
  {
   "cell_type": "code",
   "execution_count": 50,
   "metadata": {},
   "outputs": [
    {
     "data": {
      "text/plain": [
       "LocalOperator(dim=6, #acting_on=9 locations, constant=0, dtype=complex128)"
      ]
     },
     "execution_count": 50,
     "metadata": {},
     "output_type": "execute_result"
    }
   ],
   "source": [
    "G"
   ]
  },
  {
   "cell_type": "markdown",
   "metadata": {},
   "source": [
    "Since the ground state is gauge invariant, we expect the expectation value of `G` to be zero"
   ]
  },
  {
   "cell_type": "code",
   "execution_count": 51,
   "metadata": {},
   "outputs": [
    {
     "name": "stderr",
     "output_type": "stream",
     "text": [
      "/home/enrico/miniconda3/envs/netket/lib/python3.9/site-packages/netket/nn/symmetric_linear.py:43: FutureWarning: 2-dimensional input to DenseSymm layer is deprecated.\n",
      "Input shape (1, 6) has been reshaped to (1, 1, 6), where the middle dimension encodes different input channels.\n",
      "Please provide a 3-dimensional input.\n",
      "This warning will become an error in the future.\n",
      "  warn_deprecation(\n"
     ]
    },
    {
     "data": {
      "text/plain": [
       "0.000e+00+0.000e+00j ± nan [σ²=0.000e+00]"
      ]
     },
     "execution_count": 51,
     "metadata": {},
     "output_type": "execute_result"
    }
   ],
   "source": [
    "vstate.expect(G)"
   ]
  },
  {
   "cell_type": "markdown",
   "id": "8d05785e",
   "metadata": {},
   "source": [
    "### 8.1 Visualize the ground state"
   ]
  },
  {
   "cell_type": "markdown",
   "id": "11ce4e25",
   "metadata": {},
   "source": [
    "We can visualize the ground state in the computational basis."
   ]
  },
  {
   "cell_type": "code",
   "execution_count": 52,
   "id": "30c6e3c8",
   "metadata": {},
   "outputs": [
    {
     "name": "stdout",
     "output_type": "stream",
     "text": [
      "Number of states in the Hilbert space= 4096\n"
     ]
    }
   ],
   "source": [
    "print(f\"Number of states in the Hilbert space= {hi.n_states}\")"
   ]
  },
  {
   "cell_type": "markdown",
   "id": "95cdade3",
   "metadata": {},
   "source": [
    "We can plot the wave function stored in `vstate` (zooming into the lowest states only...the basis start from |0000...>)"
   ]
  },
  {
   "cell_type": "code",
   "execution_count": 53,
   "id": "8402794b",
   "metadata": {},
   "outputs": [
    {
     "name": "stderr",
     "output_type": "stream",
     "text": [
      "/home/enrico/miniconda3/envs/netket/lib/python3.9/site-packages/netket/nn/symmetric_linear.py:43: FutureWarning: 2-dimensional input to DenseSymm layer is deprecated.\n",
      "Input shape (4096, 6) has been reshaped to (4096, 1, 6), where the middle dimension encodes different input channels.\n",
      "Please provide a 3-dimensional input.\n",
      "This warning will become an error in the future.\n",
      "  warn_deprecation(\n"
     ]
    },
    {
     "data": {
      "text/plain": [
       "<matplotlib.legend.Legend at 0x7f908c7dd460>"
      ]
     },
     "execution_count": 53,
     "metadata": {},
     "output_type": "execute_result"
    },
    {
     "data": {
      "image/png": "[encoded data removed]",
      "text/plain": [
       "<Figure size 720x360 with 1 Axes>"
      ]
     },
     "metadata": {
      "needs_background": "light"
     },
     "output_type": "display_data"
    }
   ],
   "source": [
    "fig, ax = plt.subplots(figsize=(10,5))\n",
    "ax.bar(np.arange(0,hi.n_states),np.abs(vstate.to_array()),label=\"SymmModel\")\n",
    "ax.set_xlim([0,10])\n",
    "ax.set_xlabel(\"basis coordinate\")\n",
    "ax.set_ylabel(r\"$\\mid \\psi \\mid$\")\n",
    "ax.legend(loc=0)"
   ]
  },
  {
   "cell_type": "markdown",
   "id": "f6c0c398",
   "metadata": {},
   "source": [
    "This is what we expect to find for the ground state of independent harmonic oscillators: they are all in their respective ground state"
   ]
  },
  {
   "cell_type": "markdown",
   "id": "6fdb1422",
   "metadata": {},
   "source": [
    "## 9. Position and Momentum space"
   ]
  },
  {
   "cell_type": "markdown",
   "id": "83297bd7",
   "metadata": {},
   "source": [
    "We can solve the same problem working in position space instead of in the Fock space of the creation and annihilation operators. We first have to change the Hilbert space from a discrete one to a continuous one in `netket`. Then we need to rewrite our Hamiltonian operator using the position and momentum local operators."
   ]
  },
  {
   "cell_type": "markdown",
   "id": "6b70df6a",
   "metadata": {},
   "source": [
    "Matrix models do not have space, nor they have a \"lattice\" structure. However, at the beginning of this tutorial we used a graph (set) of lattice points to be able to tell `netket` that we had independent bosonic degrees of freedom on each site, and to make it easy to implement symmetric ansatze.\n",
    "\n",
    "For the continuous Hilbert space we will have to be similarly creative in using the abstract `nk.hilbet.Particle` space for each of our matrices and interpret the 3 degrees of freedom of each matrix as different \"spatial\" dimensions."
   ]
  },
  {
   "cell_type": "code",
   "execution_count": 54,
   "id": "8cf03a34",
   "metadata": {},
   "outputs": [],
   "source": [
    "import jax.numpy as jnp\n",
    "\n",
    "# 2 matrices, 3 dimensions per matrix, with infinite extend and no periodic boundary conditions\n",
    "hi = nk.hilbert.Particle(N=2, L=(jnp.inf, jnp.inf, jnp.inf), pbc=False)\n"
   ]
  },
  {
   "cell_type": "markdown",
   "id": "1ac56880",
   "metadata": {},
   "source": [
    "### 9.1 Free Hamiltonian in position space"
   ]
  },
  {
   "cell_type": "markdown",
   "id": "f8013811",
   "metadata": {},
   "source": [
    "Define the two terms of the Hamiltonian we have in the first equation of this tutorial. The first term is the kinetic energy and the second term is a quadratic \"potential\" $X_I^2$"
   ]
  },
  {
   "cell_type": "code",
   "execution_count": 55,
   "id": "183b2bf2",
   "metadata": {},
   "outputs": [],
   "source": [
    "def harmonic_potential(x):\n",
    "    return 0.5 * jnp.linalg.norm(x) ** 2\n",
    "\n",
    "kinetic_energy = nk.operator.KineticEnergy(hi, mass=1.0)  # the mass is 1.\n",
    "potential_energy = nk.operator.PotentialEnergy(hi, harmonic_potential)"
   ]
  },
  {
   "cell_type": "markdown",
   "id": "712f3183",
   "metadata": {},
   "source": [
    "Total Hamiltonian operator"
   ]
  },
  {
   "cell_type": "code",
   "execution_count": 56,
   "id": "4a154db0",
   "metadata": {},
   "outputs": [
    {
     "name": "stdout",
     "output_type": "stream",
     "text": [
      "SumOperator(coefficients=[DeviceArray(1., dtype=float64, weak_type=True), DeviceArray(1., dtype=float64)])\n"
     ]
    }
   ],
   "source": [
    "H = kinetic_energy + potential_energy\n",
    "print(H)"
   ]
  },
  {
   "cell_type": "markdown",
   "id": "dc083133",
   "metadata": {},
   "source": [
    "### 9.2 Variational Monte Carlo in continuous space"
   ]
  },
  {
   "cell_type": "markdown",
   "id": "db8dda68",
   "metadata": {},
   "source": [
    "We define a sampler that will define moves in the continuous space of the \"positions\" of the \"particles\". `netket` includes a Gaussian sampler `MetropolisGaussian` where we can choose the \"size\" of the move by specifying `sigma` "
   ]
  },
  {
   "cell_type": "code",
   "execution_count": 57,
   "id": "8c2fdb29",
   "metadata": {},
   "outputs": [],
   "source": [
    "sampler = nk.sampler.MetropolisGaussian(hi, sigma=0.5, n_chains=4)"
   ]
  },
  {
   "cell_type": "markdown",
   "id": "3865c321",
   "metadata": {},
   "source": [
    "We define a model for the wafe function which is just a multivariate Gaussian ansatsz: $\\log \\psi(x) = -x^{T} \\Sigma^{-1} x$ where $\\Sigma$ is the (positive-definite) covariance matrix and it is randomly initialized"
   ]
  },
  {
   "cell_type": "code",
   "execution_count": 58,
   "id": "fcb5ceaf",
   "metadata": {},
   "outputs": [],
   "source": [
    "model = nk.models.Gaussian(dtype=float)"
   ]
  },
  {
   "cell_type": "markdown",
   "id": "f4964317",
   "metadata": {},
   "source": [
    "Then the VMC proceeds as usual"
   ]
  },
  {
   "cell_type": "code",
   "execution_count": 59,
   "id": "f86cddba",
   "metadata": {},
   "outputs": [],
   "source": [
    "# define again the variational MC state\n",
    "vstate = nk.vqs.MCState(sampler, model, n_samples=2**10)"
   ]
  },
  {
   "cell_type": "code",
   "execution_count": 60,
   "id": "d5a317b3",
   "metadata": {},
   "outputs": [
    {
     "name": "stdout",
     "output_type": "stream",
     "text": [
      "Number of parameters for this model: 36\n"
     ]
    }
   ],
   "source": [
    "# print the number of parameters\n",
    "print(f\"Number of parameters for this model: {vstate.n_parameters}\")"
   ]
  },
  {
   "cell_type": "code",
   "execution_count": 61,
   "id": "ccd91a4f",
   "metadata": {},
   "outputs": [],
   "source": [
    "optimizer = nk.optimizer.Sgd(learning_rate=0.05)\n",
    "\n",
    "preconditioner = nk.optimizer.SR(diag_shift=0.1)"
   ]
  },
  {
   "cell_type": "code",
   "execution_count": 62,
   "id": "5e72cd9e",
   "metadata": {},
   "outputs": [
    {
     "name": "stderr",
     "output_type": "stream",
     "text": [
      "100%|██████████| 300/300 [00:01<00:00, 198.67it/s, Energy=3.000e+00 ± 1.252e-12 [σ²=7.063e-22, R̂=1.0002]]   \n"
     ]
    },
    {
     "data": {
      "text/plain": [
       "(<netket.logging.runtime_log.RuntimeLog at 0x7f900c735250>,)"
      ]
     },
     "execution_count": 62,
     "metadata": {},
     "output_type": "execute_result"
    }
   ],
   "source": [
    "gs = nk.driver.VMC(\n",
    "    H, optimizer, variational_state=vstate, preconditioner=preconditioner\n",
    ")\n",
    "\n",
    "log = nk.logging.RuntimeLog()\n",
    "gs.run(n_iter=300, out=log, callback=cb_acc)\n"
   ]
  },
  {
   "cell_type": "code",
   "execution_count": 63,
   "id": "e668d4b8",
   "metadata": {},
   "outputs": [
    {
     "name": "stdout",
     "output_type": "stream",
     "text": [
      "Optimized energy: 3.000e+00 ± 9.943e-13 [σ²=5.151e-22, R̂=0.9985] \n",
      "Relative error: 0.00%\n"
     ]
    }
   ],
   "source": [
    "energy = vstate.expect(H)\n",
    "error = abs((energy.mean - eig_vals[0]) / eig_vals[0])\n",
    "print(f\"Optimized energy: {energy} \\nRelative error: {error*100:.2f}%\")\n"
   ]
  },
  {
   "cell_type": "code",
   "execution_count": 64,
   "metadata": {},
   "outputs": [
    {
     "data": {
      "image/png": "[encoded data removed]",
      "text/plain": [
       "<Figure size 720x360 with 1 Axes>"
      ]
     },
     "metadata": {
      "needs_background": "light"
     },
     "output_type": "display_data"
    }
   ],
   "source": [
    "data_cont = log.data\n",
    "energy_history = data_cont[\"Energy\"][\"Mean\"].real\n",
    "energy_error_history = data_cont[\"Energy\"][\"Sigma\"]\n",
    "\n",
    "fig, ax = plt.subplots(figsize=(10,5))\n",
    "ax.errorbar(data_cont[\"Energy\"].iters, energy_history, yerr=energy_error_history)\n",
    "ax.set_xlabel('Iterations')\n",
    "ax.set_ylabel('Energy (Re)');"
   ]
  },
  {
   "cell_type": "markdown",
   "id": "4e81ef7a",
   "metadata": {},
   "source": [
    "Again we obtain the exact result for the energy, and already after 50 iterations the result has converged. The variance is also very small, but the Gelman-Rubin statistic does not show signs of problems in the sampling. We can look at the sampling acceptance rate"
   ]
  },
  {
   "cell_type": "code",
   "execution_count": 65,
   "id": "ebf8b038",
   "metadata": {},
   "outputs": [
    {
     "data": {
      "text/plain": [
       "Text(0, 0.5, 'Acc. Rate')"
      ]
     },
     "execution_count": 65,
     "metadata": {},
     "output_type": "execute_result"
    },
    {
     "data": {
      "image/png": "[encoded data removed]",
      "text/plain": [
       "<Figure size 720x360 with 1 Axes>"
      ]
     },
     "metadata": {
      "needs_background": "light"
     },
     "output_type": "display_data"
    }
   ],
   "source": [
    "fig, ax = plt.subplots(figsize=(10,5))\n",
    "ax.errorbar(data_cont[\"Energy\"].iters, data_cont[\"acceptance\"][\"value\"], label=\"Gaussian\")\n",
    "ax.axhline(0,c='k')\n",
    "ax.legend()\n",
    "\n",
    "ax.set_xlabel('Iterations')\n",
    "ax.set_ylabel('Acc. Rate')"
   ]
  },
  {
   "cell_type": "markdown",
   "id": "62202755",
   "metadata": {},
   "source": [
    "and we see a 40% acceptance rate across the entire range of iterations. We can also see the individual samples, from the `MetropolisGaussian` algorithm"
   ]
  },
  {
   "cell_type": "code",
   "execution_count": 66,
   "id": "a5e90896",
   "metadata": {},
   "outputs": [
    {
     "data": {
      "image/png": "[encoded data removed]",
      "text/plain": [
       "<Figure size 2160x576 with 6 Axes>"
      ]
     },
     "metadata": {
      "needs_background": "light"
     },
     "output_type": "display_data"
    }
   ],
   "source": [
    "fig, ax = plt.subplots(nrows=2, ncols=3,figsize=(30,8))\n",
    "for i,axi in enumerate(ax):\n",
    "    for j,axj in enumerate(axi):\n",
    "        axj.plot(vstate.samples[:,:,i*j].flatten(), '.', label=f\"particle {i}, direction {j}\")\n",
    "        axj.legend()"
   ]
  },
  {
   "cell_type": "markdown",
   "id": "63059dba",
   "metadata": {},
   "source": [
    "The ground state can not be transformed to a vector with `to_array()` for the case of a continuous space."
   ]
  },
  {
   "cell_type": "markdown",
   "id": "59aa6643",
   "metadata": {},
   "source": []
  }
 ],
 "metadata": {
  "interpreter": {
   "hash": "0599e152f67f5209f88bec1e9797953ea74f097c38416a644f6f08df38717728"
  },
  "kernelspec": {
   "display_name": "Python 3.9.6 64-bit ('netket': conda)",
   "name": "python3"
  },
  "language_info": {
   "codemirror_mode": {
    "name": "ipython",
    "version": 3
   },
   "file_extension": ".py",
   "mimetype": "text/x-python",
   "name": "python",
   "nbconvert_exporter": "python",
   "pygments_lexer": "ipython3",
   "version": "3.9.6"
  }
 },
 "nbformat": 4,
 "nbformat_minor": 5
}
